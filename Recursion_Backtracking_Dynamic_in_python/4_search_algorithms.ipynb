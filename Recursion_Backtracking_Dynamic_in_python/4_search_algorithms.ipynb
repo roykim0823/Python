{
 "cells": [
  {
   "cell_type": "code",
   "execution_count": 1,
   "metadata": {},
   "outputs": [
    {
     "name": "stdout",
     "output_type": "stream",
     "text": [
      "3\n"
     ]
    }
   ],
   "source": [
    "def linear_search(container, item):\n",
    "\n",
    "    # the running time of this algorithms is O(N)\n",
    "    # USE LINEAR SEARCH IF THE DATA STRUCTURE IS UNORDERED !!!\n",
    "\n",
    "    for index in range(len(container)):\n",
    "        if container[index] == item:\n",
    "            # if we find the item: we return the index of that item\n",
    "            return index\n",
    "\n",
    "    # search miss - when the item is not present in the\n",
    "    # underlying data structure (container)\n",
    "    return -1\n",
    "\n",
    "\n",
    "nums = [1, 5, -3, 10, 55, 100]\n",
    "print(linear_search(nums, 10))"
   ]
  },
  {
   "cell_type": "code",
   "execution_count": 2,
   "metadata": {},
   "outputs": [
    {
     "name": "stdout",
     "output_type": "stream",
     "text": [
      "4\n"
     ]
    }
   ],
   "source": [
    "def linear_search_recursive(container, item, index=0):\n",
    " \n",
    "    # base case for search miss (when item is not present in the container)\n",
    "    if index >= len(container):\n",
    "        return -1\n",
    " \n",
    "    # base case when we find the item\n",
    "    if container[index] == item:\n",
    "        return index\n",
    " \n",
    "    return linear_search_recursive(container, item, index+1)\n",
    " \n",
    " \n",
    "nums = [1, 4, 6, -4, 0, 100]\n",
    "print(linear_search_recursive(nums, 0))"
   ]
  },
  {
   "cell_type": "code",
   "execution_count": 3,
   "metadata": {},
   "outputs": [
    {
     "name": "stdout",
     "output_type": "stream",
     "text": [
      "Checking items on the left...\n",
      "Checking items on the right...\n",
      "Checking items on the right...\n",
      "3\n"
     ]
    }
   ],
   "source": [
    "# Binary search is an efficient search algorithm.\n",
    "# It is used on a sorted list/array.\n",
    "# Its computational complexity is O(logn) by halving the search range in each step.\n",
    "def binary_search(container, item, left, right):\n",
    "\n",
    "    # first base case - search misses\n",
    "    if right < left:\n",
    "        return -1\n",
    "\n",
    "    # generate the index of the middle item\n",
    "    middle_index = (left + right) // 2\n",
    "\n",
    "    # we have found the item\n",
    "    if container[middle_index] == item:\n",
    "        return middle_index\n",
    "\n",
    "    # have to check whether the middle_item is smaller or greater\n",
    "    # the item is in the left sub-array\n",
    "    elif container[middle_index] > item:\n",
    "        print('Checking items on the left...')\n",
    "        # we can discard the right side of the array (items greater than the middle item)\n",
    "        return binary_search(container, item, left, middle_index-1)\n",
    "\n",
    "    # the item is in the right sub-array\n",
    "    elif container[middle_index] < item:\n",
    "        print('Checking items on the right...')\n",
    "        return binary_search(container, item, middle_index+1, right)\n",
    "\n",
    "\n",
    "nums = [-5, -4, 0, 2, 4, 6, 8, 100, 500]\n",
    "print(binary_search(nums, 2, 0, len(nums)-1))"
   ]
  },
  {
   "cell_type": "code",
   "execution_count": 4,
   "metadata": {},
   "outputs": [],
   "source": [
    "# Two Sum algorithm\n",
    "\n",
    "# naive: O(n^2)\n",
    "def two_sum_naive(nums, target):\n",
    "    for i in range(len(nums)-1):\n",
    "        for j in range(i+1, len(nums)):\n",
    "            if nums[i] + nums[j] == target:\n",
    "                return i, j\n",
    "    \n",
    "\n",
    "# Onepass Hash: O(n), S(n)\n",
    "def two_sum(nums, target):\n",
    "    table = {}\n",
    "\n",
    "    for i, num in enumerate(nums):\n",
    "        complement = target - num\n",
    "        if complement in table:\n",
    "            return table[complement], i\n",
    "        else:\n",
    "            table[num] = i\n"
   ]
  },
  {
   "cell_type": "code",
   "execution_count": 5,
   "metadata": {},
   "outputs": [
    {
     "name": "stdout",
     "output_type": "stream",
     "text": [
      "(1, 6)\n",
      "(1, 6)\n"
     ]
    }
   ],
   "source": [
    "nums = [0, -2, 6, 4, 13, 7, 10]\n",
    "\n",
    "print(two_sum_naive(nums, 8))\n",
    "print(two_sum(nums, 8))"
   ]
  }
 ],
 "metadata": {
  "kernelspec": {
   "display_name": "Python 3",
   "language": "python",
   "name": "python3"
  },
  "language_info": {
   "codemirror_mode": {
    "name": "ipython",
    "version": 3
   },
   "file_extension": ".py",
   "mimetype": "text/x-python",
   "name": "python",
   "nbconvert_exporter": "python",
   "pygments_lexer": "ipython3",
   "version": "3.10.7"
  },
  "orig_nbformat": 4
 },
 "nbformat": 4,
 "nbformat_minor": 2
}
