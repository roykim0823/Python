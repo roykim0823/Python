{
 "cells": [
  {
   "cell_type": "code",
   "execution_count": 3,
   "metadata": {},
   "outputs": [],
   "source": [
    "def __conquer(nums, left_half, right_half):\n",
    "    # CONQUER PHASE\n",
    "    i = 0\n",
    "    j = 0\n",
    "    k = 0\n",
    "\n",
    "    while i < len(left_half) and j < len(right_half):\n",
    "        if left_half[i] < right_half[j]:  # ascending order\n",
    "        # if left_half[i] > right_half[j]:  # descending order\n",
    "            nums[k] = left_half[i]\n",
    "            i = i + 1\n",
    "        else:\n",
    "            nums[k] = right_half[j]\n",
    "            j = j + 1\n",
    "        k = k + 1\n",
    "\n",
    "    # after that there may be additional items in the left (right) sub-array\n",
    "    while i < len(left_half):\n",
    "        nums[k] = left_half[i]\n",
    "        i = i + 1\n",
    "        k = k + 1\n",
    "\n",
    "    while j < len(right_half):\n",
    "        nums[k] = right_half[j]\n",
    "        j = j + 1\n",
    "        k = k + 1\n",
    "\n",
    "\n",
    "def merge_sort(nums):\n",
    "    # T(n) = divide + conquer = 2T(logN) * O(N) = O(NlogN)\n",
    "\n",
    "    # define the base case: that we keep splitting the lists until\n",
    "    # the sub-lists have just 1 item - arrays with a single item is sorted by default\n",
    "    if len(nums) == 1:\n",
    "        return\n",
    "\n",
    "    # DIVIDE PHASE\n",
    "    middle_index = len(nums) // 2\n",
    "    left_half = nums[:middle_index]\n",
    "    right_half = nums[middle_index:]\n",
    "\n",
    "    merge_sort(left_half)\n",
    "    merge_sort(right_half)\n",
    "    __conquer(nums, left_half, right_half)"
   ]
  },
  {
   "cell_type": "code",
   "execution_count": 4,
   "metadata": {},
   "outputs": [
    {
     "name": "stdout",
     "output_type": "stream",
     "text": [
      "[-10, -3, -2, 0, 1, 2, 5, 10, 10, 12, 55, 100]\n"
     ]
    }
   ],
   "source": [
    "my_list = [1, 5, -2, 0, 10, 100, 55, 12, 10, 2, -10, -3]\n",
    "merge_sort(my_list)\n",
    "print(my_list)"
   ]
  },
  {
   "attachments": {},
   "cell_type": "markdown",
   "metadata": {},
   "source": [
    "## Closest Pair of Points"
   ]
  },
  {
   "cell_type": "code",
   "execution_count": 5,
   "metadata": {},
   "outputs": [],
   "source": [
    "import math\n",
    "\n",
    "\n",
    "class Point:\n",
    "    def __init__(self, x, y):\n",
    "        self.x = x\n",
    "        self.y = y\n",
    "\n",
    "\n",
    "# Euclidean distance - we can omit the square-root function\n",
    "def distance(p, q):\n",
    "    return math.sqrt((p.x - q.x) * (p.x - q.x) + (p.y - q.y) * (p.y - q.y))\n",
    "\n",
    "\n",
    "# it has quadratic running time so we want to do better\n",
    "def brute_force(sub_array):\n",
    "    # initialize the min_distance to INF\n",
    "    min_distance = float('inf')\n",
    "\n",
    "    # we have to calculate the distance between every single point\n",
    "    # we make sure that do not consider the same points multiple times\n",
    "    # d(a,b) = d(b,a)\n",
    "    for i in range(len(sub_array) - 1):\n",
    "        for j in range(i + 1, len(sub_array)):\n",
    "            actual_distance = distance(sub_array[i], sub_array[j])\n",
    "            if actual_distance < min_distance:\n",
    "                min_distance = actual_distance\n",
    "\n",
    "    return min_distance"
   ]
  },
  {
   "cell_type": "code",
   "execution_count": 6,
   "metadata": {},
   "outputs": [],
   "source": [
    "def get_strip_delta(strip_points, delta):\n",
    "    min_distance = delta\n",
    "    n = len(strip_points)\n",
    "\n",
    "    # in worst case len(strip_point) = N\n",
    "    for i in range(n):\n",
    "        j = i + 1\n",
    "        # a geometric packing argument shows that this loop iterates at most 15 times -> O(15N) = O(N)\n",
    "        # THIS IS WHY WE HAVE SORTED THE POINTS BASED ON Y COORDINATE\n",
    "        while j < n and (strip_points[j].y - strip_points[i].y) < min_distance:\n",
    "            min_distance = distance(strip_points[j], strip_points[i])\n",
    "            j = j + 1\n",
    "\n",
    "    return min_distance\n",
    "\n",
    "\n",
    "def closest_pairs_algorithm(list_sorted_x, list_sorted_y, num_of_items):\n",
    "    # when the number of items smaller than 3 then we use brute-force\n",
    "    # base case\n",
    "    if num_of_items <= 5:\n",
    "        return brute_force(list_sorted_x)\n",
    "\n",
    "    middle_index = num_of_items // 2\n",
    "    middle_item = list_sorted_x[middle_index]\n",
    "\n",
    "    # DIVIDE PHASE\n",
    "    delta_left = closest_pairs_algorithm(list_sorted_x[:middle_index], list_sorted_y, middle_index)\n",
    "    delta_right = closest_pairs_algorithm(list_sorted_x[middle_index:], list_sorted_y, num_of_items - middle_index)\n",
    "\n",
    "    delta = min(delta_left, delta_right)\n",
    "\n",
    "    # CONQUER PHASE - usually this is where the magic happens\n",
    "    strip_points = []\n",
    "\n",
    "    for i in range(num_of_items):\n",
    "        if abs(list_sorted_y[i].x - middle_item.x) < delta:  # use sorted_by_y !!\n",
    "            strip_points.append(list_sorted_y[i])\n",
    "\n",
    "    strip_delta = get_strip_delta(strip_points, delta)\n",
    "\n",
    "    return min(strip_delta, delta)\n",
    "\n",
    "\n",
    "def run(list1, list2):\n",
    "    list1.sort(key=lambda point: point.x)\n",
    "    list2.sort(key=lambda point: point.y)\n",
    "    return closest_pairs_algorithm(list1, list2, len(list1))"
   ]
  },
  {
   "cell_type": "code",
   "execution_count": 7,
   "metadata": {},
   "outputs": [
    {
     "name": "stdout",
     "output_type": "stream",
     "text": [
      "1.0\n"
     ]
    }
   ],
   "source": [
    "points = [Point(1, 1), Point(4, 2), Point(10, 10), Point(1, 2), Point(5, 3)]\n",
    "l1 = list(points)\n",
    "l2 = list(points)\n",
    "print(run(l1, l2))"
   ]
  }
 ],
 "metadata": {
  "kernelspec": {
   "display_name": "Python 3",
   "language": "python",
   "name": "python3"
  },
  "language_info": {
   "codemirror_mode": {
    "name": "ipython",
    "version": 3
   },
   "file_extension": ".py",
   "mimetype": "text/x-python",
   "name": "python",
   "nbconvert_exporter": "python",
   "pygments_lexer": "ipython3",
   "version": "3.10.7"
  },
  "orig_nbformat": 4
 },
 "nbformat": 4,
 "nbformat_minor": 2
}
