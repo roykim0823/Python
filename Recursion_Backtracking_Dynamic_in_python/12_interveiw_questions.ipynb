{
 "cells": [
  {
   "attachments": {},
   "cell_type": "markdown",
   "metadata": {},
   "source": [
    "## Reverse an array in-place overview\n",
    "\n",
    "The problem is that we want to reverse a T[] array in O(N) linear time complexity and we want the algorithm to be in-place as well - so no additional memory can be used!\n",
    "\n",
    "For example: input is [1,2,3,4,5] then the output is [5,4,3,2,1]"
   ]
  },
  {
   "cell_type": "code",
   "execution_count": 1,
   "metadata": {},
   "outputs": [],
   "source": [
    "def reverse(nums):\n",
    "\n",
    "    # pointing to the first item\n",
    "    start_index = 0\n",
    "    # index pointing to the last item\n",
    "    end_index = len(nums)-1\n",
    "\n",
    "    while end_index > start_index:\n",
    "        # keep swapping the items\n",
    "        nums[start_index], nums[end_index] = nums[end_index], nums[start_index]\n",
    "        start_index = start_index + 1\n",
    "        end_index = end_index - 1"
   ]
  },
  {
   "cell_type": "code",
   "execution_count": 2,
   "metadata": {},
   "outputs": [
    {
     "name": "stdout",
     "output_type": "stream",
     "text": [
      "[3, 0, -3]\n"
     ]
    }
   ],
   "source": [
    "n = [-3, 0, 3]\n",
    "reverse(n)\n",
    "print(n)"
   ]
  },
  {
   "attachments": {},
   "cell_type": "markdown",
   "metadata": {},
   "source": [
    "## Palindrome\n",
    "\n",
    "A palindrome is a string that reads the same forward and backward\"\n",
    "\n",
    "For example: radar or madam\n",
    "\n",
    "Our task is to design an optimal algorithm for checking whether a given string is palindrome or not!\n"
   ]
  },
  {
   "cell_type": "code",
   "execution_count": 12,
   "metadata": {},
   "outputs": [],
   "source": [
    "# it has O(s) so basically linear running time complexity as far as the number\n",
    "# of letters in the string is concerned\n",
    "\n",
    "def is_palindrome(s):\n",
    "\n",
    "    original_string = s\n",
    "    # this is what we have implemented in the previous lecture in O(N)\n",
    "    reversed_string = reverse(s)\n",
    "\n",
    "    if original_string == reversed_string:\n",
    "        return True\n",
    "\n",
    "    return False\n",
    "\n",
    "\n",
    "# O(N) linear running time where N is the number of letters in string s N=len(s)\n",
    "def reverse(data):\n",
    "\n",
    "    # string into a list of characters since string is immutable in python\n",
    "    data = list(data)\n",
    "\n",
    "    # pointing to the first item\n",
    "    start_index = 0\n",
    "    # index pointing to the last item\n",
    "    end_index = len(data)-1\n",
    "\n",
    "    while end_index > start_index:\n",
    "        # keep swapping the items\n",
    "\n",
    "        data[start_index], data[end_index] = data[end_index], data[start_index]\n",
    "        start_index = start_index + 1\n",
    "        end_index = end_index - 1\n",
    "\n",
    "    # transform the list of letters into a string\n",
    "    return ''.join(data)\n",
    "\n",
    "# Short Version\n",
    "def is_palindromeV2(s):\n",
    "    if s == s[::-1]:\n",
    "        return True\n",
    "\n",
    "    return False"
   ]
  },
  {
   "cell_type": "code",
   "execution_count": 13,
   "metadata": {},
   "outputs": [
    {
     "name": "stdout",
     "output_type": "stream",
     "text": [
      "False\n",
      "True\n"
     ]
    }
   ],
   "source": [
    "print(is_palindrome('Kevin'))\n",
    "print(is_palindrome('madam'))"
   ]
  },
  {
   "attachments": {},
   "cell_type": "markdown",
   "metadata": {},
   "source": [
    "## Integer reversion\n",
    "\n",
    "Our task is to design an efficient algorithm to reverse a given integer. \n",
    "\n",
    "For example if the input of the algorithm is 1234 then the output should be 4321."
   ]
  },
  {
   "cell_type": "code",
   "execution_count": 26,
   "metadata": {},
   "outputs": [],
   "source": [
    "# Naive \n",
    "# O(log10n), Space(log10n) -> However it uses expensive list and str operations\n",
    "def reverse_naive(n):\n",
    "    return int(\"\".join(list(str(n))[::-1]))\n",
    "\n",
    "# O(log10n), Space(1)\n",
    "def reverse_integer(n):\n",
    "\n",
    "    reversed_integer = 0\n",
    "\n",
    "    while n > 0:\n",
    "        remainder = n % 10\n",
    "        reversed_integer = reversed_integer*10 + remainder\n",
    "        n = n // 10\n",
    "\n",
    "    return reversed_integer"
   ]
  },
  {
   "cell_type": "code",
   "execution_count": 27,
   "metadata": {},
   "outputs": [
    {
     "name": "stdout",
     "output_type": "stream",
     "text": [
      "87654321\n",
      "87654321\n"
     ]
    }
   ],
   "source": [
    "print(reverse_integer(12345678))\n",
    "print(reverse_naive(12345678))\n"
   ]
  },
  {
   "attachments": {},
   "cell_type": "markdown",
   "metadata": {},
   "source": [
    "## Anagram\n",
    "\n",
    "Construct an algorithm to check whether two words (or phrases) are anagrams or not!\n",
    "\n",
    "\"An anagram is a word or phrase formed by rearranging the letters of a different word or phrase, typically using all the original letters exactly once\"\n",
    "\n",
    "For example: restful and fluster\n"
   ]
  },
  {
   "cell_type": "code",
   "execution_count": 18,
   "metadata": {},
   "outputs": [],
   "source": [
    "def is_anagram(str1, str2):\n",
    "\n",
    "    # if the length of the strings differ - they are not anagrams\n",
    "    if len(str1) != len(str2):\n",
    "        return False\n",
    "\n",
    "    # we have to sort the letters of the strings and then we have to compare\n",
    "    # the letters with the same indexes\n",
    "    # this is the bottleneck because it has O(NlogN)\n",
    "    str1 = sorted(str1)\n",
    "    str2 = sorted(str2)\n",
    "\n",
    "    # after that we have to check the letters with the same indexes\n",
    "    # O(N) running time\n",
    "    for i in range(len(str1)):\n",
    "        if str1[i] != str2[i]:\n",
    "            return False\n",
    "\n",
    "    # overall running time is O(NlogN)+O(N)=O(NlogN)\n",
    "\n",
    "    return True"
   ]
  },
  {
   "cell_type": "code",
   "execution_count": 20,
   "metadata": {},
   "outputs": [
    {
     "name": "stdout",
     "output_type": "stream",
     "text": [
      "True\n"
     ]
    }
   ],
   "source": [
    "s1 = ['f', 'l', 'u', 's', 't', 'e', 'r']\n",
    "s2 = ['r', 'e', 's', 't', 'f', 'u', 'l']\n",
    "\n",
    "print(is_anagram(s1, s2))"
   ]
  },
  {
   "attachments": {},
   "cell_type": "markdown",
   "metadata": {},
   "source": [
    "## Dutch national flag problem\n",
    "\n",
    "The problem is that we want to sort a T[ ] one-dimensional array of integers in O(N) running time - \n",
    "and without any extra memory (just constant memory). \n",
    "\n",
    "The array can contain values: 0, 1 and 2 (check out the theoretical section for further information)."
   ]
  },
  {
   "cell_type": "code",
   "execution_count": 21,
   "metadata": {},
   "outputs": [],
   "source": [
    "def dutch_flag_problem(nums, pivot=1):  # pivot == mid\n",
    "    i = 0              # to keep track '0'\n",
    "    j = 0\n",
    "    k = len(nums) - 1  # to keep track '2'\n",
    "\n",
    "    while j <= k:  # j actually tracks the actual item\n",
    "        # current element is 0\n",
    "        if nums[j] < pivot:\n",
    "            swap(nums, i, j)\n",
    "            i = i + 1  # i tracks 0s -> i stops at '1', pivot\n",
    "            j = j + 1\n",
    "        # current element is 2\n",
    "        elif nums[j] > pivot:\n",
    "            swap(nums, j, k)\n",
    "            k = k - 1\n",
    "        # current element is 1\n",
    "        else:\n",
    "            j = j + 1\n",
    "\n",
    "    return nums\n",
    "\n",
    "\n",
    "def swap(nums, index1, index2):\n",
    "    nums[index1], nums[index2] = nums[index2], nums[index1]"
   ]
  },
  {
   "cell_type": "code",
   "execution_count": 22,
   "metadata": {},
   "outputs": [
    {
     "data": {
      "text/plain": [
       "[0, 0, 0, 1, 1, 1, 2, 2, 2, 2]"
      ]
     },
     "execution_count": 22,
     "metadata": {},
     "output_type": "execute_result"
    }
   ],
   "source": [
    "dutch_flag_problem([0, 1, 2, 2, 1, 0, 0, 2, 2, 1])"
   ]
  },
  {
   "attachments": {},
   "cell_type": "markdown",
   "metadata": {},
   "source": [
    "## Find the middle node in a linked list\n",
    "\n",
    "1. Naive solution: we iterate through the list and count how many elements there are in total\n",
    "                   Then traverse the list again and the node with index count/2 is the middle node\n",
    "2. Two pointers: 1st with stride 1 and 2nd pointer with stride 2"
   ]
  },
  {
   "cell_type": "code",
   "execution_count": 2,
   "metadata": {},
   "outputs": [],
   "source": [
    "class Node:\n",
    "\n",
    "    def __init__(self, data):\n",
    "        self.data = data\n",
    "        self.next_node = None\n",
    "\n",
    "\n",
    "class LinkedList:\n",
    "\n",
    "    def __init__(self):\n",
    "        self.head = None\n",
    "        self.size = 0\n",
    "\n",
    "    # O(N) linear running time complexity\n",
    "    def get_middle_node(self):\n",
    "\n",
    "        fast_pointer = self.head\n",
    "        slow_pointer = self.head\n",
    "\n",
    "        while fast_pointer.next_node and fast_pointer.next_node.next_node:\n",
    "            fast_pointer = fast_pointer.next_node.next_node\n",
    "            slow_pointer = slow_pointer.next_node\n",
    "\n",
    "        return slow_pointer\n",
    "\n",
    "    def insert(self, data):\n",
    "\n",
    "        self.size = self.size + 1\n",
    "        new_node = Node(data)\n",
    "\n",
    "        if not self.head:\n",
    "            self.head = new_node\n",
    "        else:\n",
    "            new_node.next_node = self.head\n",
    "            self.head = new_node\n",
    "\n",
    "    def traverse_list(self):\n",
    "\n",
    "        actual_node = self.head\n",
    "\n",
    "        while actual_node is not None:\n",
    "            print(\"%d\" % actual_node.data)\n",
    "            actual_node = actual_node.next_node\n"
   ]
  },
  {
   "cell_type": "code",
   "execution_count": 3,
   "metadata": {},
   "outputs": [
    {
     "name": "stdout",
     "output_type": "stream",
     "text": [
      "30\n"
     ]
    }
   ],
   "source": [
    "linked_list = LinkedList()\n",
    "linked_list.insert(10)\n",
    "linked_list.insert(20)\n",
    "linked_list.insert(30)\n",
    "linked_list.insert(40)\n",
    "print(linked_list.get_middle_node().data)"
   ]
  },
  {
   "attachments": {},
   "cell_type": "markdown",
   "metadata": {},
   "source": [
    "## Trapping Rain Water Problem\n",
    "\n",
    "Given n non-negative integers representing an elevation map where the width of each bar is 1. Compute how much water it can trap after raining!\n",
    "\n",
    "Here the elevation map (the input for the algorithm)\n",
    "- [2,1,3,1,4] -> 3\n",
    "- [4,1,3,1,5] -> 7\n",
    "- [1, 0, 2, 1, 3, 1, 2, 0, 3] -> 8\n",
    "\n",
    "BASE Case\n",
    "- less than 3 blocks (n<3) can not trap any water\n",
    "- the first and last bars can not trap any water (no need to consdier them)\n",
    "\n",
    "We have to consider every item in O(N) linear running time + for N times we have to find the max values take O(N) linear running time -> O(N<sup>2</sup>)\n",
    "\n",
    "Solutions: we can pre-compute these max values by dynamic programming"
   ]
  },
  {
   "cell_type": "code",
   "execution_count": 30,
   "metadata": {},
   "outputs": [],
   "source": [
    "def trapping_water_problem(heights, log = False):\n",
    "    if len(heights) < 3:\n",
    "        return 0\n",
    "\n",
    "    # Dynamic Programming\n",
    "    left_max = [0 for _ in range(len(heights))]\n",
    "    right_max = [0 for _ in range(len(heights))]\n",
    "\n",
    "    # dealing with the left max values\n",
    "    for i in range(1, len(heights)):\n",
    "        left_max[i] = max(left_max[i - 1], heights[i - 1])\n",
    "\n",
    "    # dealing with the right max values\n",
    "    for i in range(len(heights) - 2, -1, -1):\n",
    "        right_max[i] = max(right_max[i + 1], heights[i + 1])\n",
    "\n",
    "    # consider all the items in O(N) and sum up the trapped rain water units\n",
    "    \n",
    "    trapped = 0\n",
    "    water = []\n",
    "    for i in range(1, len(heights) - 1):  # exclude the first and the last item\n",
    "        if min(left_max[i], right_max[i]) > heights[i]:\n",
    "            trapped += min(left_max[i], right_max[i]) - heights[i]\n",
    "            water.append(min(left_max[i], right_max[i]) - heights[i])\n",
    "    \n",
    "    if log:\n",
    "        print(left_max)\n",
    "        print(right_max)\n",
    "        print(water)\n",
    "\n",
    "    return trapped"
   ]
  },
  {
   "cell_type": "code",
   "execution_count": 32,
   "metadata": {},
   "outputs": [
    {
     "name": "stdout",
     "output_type": "stream",
     "text": [
      "[0, 2, 2, 3, 3]\n",
      "[4, 4, 4, 4, 0]\n",
      "[1, 2]\n",
      "3\n",
      "7\n",
      "8\n"
     ]
    }
   ],
   "source": [
    "print(trapping_water_problem([2, 1, 3, 1, 4], True))\n",
    "print(trapping_water_problem([4, 1, 3, 1, 5]))\n",
    "print(trapping_water_problem([1, 0, 2, 1, 3, 1, 2, 0, 3]))"
   ]
  },
  {
   "cell_type": "code",
   "execution_count": 99,
   "metadata": {},
   "outputs": [],
   "source": [
    "# CountingSort: O(n), Space(n)\n",
    "def countSort_str(arr): \n",
    "    \n",
    "    # The output character array that will have sorted arr\n",
    "    output = [0 for i in range(len(arr))]\n",
    " \n",
    "    # Create a count array to store count of individual\n",
    "    # characters and initialize count array as 0\n",
    "    count = [0 for i in range(256)]\n",
    " \n",
    "    # Store count of each character\n",
    "    for i in arr:\n",
    "        count[ord(i)] += 1\n",
    " \n",
    "    # Change count[i] so that count[i] now contains actual\n",
    "    # position of this character in output array\n",
    "    for i in range(1, 256):\n",
    "        count[i] += count[i-1]\n",
    " \n",
    "    # Build the output character array\n",
    "    for i in range(len(arr)):\n",
    "        output[count[ord(arr[i])]-1] = arr[i]\n",
    "        count[ord(arr[i])] -= 1\n",
    " \n",
    "    return \"\".join(output)"
   ]
  },
  {
   "cell_type": "code",
   "execution_count": 100,
   "metadata": {},
   "outputs": [
    {
     "name": "stdout",
     "output_type": "stream",
     "text": [
      "cdeennnopppuuxx\n"
     ]
    }
   ],
   "source": [
    "arr = \"deepxnpucpuonnx\"\n",
    "print(countSort_str(arr))"
   ]
  },
  {
   "cell_type": "code",
   "execution_count": 95,
   "metadata": {},
   "outputs": [],
   "source": [
    "# CountingSort: O(n), Space(n)\n",
    "def countSort(arr): \n",
    "    \n",
    "    # Create a count array to store count of individual\n",
    "    # characters and initialize count array as 0\n",
    "    count = [0] * (max(arr)+1)  # instead of N\n",
    "\n",
    "    # count numbers\n",
    "    for i in arr:\n",
    "        count[i] += 1\n",
    "    # Change count[i] so that count[i] now contains actual\n",
    "    # position of this character in output array\n",
    "    for i in range(1, len(count)):\n",
    "        count[i] += count[i-1]\n",
    "\n",
    "    output = [0] * len(arr)\n",
    " \n",
    "    # Build the output character array\n",
    "    for i in range(len(arr)):\n",
    "        output[count[arr[i]]-1] = arr[i]  # fill each number in backward\n",
    "        count[arr[i]] -= 1    \n",
    "\n",
    "    return output\n"
   ]
  },
  {
   "cell_type": "code",
   "execution_count": 96,
   "metadata": {},
   "outputs": [
    {
     "data": {
      "text/plain": [
       "[0, 0, 1, 2, 2, 2, 3, 3, 4, 5, 9, 9, 9, 9, 10]"
      ]
     },
     "execution_count": 96,
     "metadata": {},
     "output_type": "execute_result"
    }
   ],
   "source": [
    "nums = [2, 3, 2, 3, 1, 9, 9, 9, 9, 10, 2, 4, 5, 0, 0]\n",
    "countSort(nums)"
   ]
  }
 ],
 "metadata": {
  "kernelspec": {
   "display_name": "Python 3",
   "language": "python",
   "name": "python3"
  },
  "language_info": {
   "codemirror_mode": {
    "name": "ipython",
    "version": 3
   },
   "file_extension": ".py",
   "mimetype": "text/x-python",
   "name": "python",
   "nbconvert_exporter": "python",
   "pygments_lexer": "ipython3",
   "version": "3.10.7"
  },
  "orig_nbformat": 4
 },
 "nbformat": 4,
 "nbformat_minor": 2
}
