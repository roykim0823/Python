{
 "cells": [
  {
   "cell_type": "code",
   "execution_count": 1,
   "metadata": {},
   "outputs": [],
   "source": [
    "\n",
    "def first_fit_decreasing_algorithm(capacities, bin_max_capacity):\n",
    "\n",
    "    # bins are created run-time - as many bins will be created as needed\n",
    "    solution_bins = []\n",
    "\n",
    "    item_names = list(capacities.keys())\n",
    "\n",
    "    # sort the capacities by the weight: capacities[x]\n",
    "    sorted_items = sorted(item_names, key=lambda x: capacities[x], reverse=True)\n",
    "    print(sorted_items)\n",
    "\n",
    "    for item in sorted_items:\n",
    "        bin_found = False\n",
    "        item_capacity = capacities[item]\n",
    "\n",
    "        # consider all the bins (this is why the final running time complexity of quadratic): O(N^2)\n",
    "        for index, actual_bin in enumerate(solution_bins):\n",
    "            # sum of items' capacity so far in the actual_bin\n",
    "            actual_bin_summed_size = sum([capacities[key] for key in actual_bin])\n",
    "\n",
    "            # if there is room for this object in the bin, put it in this bin:\n",
    "            if item_capacity <= (bin_max_capacity - actual_bin_summed_size):\n",
    "                solution_bins[index].append(item)\n",
    "                bin_found = True\n",
    "                break\n",
    "\n",
    "        # there is no space for the item in the bins already created\n",
    "        # so create a new bin for the item\n",
    "        if not bin_found:\n",
    "            solution_bins.append([item])\n",
    "\n",
    "    return solution_bins"
   ]
  },
  {
   "cell_type": "code",
   "execution_count": 5,
   "metadata": {},
   "outputs": [
    {
     "name": "stdout",
     "output_type": "stream",
     "text": [
      "['item#3', 'item#5', 'item#4', 'item#1', 'item#6', 'item#2']\n",
      "[['item#3'], ['item#5', 'item#2'], ['item#4', 'item#6'], ['item#1']]\n"
     ]
    }
   ],
   "source": [
    "items = {'item#1': 4, 'item#2': 2, 'item#3': 7, 'item#4': 5, 'item#5': 6, 'item#6': 3}\n",
    "print(first_fit_decreasing_algorithm(items, 8))"
   ]
  }
 ],
 "metadata": {
  "kernelspec": {
   "display_name": "Python 3",
   "language": "python",
   "name": "python3"
  },
  "language_info": {
   "codemirror_mode": {
    "name": "ipython",
    "version": 3
   },
   "file_extension": ".py",
   "mimetype": "text/x-python",
   "name": "python",
   "nbconvert_exporter": "python",
   "pygments_lexer": "ipython3",
   "version": "3.10.7"
  },
  "orig_nbformat": 4
 },
 "nbformat": 4,
 "nbformat_minor": 2
}
