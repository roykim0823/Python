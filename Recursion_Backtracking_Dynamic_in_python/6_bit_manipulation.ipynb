{
 "cells": [
  {
   "cell_type": "code",
   "execution_count": 6,
   "metadata": {},
   "outputs": [],
   "source": [
    "# O(logN)\n",
    "# n: decimal integer\n",
    "def count_bits(n):\n",
    "    counter = 0\n",
    "    while n > 0:\n",
    "        #print(n)        \n",
    "        counter += n & 1\n",
    "        # left-shift: doubles the original value\n",
    "        # right-shift: divides the original value by 2\n",
    "        n = n >> 1\n",
    "    return counter\n",
    "\n",
    "def count_bits2(n):\n",
    "    return int.bit_count(n)\n",
    "    "
   ]
  },
  {
   "cell_type": "code",
   "execution_count": 7,
   "metadata": {},
   "outputs": [
    {
     "name": "stdout",
     "output_type": "stream",
     "text": [
      "0b10000\n",
      "1\n",
      "3\n",
      "-0b1\n",
      "0\n",
      "\n",
      "1\n",
      "3\n",
      "1\n"
     ]
    }
   ],
   "source": [
    "print(bin(16))\n",
    "print(count_bits(16))\n",
    "print(count_bits(7))\n",
    "print(bin(-1))\n",
    "print(count_bits(-1))  # MSB, not working in the first code\n",
    "print()\n",
    "print(count_bits2(16))\n",
    "print(count_bits2(7))\n",
    "print(count_bits2(-1))"
   ]
  },
  {
   "cell_type": "code",
   "execution_count": 23,
   "metadata": {},
   "outputs": [],
   "source": [
    "# binary operations\n",
    "# O(1) running time\n",
    "# XOR operator by 1 increments the value of an even number by 1\n",
    "# and decrements the value for odd numbers by 1\n",
    "def is_even(n):\n",
    "    # return n % 2 == 0\n",
    "    if n ^ 1 == n + 1:\n",
    "        return True\n",
    "\n",
    "    return False"
   ]
  },
  {
   "cell_type": "code",
   "execution_count": 24,
   "metadata": {},
   "outputs": [
    {
     "name": "stdout",
     "output_type": "stream",
     "text": [
      "False\n"
     ]
    }
   ],
   "source": [
    "\n",
    "print(is_even(544365))"
   ]
  },
  {
   "cell_type": "code",
   "execution_count": 27,
   "metadata": {},
   "outputs": [],
   "source": [
    "# Russian peasant problem\n",
    "# a * b = (2*a)*(b/2)\n",
    "# if b is odd:\n",
    "# then, a * b = (2a) * (b/2) + a\n",
    "\n",
    "def multiply(a, b):\n",
    "    \"\"\" Implement with only bitwise operators. \"\"\"\n",
    "    result = 0\n",
    "\n",
    "    while b > 0:\n",
    "        # whether 'b' is even or not (XOR operator)\n",
    "        # if 'b' becomes odd (XOR operator decrements the value by 1 for odd numbers)\n",
    "        # we want to skip when 'b' is even\n",
    "        if b ^ 1 == b - 1:\n",
    "            result = result + a\n",
    "\n",
    "        # double the first number\n",
    "        a <<= 1\n",
    "        # halve the second number\n",
    "        b >>= 1\n",
    "\n",
    "    return result\n",
    "\n",
    "# Recursive version\n",
    "def multiply_recursion(a, b):\n",
    "    if b == 1:\n",
    "        return a\n",
    " \n",
    "    if b % 2 == 1:\n",
    "        return a + multiply_recursion(2*a, b//2)\n",
    " \n",
    "    if b % 2 == 0:\n",
    "        return multiply_recursion(2*a, b//2)"
   ]
  },
  {
   "cell_type": "code",
   "execution_count": 28,
   "metadata": {},
   "outputs": [
    {
     "data": {
      "text/plain": [
       "(25, 20)"
      ]
     },
     "execution_count": 28,
     "metadata": {},
     "output_type": "execute_result"
    }
   ],
   "source": [
    "multiply(5, 5), multiply(5, 4)"
   ]
  },
  {
   "cell_type": "code",
   "execution_count": 29,
   "metadata": {},
   "outputs": [
    {
     "name": "stdout",
     "output_type": "stream",
     "text": [
      "1836900\n",
      "1836900\n"
     ]
    }
   ],
   "source": [
    "print(multiply(2355, 780))\n",
    "print(2355*780)"
   ]
  }
 ],
 "metadata": {
  "kernelspec": {
   "display_name": "Python 3",
   "language": "python",
   "name": "python3"
  },
  "language_info": {
   "codemirror_mode": {
    "name": "ipython",
    "version": 3
   },
   "file_extension": ".py",
   "mimetype": "text/x-python",
   "name": "python",
   "nbconvert_exporter": "python",
   "pygments_lexer": "ipython3",
   "version": "3.10.7"
  },
  "orig_nbformat": 4
 },
 "nbformat": 4,
 "nbformat_minor": 2
}
