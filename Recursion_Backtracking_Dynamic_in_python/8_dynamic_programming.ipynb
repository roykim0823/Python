{
 "cells": [
  {
   "attachments": {},
   "cell_type": "markdown",
   "metadata": {},
   "source": [
    "# Complexity\n",
    "\n",
    "Asymptotic Analysis: usually we are interested in large input sizes\n",
    "- It describes the limiting behavior of a function when the argument tends towards a particular value or infinity.\n",
    "- Classify algorithms by how they respond (in their processing time or working space requirements) to changes in the N input size\n",
    "- O(n!) - O(c<sup>n</sup>) - O(n<sup>k</sup>) - O(N*logN) - O(N) - O(logN) - O(1)\n",
    "- Polynomial - non-deterministic polynomial (NP) - NP-complete - NP-hard\n",
    "  - NP: if we have a certain solution for the problem then we can verify this solution in polynomial time (P=NP?, find large prime number -> polynomial)  \n",
    "  - NP Complete: the hardest problems in NP\n",
    "    - We can transform an NP-complete problem into an NP problem in polynomial time (Karp-Reduction)\n",
    "    - if we have a certain solution for the problem then we can verify this solution in polynomial time\n",
    "  - NP Hard: problems that are at least as hard as the problem in NP class\n",
    "    - We can transform an NP-hard problem into an NP-complete problem in polynomial time (Karp-Reduction)\n",
    "\n",
    "- Big O notation: Worst case!\n",
    "  - It defines the upper bound to a function\n",
    "  - The f(n) function is bounded above by an g(n) function asymptotically.\n",
    "\n",
    "- Big $\\Omega$ (Omega):\n",
    "  - It defines the lower bound to a function\n",
    "  - The f(n) function is bounded below by an g(n) function asymptotically.\n",
    "\n",
    "- Big $\\Theta$ (Theta):\n",
    "  - It defines both the upper and the lower bound to a function.\n",
    "  - The f(n) function is bounded both below and above by a g(n) function asymptotically, such as f(n) = $\\Omega$(g(n)) and f(n) = O(g(n))"
   ]
  },
  {
   "cell_type": "code",
   "execution_count": 14,
   "metadata": {},
   "outputs": [
    {
     "name": "stdout",
     "output_type": "stream",
     "text": [
      "1\n",
      "34\n",
      "102334155\n",
      "34\n"
     ]
    }
   ],
   "source": [
    "# fibonacci in dynamic programming\n",
    "\n",
    "def fibonacci_recursion(n):    \n",
    "    if n < 2:\n",
    "        return n\n",
    "\n",
    "    return fibonacci_recursion(n-1) + fibonacci_recursion(n-2)\n",
    "\n",
    "\n",
    "# top-down approach: memoization\n",
    "def fibonacci_memoization(n, table):\n",
    "\n",
    "    if n not in table:\n",
    "        table[n] = fibonacci_memoization(n-1, table) + fibonacci_memoization(n-2, table)\n",
    "\n",
    "    # O(1) running time\n",
    "    return table[n]\n",
    "\n",
    "\n",
    "# bottom-up approach: tabulation\n",
    "def fibonacci_tabulation(n):\n",
    "\n",
    "    table = [0] * (n+1)\n",
    "    table[1] = 1\n",
    "\n",
    "    for i in range(2, n+1):\n",
    "        table[i] = table[i-1] + table[i-2]\n",
    "\n",
    "    return table[n]\n",
    "\n",
    "\n",
    "t = {0: 0, 1: 1}\n",
    "# exponential running time\n",
    "print(fibonacci_recursion(1))\n",
    "# these are the O(N) linear running time approaches\n",
    "print(fibonacci_tabulation(9))\n",
    "print(fibonacci_memoization(40, t))\n",
    "print(fibonacci_recursion(9))"
   ]
  },
  {
   "cell_type": "code",
   "execution_count": 11,
   "metadata": {},
   "outputs": [],
   "source": [
    "# knapsack problem\n",
    "\n",
    "# Recursion: O(n^m)\n",
    "def knapsack(m, weights, values, n):\n",
    "    if m==0 or n==0:\n",
    "        return 0\n",
    "    \n",
    "    if weights[n-1] > m:  # exclude the item's weight > m\n",
    "        return knapsack(m, weights, values, n-1)\n",
    "    else:\n",
    "        n_include = values[n-1] + knapsack(m-weights[n-1], weights, values, n-1)\n",
    "        n_exclude = knapsack(m, weights, values, n-1)\n",
    "        return max(n_include, n_exclude)\n",
    "\n",
    "\n",
    "\n"
   ]
  },
  {
   "cell_type": "code",
   "execution_count": 13,
   "metadata": {},
   "outputs": [
    {
     "data": {
      "text/plain": [
       "9"
      ]
     },
     "execution_count": 13,
     "metadata": {},
     "output_type": "execute_result"
    }
   ],
   "source": [
    "weights = [0, 1, 3, 4, 5]\n",
    "profits = [0, 1, 4, 5, 7]\n",
    "values = knapsack(7, weights, profits, 5)\n",
    "values"
   ]
  },
  {
   "cell_type": "code",
   "execution_count": 1,
   "metadata": {},
   "outputs": [],
   "source": [
    "# Dynamic Programming: O(n*m), psuedo-polynominal\n",
    "class KnapsackProblem:\n",
    "\n",
    "    def __init__(self, n, M, w, v):\n",
    "        self.n = n\n",
    "        self.M = M\n",
    "        self.w = w\n",
    "        self.v = v\n",
    "        self.S = [[0 for _ in range(M+1)] for _ in range(n+1)]\n",
    "\n",
    "    def solve(self):\n",
    "        # construct the S dynamic programming table\n",
    "        # O(n*M)\n",
    "        for i in range(self.n+1):\n",
    "            for w in range(self.M+1):\n",
    "                not_taking_item = self.S[i - 1][w]\n",
    "                taking_item = 0\n",
    "\n",
    "                if self.w[i] <= w:\n",
    "                    taking_item = self.v[i] + self.S[i - 1][w - self.w[i]]\n",
    "\n",
    "                # memoization - we store the sub-results to avoid recalculating the same values\n",
    "                self.S[i][w] = max(not_taking_item, taking_item)\n",
    "\n",
    "    def show_result(self):\n",
    "\n",
    "        print(\"Total benefit: %d\" % self.S[self.n][self.M])\n",
    "\n",
    "        w = self.M\n",
    "        for n in range(self.n, 0, -1):\n",
    "            if self.S[n][w] != 0 and self.S[n][w] != self.S[n - 1][w]:\n",
    "                print(\"We take item #%d\" % n)\n",
    "                w = w - self.w[n]\n",
    "    \n",
    "    def show_dp_table(self):\n",
    "        for i in range(self.n+1):\n",
    "            row = \"\"\n",
    "            for w in range(self.M+1):\n",
    "                row += str(self.S[i][w]) + ' '\n",
    "            print(row)\n"
   ]
  },
  {
   "cell_type": "code",
   "execution_count": 2,
   "metadata": {},
   "outputs": [
    {
     "name": "stdout",
     "output_type": "stream",
     "text": [
      "Total benefit: 11\n",
      "We take item #3\n",
      "We take item #2\n",
      "0 0 0 0 0 0 \n",
      "0 0 0 0 10 10 \n",
      "0 0 4 4 10 10 \n",
      "0 0 4 7 10 11 \n"
     ]
    }
   ],
   "source": [
    "num_of_items = 3\n",
    "knapsack_capacity = 5\n",
    "weights = [0, 4, 2, 3]\n",
    "profits = [0, 10, 4, 7]\n",
    "knapsack = KnapsackProblem(num_of_items, knapsack_capacity, weights, profits)\n",
    "knapsack.solve()\n",
    "knapsack.show_result()\n",
    "knapsack.show_dp_table()"
   ]
  },
  {
   "cell_type": "code",
   "execution_count": 6,
   "metadata": {},
   "outputs": [
    {
     "name": "stdout",
     "output_type": "stream",
     "text": [
      "Total benefit: 9\n",
      "We take item #3\n",
      "We take item #2\n",
      "0 0 0 0 0 0 0 0 \n",
      "0 1 1 1 1 1 1 1 \n",
      "0 1 1 4 5 5 5 5 \n",
      "0 1 1 4 5 6 6 9 \n",
      "0 1 1 4 5 7 8 9 \n"
     ]
    }
   ],
   "source": [
    "num_of_items = 4\n",
    "knapsack_capacity = 7\n",
    "weights = [0, 1, 3, 4, 5]\n",
    "profits = [0, 1, 4, 5, 7]\n",
    "knapsack = KnapsackProblem(num_of_items, knapsack_capacity, weights, profits)\n",
    "knapsack.solve()\n",
    "knapsack.show_result()\n",
    "knapsack.show_dp_table()"
   ]
  },
  {
   "cell_type": "code",
   "execution_count": 12,
   "metadata": {},
   "outputs": [],
   "source": [
    "class RodCutting:\n",
    "    def __init__(self, n, p):\n",
    "        self.n = n\n",
    "        self.p = p  # piece\n",
    "        self.S = [[0] * (n + 1) for _ in range(len(p))]\n",
    "\n",
    "    # this algorithm has O(NxN) quadratic running time complexity\n",
    "    def solve(self):\n",
    "\n",
    "        for i in range(1, len(self.p)):\n",
    "            for j in range(1, self.n + 1):\n",
    "                if i <= j:\n",
    "                    self.S[i][j] = max(self.S[i - 1][j], self.p[i] + self.S[i][j - i])\n",
    "                else:  # if i > j then copy the above row's value\n",
    "                    self.S[i][j] = self.S[i - 1][j]\n",
    "\n",
    "    def show_result(self):\n",
    "\n",
    "        print(\"Max profit: %d\" % self.S[len(self.p) - 1][self.n])\n",
    "\n",
    "        col_index = self.n\n",
    "        row_index = len(self.p) - 1\n",
    "\n",
    "        while col_index > 0 or row_index > 0:\n",
    "            # we have to compare the items right above each other\n",
    "            # if they are the same values then the given row (piece) is not in the solution\n",
    "            if self.S[row_index][col_index] == self.S[row_index - 1][col_index]:\n",
    "                row_index = row_index - 1\n",
    "            else:\n",
    "                print(\"We take piece with length: \", row_index, \"m\")\n",
    "                col_index = col_index - row_index\n",
    "    \n",
    "    def show_dp_table(self):\n",
    "        for i in range(self.n+1):\n",
    "            row = \"\"\n",
    "            for j in range(len(self.p)):\n",
    "                row += str(self.S[i][j]) + ' '\n",
    "            print(row)"
   ]
  },
  {
   "cell_type": "code",
   "execution_count": 13,
   "metadata": {},
   "outputs": [
    {
     "name": "stdout",
     "output_type": "stream",
     "text": [
      "Max profit: 12\n",
      "We take piece with length:  2 m\n",
      "We take piece with length:  2 m\n",
      "We take piece with length:  1 m\n",
      "0 0 0 0 0 0 \n",
      "0 2 4 6 8 10 \n",
      "0 2 5 7 10 12 \n",
      "0 2 5 7 10 12 \n",
      "0 2 5 7 10 12 \n",
      "0 2 5 7 10 12 \n"
     ]
    }
   ],
   "source": [
    "problem = RodCutting(5, [0, 2, 5, 7, 3, 9])\n",
    "problem.solve()\n",
    "problem.show_result()\n",
    "problem.show_dp_table()"
   ]
  },
  {
   "cell_type": "code",
   "execution_count": 1,
   "metadata": {},
   "outputs": [],
   "source": [
    "class SubsetSumProblem:\n",
    "\n",
    "    def __init__(self, nums, m):\n",
    "        self.nums = nums\n",
    "        self.m = m\n",
    "        self.S = [[False for _ in range(m+1)] for _ in range(len(nums)+1)]\n",
    "\n",
    "    def solve(self):\n",
    "\n",
    "        # initialize the first row and first column\n",
    "        # the first row is False, it is already False\n",
    "        for i in range(len(self.nums) + 1):  # first column is True\n",
    "            self.S[i][0] = True\n",
    "\n",
    "        # we have to construct the table with the cells one by one\n",
    "        for i in range(1, len(self.nums) + 1):\n",
    "            for j in range(1, self.m + 1):\n",
    "                if j < self.nums[i-1]:              # if column index is less than the value,\n",
    "                    self.S[i][j] = self.S[i-1][j]   # copy the value from the above row\n",
    "                else:\n",
    "                    if self.S[i - 1][j]:\n",
    "                        # this is when we do NOT include the given item rowIndex\n",
    "                        self.S[i][j] = self.S[i - 1][j]  # copy the value from the above row\n",
    "                    else:\n",
    "                        # do include the item i, get the 1st columns's value : True\n",
    "                        self.S[i][j] = self.S[i - 1][j - self.nums[i - 1]]  \n",
    "\n",
    "    def show_result(self):\n",
    "\n",
    "        print(\"The problem is feasible: %s\" % self.S[len(self.nums)][self.m])\n",
    "\n",
    "        if not self.S[len(self.nums)][self.m]:\n",
    "            return\n",
    "\n",
    "        # print out the items in the subset\n",
    "        col_index = self.m\n",
    "        row_index = len(self.nums)\n",
    "\n",
    "        while col_index > 0 or row_index > 0:\n",
    "            if self.S[row_index][col_index] == self.S[row_index - 1][col_index]:\n",
    "                row_index = row_index - 1\n",
    "            else:\n",
    "                print('We take item: %d' % self.nums[row_index - 1])\n",
    "                col_index = col_index - self.nums[row_index - 1]\n",
    "                row_index = row_index - 1\n",
    "    \n",
    "    def show_dp_table(self):\n",
    "        for i in range(len(self.nums)+1):\n",
    "            row = \"\"\n",
    "            for j in range(self.m+1):\n",
    "                row += str(self.S[i][j]) + '\\t'\n",
    "            print(row)"
   ]
  },
  {
   "cell_type": "code",
   "execution_count": 2,
   "metadata": {},
   "outputs": [
    {
     "name": "stdout",
     "output_type": "stream",
     "text": [
      "The problem is feasible: True\n",
      "We take item: 3\n",
      "We take item: 1\n",
      "We take item: 5\n",
      "True\tFalse\tFalse\tFalse\tFalse\tFalse\tFalse\tFalse\tFalse\tFalse\t\n",
      "True\tFalse\tFalse\tFalse\tFalse\tTrue\tFalse\tFalse\tFalse\tFalse\t\n",
      "True\tFalse\tTrue\tFalse\tFalse\tTrue\tFalse\tTrue\tFalse\tFalse\t\n",
      "True\tTrue\tTrue\tTrue\tFalse\tTrue\tTrue\tTrue\tTrue\tFalse\t\n",
      "True\tTrue\tTrue\tTrue\tTrue\tTrue\tTrue\tTrue\tTrue\tTrue\t\n"
     ]
    }
   ],
   "source": [
    "M = 9\n",
    "n = [5, 2, 1, 3]\n",
    "\n",
    "problem = SubsetSumProblem(n, M)\n",
    "problem.solve()\n",
    "problem.show_result()\n",
    "problem.show_dp_table()"
   ]
  },
  {
   "cell_type": "code",
   "execution_count": 15,
   "metadata": {},
   "outputs": [
    {
     "name": "stdout",
     "output_type": "stream",
     "text": [
      "The problem is feasible: True\n",
      "We take item: 3\n",
      "We take item: 5\n",
      "We take item: 2\n",
      "We take item: 1\n"
     ]
    }
   ],
   "source": [
    "M = 11\n",
    "n = [1, 2, 5, 3]\n",
    "\n",
    "problem = SubsetSumProblem(n, M)\n",
    "problem.solve()\n",
    "problem.show_result()"
   ]
  },
  {
   "attachments": {},
   "cell_type": "markdown",
   "metadata": {},
   "source": [
    "## Maximum Consecutive Subarray (Kadane's Algorithm)\n",
    "\n",
    "Find a consecutive numbers of the array such that the sum is the largest possible.\n",
    "- ex: 1, -2, 2, 3, 1 -> 2, 3, 1"
   ]
  },
  {
   "cell_type": "code",
   "execution_count": 3,
   "metadata": {},
   "outputs": [],
   "source": [
    "def kadane(nums):  # O(N)\n",
    "    local_max = nums[0]\n",
    "    global_max = nums[0]\n",
    "\n",
    "    # this is why it has linear running time complexity\n",
    "    for i in range(1, len(nums)):\n",
    "        \n",
    "        # pick the max between the current one and previous + the current one.\n",
    "        local_max = max(nums[i], local_max + nums[i])\n",
    "\n",
    "        if local_max > global_max:\n",
    "            global_max = local_max\n",
    "\n",
    "    return global_max"
   ]
  },
  {
   "cell_type": "code",
   "execution_count": 5,
   "metadata": {},
   "outputs": [
    {
     "name": "stdout",
     "output_type": "stream",
     "text": [
      "6\n",
      "6\n"
     ]
    }
   ],
   "source": [
    "print(kadane([1, -2, 2, 3, 1]))\n",
    "print(kadane([1, -2, 1, 2, 3, -4]))"
   ]
  },
  {
   "attachments": {},
   "cell_type": "markdown",
   "metadata": {},
   "source": [
    "## Longest common subsequence\n",
    "\n",
    "- Longest common subsequence is the problem of finding the longest subsequence common to all sequences in a set of sequences.\n",
    "- It differs from the longest common substring problem.\n",
    "- Unlike substrings, subsequences are not required to occupy consecutive positions within the original sequences.\n",
    "- It has several applications in bioinformatics and revision control systems (such as Git)\n"
   ]
  },
  {
   "cell_type": "code",
   "execution_count": 11,
   "metadata": {},
   "outputs": [],
   "source": [
    "class LongestCommonSubseq:\n",
    "    def __init__(self, s1, s2):\n",
    "        self.s1 = s1\n",
    "        self.s2 = s2\n",
    "        \n",
    "        # we need a 2D list to memoize the sub-results\n",
    "        self.dp = [[0 for _ in range(len(self.s2) + 1)] for _ in range(len(self.s1) + 1)]\n",
    "    \n",
    "    def solve(self):\n",
    "        # this is why the running time is O(m*n)\n",
    "        # m=len(s1) and n=len(s2)\n",
    "        for i in range(1, len(self.s1) + 1):\n",
    "            for j in range(1, len(self.s2) + 1):\n",
    "                if self.s1[i-1] == self.s2[j-1]:\n",
    "                    self.dp[i][j] = self.dp[i-1][j-1] + 1\n",
    "                else:\n",
    "                    self.dp[i][j] = max(self.dp[i-1][j], self.dp[i][j-1])\n",
    "    \n",
    "    def show_result(self):\n",
    "        lcs = ''\n",
    "        i = len(self.s1)\n",
    "        j = len(self.s2)\n",
    "\n",
    "        while i > 0 and j > 0:\n",
    "            # if the current characters of s1 and s2 are matching then the\n",
    "            # character is part of the LCS\n",
    "            if self.s1[i - 1] == self.s2[j - 1]:\n",
    "                lcs += self.s1[i - 1]  # or lcs += self.s2[j-1]\n",
    "                i -= 1\n",
    "                j -= 1\n",
    "\n",
    "            # if letters are not matching then find the larger of two and\n",
    "            # take a step in the direction of larger value\n",
    "            elif self.dp[i - 1][j] > self.dp[i][j - 1]:\n",
    "                i -= 1  # move left\n",
    "            else:\n",
    "                j -= 1  # more up\n",
    "\n",
    "        return lcs[::-1]\n",
    "\n",
    "    def show_dp_table(self):\n",
    "        for i in range(len(self.s1)+1):\n",
    "            row = \"\"\n",
    "            for j in range(len(self.s2)+1):\n",
    "                row += str(self.dp[i][j]) + '\\t'\n",
    "            print(row)"
   ]
  },
  {
   "cell_type": "code",
   "execution_count": 15,
   "metadata": {},
   "outputs": [
    {
     "name": "stdout",
     "output_type": "stream",
     "text": [
      "adh\n",
      "0\t0\t0\t0\t0\t0\t0\t\n",
      "0\t1\t1\t1\t1\t1\t1\t\n",
      "0\t1\t1\t1\t1\t1\t1\t\n",
      "0\t1\t1\t1\t2\t2\t2\t\n",
      "0\t1\t1\t1\t2\t2\t2\t\n",
      "0\t1\t1\t1\t2\t2\t3\t\n",
      "0\t1\t1\t1\t2\t2\t3\t\n",
      "aadh\n",
      "0\t0\t0\t0\t0\t0\t0\t0\t\n",
      "0\t1\t1\t1\t1\t1\t1\t1\t\n",
      "0\t1\t1\t1\t1\t1\t1\t1\t\n",
      "0\t1\t2\t2\t2\t2\t2\t2\t\n",
      "0\t1\t2\t2\t2\t3\t3\t3\t\n",
      "0\t1\t2\t2\t2\t3\t3\t3\t\n",
      "0\t1\t2\t2\t2\t3\t3\t4\t\n",
      "0\t1\t2\t2\t2\t3\t3\t4\t\n"
     ]
    }
   ],
   "source": [
    "lcs = LongestCommonSubseq('aidfhr', 'abedgh')\n",
    "lcs.solve()\n",
    "print(lcs.show_result())\n",
    "lcs.show_dp_table()\n",
    "\n",
    "lcs = LongestCommonSubseq('aiadfhr', 'aabedgh')\n",
    "lcs.solve()\n",
    "print(lcs.show_result())\n",
    "lcs.show_dp_table()"
   ]
  },
  {
   "cell_type": "code",
   "execution_count": 58,
   "metadata": {},
   "outputs": [],
   "source": [
    "# LCS in recursion: O(2^n) if n==m\n",
    "def lcs_recur(s1, s2, m, n):\n",
    "    if m==0 or n==0:\n",
    "        return 0\n",
    "    \n",
    "    if s1[m-1] == s2[n-1]:                \n",
    "        return 1 + lcs_recur(s1, s2, m-1, n-1)\n",
    "    else:\n",
    "        return max(lcs_recur(s1, s2, m-1, n), lcs_recur(s1, s2, m, n-1))"
   ]
  },
  {
   "cell_type": "code",
   "execution_count": 59,
   "metadata": {},
   "outputs": [
    {
     "data": {
      "text/plain": [
       "3"
      ]
     },
     "execution_count": 59,
     "metadata": {},
     "output_type": "execute_result"
    }
   ],
   "source": [
    "lcs_recur('aidfhr', 'abedgh', 6, 6)"
   ]
  }
 ],
 "metadata": {
  "kernelspec": {
   "display_name": "Python 3",
   "language": "python",
   "name": "python3"
  },
  "language_info": {
   "codemirror_mode": {
    "name": "ipython",
    "version": 3
   },
   "file_extension": ".py",
   "mimetype": "text/x-python",
   "name": "python",
   "nbconvert_exporter": "python",
   "pygments_lexer": "ipython3",
   "version": "3.10.7"
  },
  "orig_nbformat": 4
 },
 "nbformat": 4,
 "nbformat_minor": 2
}
