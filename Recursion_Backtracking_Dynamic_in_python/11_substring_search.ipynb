{
 "cells": [
  {
   "cell_type": "code",
   "execution_count": 1,
   "metadata": {},
   "outputs": [],
   "source": [
    "def naive_search(pattern, text):  # O(NM)\n",
    "    m = len(pattern)\n",
    "    n = len(text)\n",
    "\n",
    "    # this operation takes O(n)\n",
    "    for i in range(n-m+1):\n",
    "        # track the letters in the pattern (starting 0) from left to right\n",
    "        j = 0\n",
    "\n",
    "        # all the letters of the pattern O(m) - in worst-case this approach takes O(n*m)\n",
    "        while j < m:\n",
    "            # we have to compare the characters\n",
    "            if text[i+j] != pattern[j]:\n",
    "                break\n",
    "            # consider the next characters\n",
    "            j = j + 1\n",
    "        if j == m:\n",
    "            print('Found a match at index %s' % i)"
   ]
  },
  {
   "cell_type": "code",
   "execution_count": 2,
   "metadata": {},
   "outputs": [
    {
     "name": "stdout",
     "output_type": "stream",
     "text": [
      "Found a match at index 0\n",
      "Found a match at index 10\n"
     ]
    }
   ],
   "source": [
    "naive_search('abcd', 'abcdeefabcabcd')"
   ]
  },
  {
   "attachments": {},
   "cell_type": "markdown",
   "metadata": {},
   "source": [
    "## Rabin-Karp Substring Search\n",
    "\n",
    "- It has O(M+N), but its worst case is still O(MN)\n",
    "- The aim is to compare the pattern and the region of the text with a single test - in O(1) constant running time\n",
    "- To reduce spurious, make a good hash function is critical to get the good performance\n",
    "    - Rabin fingerprint funtion uses a polynomial\n",
    "    - Rolling Hashing function calculate the hash value based on the previous value -> O(1)\n",
    "        - h('bbb') = h('abb') - h('a') + h('b')\n",
    "        - ((1x26^2 + 2x26^1 + 2x26^0) - 1x26^2) x 26 + 2x26^0"
   ]
  },
  {
   "cell_type": "code",
   "execution_count": 1,
   "metadata": {},
   "outputs": [],
   "source": [
    "\n",
    "class RabinKarp:\n",
    "\n",
    "    def __init__(self, pattern, text):\n",
    "        self.pattern = pattern\n",
    "        self.text = text        \n",
    "        self.d = 26  # the size of the alphabet (26)        \n",
    "        self.q = 31  # prime number for the (%) modulo operator\n",
    "\n",
    "    def search(self):\n",
    "\n",
    "        m = len(self.pattern)\n",
    "        n = len(self.text)\n",
    "\n",
    "        # hashes for the region of text and the pattern\n",
    "        hash_text = 0\n",
    "        hash_pattern = 0\n",
    "\n",
    "        # the largest polynomial term in the fingerprint function\n",
    "        h = 1\n",
    "        for _ in range(m-1):\n",
    "            h = (h*self.d) % self.q\n",
    "\n",
    "        # pre-compute the hash of the pattern O(M)\n",
    "        for i in range(m):\n",
    "            hash_pattern = (self.d*hash_pattern + ord(self.pattern[i])) % self.q\n",
    "            hash_text = (self.d * hash_text + ord(self.text[i])) % self.q\n",
    "\n",
    "        # slide the pattern over text one by one\n",
    "        for i in range(n-m+1):\n",
    "\n",
    "            # check the hash values of current window of text\n",
    "            # and pattern. If the hash values match then only\n",
    "            # check for characters on by one\n",
    "            if hash_text == hash_pattern:\n",
    "\n",
    "                # naive approach to check the characters\n",
    "                j = 0\n",
    "\n",
    "                while j < m:\n",
    "                    if self.text[i+j] != self.pattern[j]:\n",
    "                        break\n",
    "\n",
    "                    j = j + 1\n",
    "\n",
    "                if j == m:\n",
    "                    print(\"Found match at index %s\" % i)\n",
    "\n",
    "            # update the hash for the actual substring of the text\n",
    "            # apply the rolling hash approach\n",
    "            if i < n-m:\n",
    "                hash_text = ((hash_text - ord(self.text[i]) * h) * self.d + ord(self.text[i + m])) % self.q\n",
    "\n",
    "                # we might get negative value so we have to make sure the hash is positive\n",
    "                if hash_text < 0:\n",
    "                    hash_text = hash_text + self.q\n"
   ]
  },
  {
   "cell_type": "code",
   "execution_count": 2,
   "metadata": {},
   "outputs": [
    {
     "name": "stdout",
     "output_type": "stream",
     "text": [
      "Found match at index 0\n",
      "Found match at index 9\n"
     ]
    }
   ],
   "source": [
    "algorithm = RabinKarp('abcd', 'abcdabcbcabcd')\n",
    "algorithm.search()"
   ]
  },
  {
   "attachments": {},
   "cell_type": "markdown",
   "metadata": {},
   "source": [
    "## Knuth-Morris-Pratt (KMP) Algorithm\n",
    "- KMP is O(N+M) linear running time even in the worst-case scenario.\n",
    "- The algorithm must proprocess the pattern with O(M) running time complexity and with O(M) additional memory complexity\n",
    "    - Construct \"partial match table\" (or failture function)\n",
    "- Analyze the prefix and the suffix of the pattern\n",
    "- KMP checks whether some prefixes are matching any suffixes in the pattern.\n",
    "    - It looks for the longest prefix which is the same as some suffixes. \n",
    "- The $\\pi$(p) encapsulates the knowlege about how the pattern matches against the shifts of itself. This information can be used to avoid a useless shift of the P pattern"
   ]
  },
  {
   "cell_type": "code",
   "execution_count": 3,
   "metadata": {},
   "outputs": [],
   "source": [
    "\n",
    "def construct_pi(pattern):\n",
    "\n",
    "    # the table has as many values as the length of the pattern (first item is always a 0)\n",
    "    pi_table = [0]*len(pattern)\n",
    "\n",
    "    prefix_counter = 0\n",
    "    i = 1\n",
    "\n",
    "    # O(M) linear running time\n",
    "    while i < len(pattern):\n",
    "        if pattern[i] == pattern[prefix_counter]:\n",
    "            prefix_counter = prefix_counter + 1\n",
    "            pi_table[i] = prefix_counter\n",
    "            i = i + 1\n",
    "        else:\n",
    "            if prefix_counter != 0:\n",
    "                prefix_counter = pi_table[prefix_counter-1]\n",
    "            else:\n",
    "                pi_table[i] = 0\n",
    "                i = i + 1\n",
    "\n",
    "    return pi_table\n",
    "\n",
    "\n",
    "def search(text, pattern):\n",
    "\n",
    "    pi_table = construct_pi(pattern)\n",
    "    # index i tracks the text - index j tracks the pattern\n",
    "    i = 0\n",
    "    j = 0\n",
    "\n",
    "    # we have to iterate until the i index is less than the N length of the text\n",
    "    # and we have to make sure j is smaller than the M length of the pattern\n",
    "    while i < len(text) and j < len(pattern):\n",
    "        # if the letters are matching we increment both indexes\n",
    "        if text[i] == pattern[j]:\n",
    "            i = i + 1\n",
    "            j = j + 1\n",
    "        # we found the pattern in the text (+ reinitialize the j index to be able find more patterns)\n",
    "        if j == len(pattern):\n",
    "            print('Pattern found at index %s' % (i-j))\n",
    "            j = pi_table[j - 1]\n",
    "        # if there is a mismatch\n",
    "        elif i < len(text) and text[i] != pattern[j]:\n",
    "            # if we can decrement j then we decrement it based on the pi table\n",
    "            if j != 0:\n",
    "                j = pi_table[j-1]\n",
    "            # if we are not able to decrement the j (because it has value 0) we increment i\n",
    "            else:\n",
    "                i = i + 1"
   ]
  },
  {
   "cell_type": "code",
   "execution_count": 4,
   "metadata": {},
   "outputs": [
    {
     "name": "stdout",
     "output_type": "stream",
     "text": [
      "Pattern found at index 3\n",
      "Pattern found at index 6\n"
     ]
    }
   ],
   "source": [
    "search('aacaabaab', 'aab')"
   ]
  },
  {
   "attachments": {},
   "cell_type": "markdown",
   "metadata": {},
   "source": [
    "## Z Substring Search\n",
    "- State of Art\n",
    "- Z algorithm has O(N+M) linear running time compleixty and it needs additional O(N+M) memory.\n",
    "- So, it is not an in place algorithm\n",
    "- Z<sub>i</sub> value is the length of the longest substring in S starting at position i that matches a prefix of S\n",
    "    - If we have the Z<sub>i</sub> values then we can find all the P pattern matches in the original S text. \n",
    "    - We just have to find the values in the Z table with >= |P| so the lengt of the P pattern\n",
    "- Z box: the Z<sub>i</sub> values are greater than 0. \n"
   ]
  },
  {
   "cell_type": "code",
   "execution_count": 5,
   "metadata": {},
   "outputs": [],
   "source": [
    "class ZAlgorithm:\n",
    "\n",
    "    def __init__(self, pattern, text):\n",
    "        self.pattern = pattern\n",
    "        self.text = text\n",
    "        # we have to concatenate the pattern and the text\n",
    "        self.S = pattern + text\n",
    "        # int table for the Z values\n",
    "        self.Z = [0 for _ in range(len(self.S))]\n",
    "\n",
    "    def construct_z_table(self):\n",
    "\n",
    "        # the first item (index 0) is the length of the S\n",
    "        self.Z[0] = len(self.S)\n",
    "\n",
    "        # the first and last items in the Z box\n",
    "        left = 0\n",
    "        right = 0\n",
    "\n",
    "        # consider all the letters of the S string (starting with index 1)\n",
    "        for k in range(1, len(self.S)):\n",
    "            # we are not within a Z box (naive approach) CASE I\n",
    "            if k > right:\n",
    "\n",
    "                n = 0\n",
    "\n",
    "                while n+k < len(self.S) and self.S[n] == self.S[n+k]:\n",
    "                    n = n + 1\n",
    "\n",
    "                self.Z[k] = n\n",
    "\n",
    "                if n > 0:\n",
    "                    left = k\n",
    "                    right = k + n - 1\n",
    "            else:\n",
    "                # we are inside a Z box so maybe we can copy the values\n",
    "                p = k - left\n",
    "                # case II when we can copy the values of Z\n",
    "                if self.Z[p] < right - k + 1:\n",
    "                    self.Z[k] = self.Z[p]\n",
    "                else:\n",
    "                    # we can not copy the values (case III)\n",
    "                    i = right + 1\n",
    "\n",
    "                    while i < len(self.S) and self.S[i] == self.S[i - k]:\n",
    "                        i = i + 1\n",
    "\n",
    "                    self.Z[k] = i - k\n",
    "                    left = k\n",
    "                    right = i - 1\n",
    "\n",
    "    def search(self):\n",
    "\n",
    "        self.construct_z_table()\n",
    "\n",
    "        # we just have to consider the values in the Z table in O(N+M)\n",
    "        for i in range(1, len(self.Z)):\n",
    "            if self.Z[i] >= len(self.pattern):\n",
    "                print(\"Match found at index %s\" % (i - len(self.pattern)))"
   ]
  },
  {
   "cell_type": "code",
   "execution_count": 6,
   "metadata": {},
   "outputs": [
    {
     "name": "stdout",
     "output_type": "stream",
     "text": [
      "Match found at index 4\n",
      "Match found at index 8\n"
     ]
    }
   ],
   "source": [
    "algorithm = ZAlgorithm('aabza', 'abzcaabzaabza')\n",
    "algorithm.search()"
   ]
  },
  {
   "attachments": {},
   "cell_type": "markdown",
   "metadata": {},
   "source": [
    "## Substring Search Comparison\n",
    "\n",
    "- "
   ]
  }
 ],
 "metadata": {
  "kernelspec": {
   "display_name": "Python 3",
   "language": "python",
   "name": "python3"
  },
  "language_info": {
   "codemirror_mode": {
    "name": "ipython",
    "version": 3
   },
   "file_extension": ".py",
   "mimetype": "text/x-python",
   "name": "python",
   "nbconvert_exporter": "python",
   "pygments_lexer": "ipython3",
   "version": "3.10.7"
  },
  "orig_nbformat": 4
 },
 "nbformat": 4,
 "nbformat_minor": 2
}
