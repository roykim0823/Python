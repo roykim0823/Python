{
 "cells": [
  {
   "attachments": {},
   "cell_type": "markdown",
   "metadata": {},
   "source": [
    "# Two Sum Problem"
   ]
  },
  {
   "attachments": {},
   "cell_type": "markdown",
   "metadata": {},
   "source": [
    "The two sum problem is a classic algorithmic problem where we are given an array of integers and a target sum, and we need to find two distinct elements in the array that add up to the target sum. Here's a simple implementation of the two sum problem in Python:"
   ]
  },
  {
   "cell_type": "code",
   "execution_count": 1,
   "metadata": {},
   "outputs": [],
   "source": [
    "def two_sum(nums, target):\n",
    "    seen = {}\n",
    "    for i, num in enumerate(nums):\n",
    "        complement = target - num\n",
    "        if complement in seen:\n",
    "            return [seen[complement], i]\n",
    "        seen[num] = i\n",
    "    return []\n"
   ]
  },
  {
   "cell_type": "code",
   "execution_count": 3,
   "metadata": {},
   "outputs": [
    {
     "data": {
      "text/plain": [
       "[1, 6]"
      ]
     },
     "execution_count": 3,
     "metadata": {},
     "output_type": "execute_result"
    }
   ],
   "source": [
    "nums = [4, 5, 3, 2, 9, 16, 23]\n",
    "two_sum(nums, 28)"
   ]
  },
  {
   "attachments": {},
   "cell_type": "markdown",
   "metadata": {},
   "source": [
    "The above code uses a hash table to keep track of the indices of previously seen elements. For each element in the input array nums, it checks if its complement (i.e., the value that adds up to the target sum) has been seen before. If it has, it returns the indices of the two elements. If no pair is found, it returns an empty list.\n",
    "\n",
    "This implementation has a time complexity of O(n), where n is the length of the input array nums. It only makes a single pass over the array and performs constant time operations for each element. The space complexity is also O(n), because in the worst case, all elements in the array may need to be stored in the hash table."
   ]
  },
  {
   "attachments": {},
   "cell_type": "markdown",
   "metadata": {},
   "source": [
    "# Three Sum Problem"
   ]
  },
  {
   "attachments": {},
   "cell_type": "markdown",
   "metadata": {},
   "source": [
    "The three sum problem involves finding all unique triplets in a given array of integers that add up to a specified target sum. Here's an example solution in Python:"
   ]
  },
  {
   "cell_type": "code",
   "execution_count": 1,
   "metadata": {},
   "outputs": [],
   "source": [
    "def three_sum(nums, target):\n",
    "    nums.sort()  # Sort the input array\n",
    "    result = []\n",
    "    \n",
    "    for i in range(len(nums)-2):  # Iterate up to the 3rd last element\n",
    "        if i > 0 and nums[i] == nums[i-1]:  # Skip duplicates\n",
    "            continue\n",
    "        \n",
    "        left, right = i+1, len(nums)-1  # Set left and right pointers\n",
    "        \n",
    "        while left < right:\n",
    "            total = nums[i] + nums[left] + nums[right]  # Calculate sum\n",
    "            if total < target:  # If sum is too small, move left pointer to the right\n",
    "                left += 1\n",
    "            elif total > target:  # If sum is too large, move right pointer to the left\n",
    "                right -= 1\n",
    "            else:  # If sum is correct, add triplet to result\n",
    "                result.append([nums[i], nums[left], nums[right]])\n",
    "                while left < right and nums[left] == nums[left+1]:  # Skip duplicates\n",
    "                    left += 1\n",
    "                while left < right and nums[right] == nums[right-1]:  # Skip duplicates\n",
    "                    right -= 1\n",
    "                left += 1\n",
    "                right -= 1\n",
    "    \n",
    "    return result\n"
   ]
  },
  {
   "cell_type": "code",
   "execution_count": 2,
   "metadata": {},
   "outputs": [
    {
     "name": "stdout",
     "output_type": "stream",
     "text": [
      "[[-3, 1, 2], [-1, 0, 1]]\n"
     ]
    }
   ],
   "source": [
    "nums = [0, -1, 2, -3, 1]\n",
    "target = 0\n",
    "\n",
    "result = three_sum(nums, target)\n",
    "print(result)  # Output: [[-3, 1, 2], [-1, 0, 1]]"
   ]
  },
  {
   "attachments": {},
   "cell_type": "markdown",
   "metadata": {},
   "source": [
    "The time complexity of the above code is O(n^2), where n is the length of the input array nums. This is because the code uses a nested loop to iterate over all possible pairs of elements in the array, and then uses a while loop to find the third element that completes the triplet. The nested loop has O(n^2) time complexity, and the while loop has O(n) time complexity in the worst case, because it could potentially scan the entire array. However, the while loop only executes a finite number of times in practice, because it skips over duplicates, so the overall time complexity is O(n^2).\n",
    "\n",
    "The space complexity of the code is O(1), because it only uses a constant amount of extra space to store the result and the left and right pointers. The input array is sorted in place, so no additional space is needed for that."
   ]
  },
  {
   "attachments": {},
   "cell_type": "markdown",
   "metadata": {},
   "source": [
    "The time complexity of the three sum problem cannot be improved beyond O(n^2) in the worst case, because it requires examining all possible pairs of elements in the array. However, there are some optimizations that can be made to reduce the constant factors and improve the average-case performance:\n",
    "\n",
    "Skip unnecessary iterations: The current implementation skips duplicates within the while loop, but it could also skip unnecessary iterations of the outer loop by checking if the current element is too large or too small to form a triplet with the remaining elements.\n",
    "\n",
    "Avoid unnecessary computations: The current implementation computes the sum of three elements for each triplet, even if the first two elements are already too large or too small to form a triplet with any other element. This can be avoided by precomputing the minimum and maximum possible values for the third element based on the first two elements.\n",
    "\n",
    "Here's an optimized version of the code that incorporates these optimizations:"
   ]
  },
  {
   "cell_type": "code",
   "execution_count": 3,
   "metadata": {},
   "outputs": [],
   "source": [
    "def three_sum(nums, target):\n",
    "    nums.sort()\n",
    "    result = []\n",
    "    \n",
    "    for i in range(len(nums)-2):\n",
    "        if i > 0 and nums[i] == nums[i-1]:\n",
    "            continue\n",
    "        \n",
    "        # Check if current element is too large or too small\n",
    "        if nums[i] + nums[i+1] + nums[i+2] > target:\n",
    "            break\n",
    "        if nums[i] + nums[-2] + nums[-1] < target:\n",
    "            continue\n",
    "        \n",
    "        # Precompute minimum and maximum possible values for third element\n",
    "        min_third = nums[i+1] + nums[i+2]\n",
    "        max_third = nums[-2] + nums[-1]\n",
    "        \n",
    "        left, right = i+1, len(nums)-1\n",
    "        \n",
    "        while left < right:\n",
    "            total = nums[i] + nums[left] + nums[right]\n",
    "            if total < target:\n",
    "                # Check if next element is same as current to skip duplicates\n",
    "                if nums[left+1] + nums[right] > target - nums[i]:\n",
    "                    left += 1\n",
    "                else:\n",
    "                    left += 1\n",
    "                    while left < right and nums[left] == nums[left-1]:\n",
    "                        left += 1\n",
    "            elif total > target:\n",
    "                # Check if previous element is same as current to skip duplicates\n",
    "                if nums[left] + nums[right-1] < target - nums[i]:\n",
    "                    right -= 1\n",
    "                else:\n",
    "                    right -= 1\n",
    "                    while left < right and nums[right] == nums[right+1]:\n",
    "                        right -= 1\n",
    "            else:\n",
    "                result.append([nums[i], nums[left], nums[right]])\n",
    "                left += 1\n",
    "                right -= 1\n",
    "                while left < right and nums[left] == nums[left-1]:\n",
    "                    left += 1\n",
    "                while left < right and nums[right] == nums[right+1]:\n",
    "                    right -= 1\n",
    "    \n",
    "    return result\n"
   ]
  },
  {
   "attachments": {},
   "cell_type": "markdown",
   "metadata": {},
   "source": [
    "This implementation skips unnecessary iterations of the outer loop and avoids unnecessary computations of the sum of three elements. In practice, these optimizations can improve the performance by a factor of 2-3x compared to the original implementation, especially for large arrays with many duplicates. However, the worst-case time complexity remains O(n^2)."
   ]
  }
 ],
 "metadata": {
  "kernelspec": {
   "display_name": "Python 3",
   "language": "python",
   "name": "python3"
  },
  "language_info": {
   "codemirror_mode": {
    "name": "ipython",
    "version": 3
   },
   "file_extension": ".py",
   "mimetype": "text/x-python",
   "name": "python",
   "nbconvert_exporter": "python",
   "pygments_lexer": "ipython3",
   "version": "3.10.7"
  },
  "orig_nbformat": 4
 },
 "nbformat": 4,
 "nbformat_minor": 2
}
