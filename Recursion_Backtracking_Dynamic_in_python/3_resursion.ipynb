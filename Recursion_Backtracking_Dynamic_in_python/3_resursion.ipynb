{
 "cells": [
  {
   "cell_type": "code",
   "execution_count": 1,
   "metadata": {},
   "outputs": [],
   "source": [
    "# Head and Tail Recursion\n",
    "\n",
    "def head(n):\n",
    "    print('Calling head() with n = ' + str(n))\n",
    "\n",
    "    if n == 0:\n",
    "        return\n",
    "    \n",
    "    head(n-1)  # recursive call\n",
    "    print(n)\n",
    "\n",
    "def tail(n):\n",
    "    print('Calling tail() with n = ' + str(n))\n",
    "\n",
    "    if n == 0:\n",
    "        return\n",
    "    print(n)\n",
    "\n",
    "    tail(n-1)    "
   ]
  },
  {
   "cell_type": "code",
   "execution_count": 3,
   "metadata": {},
   "outputs": [
    {
     "name": "stdout",
     "output_type": "stream",
     "text": [
      "Calling head() with n = 5\n",
      "Calling head() with n = 4\n",
      "Calling head() with n = 3\n",
      "Calling head() with n = 2\n",
      "Calling head() with n = 1\n",
      "Calling head() with n = 0\n",
      "1\n",
      "2\n",
      "3\n",
      "4\n",
      "5\n"
     ]
    }
   ],
   "source": [
    "head(5)"
   ]
  },
  {
   "cell_type": "code",
   "execution_count": 4,
   "metadata": {},
   "outputs": [
    {
     "name": "stdout",
     "output_type": "stream",
     "text": [
      "Calling tail() with n = 5\n",
      "5\n",
      "Calling tail() with n = 4\n",
      "4\n",
      "Calling tail() with n = 3\n",
      "3\n",
      "Calling tail() with n = 2\n",
      "2\n",
      "Calling tail() with n = 1\n",
      "1\n",
      "Calling tail() with n = 0\n"
     ]
    }
   ],
   "source": [
    "tail(5)"
   ]
  },
  {
   "attachments": {},
   "cell_type": "markdown",
   "metadata": {},
   "source": [
    "## Recursion optimization in Python\n",
    "In the previous lecture we talked about the crucial differences between head recursion and tail recursion.\n",
    "\n",
    "- tail recursion is very similar to iteration - and usually it is transformed into an iteration\n",
    "\n",
    "- head recursion is a bit more complex because the function calls must be tracked - this is why these function calls are pushed onto the stack (call-stack)\n",
    "\n",
    "BUT PYTHON DOES NOT OPTIMIZE TAIL RECURSION !!!\n",
    "\n",
    "Current mainstream C++ compilers perform tail call optimization. But on the other hand, Python does not support tail recursion optimization.\n",
    "\n",
    "An important question is WHY IS IT POSSIBLE TO USE TAIL RECURSION OPTIMIZATION?\n",
    "\n",
    "Because there is a fundamental difference between head recursion and tail recursion.\n",
    "\n",
    "- tail recursion related function calls (and the stack frames) do not depend on each other - there is no so-called \"downward dependence\" in the stack memory regarding the stack frames\n",
    "\n",
    "- head recursion related function calls DO depend on each other - they use values returned from other function calls\n",
    "\n",
    "This is exactly why we can optimise tail recursion because the function calls and stack frames are totally independent of each other."
   ]
  },
  {
   "cell_type": "code",
   "execution_count": 6,
   "metadata": {},
   "outputs": [],
   "source": [
    "def factorial_head(n):\n",
    "\n",
    "    # the base case: 0! == 1\n",
    "    if n == 0:\n",
    "        return 1\n",
    "    \n",
    "    # return n * factorial(n-1): the following code is the expension \n",
    "    # Use recursion\n",
    "    result1 = factorial_head(n-1)\n",
    "    \n",
    "    # we do some operations\n",
    "    result2 = n * result1\n",
    "   \n",
    "    return result2\n",
    "\n",
    "# Current Mainstream C++ compilers perform the following tail call optimization\n",
    "def factorial_tail(n, accumulator=1):\n",
    "\n",
    "    if n == 1:\n",
    "        return accumulator\n",
    "\n",
    "    return factorial_tail(n-1, n * accumulator)  # use single stack frame only, no backtracking"
   ]
  },
  {
   "cell_type": "code",
   "execution_count": 10,
   "metadata": {},
   "outputs": [
    {
     "data": {
      "text/plain": [
       "3628800"
      ]
     },
     "execution_count": 10,
     "metadata": {},
     "output_type": "execute_result"
    }
   ],
   "source": [
    "factorial_head(10)"
   ]
  },
  {
   "cell_type": "code",
   "execution_count": 11,
   "metadata": {},
   "outputs": [
    {
     "data": {
      "text/plain": [
       "3628800"
      ]
     },
     "execution_count": 11,
     "metadata": {},
     "output_type": "execute_result"
    }
   ],
   "source": [
    "factorial_tail(10)"
   ]
  },
  {
   "cell_type": "code",
   "execution_count": 12,
   "metadata": {},
   "outputs": [
    {
     "name": "stdout",
     "output_type": "stream",
     "text": [
      "6765\n"
     ]
    }
   ],
   "source": [
    "def fibonacci_head(n):\n",
    "\n",
    "    if n == 0:\n",
    "        return 0\n",
    "    if n == 1:\n",
    "        return 1\n",
    "\n",
    "    # we make the recursive function call(s)\n",
    "    # we are going to do 2 recursion - we keep calculating the fibonacci numbers\n",
    "    # some values are calculate twice - there are multiple stack frames with the same value\n",
    "    fib1 = fibonacci_head(n-1)\n",
    "    fib2 = fibonacci_head(n-2)\n",
    "\n",
    "    # make some operations\n",
    "    result = fib1 + fib2\n",
    "\n",
    "    return result\n",
    "\n",
    "\n",
    "print(fibonacci_head(20))"
   ]
  },
  {
   "cell_type": "code",
   "execution_count": 13,
   "metadata": {},
   "outputs": [
    {
     "name": "stdout",
     "output_type": "stream",
     "text": [
      "6765\n"
     ]
    }
   ],
   "source": [
    "# The initial values are a=0 and b=1 (we can set the default values in Python).\n",
    "# This is how we can use tail recursion to find Fibonacci-numbers!\n",
    "# Note that in this case there is just a single recursive function call \n",
    "# which means that it is a faster approach - no need for two very similar recursive function calls\n",
    "# (fibonacci_head(n-1) and fibonacci_head(n-2)).\n",
    "\n",
    "def fibonacci_tail(n,a=0,b=1):\n",
    "    \n",
    "    if n==0: return a\n",
    "    if n==1: return b\n",
    " \n",
    "    return fibonacci_tail(n-1, b, a+b)\n",
    "\n",
    "print(fibonacci_tail(20))"
   ]
  },
  {
   "cell_type": "code",
   "execution_count": 8,
   "metadata": {},
   "outputs": [
    {
     "name": "stdout",
     "output_type": "stream",
     "text": [
      "34\n"
     ]
    }
   ],
   "source": [
    "# Iterative: O(n), Space(1)\n",
    "def fibonacci_iteration(n):\n",
    "\n",
    "    a, b = 0, 1\n",
    "    \n",
    "    for i in range(n):               \n",
    "        a, b = b, a + b\n",
    "    return a\n",
    "\n",
    "print(fibonacci_iteration(9))"
   ]
  },
  {
   "cell_type": "code",
   "execution_count": null,
   "metadata": {},
   "outputs": [],
   "source": [
    "def reverse(s):\n",
    "    # if the string is empty (because we considered all the characters)\n",
    "    if s == \"\":\n",
    "        return s\n",
    " \n",
    "    # we have the last character + we append the other characters (recursively)\n",
    "    return s[-1] + reverse(s[:-1])"
   ]
  },
  {
   "cell_type": "code",
   "execution_count": 16,
   "metadata": {},
   "outputs": [],
   "source": [
    "# Towers of Hanoi\n",
    "\n",
    "def hanoi(disk, source, middle, destination):\n",
    "\n",
    "    # this is the base case -index 0 is always the smallest plate\n",
    "    # we manipulate the smallest plate in the base case\n",
    "    if disk == 0:\n",
    "        print('Disk %s from %s to %s' % (disk, source, destination))\n",
    "        return\n",
    "\n",
    "    # move n-1 plates to the middle using destination as temp\n",
    "    hanoi(disk-1, source, destination, middle)\n",
    "\n",
    "    # this is not necessarily the largest plate - this is not the plate 0\n",
    "    # move disk to the destination\n",
    "    print('Disk %s from %s to %s' % (disk, source, destination))\n",
    "    \n",
    "    # move n-1 plates from middle to source using destination as temp\n",
    "    hanoi(disk-1, middle, source, destination)"
   ]
  },
  {
   "cell_type": "code",
   "execution_count": 17,
   "metadata": {},
   "outputs": [
    {
     "name": "stdout",
     "output_type": "stream",
     "text": [
      "Disk 0 from A to B\n",
      "Disk 1 from A to C\n",
      "Disk 0 from B to C\n",
      "Disk 2 from A to B\n",
      "Disk 0 from C to A\n",
      "Disk 1 from C to B\n",
      "Disk 0 from A to B\n",
      "Disk 3 from A to C\n",
      "Disk 0 from B to C\n",
      "Disk 1 from B to A\n",
      "Disk 0 from C to A\n",
      "Disk 2 from B to C\n",
      "Disk 0 from A to B\n",
      "Disk 1 from A to C\n",
      "Disk 0 from B to C\n"
     ]
    }
   ],
   "source": [
    "hanoi(3, 'A', 'B', 'C')"
   ]
  },
  {
   "cell_type": "code",
   "execution_count": 39,
   "metadata": {},
   "outputs": [],
   "source": [
    "# Euclidean Algorithm : Greatest Common Divisor\n",
    "# if b / a (no remainder) then GCD(a, b) = b\n",
    "# else GCD(a, b) = GCD(b, a mod b)\n",
    "\n",
    "# Recursive Imple.\n",
    "# O(min(a, b)), Space(1)*: no recursion overhead in tail recursion.\n",
    "def gcd(a, b):\n",
    "\n",
    "    # base-case: if b/a (without a remainder) then b is the gcd\n",
    "    if a % b == 0:\n",
    "        return b\n",
    "    \n",
    "    return gcd(b, a % b)\n",
    "\n",
    "# O(min(a, b)), Space(1)\n",
    "def gcd_iter(a, b):\n",
    "    # we make iterations until b/a without a remainder\n",
    "    while a % b != 0:\n",
    "        a, b = b, a % b\n",
    "\n",
    "    # if b / a then b is the gcd\n",
    "    return b\n",
    "\n"
   ]
  },
  {
   "cell_type": "code",
   "execution_count": 40,
   "metadata": {},
   "outputs": [
    {
     "name": "stdout",
     "output_type": "stream",
     "text": [
      "12 3 3 5\n",
      "12 3 3 5\n"
     ]
    }
   ],
   "source": [
    "print(gcd(24, 12), gcd(24, 3), gcd(3, 24), gcd(2465, 3965))\n",
    "print(gcd_iter(24, 12), gcd_iter(24, 3), gcd_iter(3, 24), gcd_iter(2465, 3965))"
   ]
  }
 ],
 "metadata": {
  "kernelspec": {
   "display_name": "Python 3.10.7 64-bit",
   "language": "python",
   "name": "python3"
  },
  "language_info": {
   "codemirror_mode": {
    "name": "ipython",
    "version": 3
   },
   "file_extension": ".py",
   "mimetype": "text/x-python",
   "name": "python",
   "nbconvert_exporter": "python",
   "pygments_lexer": "ipython3",
   "version": "3.10.7"
  },
  "orig_nbformat": 4,
  "vscode": {
   "interpreter": {
    "hash": "a9e2c7703114bb33d9bb95f9f1c7ade36d0cd0b5dec40cd5c5afcfa9f59c771a"
   }
  }
 },
 "nbformat": 4,
 "nbformat_minor": 2
}
