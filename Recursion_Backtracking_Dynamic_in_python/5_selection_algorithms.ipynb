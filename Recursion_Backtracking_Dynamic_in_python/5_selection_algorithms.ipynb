{
 "cells": [
  {
   "cell_type": "code",
   "execution_count": 34,
   "metadata": {},
   "outputs": [],
   "source": [
    "import random\n",
    "\n",
    "class QuickSelect:\n",
    "    def __init__(self, nums):\n",
    "        self.nums = nums\n",
    "        self.first_index = 0\n",
    "        self.last_index = len(nums) - 1\n",
    "\n",
    "    def run(self, k):\n",
    "        return self.select(self.first_index, self.last_index, k-1)\n",
    "\n",
    "    # PARTITION PHASE\n",
    "    def partition(self, first_index, last_index):\n",
    "        # generate a random value within the range [first, last]\n",
    "        pivot_index = random.randint(first_index, last_index)\n",
    "\n",
    "        self.swap(pivot_index, last_index)\n",
    "\n",
    "        for i in range(first_index, last_index):\n",
    "            #if self.nums[i] > self.nums[last_index]:  # k-th max\n",
    "            if self.nums[i] < self.nums[last_index]:  # k-th min\n",
    "                if i != first_index:\n",
    "                    print(i, first_index)                    \n",
    "                    self.swap(i, first_index)\n",
    "                first_index += 1\n",
    "\n",
    "        self.swap(first_index, last_index)\n",
    "\n",
    "        # it is the index of the pivot\n",
    "        return first_index\n",
    "\n",
    "    def swap(self, i, j):\n",
    "        self.nums[i], self.nums[j] = self.nums[j], self.nums[i]\n",
    "\n",
    "    # THIS IS THE SELECTION PHASE\n",
    "    def select(self, first_index, last_index, k):  # k is k-1 since index starts at 0\n",
    "        pivot_index = self.partition(first_index, last_index)\n",
    "\n",
    "        # selection phase when we compare the pivot_index with k\n",
    "        if pivot_index < k:\n",
    "            # we have to discard the left sub-array and keep\n",
    "            # considering the items on the right\n",
    "            return self.select(pivot_index + 1, last_index, k)\n",
    "        elif pivot_index > k:\n",
    "            # we have to discard the right sub-array\n",
    "            return self.select(first_index, pivot_index - 1, k)\n",
    "\n",
    "        # we have found the item we are looking for\n",
    "        return self.nums[pivot_index]\n",
    "    \n",
    "    # this is how we can do sorting\n",
    "    def sort(self):\n",
    " \n",
    "        # the result will be another list (sorted order)\n",
    "        sorted_list = []\n",
    " \n",
    "        # because we decrement the k value (k'=k-1) this is why\n",
    "        # we have to use range() like that\n",
    "        for i in range(1, len(self.nums)+1):\n",
    "            sorted_list.append(self.run(i))\n",
    " \n",
    "        return sorted_list"
   ]
  },
  {
   "cell_type": "code",
   "execution_count": 22,
   "metadata": {},
   "outputs": [
    {
     "name": "stdout",
     "output_type": "stream",
     "text": [
      "5 4\n",
      "6 5\n",
      "1 0\n",
      "-5\n"
     ]
    }
   ],
   "source": [
    "x = [1, 2, -5, 10, 100, -7, 3, 4]\n",
    "select = QuickSelect(x)\n",
    "print(select.run(2))  # k-th max or min"
   ]
  },
  {
   "cell_type": "code",
   "execution_count": 47,
   "metadata": {},
   "outputs": [
    {
     "name": "stdout",
     "output_type": "stream",
     "text": [
      "1\n",
      "[-2, 1, 5, 8, 7, 6]\n",
      "\n",
      "[-2, 1, 5, 6, 7, 8]\n",
      "[-2, 1, 5, 6, 7, 8]\n"
     ]
    }
   ],
   "source": [
    "x = [1, -2, 5, 8, 7, 6]\n",
    "select = QuickSelect(x)\n",
    "print(select.run(2))  # k-th min\n",
    "#print(select.sort())\n",
    "print(x)\n",
    "print()\n",
    "print(select.sort())\n",
    "print(x)"
   ]
  },
  {
   "cell_type": "code",
   "execution_count": 48,
   "metadata": {},
   "outputs": [],
   "source": [
    "def median_algorithm(nums, k):\n",
    "\n",
    "    # we have to split the list into chunks of 5 items\n",
    "    chunks = [nums[i:i+5] for i in range(0, len(nums), 5)]\n",
    "    # the median is the middle item in the sorted order\n",
    "    # NOTE: median of the medians is just approximately the median of the original data structure\n",
    "    medians = [sorted(chunk)[len(chunk)//2] for chunk in chunks]\n",
    "    pivot_value = sorted(medians)[len(medians)//2]\n",
    "\n",
    "    # PARTITION PHASE\n",
    "    left_array = [n for n in nums if n < pivot_value]\n",
    "    right_array = [m for m in nums if m > pivot_value]\n",
    "\n",
    "    # selection phase\n",
    "    pivot_index = len(left_array)\n",
    "\n",
    "    if k < pivot_index:\n",
    "        # we have to consider the left array because we are looking for\n",
    "        # smaller items\n",
    "        return median_algorithm(left_array, k)\n",
    "    elif k > pivot_index:\n",
    "        # we have to consider the right array BUT we have to update k value\n",
    "        # because we have created a new array\n",
    "        return median_algorithm(right_array, k-len(left_array)-1)\n",
    "    else:\n",
    "        return pivot_value\n",
    "\n",
    "\n",
    "def select(nums, k):\n",
    "    return median_algorithm(nums, k-1)"
   ]
  },
  {
   "cell_type": "code",
   "execution_count": 49,
   "metadata": {},
   "outputs": [
    {
     "name": "stdout",
     "output_type": "stream",
     "text": [
      "-5\n",
      "-1\n",
      "0\n",
      "1\n"
     ]
    }
   ],
   "source": [
    "x = [1, -5, 0, 10, 15, 20, 3, -1, 21, 22, 23, 24, 25, 26, 27, 28, 29]\n",
    "print(select(x, 1))\n",
    "print(select(x, 2))\n",
    "print(select(x, 3))\n",
    "print(select(x, 4))"
   ]
  },
  {
   "attachments": {},
   "cell_type": "markdown",
   "metadata": {},
   "source": [
    "## Secretary Problem: Online Algorithm\n",
    "\n",
    "- secretary problem is a very important problem of optimal stopping theory\n",
    "- also known as the „best choice problem”\n",
    "- partioning based algorithm cannot solve this problem\n",
    "- we want to hire the best secretary out of N applicants\n",
    "- applicants are interviewed one by one and after rejecting, the applicants can not be recalled\n",
    "- we can rank the applicant among all applicants interviewed so far but we are unaware of the quality of yet unseen applicants\n",
    "- what is the optimal strategy? Of course we want to maximize the probability of selecting the best applicant\n",
    "- if we can consider every applicant and we can make the final decision after that: it is the simple selection problem\n",
    "- it can be done in O(N) linear running time complexity with quickselect algorithm\n",
    "- but now WE HAVE TO MAKE THE DECISION IMMEDIATELY (when considering the actual applicant)\n",
    "\n",
    "### The best strategy is to reject the fist n/e    applicants and then select the one that is better than all the applicants interviewed so far: 1/e 37%\n",
    "\n"
   ]
  },
  {
   "cell_type": "code",
   "execution_count": 51,
   "metadata": {},
   "outputs": [
    {
     "name": "stdout",
     "output_type": "stream",
     "text": [
      "[1.0, 1.5, 2.0, 3.25, 4.4]\n"
     ]
    }
   ],
   "source": [
    "# online average, cumulative moving average\n",
    "\n",
    "#list = [1, 2, 3, 4, 5, 6, 7, 8, 9, 10]\n",
    "list = [1, 2, 3, 7, 9]\n",
    "\n",
    "cum_sum = 0\n",
    "avgs = []\n",
    "for i, data in enumerate(list):\n",
    "    cum_sum += data\n",
    "\n",
    "    avg =  cum_sum/ (i+1)\n",
    "    avgs.append(avg)\n",
    "\n",
    "print(avgs)"
   ]
  }
 ],
 "metadata": {
  "kernelspec": {
   "display_name": "Python 3",
   "language": "python",
   "name": "python3"
  },
  "language_info": {
   "codemirror_mode": {
    "name": "ipython",
    "version": 3
   },
   "file_extension": ".py",
   "mimetype": "text/x-python",
   "name": "python",
   "nbconvert_exporter": "python",
   "pygments_lexer": "ipython3",
   "version": "3.10.7"
  },
  "orig_nbformat": 4
 },
 "nbformat": 4,
 "nbformat_minor": 2
}
