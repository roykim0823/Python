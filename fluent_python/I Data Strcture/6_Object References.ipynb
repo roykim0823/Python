{
 "cells": [
  {
   "cell_type": "markdown",
   "id": "3822d0fb",
   "metadata": {},
   "source": [
    "## Chapter 6. Object References, Mutability, and Recycling"
   ]
  },
  {
   "cell_type": "markdown",
   "id": "40781888",
   "metadata": {},
   "source": [
    "### Variables Are Not Boxes"
   ]
  },
  {
   "cell_type": "code",
   "execution_count": 1,
   "id": "d7c724b8",
   "metadata": {},
   "outputs": [
    {
     "data": {
      "text/plain": [
       "[1, 2, 3, 4, 5]"
      ]
     },
     "execution_count": 1,
     "metadata": {},
     "output_type": "execute_result"
    }
   ],
   "source": [
    "# Example 6-1. Variables a and b hold references to the same list, not copies of the list\n",
    "\n",
    "a = [1, 2, 3]\n",
    "b = a\n",
    "a.append(4)\n",
    "b\n",
    "\n",
    "b.append(5)\n",
    "a"
   ]
  },
  {
   "cell_type": "code",
   "execution_count": 2,
   "id": "72d0e014",
   "metadata": {},
   "outputs": [
    {
     "name": "stdout",
     "output_type": "stream",
     "text": [
      "Gizmo id: 4424538048\n",
      "Gizmo id: 4424538672\n"
     ]
    },
    {
     "ename": "TypeError",
     "evalue": "unsupported operand type(s) for *: 'Gizmo' and 'int'",
     "output_type": "error",
     "traceback": [
      "\u001b[0;31m---------------------------------------------------------------------------\u001b[0m",
      "\u001b[0;31mTypeError\u001b[0m                                 Traceback (most recent call last)",
      "Cell \u001b[0;32mIn [2], line 7\u001b[0m\n\u001b[1;32m      4\u001b[0m         \u001b[39mprint\u001b[39m(\u001b[39m'\u001b[39m\u001b[39mGizmo id: \u001b[39m\u001b[39m%d\u001b[39;00m\u001b[39m'\u001b[39m \u001b[39m%\u001b[39m \u001b[39mid\u001b[39m(\u001b[39mself\u001b[39m))\n\u001b[1;32m      6\u001b[0m x \u001b[39m=\u001b[39m Gizmo()\n\u001b[0;32m----> 7\u001b[0m y \u001b[39m=\u001b[39m Gizmo() \u001b[39m*\u001b[39;49m \u001b[39m10\u001b[39;49m\n",
      "\u001b[0;31mTypeError\u001b[0m: unsupported operand type(s) for *: 'Gizmo' and 'int'"
     ]
    }
   ],
   "source": [
    "# Example 6-2. Variables are assigned to objects only after the objects are created\n",
    "class Gizmo:\n",
    "    def __init__(self):\n",
    "        print('Gizmo id: %d' % id(self))\n",
    "\n",
    "x = Gizmo()\n",
    "y = Gizmo() * 10  # y was never created due to the exception on the multiplication\n",
    "                  # But, the Gizmo is instantiated"
   ]
  },
  {
   "cell_type": "markdown",
   "id": "b854fc8f",
   "metadata": {},
   "source": [
    "### Identity, Equality, and Alias"
   ]
  },
  {
   "cell_type": "code",
   "execution_count": 3,
   "id": "9e8658be",
   "metadata": {},
   "outputs": [
    {
     "name": "stdout",
     "output_type": "stream",
     "text": [
      "True\n",
      "4579319680 4579319680\n",
      "{'name': 'Charles L. Dodgson', 'born': 1832, 'balance': 950}\n"
     ]
    }
   ],
   "source": [
    "# Example 6-3. charles and lewis refer to the same object\n",
    "\n",
    "charles = {'name': 'Charles L. Dodgson', 'born': 1832}\n",
    "lewis = charles\n",
    "print(lewis is charles)\n",
    "print(id(charles), id(lewis))  # same id\n",
    "lewis['balance'] = 950\n",
    "print(charles)"
   ]
  },
  {
   "cell_type": "code",
   "execution_count": 4,
   "id": "de46951e",
   "metadata": {},
   "outputs": [
    {
     "name": "stdout",
     "output_type": "stream",
     "text": [
      "True\n",
      "True\n"
     ]
    }
   ],
   "source": [
    "# Example 6-4 implements and tests the alex object depicted in Figure 8-3\n",
    "\n",
    "alex = {'name': 'Charles L. Dodgson', 'born': 1832, 'balance': 950}  # a replica of charles\n",
    "\n",
    "print(alex == charles)\n",
    "print(alex is not charles)"
   ]
  },
  {
   "cell_type": "markdown",
   "id": "b8de4444",
   "metadata": {},
   "source": [
    "#### The Relative Immutability of Tuples"
   ]
  },
  {
   "cell_type": "code",
   "execution_count": 5,
   "id": "dd22ffaf",
   "metadata": {},
   "outputs": [
    {
     "name": "stdout",
     "output_type": "stream",
     "text": [
      "True\n",
      "4579307072\n",
      "(1, 2, [30, 40, 99])\n",
      "4579307072\n",
      "False\n"
     ]
    }
   ],
   "source": [
    "# Example 6-5. t1 and t2 initially compare equal, but changing a mutable item inside tuple t1 makes it different\n",
    "\n",
    "t1 = (1, 2, [30, 40])  # t1 is immutable, but t1[-1] is mutable.\n",
    "t2 = (1, 2, [30, 40])\n",
    "print(t1 == t2)\n",
    "print(id(t1[-1]))\n",
    "t1[-1].append(99)\n",
    "print(t1)\n",
    "print(id(t1[-1]))  # the ID is not changed.\n",
    "print(t1 == t2)"
   ]
  },
  {
   "cell_type": "markdown",
   "id": "748dbff5",
   "metadata": {},
   "source": [
    "### Copies Are Shallow by Default"
   ]
  },
  {
   "cell_type": "code",
   "execution_count": 7,
   "id": "b513ba04",
   "metadata": {},
   "outputs": [
    {
     "name": "stdout",
     "output_type": "stream",
     "text": [
      "[3, [55, 44], (7, 8, 9)]\n",
      "True\n",
      "False\n",
      "True\n",
      "True\n",
      "\n",
      "[3, [55, 44], (7, 8, 9)]\n",
      "True\n",
      "False\n",
      "True\n",
      "True\n"
     ]
    }
   ],
   "source": [
    "l1 = [3, [55, 44], (7, 8, 9)]\n",
    "l2 = list(l1)  # shallow copy\n",
    "print(l2)\n",
    "print(l2 == l1)  # True\n",
    "print(l2 is l1)  # False\n",
    "print(l2[1] is l1[1])\n",
    "print(l2[2] is l1[2])\n",
    "print()\n",
    "\n",
    "# another example\n",
    "l3 = l1[:]  # Make a another shallow copy\n",
    "print(l3)\n",
    "print(l3 == l1)\n",
    "print(l3 is l1)\n",
    "print(l3[1] is l1[1])\n",
    "print(l3[2] is l1[2])"
   ]
  },
  {
   "cell_type": "code",
   "execution_count": 8,
   "id": "46fb6d69",
   "metadata": {},
   "outputs": [
    {
     "name": "stdout",
     "output_type": "stream",
     "text": [
      "l1: [3, [66, 44], (7, 8, 9), 100]\n",
      "l2: [3, [66, 44], (7, 8, 9)]\n",
      "l1: [3, [66, 44, 33, 22], (7, 8, 9), 100]\n",
      "l2: [3, [66, 44, 33, 22], (7, 8, 9, 10, 11)]\n"
     ]
    }
   ],
   "source": [
    "# Example 6-6. Making a shallow copy of a list containing another list; \n",
    "# copy and paste this code to see it animated at the Online Python Tutor\n",
    "# Page 210 ~ 211\n",
    "\n",
    "l1 = [3, [66, 55, 44], (7, 8, 9)]\n",
    "l2 = list(l1)  # l2 is a shallow copy of l1\n",
    "l1.append(100)  # Appending 100 to l1 has no effect on l2.\n",
    "l1[1].remove(55)  # Removing 55 affects both l1 and l2\n",
    "\n",
    "print('l1:', l1)\n",
    "print('l2:', l2)\n",
    "\n",
    "l2[1] += [33, 22]  # affect both\n",
    "l2[2] += (10, 11)  # affect l2 only since it creates new tuple\n",
    "print('l1:', l1)\n",
    "print('l2:', l2)"
   ]
  },
  {
   "cell_type": "markdown",
   "id": "1cb16a56",
   "metadata": {},
   "source": [
    "#### Deep and Shallow Copies of Arbitrary Objects"
   ]
  },
  {
   "cell_type": "code",
   "execution_count": 10,
   "id": "7f90fc24",
   "metadata": {},
   "outputs": [],
   "source": [
    "# Example 6-8. Bus picks up and drops off passengers\n",
    "\n",
    "class Bus:\n",
    "    def __init__(self, passengers=None):\n",
    "        if passengers is None:\n",
    "            self.passengers = []\n",
    "        else:\n",
    "            self.passengers = list(passengers)  # make a copy\n",
    "\n",
    "    def pick(self, name):\n",
    "        self.passengers.append(name)\n",
    "\n",
    "    def drop(self, name):\n",
    "        self.passengers.remove(name)"
   ]
  },
  {
   "cell_type": "code",
   "execution_count": 12,
   "id": "11849d0a",
   "metadata": {},
   "outputs": [
    {
     "name": "stdout",
     "output_type": "stream",
     "text": [
      "2465177228656 2465177224384 2465177237872\n",
      "['Alice', 'Claire', 'David']\n",
      "2465203732096 2465203732096 2465203718144\n",
      "['Alice', 'Bill', 'Claire', 'David']\n"
     ]
    }
   ],
   "source": [
    "# Example 6-9. Effects of using copy versus deepcopy\n",
    "\n",
    "import copy\n",
    "bus1 = Bus(['Alice', 'Bill', 'Claire', 'David'])\n",
    "bus2 = copy.copy(bus1)\n",
    "bus3 = copy.deepcopy(bus1)\n",
    "print(id(bus1), id(bus2), id(bus3))\n",
    "\n",
    "bus1.drop('Bill')\n",
    "print(bus2.passengers)  # 'Bill' is also missing from bus2\n",
    "print(id(bus1.passengers), id(bus2.passengers), id(bus3.passengers))  # bus1.passengers is bus2.passengers\n",
    "print(bus3.passengers)\n"
   ]
  },
  {
   "cell_type": "code",
   "execution_count": 18,
   "id": "f88199e2",
   "metadata": {},
   "outputs": [
    {
     "name": "stdout",
     "output_type": "stream",
     "text": [
      "[10, 20, [[...], 30]]\n",
      "[[10, 20, [...]], 30]\n",
      "[10, 20, [[...], 30]]\n",
      "[[10, 20, [...]], 30]\n"
     ]
    },
    {
     "data": {
      "text/plain": [
       "[10, 20, [[...], 30]]"
      ]
     },
     "execution_count": 18,
     "metadata": {},
     "output_type": "execute_result"
    }
   ],
   "source": [
    "# Example 6-10. Cyclic references: b refers to a, and then is appended to a; deepcopy still manages to copy a\n",
    "\n",
    "a = [10, 20]\n",
    "b = [a, 30]\n",
    "a.append(b)\n",
    "print(a)\n",
    "print(a[2])\n",
    "print(a[2][0])  # same as a\n",
    "print(a[2][0][2])\n",
    "\n",
    "from copy import deepcopy\n",
    "c = deepcopy(a)\n",
    "c"
   ]
  },
  {
   "cell_type": "markdown",
   "id": "cbe25067",
   "metadata": {},
   "source": [
    "### Function Parameters as References"
   ]
  },
  {
   "cell_type": "code",
   "execution_count": 19,
   "id": "c42cd6c1",
   "metadata": {},
   "outputs": [
    {
     "name": "stdout",
     "output_type": "stream",
     "text": [
      "1 2\n",
      "[1, 2, 3, 4] [3, 4]\n",
      "(10, 20) (30, 40)\n"
     ]
    }
   ],
   "source": [
    "# Example 6-11. A function may change any mutable object it receives\n",
    "\n",
    "def f(a, b):\n",
    "    a += b\n",
    "    return a\n",
    "\n",
    "x = 1\n",
    "y = 2\n",
    "f(x, y)\n",
    "print(x, y)\n",
    "\n",
    "a = [1, 2]\n",
    "b = [3, 4]\n",
    "f(a, b)\n",
    "print(a, b)  # a is changed\n",
    "\n",
    "t = (10, 20)\n",
    "u = (30, 40)\n",
    "f(t, u)\n",
    "print(t, u)"
   ]
  },
  {
   "cell_type": "markdown",
   "id": "6fd59284",
   "metadata": {},
   "source": [
    "#### Mutable Types as Parameter Defaults: Bad Idea"
   ]
  },
  {
   "cell_type": "code",
   "execution_count": 2,
   "id": "3ba25ba6",
   "metadata": {},
   "outputs": [],
   "source": [
    "# Example 6-12. A simple class to illustrate the danger of a mutable default\n",
    "\n",
    "class HauntedBus:\n",
    "    \"\"\"A bus model haunted by ghost passengers\"\"\"\n",
    "\n",
    "    def __init__(self, passengers=[]):\n",
    "        self.passengers = passengers\n",
    "\n",
    "    def pick(self, name):\n",
    "        self.passengers.append(name)\n",
    "\n",
    "    def drop(self, name):\n",
    "        self.passengers.remove(name)"
   ]
  },
  {
   "cell_type": "code",
   "execution_count": 3,
   "id": "5667f0ea",
   "metadata": {},
   "outputs": [
    {
     "name": "stdout",
     "output_type": "stream",
     "text": [
      "['Alice', 'Bill']\n",
      "['Bill', 'Charlie']\n",
      "\n",
      "['Carrie']\n",
      "\n",
      "['Carrie']\n",
      "['Carrie', 'Dave']\n",
      "\n",
      "True\n",
      "['Bill', 'Charlie']\n",
      "\n",
      "['__annotations__', '__builtins__', '__call__', '__class__', '__closure__', '__code__', '__defaults__', '__delattr__', '__dict__', '__dir__', '__doc__', '__eq__', '__format__', '__ge__', '__get__', '__getattribute__', '__globals__', '__gt__', '__hash__', '__init__', '__init_subclass__', '__kwdefaults__', '__le__', '__lt__', '__module__', '__name__', '__ne__', '__new__', '__qualname__', '__reduce__', '__reduce_ex__', '__repr__', '__setattr__', '__sizeof__', '__str__', '__subclasshook__']\n",
      "(['Carrie', 'Dave'],)\n",
      "True\n",
      "True\n"
     ]
    }
   ],
   "source": [
    "bus1 = HauntedBus(['Alice', 'Bill'])\n",
    "print(bus1.passengers)\n",
    "bus1.pick('Charlie')\n",
    "bus1.drop('Alice')\n",
    "print(bus1.passengers)  # Works well\n",
    "print()\n",
    "\n",
    "bus2 = HauntedBus()\n",
    "bus2.pick('Carrie')\n",
    "print(bus2.passengers)\n",
    "print()\n",
    "\n",
    "bus3 = HauntedBus()\n",
    "print(bus3.passengers)  # The default is no longer empty!\n",
    "bus3.pick('Dave')\n",
    "print(bus2.passengers)\n",
    "print()\n",
    "\n",
    "print(bus2.passengers is bus3.passengers)\n",
    "print(bus1.passengers)  # bus1.passengers is a distinct list.\n",
    "print()\n",
    "\n",
    "print((dir(HauntedBus.__init__)))\n",
    "print(HauntedBus.__init__.__defaults__)  # it is not empty!\n",
    "print(HauntedBus.__init__.__defaults__[0] is bus2.passengers)\n",
    "print(HauntedBus.__init__.__defaults__[0] is bus3.passengers)"
   ]
  },
  {
   "cell_type": "markdown",
   "id": "5e5ce1ad",
   "metadata": {},
   "source": [
    "#### Defensive Programming with Mutable Parameters"
   ]
  },
  {
   "cell_type": "code",
   "execution_count": 27,
   "id": "7f831a62",
   "metadata": {},
   "outputs": [],
   "source": [
    "# Example 6-15. A simple class to show the perils of mutating received arguments\n",
    "\n",
    "class TwilightBus:\n",
    "    \"\"\"A bus model that makes passengers vanish\"\"\"\n",
    "\n",
    "    def __init__(self, passengers=None):  # None is commonly used for the mutable default\n",
    "        if passengers is None:\n",
    "            self.passengers = []\n",
    "        else:\n",
    "            self.passengers = passengers  # The bus is aliasing the list passed to the constructor\n",
    "                                          \n",
    "\n",
    "    def pick(self, name):\n",
    "        self.passengers.append(name)\n",
    "\n",
    "    def drop(self, name):\n",
    "        self.passengers.remove(name)"
   ]
  },
  {
   "cell_type": "code",
   "execution_count": 28,
   "id": "4d6000de",
   "metadata": {},
   "outputs": [
    {
     "data": {
      "text/plain": [
       "['Sue', 'Maya', 'Diana']"
      ]
     },
     "execution_count": 28,
     "metadata": {},
     "output_type": "execute_result"
    }
   ],
   "source": [
    "basketball_team = ['Sue', 'Tina', 'Maya', 'Diana', 'Pat']\n",
    "bus = TwilightBus(basketball_team)\n",
    "bus.drop('Tina')\n",
    "bus.drop('Pat')\n",
    "basketball_team  # A bus drops Tina and Pat from the team?"
   ]
  },
  {
   "cell_type": "code",
   "execution_count": 6,
   "id": "08dcdafe",
   "metadata": {},
   "outputs": [],
   "source": [
    "# Example 6-15A. A simple class to show the perils of mutating received arguments\n",
    "\n",
    "class TwilightBus_Fixed:\n",
    "    \"\"\"A bus model that makes passengers vanish\"\"\"\n",
    "\n",
    "    def __init__(self, passengers=None):\n",
    "        if passengers is None:\n",
    "            self.passengers = []\n",
    "        else:\n",
    "            self.passengers = list(passengers)  # fixed the aliasing problem\n",
    "                                          \n",
    "\n",
    "    def pick(self, name):\n",
    "        self.passengers.append(name)\n",
    "\n",
    "    def drop(self, name):\n",
    "        self.passengers.remove(name)"
   ]
  },
  {
   "cell_type": "code",
   "execution_count": 8,
   "id": "d06356cc",
   "metadata": {},
   "outputs": [
    {
     "name": "stdout",
     "output_type": "stream",
     "text": [
      "['Sue', 'Maya', 'Diana']\n"
     ]
    },
    {
     "data": {
      "text/plain": [
       "['Sue', 'Tina', 'Maya', 'Diana', 'Pat']"
      ]
     },
     "execution_count": 8,
     "metadata": {},
     "output_type": "execute_result"
    }
   ],
   "source": [
    "basketball_team = ['Sue', 'Tina', 'Maya', 'Diana', 'Pat']\n",
    "bus = TwilightBus_Fixed(basketball_team)\n",
    "bus.drop('Tina')\n",
    "bus.drop('Pat')\n",
    "print(bus.passengers)\n",
    "basketball_team"
   ]
  },
  {
   "cell_type": "markdown",
   "id": "dc67df6c",
   "metadata": {},
   "source": [
    "### del and Garbage Collection"
   ]
  },
  {
   "cell_type": "code",
   "execution_count": 1,
   "id": "4f2f36f8",
   "metadata": {},
   "outputs": [
    {
     "name": "stdout",
     "output_type": "stream",
     "text": [
      "[1, 2]\n"
     ]
    }
   ],
   "source": [
    "a = [1, 2]\n",
    "b = a\n",
    "del a\n",
    "print(b)  # del a does not affect [1, 2] since b still points to it\n",
    "b = [3]  # The last remaining reference to [1, 2] is removed. The garbage collector can discard that object"
   ]
  },
  {
   "cell_type": "code",
   "execution_count": 2,
   "id": "feded96d",
   "metadata": {},
   "outputs": [
    {
     "name": "stdout",
     "output_type": "stream",
     "text": [
      "True\n",
      "True\n",
      "Gone with the wind...\n",
      "False\n"
     ]
    }
   ],
   "source": [
    "# Example 6-16. Watching the end of an object when no more references point to it\n",
    "\n",
    "import weakref\n",
    "\n",
    "s1 = {1, 2, 3}\n",
    "s2 = s1\n",
    "\n",
    "def bye():\n",
    "    print('Gone with the wind...')\n",
    "\n",
    "ender = weakref.finalize(s1, bye)  # Register the bye callback on the object referred by s1.\n",
    "print(ender.alive)\n",
    "del s1  # del did not delete the object, just the s1 reference to it\n",
    "print(ender.alive)\n",
    "s2 = 'spam'\n",
    "print(ender.alive)"
   ]
  },
  {
   "cell_type": "markdown",
   "id": "03f0f1b2",
   "metadata": {},
   "source": [
    "### Tricks Python Plays with Immutables"
   ]
  },
  {
   "cell_type": "code",
   "execution_count": 38,
   "id": "5ac70476",
   "metadata": {},
   "outputs": [
    {
     "name": "stdout",
     "output_type": "stream",
     "text": [
      "True\n",
      "True\n"
     ]
    }
   ],
   "source": [
    "# Example 6-17. A tuple built from another is actually the same exact tuple\n",
    "\n",
    "t1 = (1, 2, 3)\n",
    "t2 = tuple(t1)\n",
    "print(t2 is t1)\n",
    "\n",
    "t3 = t1[:]\n",
    "print(t3 is t1)"
   ]
  },
  {
   "cell_type": "code",
   "execution_count": 39,
   "id": "134d40ac",
   "metadata": {},
   "outputs": [
    {
     "name": "stdout",
     "output_type": "stream",
     "text": [
      "False\n",
      "True\n"
     ]
    }
   ],
   "source": [
    "# Example 6-18. String literals may create shared objects\n",
    "\n",
    "t1 = (1, 2, 3)\n",
    "t3 = (1, 2, 3) \n",
    "print(t3 is t1)\n",
    "\n",
    "s1 = 'ABC'\n",
    "s2 = 'ABC'\n",
    "print(s2 is s1)  # This is a result of an optimization technique called 'interning'"
   ]
  }
 ],
 "metadata": {
  "kernelspec": {
   "display_name": "Python 3",
   "language": "python",
   "name": "python3"
  },
  "language_info": {
   "codemirror_mode": {
    "name": "ipython",
    "version": 3
   },
   "file_extension": ".py",
   "mimetype": "text/x-python",
   "name": "python",
   "nbconvert_exporter": "python",
   "pygments_lexer": "ipython3",
   "version": "3.10.7 (tags/v3.10.7:6cc6b13, Sep  5 2022, 14:08:36) [MSC v.1933 64 bit (AMD64)]"
  },
  "vscode": {
   "interpreter": {
    "hash": "a9e2c7703114bb33d9bb95f9f1c7ade36d0cd0b5dec40cd5c5afcfa9f59c771a"
   }
  }
 },
 "nbformat": 4,
 "nbformat_minor": 5
}
