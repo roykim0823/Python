{
 "cells": [
  {
   "cell_type": "markdown",
   "id": "5a1b85c2",
   "metadata": {},
   "source": [
    "## Chapter 2. An Array of Sequences"
   ]
  },
  {
   "cell_type": "markdown",
   "id": "3a69a01f",
   "metadata": {},
   "source": [
    "### List Comprehensions and Generator Expressions\n",
    "#### List Comprehensions and Readability"
   ]
  },
  {
   "cell_type": "code",
   "execution_count": 16,
   "id": "c356a855",
   "metadata": {},
   "outputs": [
    {
     "data": {
      "text/plain": [
       "[36, 162, 163, 165, 8364, 164]"
      ]
     },
     "execution_count": 16,
     "metadata": {},
     "output_type": "execute_result"
    }
   ],
   "source": [
    "# Example 2-1. Build a list of Unicode codepoints from a string\n",
    "\n",
    "symbols = '$¢£¥€¤'\n",
    "codes = []\n",
    "for symbol in symbols:\n",
    "    codes.append(ord(symbol))\n",
    "codes"
   ]
  },
  {
   "cell_type": "code",
   "execution_count": 17,
   "id": "00edeae2",
   "metadata": {},
   "outputs": [
    {
     "data": {
      "text/plain": [
       "[36, 162, 163, 165, 8364, 164]"
      ]
     },
     "execution_count": 17,
     "metadata": {},
     "output_type": "execute_result"
    }
   ],
   "source": [
    "# Example 2-2. Build a list of Unicode codepoints from a string, take two\n",
    "\n",
    "symbols = '$¢£¥€¤'\n",
    "codes = [ord(symbol) for symbol in symbols]  # more readable than the above for-loop\n",
    "codes"
   ]
  },
  {
   "cell_type": "markdown",
   "id": "627dc0d5",
   "metadata": {},
   "source": [
    "#### Listcomps Versus map and filter"
   ]
  },
  {
   "cell_type": "code",
   "execution_count": 1,
   "id": "496a0516",
   "metadata": {},
   "outputs": [
    {
     "name": "stdout",
     "output_type": "stream",
     "text": [
      "[162, 163, 165, 8364, 164]\n",
      "[162, 163, 165, 8364, 164]\n"
     ]
    }
   ],
   "source": [
    "# Example 2-3. The same list built by a listcomp and a map/filter composition\n",
    "\n",
    "symbols = '$¢£¥€¤'\n",
    "beyond_ascii = [ord(s) for s in symbols if ord(s) > 127]\n",
    "print(beyond_ascii)\n",
    "beyond_ascii = list(filter(lambda c: c > 127, map(ord, symbols)))\n",
    "print(beyond_ascii)"
   ]
  },
  {
   "cell_type": "code",
   "execution_count": 18,
   "id": "9847bf81",
   "metadata": {},
   "outputs": [
    {
     "name": "stdout",
     "output_type": "stream",
     "text": [
      "listcomp        : 0.509 0.522 0.542 0.515 0.514\n",
      "listcomp + func : 0.807 0.839 0.845 0.849 0.853\n",
      "filter + lambda : 0.774 0.774 0.776 0.784 0.782\n",
      "filter + func   : 0.692 0.718 0.725 0.726 0.726\n"
     ]
    }
   ],
   "source": [
    "import timeit\n",
    "\n",
    "TIMES = 1000000\n",
    "\n",
    "SETUP = \"\"\"\n",
    "symbols = '$¢£¥€¤'\n",
    "def non_ascii(c):\n",
    "    return c > 127\n",
    "\"\"\"\n",
    "\n",
    "def clock(label, cmd):\n",
    "    res = timeit.repeat(cmd, setup=SETUP, number=TIMES)\n",
    "    print(label, *('{:.3f}'.format(x) for x in res))\n",
    "\n",
    "clock('listcomp        :', '[ord(s) for s in symbols if ord(s) > 127]')\n",
    "clock('listcomp + func :', '[ord(s) for s in symbols if non_ascii(ord(s))]')\n",
    "clock('filter + lambda :', 'list(filter(lambda c: c > 127, map(ord, symbols)))')\n",
    "clock('filter + func   :', 'list(filter(non_ascii, map(ord, symbols)))')"
   ]
  },
  {
   "cell_type": "markdown",
   "id": "90e50641",
   "metadata": {},
   "source": [
    "#### Cartesian Products"
   ]
  },
  {
   "cell_type": "code",
   "execution_count": 19,
   "id": "5a19e9b8",
   "metadata": {},
   "outputs": [
    {
     "data": {
      "text/plain": [
       "[('black', 'S'),\n",
       " ('black', 'M'),\n",
       " ('black', 'L'),\n",
       " ('white', 'S'),\n",
       " ('white', 'M'),\n",
       " ('white', 'L')]"
      ]
     },
     "execution_count": 19,
     "metadata": {},
     "output_type": "execute_result"
    }
   ],
   "source": [
    "# Example 2-4. Cartesian product using a list comprehension\n",
    "\n",
    "colors = ['black', 'white']\n",
    "sizes = ['S', 'M', 'L']\n",
    "tshirts = [(color, size) for color in colors for size in sizes]\n",
    "tshirts"
   ]
  },
  {
   "cell_type": "code",
   "execution_count": 20,
   "id": "e7849469",
   "metadata": {},
   "outputs": [
    {
     "name": "stdout",
     "output_type": "stream",
     "text": [
      "('black', 'S')\n",
      "('black', 'M')\n",
      "('black', 'L')\n",
      "('white', 'S')\n",
      "('white', 'M')\n",
      "('white', 'L')\n"
     ]
    }
   ],
   "source": [
    "for color in colors:\n",
    "    for size in sizes:\n",
    "        print((color, size))"
   ]
  },
  {
   "cell_type": "code",
   "execution_count": 21,
   "id": "2f89a20f",
   "metadata": {},
   "outputs": [
    {
     "data": {
      "text/plain": [
       "[('black', 'S'),\n",
       " ('black', 'M'),\n",
       " ('black', 'L'),\n",
       " ('white', 'S'),\n",
       " ('white', 'M'),\n",
       " ('white', 'L')]"
      ]
     },
     "execution_count": 21,
     "metadata": {},
     "output_type": "execute_result"
    }
   ],
   "source": [
    "tshirts = [(color, size) for color in colors \n",
    "                         for size in sizes]  # More readable\n",
    "tshirts"
   ]
  },
  {
   "attachments": {},
   "cell_type": "markdown",
   "id": "1b66ff59",
   "metadata": {},
   "source": [
    "#### Generator Expressions\n",
    "\n",
    "To initialize tuples, arrays, and other types of sequences, you could also start from a\n",
    "listcomp, but a genexp (generator expression) saves memory because it yields items\n",
    "one by one using the iterator protocol instead of building a whole list just to feed\n",
    "another constructor.\n"
   ]
  },
  {
   "cell_type": "code",
   "execution_count": 2,
   "id": "36bb15d5",
   "metadata": {},
   "outputs": [
    {
     "data": {
      "text/plain": [
       "(36, 162, 163, 165, 8364, 164)"
      ]
     },
     "execution_count": 2,
     "metadata": {},
     "output_type": "execute_result"
    }
   ],
   "source": [
    "# Example 2-5. Initializing a tuple and an array from a generator expression\n",
    "\n",
    "symbols = '$¢£¥€¤'\n",
    "tuple(ord(symbol) for symbol in symbols)"
   ]
  },
  {
   "cell_type": "code",
   "execution_count": 3,
   "id": "8a9e18fc",
   "metadata": {},
   "outputs": [
    {
     "data": {
      "text/plain": [
       "array('I', [36, 162, 163, 165, 8364, 164])"
      ]
     },
     "execution_count": 3,
     "metadata": {},
     "output_type": "execute_result"
    }
   ],
   "source": [
    "import array\n",
    "array.array('I', (ord(symbol) for symbol in symbols))"
   ]
  },
  {
   "cell_type": "code",
   "execution_count": 4,
   "id": "a73555b2",
   "metadata": {},
   "outputs": [
    {
     "name": "stdout",
     "output_type": "stream",
     "text": [
      "black S\n",
      "black M\n",
      "black L\n",
      "white S\n",
      "white M\n",
      "white L\n"
     ]
    }
   ],
   "source": [
    "# Example 2-6. Cartesian product in a generator expression\n",
    "\n",
    "colors = ['black', 'white']\n",
    "sizes = ['S', 'M', 'L']\n",
    "for tshirt in ('%s %s' % (c, s) for c in colors for s in sizes):  # a list with all six T-shirt is never produced\n",
    "    print(tshirt)"
   ]
  },
  {
   "attachments": {},
   "cell_type": "markdown",
   "id": "f98d8e1a",
   "metadata": {},
   "source": [
    "### Tuples Are Not Just Immutable Lists\n",
    "#### Tuples as Records with no field names"
   ]
  },
  {
   "cell_type": "code",
   "execution_count": 25,
   "id": "c6f4b7a4",
   "metadata": {},
   "outputs": [
    {
     "name": "stdout",
     "output_type": "stream",
     "text": [
      "BRA/CE342567\n",
      "ESP/XDA205856\n",
      "USA/31195855\n"
     ]
    }
   ],
   "source": [
    "# Example 2-7. Tuples used as records\n",
    "\n",
    "lax_coordinates = (33.9425, -118.408056)\n",
    "city, year, pop, chg, area = ('Tokyo', 2003, 32450, 0.66, 8014)\n",
    "traveler_ids = [('USA', '31195855'), ('BRA', 'CE342567'), ('ESP', 'XDA205856')]\n",
    "for passport in sorted(traveler_ids):\n",
    "    print('%s/%s' % passport)"
   ]
  },
  {
   "cell_type": "code",
   "execution_count": 26,
   "id": "fb8b57aa",
   "metadata": {},
   "outputs": [
    {
     "name": "stdout",
     "output_type": "stream",
     "text": [
      "USA\n",
      "BRA\n",
      "ESP\n"
     ]
    }
   ],
   "source": [
    "for country, _ in traveler_ids:  # _ : dummy variable\n",
    "    print(country)"
   ]
  },
  {
   "cell_type": "markdown",
   "id": "0921ba1e",
   "metadata": {},
   "source": [
    "#### Tuples as Immutable Lists"
   ]
  },
  {
   "cell_type": "code",
   "execution_count": 4,
   "id": "9b8c534b",
   "metadata": {},
   "outputs": [
    {
     "name": "stdout",
     "output_type": "stream",
     "text": [
      "True False\n",
      "4375043840 4374849216\n",
      "4375043840 4374849216\n",
      "False False\n",
      "(10, 'alpha', [1, 2, 99])\n"
     ]
    }
   ],
   "source": [
    "a = (10, 'alpha', [1, 2])  # Tuples with mutable items can be a source of bugs.\n",
    "b = (10, 'alpha', [1, 2])\n",
    "print(a == b, a is b)\n",
    "\n",
    "print(id(b[-1]), id(b))\n",
    "b[-1].append(99)\n",
    "print(id(b[-1]), id(b))\n",
    "print(a == b, a is b)\n",
    "print(b)"
   ]
  },
  {
   "cell_type": "code",
   "execution_count": 5,
   "id": "f82d73bd",
   "metadata": {},
   "outputs": [
    {
     "name": "stdout",
     "output_type": "stream",
     "text": [
      "True False\n"
     ]
    }
   ],
   "source": [
    "def fixed(o):\n",
    "    try:\n",
    "        hash(o)  # an object is only hashable if its value cannot ever change (immutable)\n",
    "    except TypeError:\n",
    "        return False\n",
    "    return True\n",
    "\n",
    "tf = (10, 'alpha', (1, 2))  # hashable can be used in the key value in the dict or value in the set\n",
    "tm = (10, 'alpha', [1, 2])\n",
    "print(fixed(tf), fixed(tm))"
   ]
  },
  {
   "cell_type": "markdown",
   "id": "080e18c9",
   "metadata": {},
   "source": [
    "#### Tuple Unpacking"
   ]
  },
  {
   "cell_type": "code",
   "execution_count": 27,
   "id": "eb2d56a0",
   "metadata": {},
   "outputs": [
    {
     "name": "stdout",
     "output_type": "stream",
     "text": [
      "33.9425\n",
      "-118.408056\n"
     ]
    }
   ],
   "source": [
    "latitude, longitude = lax_coordinates # tuple unpacking\n",
    "print(latitude)\n",
    "print(longitude)"
   ]
  },
  {
   "cell_type": "code",
   "execution_count": 28,
   "id": "21e7f3b8",
   "metadata": {},
   "outputs": [
    {
     "data": {
      "text/plain": [
       "(2, 3)"
      ]
     },
     "execution_count": 28,
     "metadata": {},
     "output_type": "execute_result"
    }
   ],
   "source": [
    "a = 3\n",
    "b = 2\n",
    "b, a = a, b  # swap without temporary variable by unpacking\n",
    "a, b"
   ]
  },
  {
   "cell_type": "code",
   "execution_count": 7,
   "id": "75e9f89f",
   "metadata": {},
   "outputs": [
    {
     "name": "stdout",
     "output_type": "stream",
     "text": [
      "(2, 4)\n",
      "(2, 4)\n"
     ]
    },
    {
     "data": {
      "text/plain": [
       "(2, 4)"
      ]
     },
     "execution_count": 7,
     "metadata": {},
     "output_type": "execute_result"
    }
   ],
   "source": [
    "print(divmod(20, 8))\n",
    "t = (20, 8)\n",
    "t = [20, 8]\n",
    "print(divmod(*t))  # unpacking\n",
    "quotient, remainder = divmod(*t)\n",
    "quotient, remainder"
   ]
  },
  {
   "cell_type": "code",
   "execution_count": 4,
   "id": "b1f55161",
   "metadata": {},
   "outputs": [
    {
     "data": {
      "text/plain": [
       "'idrsa.pub'"
      ]
     },
     "execution_count": 4,
     "metadata": {},
     "output_type": "execute_result"
    }
   ],
   "source": [
    "import os\n",
    "_, filename = os.path.split('/home/hjk/.ssh/idrsa.pub')\n",
    "filename"
   ]
  },
  {
   "cell_type": "markdown",
   "id": "bd259a88",
   "metadata": {},
   "source": [
    "#### Using * to grab excess Items"
   ]
  },
  {
   "cell_type": "code",
   "execution_count": 8,
   "id": "4848722a",
   "metadata": {},
   "outputs": [
    {
     "name": "stdout",
     "output_type": "stream",
     "text": [
      "(0, 1, [2, 3, 4])\n",
      "(0, 1, [2])\n",
      "(0, 1, [])\n"
     ]
    }
   ],
   "source": [
    "# Using * to grab excess items in Python3\n",
    "\n",
    "a, b, *rest = range(5)\n",
    "print((a, b, rest))\n",
    "a, b, *rest = range(3)\n",
    "print((a, b, rest))\n",
    "a, b, *rest = range(2)\n",
    "print((a, b, rest))"
   ]
  },
  {
   "cell_type": "code",
   "execution_count": 32,
   "id": "55a6701e",
   "metadata": {},
   "outputs": [
    {
     "name": "stdout",
     "output_type": "stream",
     "text": [
      "(0, [1, 2], 3, 4)\n",
      "([0, 1], 2, 3, 4)\n"
     ]
    }
   ],
   "source": [
    "a, *body, c, d = range(5)\n",
    "print((a, body, c, d))\n",
    "*head, b, c, d = range(5)\n",
    "print((head, b, c, d))"
   ]
  },
  {
   "cell_type": "markdown",
   "id": "a73c2378",
   "metadata": {},
   "source": [
    "#### Unpacking with * in Function Calls and Sequence Literals"
   ]
  },
  {
   "cell_type": "code",
   "execution_count": 9,
   "id": "7fc9e23d",
   "metadata": {},
   "outputs": [
    {
     "name": "stdout",
     "output_type": "stream",
     "text": [
      "(1, 2, 3, 4, (5, 6))\n",
      "\n",
      "(0, 1, 2, 3, 4)\n",
      "[0, 1, 2, 3, 4]\n",
      "{0, 1, 2, 3, 4, 5, 6, 7}\n"
     ]
    }
   ],
   "source": [
    "def fun(a, b, c, d, *rest):\n",
    "    return a, b, c, d, rest\n",
    "\n",
    "print(fun(*[1, 2], 3, *range(4, 7)))\n",
    "print()\n",
    "\n",
    "tuple = *range(4), 4\n",
    "list = [*range(4), 4]\n",
    "set = {*range(4), 4, *(5, 6, 7)}\n",
    "\n",
    "print(tuple)\n",
    "print(list)\n",
    "print(set)"
   ]
  },
  {
   "cell_type": "markdown",
   "id": "73075cc5",
   "metadata": {},
   "source": [
    "#### Nested Tuple Unpacking"
   ]
  },
  {
   "cell_type": "code",
   "execution_count": 5,
   "id": "d89294d9",
   "metadata": {},
   "outputs": [
    {
     "name": "stdout",
     "output_type": "stream",
     "text": [
      "                |   lat.    |   long.  \n",
      "Mexico City     |   19.4333 |  -99.1333\n",
      "New York-Newark |   40.8086 |  -74.0204\n",
      "Sao Paulo       |  -23.5478 |  -46.6358\n"
     ]
    }
   ],
   "source": [
    "# Example 2-8. Unpacking nested tuples to access the longitude\n",
    "metro_areas = [\n",
    "    ('Tokyo', 'JP', 36.933, (35.689722, 139.691667)),\n",
    "    ('Delhi NCR', 'IN', 21.935, (28.613889, 77.208889)),\n",
    "    ('Mexico City', 'MX', 20.142, (19.433333, -99.133333)),\n",
    "    ('New York-Newark', 'US', 20.104, (40.808611, -74.020386)),\n",
    "    ('Sao Paulo', 'BR', 19.649, (-23.547778, -46.635833)),\n",
    "]\n",
    "\n",
    "print('{:15} | {:^9} | {:^9}'.format('', 'lat.', 'long.'))\n",
    "fmt = '{:15} | {:9.4f} | {:9.4f}'\n",
    "\n",
    "for name, cc, pop, (latitude, longitude) in metro_areas:\n",
    "    if longitude <= 0:\n",
    "        print(fmt.format(name, latitude, longitude))"
   ]
  },
  {
   "cell_type": "markdown",
   "id": "c561693e",
   "metadata": {},
   "source": [
    "### Pattern Matching with Sequences"
   ]
  },
  {
   "cell_type": "code",
   "execution_count": 8,
   "id": "c91980f8",
   "metadata": {},
   "outputs": [],
   "source": [
    "# Example 2-9. Method from an imaginary Robot class\n",
    "\n",
    "def handle_command(self, message):\n",
    "    match message:\n",
    "        case ['BEEPER', frequency, times]:\n",
    "            self.beep(times, frequency)\n",
    "        case ['NECK', angle]:\n",
    "            self.rotate_neck(angle)\n",
    "        case ['LED', ident, intensity]:\n",
    "            self.leds[ident].set_brightness(ident, intensity)\n",
    "        case ['LED', ident, red, green, blue]:\n",
    "            self.leds[ident].set_color(ident, red, green, blue)\n",
    "        case _:\n",
    "            raise InvalidCommand(message)\n"
   ]
  },
  {
   "cell_type": "code",
   "execution_count": 11,
   "id": "d5573a63",
   "metadata": {},
   "outputs": [
    {
     "name": "stdout",
     "output_type": "stream",
     "text": [
      "                |  latitude | longitude\n",
      "Mexico City     |   19.4333 |  -99.1333\n",
      "New York-Newark |   40.8086 |  -74.0204\n",
      "São Paulo       |  -23.5478 |  -46.6358\n"
     ]
    }
   ],
   "source": [
    "# Example 2-10. Destructuring nested tuples—requires Python ≥ 3.10\n",
    "\n",
    "metro_areas = [\n",
    "    ('Tokyo', 'JP', 36.933, (35.689722, 139.691667)),  # <1>\n",
    "    ('Delhi NCR', 'IN', 21.935, (28.613889, 77.208889)),\n",
    "    ('Mexico City', 'MX', 20.142, (19.433333, -99.133333)),\n",
    "    ('New York-Newark', 'US', 20.104, (40.808611, -74.020386)),\n",
    "    ('São Paulo', 'BR', 19.649, (-23.547778, -46.635833)),\n",
    "]\n",
    "\n",
    "def main():\n",
    "    print(f'{\"\":15} | {\"latitude\":>9} | {\"longitude\":>9}')\n",
    "    for record in metro_areas:\n",
    "        match record:  # <1>\n",
    "            # case [name, _, _, (lat, lon)] if lon <= 0:  # <2>\n",
    "            case (name, _, _, (lat, lon)) if lon <= 0:  # <2>  no diff with \"( )\" instead of \"[ ]\"\n",
    "                print(f'{name:15} | {lat:9.4f} | {lon:9.4f}')\n",
    "\n",
    "if __name__ == '__main__':\n",
    "    main()"
   ]
  },
  {
   "cell_type": "markdown",
   "id": "e7b4b6b9",
   "metadata": {},
   "source": [
    "### Slicing\n",
    "#### Why Slices and Range Exclude the Last Item"
   ]
  },
  {
   "cell_type": "code",
   "execution_count": 13,
   "id": "fa102ee3",
   "metadata": {},
   "outputs": [
    {
     "name": "stdout",
     "output_type": "stream",
     "text": [
      "[10, 20]\n",
      "[30, 40, 50, 60]\n",
      "[10, 20, 30]\n",
      "[40, 50, 60]\n"
     ]
    }
   ],
   "source": [
    "l = [10, 20, 30, 40, 50, 60]\n",
    "print(l[:2])\n",
    "print(l[2:])\n",
    "print(l[:3])\n",
    "print(l[3:])"
   ]
  },
  {
   "cell_type": "markdown",
   "id": "59ba44fd",
   "metadata": {},
   "source": [
    "#### Slice Objects"
   ]
  },
  {
   "cell_type": "code",
   "execution_count": 14,
   "id": "240a81cb",
   "metadata": {},
   "outputs": [
    {
     "name": "stdout",
     "output_type": "stream",
     "text": [
      "bye\n",
      "elcycib\n",
      "eccb\n"
     ]
    }
   ],
   "source": [
    "s = 'bicycle'\n",
    "print(s[::3])\n",
    "print(s[::-1])\n",
    "print(s[::-2])"
   ]
  },
  {
   "cell_type": "code",
   "execution_count": 19,
   "id": "24ff1fc7",
   "metadata": {},
   "outputs": [
    {
     "name": "stdout",
     "output_type": "stream",
     "text": [
      "    $17.50   Pimoroni PiBrella                 \n",
      "     $4.95   6mm Tactile Switch x20            \n",
      "    $28.00   Panavise Jr. - PV-201             \n",
      "    $34.95   PiTFT Mini Kit 320x240            \n",
      " \n"
     ]
    }
   ],
   "source": [
    "# Example 2-11. Line items from a flat-file invoice\n",
    "invoice = \"\"\"\n",
    "0.....6.................................40........52...55........\n",
    "1909  Pimoroni PiBrella                     $17.50    3    $52.50\n",
    "1489  6mm Tactile Switch x20                 $4.95    2     $9.90\n",
    "1510  Panavise Jr. - PV-201                 $28.00    1    $28.00\n",
    "1601  PiTFT Mini Kit 320x240                $34.95    1    $34.95\n",
    "\"\"\"\n",
    "\n",
    "SKU = slice(0, 6)\n",
    "DESCRIPTION = slice(6, 40)\n",
    "UNIT_PRICE = slice(40, 52)\n",
    "QUANTITY = slice(52, 55)\n",
    "ITEM_TOTAL = slice(55, None)\n",
    "line_items = invoice.split('\\n')[2:]\n",
    "\n",
    "for item in line_items:\n",
    "    print(item[UNIT_PRICE], item[DESCRIPTION])"
   ]
  },
  {
   "cell_type": "markdown",
   "id": "f1259ac1",
   "metadata": {},
   "source": [
    "#### Assigning to Slices"
   ]
  },
  {
   "cell_type": "code",
   "execution_count": 22,
   "id": "4c658539",
   "metadata": {},
   "outputs": [
    {
     "name": "stdout",
     "output_type": "stream",
     "text": [
      "[0, 1, 2, 3, 4, 5, 6, 7, 8, 9]\n",
      "[0, 1, 20, 30, 5, 6, 7, 8, 9]\n",
      "[0, 1, 20, 30, 5, 8, 9]\n",
      "[0, 1, 20, 11, 5, 22, 9]\n",
      "[0, 1, 100, 22, 9]\n"
     ]
    }
   ],
   "source": [
    "l = list(range(10))\n",
    "print(l)\n",
    "\n",
    "l[2:5] = [20, 30]  # 4 is deleted\n",
    "print(l)\n",
    "\n",
    "del l[5:7]\n",
    "print(l)\n",
    "\n",
    "l[3::2] = [11, 22]\n",
    "print(l)\n",
    "\n",
    "# l[2:5] = 100  # TypeError\n",
    "\n",
    "l[2:5] = [100]  # 11, 5 are deleted\n",
    "print(l)"
   ]
  },
  {
   "cell_type": "markdown",
   "id": "2eda774a",
   "metadata": {},
   "source": [
    "### Using + and * with Sequences"
   ]
  },
  {
   "cell_type": "code",
   "execution_count": 1,
   "id": "90ff4f3c",
   "metadata": {},
   "outputs": [
    {
     "name": "stdout",
     "output_type": "stream",
     "text": [
      "[1, 2, 3, 1, 2, 3, 1, 2, 3, 1, 2, 3, 1, 2, 3]\n",
      "abcdabcdabcdabcdabcd\n"
     ]
    }
   ],
   "source": [
    "l = [1, 2, 3]\n",
    "print(l * 5)\n",
    "\n",
    "print(5 * 'abcd')"
   ]
  },
  {
   "cell_type": "code",
   "execution_count": 3,
   "id": "edbe6634",
   "metadata": {},
   "outputs": [
    {
     "name": "stdout",
     "output_type": "stream",
     "text": [
      "[[1, 2, 3], [1, 2, 3], [1, 2, 3]]\n",
      "[[1, 4, 3], [1, 4, 3], [1, 4, 3]]\n",
      "[[10, 4, 3], [10, 4, 3], [10, 4, 3]]\n"
     ]
    }
   ],
   "source": [
    "# Beware of expressions like a * n when a is a sequence containing \"mutable\" items\n",
    "\n",
    "a = [1, 2, 3]\n",
    "b = [a]\n",
    "\n",
    "d = b * 3\n",
    "print(d)\n",
    "\n",
    "a[1] = 4  # all 2 -> 4\n",
    "print(d)  \n",
    "\n",
    "b[0][0] = 10  # all 1 -> 10\n",
    "print(d)  "
   ]
  },
  {
   "cell_type": "markdown",
   "id": "de3438d0",
   "metadata": {},
   "source": [
    "#### Building Lists of Lists"
   ]
  },
  {
   "cell_type": "code",
   "execution_count": 8,
   "id": "2851bd3f",
   "metadata": {},
   "outputs": [
    {
     "name": "stdout",
     "output_type": "stream",
     "text": [
      "[['_', '_', '_'], ['_', '_', '_'], ['_', '_', '_']]\n",
      "[['_', '_', '_'], ['_', '_', 'X'], ['_', '_', '_']]\n",
      "[['_', '_', '_'], ['_', '_', '_'], ['X', '_', '_']]\n"
     ]
    }
   ],
   "source": [
    "# Example 2-14. A list with three lists of length 3 can represent a tic-tac-toe board\n",
    "\n",
    "board = [['_'] * 3 for i in range(3)]\n",
    "print(board)\n",
    "board[1][2] = 'X'\n",
    "print(board)\n",
    "\n",
    "board = []\n",
    "for i in range(3):\n",
    "    row = ['_'] * 3  # new row in each iteration\n",
    "    board.append(row)\n",
    "board[2][0] = 'X'\n",
    "print(board)\n",
    "# print(id(board[2][0]), id(board[2][1]), id(board[2][2]))"
   ]
  },
  {
   "cell_type": "code",
   "execution_count": 5,
   "id": "18cbe20e",
   "metadata": {},
   "outputs": [
    {
     "name": "stdout",
     "output_type": "stream",
     "text": [
      "[['_', '_', '_'], ['_', '_', '_'], ['_', '_', '_']]\n",
      "[['_', '_', 'O'], ['_', '_', 'O'], ['_', '_', 'O']]\n",
      "2094280190128 2094280190128\n",
      "[['X', '_', '_'], ['X', '_', '_'], ['X', '_', '_']]\n"
     ]
    }
   ],
   "source": [
    "# Example 2-15. A list with three references to the same list is useless\n",
    "\n",
    "weird_board = [['_'] * 3] * 3  # The outer list is made of three references to the same inner list.\n",
    "print(weird_board)\n",
    "weird_board[1][2] = 'O'\n",
    "print(weird_board)\n",
    "\n",
    "row = ['_'] * 3\n",
    "board = []\n",
    "for i in range(3):\n",
    "    board.append(row)  # the same row in each iteration\n",
    "board[2][0] = 'X'\n",
    "print(board)"
   ]
  },
  {
   "cell_type": "markdown",
   "id": "fdbe5815",
   "metadata": {},
   "source": [
    "### Augmented Assignment with Sequences"
   ]
  },
  {
   "cell_type": "code",
   "execution_count": 33,
   "id": "5d0b2ff1",
   "metadata": {},
   "outputs": [
    {
     "name": "stdout",
     "output_type": "stream",
     "text": [
      "2273112586432\n",
      "[1, 2, 3, 1, 2, 3]\n",
      "2273112586432\n",
      "\n",
      "2273112846208\n",
      "2273112818688\n"
     ]
    }
   ],
   "source": [
    "l = [1, 2, 3]\n",
    "print(id(l))\n",
    "\n",
    "l *= 2\n",
    "print(l)\n",
    "print(id(l))  # same id, items are appended\n",
    "print()\n",
    "\n",
    "t = (1, 2, 3)\n",
    "print(id(t))\n",
    "\n",
    "t *= 2\n",
    "print(id(t))  # id(t) is different from the above"
   ]
  },
  {
   "cell_type": "markdown",
   "id": "38d992e1",
   "metadata": {},
   "source": [
    "### A += Assignment Puzzler"
   ]
  },
  {
   "cell_type": "code",
   "execution_count": 10,
   "id": "33074737",
   "metadata": {},
   "outputs": [],
   "source": [
    "# Example 2-14. A riddle\n",
    "t = (1, 2, [30, 40])\n",
    "# t[2] += [50, 60]  # error since it tries to assign new list\n",
    "t[2].extend([50, 60])  # same operation without the exception"
   ]
  },
  {
   "cell_type": "code",
   "execution_count": 42,
   "id": "203699f6",
   "metadata": {},
   "outputs": [
    {
     "data": {
      "text/plain": [
       "(1, 2, [30, 40, 50, 60])"
      ]
     },
     "execution_count": 42,
     "metadata": {},
     "output_type": "execute_result"
    }
   ],
   "source": [
    "t  # [50, 60] is added to t[2] even with the TypeError exception"
   ]
  },
  {
   "cell_type": "markdown",
   "id": "ef0cb7b1",
   "metadata": {},
   "source": [
    "### list.sort and the sorted Built-In Function"
   ]
  },
  {
   "cell_type": "code",
   "execution_count": 44,
   "id": "84b6d27e",
   "metadata": {},
   "outputs": [
    {
     "name": "stdout",
     "output_type": "stream",
     "text": [
      "['grape', 'raspberry', 'apple', 'banana']\n",
      "['apple', 'banana', 'grape', 'raspberry']\n",
      "['grape', 'raspberry', 'apple', 'banana']\n",
      "['raspberry', 'grape', 'banana', 'apple']\n",
      "['grape', 'apple', 'banana', 'raspberry']\n",
      "['raspberry', 'banana', 'grape', 'apple']\n",
      "['grape', 'raspberry', 'apple', 'banana']\n",
      "['apple', 'banana', 'grape', 'raspberry']\n"
     ]
    }
   ],
   "source": [
    "fruits = ['grape', 'raspberry', 'apple', 'banana']\n",
    "print(fruits)\n",
    "print(sorted(fruits))\n",
    "print(fruits)  # not changed\n",
    "print(sorted(fruits, reverse=True))\n",
    "print(sorted(fruits, key=len))\n",
    "print(sorted(fruits, key=len, reverse=True))\n",
    "print(fruits)  # not changed\n",
    "fruits.sort()\n",
    "print(fruits)  # changed"
   ]
  },
  {
   "cell_type": "markdown",
   "id": "a7842755",
   "metadata": {},
   "source": [
    "### Managin Ordered Sequences with bisect\n",
    "#### Searching with bisect"
   ]
  },
  {
   "cell_type": "code",
   "execution_count": 73,
   "id": "2efef8d5",
   "metadata": {},
   "outputs": [
    {
     "name": "stdout",
     "output_type": "stream",
     "text": [
      "DEMO: bisect_right\n",
      "haystack ->  1  4  5  6  8 12 15 20 21 23 23 26 29 30\n",
      "31 @ 14      |  |  |  |  |  |  |  |  |  |  |  |  |  |31\n",
      "30 @ 14      |  |  |  |  |  |  |  |  |  |  |  |  |  |30\n",
      "29 @ 13      |  |  |  |  |  |  |  |  |  |  |  |  |29\n",
      "23 @ 11      |  |  |  |  |  |  |  |  |  |  |23\n",
      "22 @  9      |  |  |  |  |  |  |  |  |22\n",
      "10 @  5      |  |  |  |  |10\n",
      " 8 @  5      |  |  |  |  |8 \n",
      " 5 @  3      |  |  |5 \n",
      " 2 @  1      |2 \n",
      " 1 @  1      |1 \n",
      " 0 @  0    0 \n"
     ]
    }
   ],
   "source": [
    "# Example 2-17. bisect finds insertion points for items in a sorted sequence\n",
    "\n",
    "import bisect\n",
    "import sys\n",
    "\n",
    "HAYSTACK = [1, 4, 5, 6, 8, 12, 15, 20, 21, 23, 23, 26, 29, 30]\n",
    "NEEDLES = [0, 1, 2, 5, 8, 10, 22, 23, 29, 30, 31]\n",
    "\n",
    "ROW_FMT = '{0:2d} @ {1:2d}    {2}{0:<2d}'\n",
    "\n",
    "def demo(bisect_fn):\n",
    "    for needle in reversed(NEEDLES):\n",
    "        position = bisect_fn(HAYSTACK, needle)  # <1>\n",
    "        offset = position * '  |'  # <2>\n",
    "        print(ROW_FMT.format(needle, position, offset))  # <3>\n",
    "\n",
    "if __name__ == '__main__':\n",
    "\n",
    "    if sys.argv[-1] == 'left':    # <4>\n",
    "        bisect_fn = bisect.bisect_left\n",
    "    else:\n",
    "        bisect_fn = bisect.bisect\n",
    "\n",
    "    print('DEMO:', bisect_fn.__name__)  # <5>\n",
    "    print('haystack ->', ' '.join('%2d' % n for n in HAYSTACK))\n",
    "    demo(bisect_fn)"
   ]
  },
  {
   "cell_type": "code",
   "execution_count": 74,
   "id": "67344bb5",
   "metadata": {},
   "outputs": [
    {
     "data": {
      "text/plain": [
       "['F', 'A', 'C', 'C', 'B', 'A', 'A']"
      ]
     },
     "execution_count": 74,
     "metadata": {},
     "output_type": "execute_result"
    }
   ],
   "source": [
    "# Given a test score, grade returns the corresponding letter grade\n",
    "def grade(score, breakpoints=[60, 70, 80, 90], grades='FDCBA'):\n",
    "    i = bisect.bisect(breakpoints, score)\n",
    "    return grades[i]\n",
    "\n",
    "[grade(score) for score in [33, 99, 77, 70, 89, 90, 100]]"
   ]
  },
  {
   "cell_type": "markdown",
   "id": "748db8ab",
   "metadata": {},
   "source": [
    "#### Inserting with bisect.insort"
   ]
  },
  {
   "cell_type": "code",
   "execution_count": 75,
   "id": "141ca49c",
   "metadata": {},
   "outputs": [
    {
     "name": "stdout",
     "output_type": "stream",
     "text": [
      "10 -> [10]\n",
      " 0 -> [0, 10]\n",
      " 6 -> [0, 6, 10]\n",
      " 8 -> [0, 6, 8, 10]\n",
      " 7 -> [0, 6, 7, 8, 10]\n",
      " 2 -> [0, 2, 6, 7, 8, 10]\n",
      "10 -> [0, 2, 6, 7, 8, 10, 10]\n"
     ]
    }
   ],
   "source": [
    "#  Insort keeps a sorted sequence always sorted\n",
    "\n",
    "import bisect\n",
    "import random\n",
    "\n",
    "SIZE = 7\n",
    "\n",
    "random.seed(1729)\n",
    "\n",
    "my_list = []\n",
    "for i in range(SIZE):\n",
    "    new_item = random.randrange(SIZE*2)\n",
    "    bisect.insort(my_list, new_item)\n",
    "    print('%2d ->' % new_item, my_list)"
   ]
  },
  {
   "cell_type": "markdown",
   "id": "0cac96d4",
   "metadata": {},
   "source": [
    "### When a List Is Not the Answer\n",
    "#### Arrays"
   ]
  },
  {
   "cell_type": "code",
   "execution_count": 1,
   "id": "0c6e53a3",
   "metadata": {},
   "outputs": [
    {
     "name": "stdout",
     "output_type": "stream",
     "text": [
      "0.9824560834335367\n",
      "0.9824560834335367\n",
      "True\n",
      "array('d', [0.6378163349112206, 0.7533430177985135, 0.5106393937430881, 0.6962047547325638, 0.8405665202291518, 0.8153172958729039, 0.966724031581811, 0.2435310007823125, 0.2336750638102738, 0.6908547129621364, 0.4994314235281089, 0.9195040025773801, 0.7275941173249403, 0.6518308766097499, 0.06647998072268169, 0.9394147786398322, 0.5502924000969193, 0.8550257137334796, 0.9460007781304922, 0.32349554397190816, 0.12916565483467168, 0.7447104408643618, 0.9218652339180727, 0.6412653445699467, 0.8532519968360633, 0.48707118995081977, 0.36983461017648256, 0.17721978539710093, 0.6044593661887099, 0.7386615321144616, 0.09652748963042668, 0.4798672764196027, 0.8051676313191761, 0.0013453785583888989, 0.89490240981802, 0.32766458857233205, 0.43681729073565234, 0.24949500752099363, 0.41589030739163724, 0.22093437585345854, 0.8589947934341857, 0.3826215596650788, 0.1660245207977531, 0.23503436942492928, 0.619821345509197, 0.8653200897349237, 0.5128417862902833, 0.5782355064354024, 0.05737987467459105, 0.5176450142470416, 0.18004293064842647, 0.9245834413260304, 0.947781810898072, 0.581899313655186, 0.11575727073495767, 0.34169928118979387, 0.9921357458538405, 0.7322218888987864, 0.011236739462840872, 0.1116245387523922, 0.17558081842511308, 0.6821036777153383, 0.18951165619296906, 0.5379961670232942, 0.31944909173006975, 0.49281042969860145, 0.3828507415857332, 0.6308378032443273, 0.8522761440117415, 0.8593849359287136, 0.5201198620920323, 0.43257639775267576, 0.17608615505528902, 0.29065717173894234, 0.2059965110034977, 0.7665522338635122, 0.5039640267648565, 0.2755035190276627, 0.49009410966492495, 0.788028258622702, 0.05727702432793902, 0.2671071308048937, 0.4739101143227289, 0.46310480089631756, 0.7618427322312413, 0.6464584496834324, 0.6985285960621949, 0.9897534886940941, 0.06596633830624776, 0.4378622079250243, 0.14873638380145127, 0.012807299636128922, 0.8826736280497358, 0.5600246301768875, 0.2813006679138461, 0.44963836664148094, 0.6225686381695912, 0.7563952725981435, 0.5139056281197616, 0.8241717880449752])\n"
     ]
    }
   ],
   "source": [
    "# Example 2-19. Creating, saving, and loading a large array of floats\n",
    "\n",
    "from array import array\n",
    "from random import random\n",
    "\n",
    "floats = array('d', (random() for i in range(10**7)))\n",
    "print(floats[-1])\n",
    "\n",
    "fp = open('floats.bin', 'wb')\n",
    "floats.tofile(fp)\n",
    "fp.close()\n",
    "\n",
    "floats2 = array('d')\n",
    "fp = open('floats.bin', 'rb')\n",
    "floats2.fromfile(fp, 10**7)\n",
    "fp.close()\n",
    "print(floats2[-1])\n",
    "print(floats2 == floats)"
   ]
  },
  {
   "cell_type": "code",
   "execution_count": 4,
   "id": "d02688f8",
   "metadata": {},
   "outputs": [
    {
     "name": "stdout",
     "output_type": "stream",
     "text": [
      "array('B', [1, 1, 2, 3])\n",
      "20000100000000000000000000000000000\n"
     ]
    }
   ],
   "source": [
    "t = array('B', [1, 1, 2, 3])  # 'B' unsigned char\n",
    "print(t)\n",
    "\n",
    "# An integer number (object) has unlimited bound in Python\n",
    "a = 100000000000000000000000000000 + 20000000000000000000000000000000000\n",
    "print(a)"
   ]
  },
  {
   "cell_type": "markdown",
   "id": "499d2d2b",
   "metadata": {},
   "source": [
    "#### Memory Views"
   ]
  },
  {
   "cell_type": "code",
   "execution_count": 14,
   "id": "877573ac",
   "metadata": {},
   "outputs": [
    {
     "name": "stdout",
     "output_type": "stream",
     "text": [
      "[0, 1, 2, 3, 4, 5]\n",
      "[[0, 1, 2], [3, 4, 5]]\n",
      "[[0, 1], [2, 3], [4, 5]]\n",
      "array('B', [0, 1, 2, 33, 22, 5])\n"
     ]
    }
   ],
   "source": [
    "# Example 2-20. Handling 6 bytes of memory as 1×6, 2×3, and 3×2 views\n",
    "\n",
    "from array import array\n",
    "octets = array('B', range(6))\n",
    "m1 = memoryview(octets)\n",
    "print(m1.tolist())\n",
    "\n",
    "m2 = m1.cast('B', [2, 3])\n",
    "print(m2.tolist())\n",
    "\n",
    "m3 = m1.cast('B', [3, 2])\n",
    "print(m3.tolist())\n",
    "\n",
    "m2[1, 1] = 22\n",
    "m3[1, 1] = 33\n",
    "print(octets)"
   ]
  },
  {
   "cell_type": "code",
   "execution_count": 78,
   "id": "6d7a851a",
   "metadata": {},
   "outputs": [
    {
     "name": "stdout",
     "output_type": "stream",
     "text": [
      "5\n",
      "-2\n",
      "[254, 255, 255, 255, 0, 0, 1, 0, 2, 0]\n",
      "array('h', [-2, -1, 1024, 1, 2])\n"
     ]
    }
   ],
   "source": [
    "# Example 2-21. Changing the value of an array item by poking one of its bytes\n",
    "import array\n",
    "\n",
    "numbers = array.array('h', [-2, -1, 0, 1, 2])  # 16 bit (half)\n",
    "memv = memoryview(numbers)\n",
    "print(len(memv))\n",
    "print(memv[0])\n",
    "\n",
    "memv_oct = memv.cast('B')  # 'B' unsigned char\n",
    "print(memv_oct.tolist())\n",
    "memv_oct[5] = 4\n",
    "print(numbers)"
   ]
  },
  {
   "cell_type": "markdown",
   "id": "be1289bf",
   "metadata": {},
   "source": [
    "#### NumPy and SciPy"
   ]
  },
  {
   "cell_type": "code",
   "execution_count": 3,
   "id": "ebc82148",
   "metadata": {},
   "outputs": [
    {
     "name": "stdout",
     "output_type": "stream",
     "text": [
      "[ 0  1  2  3  4  5  6  7  8  9 10 11]\n",
      "<class 'numpy.ndarray'>\n",
      "(12,)\n",
      "[[ 0  1  2  3]\n",
      " [ 4  5  6  7]\n",
      " [ 8  9 10 11]]\n",
      "[ 8  9 10 11]\n",
      "9\n",
      "[1 5 9]\n",
      "[[ 0  4  8]\n",
      " [ 1  5  9]\n",
      " [ 2  6 10]\n",
      " [ 3  7 11]]\n"
     ]
    }
   ],
   "source": [
    "# Example 2-22. Basic operations with rows and columns in a numpy.ndarray\n",
    "\n",
    "import numpy\n",
    "\n",
    "a = numpy.arange(12)\n",
    "print(a)\n",
    "print(type(a))\n",
    "print(a.shape)\n",
    "\n",
    "a.shape = 3, 4\n",
    "print(a)\n",
    "print(a[2])\n",
    "print(a[2, 1])\n",
    "print(a[:, 1])\n",
    "print(a.transpose())"
   ]
  },
  {
   "cell_type": "markdown",
   "id": "9801924c",
   "metadata": {},
   "source": [
    "#### Deques and Other Queues"
   ]
  },
  {
   "cell_type": "code",
   "execution_count": 4,
   "id": "43ea8e15",
   "metadata": {},
   "outputs": [
    {
     "name": "stdout",
     "output_type": "stream",
     "text": [
      "deque([0, 1, 2, 3, 4, 5, 6, 7, 8, 9], maxlen=10)\n",
      "deque([7, 8, 9, 0, 1, 2, 3, 4, 5, 6], maxlen=10)\n",
      "deque([1, 2, 3, 4, 5, 6, 7, 8, 9, 0], maxlen=10)\n",
      "deque([-1, 1, 2, 3, 4, 5, 6, 7, 8, 9], maxlen=10)\n",
      "deque([3, 4, 5, 6, 7, 8, 9, 11, 22, 33], maxlen=10)\n",
      "deque([40, 30, 20, 10, 3, 4, 5, 6, 7, 8], maxlen=10)\n"
     ]
    }
   ],
   "source": [
    "# Example 2-23. Working with a deque\n",
    "from collections import deque\n",
    "\n",
    "dq = deque(range(10), maxlen=10)\n",
    "print(dq)\n",
    "\n",
    "dq.rotate(3)\n",
    "print(dq)\n",
    "\n",
    "dq.rotate(-4)\n",
    "print(dq)\n",
    "\n",
    "dq.appendleft(-1)\n",
    "print(dq)\n",
    "\n",
    "dq.extend([11, 22, 33])\n",
    "print(dq)\n",
    "\n",
    "dq.extendleft([10, 20, 30, 40])\n",
    "print(dq)"
   ]
  }
 ],
 "metadata": {
  "kernelspec": {
   "display_name": "Python 3",
   "language": "python",
   "name": "python3"
  },
  "language_info": {
   "codemirror_mode": {
    "name": "ipython",
    "version": 3
   },
   "file_extension": ".py",
   "mimetype": "text/x-python",
   "name": "python",
   "nbconvert_exporter": "python",
   "pygments_lexer": "ipython3",
   "version": "3.10.7 (tags/v3.10.7:6cc6b13, Sep  5 2022, 14:08:36) [MSC v.1933 64 bit (AMD64)]"
  },
  "vscode": {
   "interpreter": {
    "hash": "a9e2c7703114bb33d9bb95f9f1c7ade36d0cd0b5dec40cd5c5afcfa9f59c771a"
   }
  }
 },
 "nbformat": 4,
 "nbformat_minor": 5
}
