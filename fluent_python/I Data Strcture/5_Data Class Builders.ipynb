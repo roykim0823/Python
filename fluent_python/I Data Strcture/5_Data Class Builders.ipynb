{
 "cells": [
  {
   "attachments": {},
   "cell_type": "markdown",
   "id": "f457112f",
   "metadata": {},
   "source": [
    "## Chapter 5. Data Class Builders\n",
    "\n",
    "- collections.namedtuple: the simplest way since v2.6\n",
    "- typing.NamedTuple: An alternative that requires type hints on the fields since v3.5\n",
    "- @dataclasses.dataclass: A class decorator that allows more customization than previous alternatives since v3.7"
   ]
  },
  {
   "cell_type": "code",
   "execution_count": 1,
   "id": "02d7aa71",
   "metadata": {},
   "outputs": [],
   "source": [
    "# Example 5-1. class/coordinates.py\n",
    "\n",
    "class Coordinate:\n",
    "    def __init__(self, lat, lon):\n",
    "        self.lat = lat\n",
    "        self.lon = lon"
   ]
  },
  {
   "cell_type": "code",
   "execution_count": 2,
   "id": "32d12a7c",
   "metadata": {},
   "outputs": [
    {
     "name": "stdout",
     "output_type": "stream",
     "text": [
      "<__main__.Coordinate object at 0x000002B4D1301330>\n",
      "False\n",
      "True\n"
     ]
    }
   ],
   "source": [
    "moscow = Coordinate(55.76, 37.62)\n",
    "print(moscow)  # Bad representation!\n",
    "location = Coordinate(55.76, 37.62)\n",
    "print(location == moscow)  # False!\n",
    "print((location.lat, location.lon) == (moscow.lat, moscow.lon))"
   ]
  },
  {
   "cell_type": "code",
   "execution_count": 3,
   "id": "1b223d2e",
   "metadata": {},
   "outputs": [
    {
     "name": "stdout",
     "output_type": "stream",
     "text": [
      "True\n",
      "Coordinate(lat=55.756, lon=37.617)\n",
      "True\n"
     ]
    }
   ],
   "source": [
    "from collections import namedtuple\n",
    "\n",
    "Coordinate = namedtuple('Coordinate', 'lat lon')\n",
    "print(issubclass(Coordinate, tuple))\n",
    "moscow = Coordinate(55.756, 37.617)\n",
    "print(moscow)  # Useful __repr__\n",
    "print(moscow == Coordinate(lat=55.756, lon=37.617))  # Meaningful __eq__"
   ]
  },
  {
   "cell_type": "code",
   "execution_count": 4,
   "id": "0a0ff801",
   "metadata": {},
   "outputs": [
    {
     "name": "stdout",
     "output_type": "stream",
     "text": [
      "True\n",
      "{'lat': <class 'float'>, 'lon': <class 'float'>}\n",
      "Coordinate(lat=55.756, lon=37.617)\n",
      "True\n"
     ]
    }
   ],
   "source": [
    "import typing\n",
    "\n",
    "# newer typing.NamedTuple adds a type annotation to each field\n",
    "Coordinate = typing.NamedTuple('Coordinate', [('lat', float), ('lon', float)])\n",
    "# Coordinate = typing.NamedTuple('Coordinate', lat=float, lon=float)\n",
    "\n",
    "print(issubclass(Coordinate, tuple))\n",
    "print(typing.get_type_hints(Coordinate))\n",
    "moscow = Coordinate(55.756, 37.617)\n",
    "print(moscow)\n",
    "print(moscow == Coordinate(lat=55.756, lon=37.617))"
   ]
  },
  {
   "cell_type": "code",
   "execution_count": 5,
   "id": "a4af517e",
   "metadata": {},
   "outputs": [],
   "source": [
    "# Example 5-2. typing_namedtuple/coordinates.py\n",
    "\n",
    "from typing import NamedTuple\n",
    "\n",
    "class Coordinate(NamedTuple):  # not class inheritance -> it is metaclass\n",
    "    lat: float\n",
    "    lon: float\n",
    "\n",
    "    def __str__(self):\n",
    "        ns = 'N' if self.lat >= 0 else 'S'\n",
    "        we = 'E' if self.lon >= 0 else 'W'\n",
    "        return f'{abs(self.lat):.1f}°{ns}, {abs(self.lon):.1f}°{we}'\n"
   ]
  },
  {
   "cell_type": "code",
   "execution_count": 8,
   "id": "b4fcec4f",
   "metadata": {},
   "outputs": [
    {
     "name": "stdout",
     "output_type": "stream",
     "text": [
      "True\n",
      "55.8°N, 37.6°E\n",
      "True\n",
      "\n",
      "False\n",
      "True\n",
      "55.8°N, 37.6°E\n"
     ]
    },
    {
     "data": {
      "text/plain": [
       "Coordinate(lat=55.756, lon=37.617)"
      ]
     },
     "execution_count": 8,
     "metadata": {},
     "output_type": "execute_result"
    }
   ],
   "source": [
    "#print(issubclass(Coordinate, typing.NamedTuple))  # TypeError\n",
    "print(issubclass(Coordinate, tuple))\n",
    "\n",
    "moscow = Coordinate(55.756, 37.617)\n",
    "print(moscow)  # __str__\n",
    "print(moscow == Coordinate(lat=55.756, lon=37.617))\n",
    "print()\n",
    "\n",
    "moscow2 = eval(repr(moscow))\n",
    "print(moscow2 is moscow)\n",
    "print(moscow2 == moscow)\n",
    "print(moscow2)\n",
    "\n",
    "moscow  # __repr__"
   ]
  },
  {
   "cell_type": "code",
   "execution_count": 9,
   "id": "cd2ed03d",
   "metadata": {},
   "outputs": [],
   "source": [
    "# Example 5-3. dataclass/coordinates.py\n",
    "\n",
    "from dataclasses import dataclass\n",
    "\n",
    "@dataclass(frozen=True)\n",
    "class Coordinate:\n",
    "    lat: float\n",
    "    lon: float\n",
    "    \n",
    "    def __str__(self):\n",
    "        ns = 'N' if self.lat >= 0 else 'S'\n",
    "        we = 'E' if self.lon >= 0 else 'W'\n",
    "        return f'{abs(self.lat):.1f}°{ns}, {abs(self.lon):.1f}°{we}'"
   ]
  },
  {
   "cell_type": "code",
   "execution_count": 10,
   "id": "db66779b",
   "metadata": {},
   "outputs": [
    {
     "name": "stdout",
     "output_type": "stream",
     "text": [
      "55.8°N, 37.6°E\n",
      "True\n"
     ]
    },
    {
     "data": {
      "text/plain": [
       "Coordinate(lat=55.756, lon=37.617)"
      ]
     },
     "execution_count": 10,
     "metadata": {},
     "output_type": "execute_result"
    }
   ],
   "source": [
    "moscow = Coordinate(55.756, 37.617)\n",
    "print(moscow)  # __str__\n",
    "print(moscow == Coordinate(lat=55.756, lon=37.617))\n",
    "moscow  # __repr__"
   ]
  },
  {
   "cell_type": "code",
   "execution_count": 11,
   "id": "bb513757",
   "metadata": {},
   "outputs": [
    {
     "data": {
      "text/plain": [
       "55.756"
      ]
     },
     "execution_count": 11,
     "metadata": {},
     "output_type": "execute_result"
    }
   ],
   "source": [
    "import dataclasses\n",
    "\n",
    "moscow_dict = dataclasses.asdict(moscow)\n",
    "moscow_dict['lat']"
   ]
  },
  {
   "cell_type": "markdown",
   "id": "f1d13447",
   "metadata": {},
   "source": [
    "### Classic Named Tuples"
   ]
  },
  {
   "cell_type": "code",
   "execution_count": 12,
   "id": "e643f6de",
   "metadata": {},
   "outputs": [
    {
     "data": {
      "text/plain": [
       "City(name='Tokyo', country='JP', population=36.933, coordinates=(35.689722, 139.691667))"
      ]
     },
     "execution_count": 12,
     "metadata": {},
     "output_type": "execute_result"
    }
   ],
   "source": [
    "# Example 5-4. Defining and using a named tuple type\n",
    "\n",
    "from collections import namedtuple\n",
    "City = namedtuple('City', 'name country population coordinates')\n",
    "tokyo = City('Tokyo', 'JP', 36.933, (35.689722, 139.691667))\n",
    "tokyo  # call __repr__"
   ]
  },
  {
   "cell_type": "code",
   "execution_count": 13,
   "id": "42c11e0b",
   "metadata": {},
   "outputs": [
    {
     "name": "stdout",
     "output_type": "stream",
     "text": [
      "36.933\n",
      "(35.689722, 139.691667)\n",
      "JP\n"
     ]
    }
   ],
   "source": [
    "print(tokyo.population)\n",
    "print(tokyo.coordinates)\n",
    "print(tokyo[1])"
   ]
  },
  {
   "cell_type": "code",
   "execution_count": 14,
   "id": "a6dca77e",
   "metadata": {},
   "outputs": [
    {
     "name": "stdout",
     "output_type": "stream",
     "text": [
      "('name', 'country', 'population', 'coordinates')\n",
      "{'name': 'Delhi NCR', 'country': 'IN', 'population': 21.935, 'coordinates': Coordinate(lat=28.613889, lon=77.208889)}\n"
     ]
    },
    {
     "data": {
      "text/plain": [
       "'{\"name\": \"Delhi NCR\", \"country\": \"IN\", \"population\": 21.935, \"coordinates\": [28.613889, 77.208889]}'"
      ]
     },
     "execution_count": 14,
     "metadata": {},
     "output_type": "execute_result"
    }
   ],
   "source": [
    "# Example 5-5. Named tuple attributes and methods (continued from the previous example)\\\n",
    "\n",
    "print(City._fields)\n",
    "Coordinate = namedtuple('Coordinate', 'lat lon')\n",
    "\n",
    "delhi_data = ('Delhi NCR', 'IN', 21.935, Coordinate(28.613889, 77.208889))\n",
    "delhi = City._make(delhi_data)\n",
    "print(delhi._asdict())  # Make a dict\n",
    "\n",
    "import json\n",
    "json.dumps(delhi._asdict())"
   ]
  },
  {
   "cell_type": "code",
   "execution_count": 13,
   "id": "9ab4bff4",
   "metadata": {},
   "outputs": [
    {
     "name": "stdout",
     "output_type": "stream",
     "text": [
      "Coordinate(lat=0, lon=0, reference='WGS84')\n",
      "{'reference': 'WGS84'}\n"
     ]
    }
   ],
   "source": [
    "# Example 5-6. Named tuple attributes and methods, continued from Example 5-5\n",
    "\n",
    "Coordinate = namedtuple('Coordinate', 'lat lon reference', defaults=['WGS84'])\n",
    "print(Coordinate(0, 0))\n",
    "print(Coordinate._field_defaults)"
   ]
  },
  {
   "cell_type": "code",
   "execution_count": 15,
   "id": "b10e65f2",
   "metadata": {},
   "outputs": [],
   "source": [
    "# Example 1-1. A deck as a sequence of cards\n",
    "\n",
    "import collections\n",
    "\n",
    "Card = collections.namedtuple('Card', ['rank', 'suit'])\n",
    "\n",
    "class FrenchDeck:\n",
    "    ranks = [str(n) for n in range(2, 11)] + list('JQKA')\n",
    "    suits = 'spades diamonds clubs hearts'.split()\n",
    "\n",
    "    def __init__(self):\n",
    "        self._cards = [Card(rank, suit) for suit in self.suits\n",
    "                                        for rank in self.ranks]\n",
    "\n",
    "    def __len__(self):\n",
    "        return len(self._cards)\n",
    "\n",
    "    def __getitem__(self, position):\n",
    "        return self._cards[position]"
   ]
  },
  {
   "cell_type": "code",
   "execution_count": 16,
   "id": "d2eb1e5a",
   "metadata": {},
   "outputs": [],
   "source": [
    "# Example 5-7. frenchdeck.doctest: Adding a class attribute and a method to Card,\n",
    "# the namedtuple from “A Pythonic Card Deck” on page 5\n",
    "\n",
    "Card.suit_values = dict(spades=3, hearts=2, diamonds=1, clubs=0)  # attach a class attribute with values for each suit\n",
    "\n",
    "def spades_high(card):\n",
    "    rank_value = FrenchDeck.ranks.index(card.rank)\n",
    "    suit_value = card.suit_values[card.suit]\n",
    "    return rank_value * len(card.suit_values) + suit_value"
   ]
  },
  {
   "cell_type": "code",
   "execution_count": 17,
   "id": "f2b89eee",
   "metadata": {},
   "outputs": [
    {
     "name": "stdout",
     "output_type": "stream",
     "text": [
      "0\n",
      "51\n"
     ]
    }
   ],
   "source": [
    "Card.overall_rank = spades_high\n",
    "lowest_card = Card('2', 'clubs')\n",
    "highest_card = Card('A', 'spades')\n",
    "print(lowest_card.overall_rank())\n",
    "print(highest_card.overall_rank())"
   ]
  },
  {
   "cell_type": "markdown",
   "id": "025ce40a",
   "metadata": {},
   "source": [
    "### Typed Named Tuples"
   ]
  },
  {
   "cell_type": "code",
   "execution_count": 18,
   "id": "9bb4fbe7",
   "metadata": {},
   "outputs": [],
   "source": [
    "# Example 5-8. typing_namedtuple/coordinates2.py\n",
    "\n",
    "from typing import NamedTuple\n",
    "\n",
    "class Coordinate(NamedTuple):\n",
    "    lat: float\n",
    "    lon: float\n",
    "    reference: str = 'WGS84'\n"
   ]
  },
  {
   "cell_type": "code",
   "execution_count": 19,
   "id": "28146caf",
   "metadata": {},
   "outputs": [
    {
     "name": "stdout",
     "output_type": "stream",
     "text": [
      "Coordinate(lat='Ni!', lon=None)\n"
     ]
    }
   ],
   "source": [
    "# Example 5-9. Python does not enforce type hints at runtime\n",
    "\n",
    "import typing\n",
    "\n",
    "class Coordinate(typing.NamedTuple):\n",
    "    lat: float\n",
    "    lon: float\n",
    "\n",
    "trash = Coordinate('Ni!', None)\n",
    "print(trash)"
   ]
  },
  {
   "cell_type": "code",
   "execution_count": 49,
   "id": "bf596118",
   "metadata": {},
   "outputs": [
    {
     "name": "stdout",
     "output_type": "stream",
     "text": [
      "{'a': <class 'int'>, 'b': <class 'float'>}\n",
      "1.1\n",
      "spam\n",
      "\n",
      "10\n",
      "1.2\n",
      "x\n"
     ]
    }
   ],
   "source": [
    "# Example 5-10. meaning/demo_plain.py: a plain class with type hints\n",
    "\n",
    "class DemoPlainClass:\n",
    "    a: int  # not an attribute, just added to annotation, should be initialized in __init__ or __new__\n",
    "    b: float = 1.1  # save annotation and an attribute\n",
    "    c = 'spam'  # just a plain old class attribute\n",
    "\n",
    "    def __init__(self, value):\n",
    "        self.a = value\n",
    "\n",
    "print(DemoPlainClass.__annotations__)\n",
    "# print(DemoPlainClass.a)  # error\n",
    "print(DemoPlainClass.b)\n",
    "print(DemoPlainClass.c)\n",
    "\n",
    "print()\n",
    "#DemoPlainClass.b = 1.2\n",
    "#DemoPlainClass.c = 'x'\n",
    "obj = DemoPlainClass(10)\n",
    "print(obj.a)  # Error\n",
    "print(obj.b)  # retrieve the class attribute, not an instance attribute\n",
    "print(obj.c)"
   ]
  },
  {
   "cell_type": "code",
   "execution_count": 29,
   "id": "fe1f547b",
   "metadata": {},
   "outputs": [
    {
     "name": "stdout",
     "output_type": "stream",
     "text": [
      "{'a': <class 'int'>, 'b': <class 'float'>}\n",
      "_tuplegetter(0, 'Alias for field number 0')\n",
      "_tuplegetter(1, 'Alias for field number 1')\n",
      "spam\n"
     ]
    }
   ],
   "source": [
    "# Example 5-11. meaning/demo_nt.py: a class built with typing.NamedTuple\n",
    "\n",
    "import typing\n",
    "\n",
    "class DemoNTClass(typing.NamedTuple):\n",
    "    a: int          # an annotation + an instance attribute\n",
    "    b: float = 1.1  # same\n",
    "    c = 'spam'      # a plain old class attribute\n",
    "\n",
    "print(DemoNTClass.__annotations__)\n",
    "print(DemoNTClass.a)\n",
    "print(DemoNTClass.b)\n",
    "print(DemoNTClass.c)"
   ]
  },
  {
   "cell_type": "code",
   "execution_count": 50,
   "id": "5b4ecbd4",
   "metadata": {},
   "outputs": [
    {
     "name": "stdout",
     "output_type": "stream",
     "text": [
      "DemoNTClass(a, b)\n",
      "8\n",
      "1.2\n",
      "x\n"
     ]
    }
   ],
   "source": [
    "print(DemoNTClass.__doc__)\n",
    "\n",
    "# DemoNTClass.b = 1.2\n",
    "# DemoNTClass.c = 'x'\n",
    "nt = DemoNTClass(8)\n",
    "print(nt.a)\n",
    "print(nt.b)\n",
    "print(nt.c)"
   ]
  },
  {
   "cell_type": "markdown",
   "id": "4893229d",
   "metadata": {},
   "source": [
    "# Class and instance variable annotations \n",
    "\n",
    "https://peps.python.org/pep-0526/#class-and-instance-variable-annotations\n",
    "\n",
    "Type annotations can also be used to annotate class and instance variables in class bodies and methods. In particular, the value-less notation a: int allows one to annotate instance variables that should be initialized in __init__ or __new__. The proposed syntax is as follows:\n",
    "\n",
    "```\n",
    "class BasicStarship:\n",
    "    captain: str = 'Picard'               # instance variable with default\n",
    "    damage: int                           # instance variable without default\n",
    "    stats: ClassVar[Dict[str, int]] = {}  # class variable\n",
    "```\n",
    "\n",
    "Here ClassVar is a special class defined by the typing module that indicates to the static type checker that this variable should not be set on instances.\n",
    "\n",
    "Note that a ClassVar parameter cannot include any type variables, regardless of the level of nesting: ClassVar[T] and ClassVar[List[Set[T]]] are both invalid if T is a type variable."
   ]
  },
  {
   "cell_type": "code",
   "execution_count": 36,
   "id": "dc05bf23",
   "metadata": {},
   "outputs": [],
   "source": [
    "# Example 5-12. meaning/demo_dc.py: a class decorated with @dataclass\n",
    "\n",
    "from dataclasses import dataclass\n",
    "\n",
    "@dataclass\n",
    "class DemoDataClass:\n",
    "    a: int          # annotation and an instance attribute\n",
    "    b: float = 1.1  # class attribute, becomes an instance attirubte (default value)\n",
    "    c = 'spam'      # a plain class attribute -> not bound to instance"
   ]
  },
  {
   "cell_type": "code",
   "execution_count": 48,
   "id": "3b3f4e3d",
   "metadata": {},
   "outputs": [
    {
     "name": "stdout",
     "output_type": "stream",
     "text": [
      "{'a': <class 'int'>, 'b': <class 'float'>}\n",
      "DemoDataClass(a: int, b: float = 1.1)\n",
      "x\n",
      "spam\n",
      "{'a': <class 'int'>, 'b': <class 'float'>}\n",
      "DemoDataClass(a: int, b: float = 1.1)\n",
      "9 1.1 spam\n",
      "10 oops whatever secret stash\n",
      "x\n",
      "spam\n",
      "x\n",
      "oops\n",
      "1 1.1 spam\n",
      "x\n"
     ]
    }
   ],
   "source": [
    "print(DemoDataClass.__annotations__)\n",
    "print(DemoDataClass.__doc__)\n",
    "\n",
    "# print(DemoDataClass.a)  # error\n",
    "print(DemoDataClass.b)\n",
    "print(DemoDataClass.c)\n",
    "\n",
    "dc = DemoDataClass(9)\n",
    "print(dc.__annotations__)\n",
    "print(dc.__doc__)\n",
    "print(dc.a, dc.b, dc.c)\n",
    "\n",
    "dc.a = 10\n",
    "dc.b = 'oops'\n",
    "\n",
    "dc.c = 'whatever'\n",
    "dc.z = 'secret stash'\n",
    "print(dc.a, dc.b, dc.c, dc.z)\n",
    "\n",
    "print(DemoDataClass.b)\n",
    "print(DemoDataClass.c)\n",
    "DemoDataClass.b = 'x'\n",
    "\n",
    "print(DemoDataClass.b)\n",
    "print(dc.b)\n",
    "dd = DemoDataClass(1)\n",
    "print(dd.a, dd.b, dd.c)  # Restore the original class values!\n",
    "print(DemoDataClass.b)"
   ]
  },
  {
   "cell_type": "code",
   "execution_count": 41,
   "id": "106e443a",
   "metadata": {},
   "outputs": [
    {
     "ename": "ValueError",
     "evalue": "mutable default <class 'list'> for field guests is not allowed: use default_factory",
     "output_type": "error",
     "traceback": [
      "\u001b[1;31m---------------------------------------------------------------------------\u001b[0m",
      "\u001b[1;31mValueError\u001b[0m                                Traceback (most recent call last)",
      "\u001b[1;32mg:\\내 드라이브\\study\\fluent_python\\I Data Strcture\\5_Data Class Builders.ipynb Cell 28\u001b[0m in \u001b[0;36m<cell line: 3>\u001b[1;34m()\u001b[0m\n\u001b[0;32m      <a href='vscode-notebook-cell:/g%3A/%EB%82%B4%20%EB%93%9C%EB%9D%BC%EC%9D%B4%EB%B8%8C/study/fluent_python/I%20Data%20Strcture/5_Data%20Class%20Builders.ipynb#X36sZmlsZQ%3D%3D?line=0'>1</a>\u001b[0m \u001b[39m# Example 5-13. dataclass/club_wrong.py: this class raises ValueError\u001b[39;00m\n\u001b[0;32m      <a href='vscode-notebook-cell:/g%3A/%EB%82%B4%20%EB%93%9C%EB%9D%BC%EC%9D%B4%EB%B8%8C/study/fluent_python/I%20Data%20Strcture/5_Data%20Class%20Builders.ipynb#X36sZmlsZQ%3D%3D?line=2'>3</a>\u001b[0m \u001b[39m@dataclass\u001b[39;49m\n\u001b[1;32m----> <a href='vscode-notebook-cell:/g%3A/%EB%82%B4%20%EB%93%9C%EB%9D%BC%EC%9D%B4%EB%B8%8C/study/fluent_python/I%20Data%20Strcture/5_Data%20Class%20Builders.ipynb#X36sZmlsZQ%3D%3D?line=3'>4</a>\u001b[0m \u001b[39mclass\u001b[39;49;00m \u001b[39mClubMember\u001b[39;49;00m:\n\u001b[0;32m      <a href='vscode-notebook-cell:/g%3A/%EB%82%B4%20%EB%93%9C%EB%9D%BC%EC%9D%B4%EB%B8%8C/study/fluent_python/I%20Data%20Strcture/5_Data%20Class%20Builders.ipynb#X36sZmlsZQ%3D%3D?line=4'>5</a>\u001b[0m     name: \u001b[39mstr\u001b[39;49m\n\u001b[0;32m      <a href='vscode-notebook-cell:/g%3A/%EB%82%B4%20%EB%93%9C%EB%9D%BC%EC%9D%B4%EB%B8%8C/study/fluent_python/I%20Data%20Strcture/5_Data%20Class%20Builders.ipynb#X36sZmlsZQ%3D%3D?line=5'>6</a>\u001b[0m     guests: \u001b[39mlist\u001b[39;49m \u001b[39m=\u001b[39;49m []\n",
      "File \u001b[1;32mc:\\Users\\hjk\\AppData\\Local\\Programs\\Python\\Python310\\lib\\dataclasses.py:1185\u001b[0m, in \u001b[0;36mdataclass\u001b[1;34m(cls, init, repr, eq, order, unsafe_hash, frozen, match_args, kw_only, slots)\u001b[0m\n\u001b[0;32m   1182\u001b[0m     \u001b[39mreturn\u001b[39;00m wrap\n\u001b[0;32m   1184\u001b[0m \u001b[39m# We're called as @dataclass without parens.\u001b[39;00m\n\u001b[1;32m-> 1185\u001b[0m \u001b[39mreturn\u001b[39;00m wrap(\u001b[39mcls\u001b[39;49m)\n",
      "File \u001b[1;32mc:\\Users\\hjk\\AppData\\Local\\Programs\\Python\\Python310\\lib\\dataclasses.py:1176\u001b[0m, in \u001b[0;36mdataclass.<locals>.wrap\u001b[1;34m(cls)\u001b[0m\n\u001b[0;32m   1175\u001b[0m \u001b[39mdef\u001b[39;00m \u001b[39mwrap\u001b[39m(\u001b[39mcls\u001b[39m):\n\u001b[1;32m-> 1176\u001b[0m     \u001b[39mreturn\u001b[39;00m _process_class(\u001b[39mcls\u001b[39;49m, init, \u001b[39mrepr\u001b[39;49m, eq, order, unsafe_hash,\n\u001b[0;32m   1177\u001b[0m                           frozen, match_args, kw_only, slots)\n",
      "File \u001b[1;32mc:\\Users\\hjk\\AppData\\Local\\Programs\\Python\\Python310\\lib\\dataclasses.py:956\u001b[0m, in \u001b[0;36m_process_class\u001b[1;34m(cls, init, repr, eq, order, unsafe_hash, frozen, match_args, kw_only, slots)\u001b[0m\n\u001b[0;32m    953\u001b[0m         kw_only \u001b[39m=\u001b[39m \u001b[39mTrue\u001b[39;00m\n\u001b[0;32m    954\u001b[0m     \u001b[39melse\u001b[39;00m:\n\u001b[0;32m    955\u001b[0m         \u001b[39m# Otherwise it's a field of some type.\u001b[39;00m\n\u001b[1;32m--> 956\u001b[0m         cls_fields\u001b[39m.\u001b[39mappend(_get_field(\u001b[39mcls\u001b[39;49m, name, \u001b[39mtype\u001b[39;49m, kw_only))\n\u001b[0;32m    958\u001b[0m \u001b[39mfor\u001b[39;00m f \u001b[39min\u001b[39;00m cls_fields:\n\u001b[0;32m    959\u001b[0m     fields[f\u001b[39m.\u001b[39mname] \u001b[39m=\u001b[39m f\n",
      "File \u001b[1;32mc:\\Users\\hjk\\AppData\\Local\\Programs\\Python\\Python310\\lib\\dataclasses.py:813\u001b[0m, in \u001b[0;36m_get_field\u001b[1;34m(cls, a_name, a_type, default_kw_only)\u001b[0m\n\u001b[0;32m    811\u001b[0m \u001b[39m# For real fields, disallow mutable defaults for known types.\u001b[39;00m\n\u001b[0;32m    812\u001b[0m \u001b[39mif\u001b[39;00m f\u001b[39m.\u001b[39m_field_type \u001b[39mis\u001b[39;00m _FIELD \u001b[39mand\u001b[39;00m \u001b[39misinstance\u001b[39m(f\u001b[39m.\u001b[39mdefault, (\u001b[39mlist\u001b[39m, \u001b[39mdict\u001b[39m, \u001b[39mset\u001b[39m)):\n\u001b[1;32m--> 813\u001b[0m     \u001b[39mraise\u001b[39;00m \u001b[39mValueError\u001b[39;00m(\u001b[39mf\u001b[39m\u001b[39m'\u001b[39m\u001b[39mmutable default \u001b[39m\u001b[39m{\u001b[39;00m\u001b[39mtype\u001b[39m(f\u001b[39m.\u001b[39mdefault)\u001b[39m}\u001b[39;00m\u001b[39m for field \u001b[39m\u001b[39m'\u001b[39m\n\u001b[0;32m    814\u001b[0m                      \u001b[39mf\u001b[39m\u001b[39m'\u001b[39m\u001b[39m{\u001b[39;00mf\u001b[39m.\u001b[39mname\u001b[39m}\u001b[39;00m\u001b[39m is not allowed: use default_factory\u001b[39m\u001b[39m'\u001b[39m)\n\u001b[0;32m    816\u001b[0m \u001b[39mreturn\u001b[39;00m f\n",
      "\u001b[1;31mValueError\u001b[0m: mutable default <class 'list'> for field guests is not allowed: use default_factory"
     ]
    }
   ],
   "source": [
    "# Example 5-13. dataclass/club_wrong.py: this class raises ValueError\n",
    "\n",
    "@dataclass\n",
    "class ClubMember:\n",
    "    name: str\n",
    "    guests: list = []  # Mutable default values!\n"
   ]
  },
  {
   "cell_type": "code",
   "execution_count": 42,
   "id": "344179c1",
   "metadata": {},
   "outputs": [],
   "source": [
    "# Example 5-14. dataclass/club.py: this ClubMember definition works\n",
    "\n",
    "from dataclasses import dataclass, field\n",
    "\n",
    "@dataclass\n",
    "class ClubMember:\n",
    "    name: str\n",
    "    guests: list = field(default_factory=list)"
   ]
  },
  {
   "cell_type": "code",
   "execution_count": 5,
   "id": "9d518d15",
   "metadata": {},
   "outputs": [],
   "source": [
    "# Example 5-15. dataclass/club_generic.py: this ClubMember definition is more precise\n",
    "\n",
    "from dataclasses import dataclass, field\n",
    "\n",
    "@dataclass\n",
    "class ClubMember:\n",
    "    name: str\n",
    "    guests: list[str] = field(default_factory=list)"
   ]
  },
  {
   "cell_type": "code",
   "execution_count": 44,
   "id": "3970a990",
   "metadata": {},
   "outputs": [
    {
     "name": "stdout",
     "output_type": "stream",
     "text": [
      "HackerClubMember(name='Anna Ravenscroft', guests=[], handle='AnnaRaven')\n",
      "HackerClubMember(name='Leo Rochael', guests=[], handle='Leo')\n",
      "HackerClubMember(name='Leo DaVinci', guests=[], handle='Neo')\n"
     ]
    }
   ],
   "source": [
    "# Example 5-16. dataclass/hackerclub.py: doctests for HackerClubMember\n",
    "\n",
    "# ``HackerClubMember`` objects accept an optional ``handle`` argument::\n",
    "anna = HackerClubMember('Anna Ravenscroft', handle='AnnaRaven')\n",
    "print(anna)\n",
    "\n",
    "# If ``handle`` is omitted, it's set to the first part of the member's name::\n",
    "leo = HackerClubMember('Leo Rochael')\n",
    "print(leo)\n",
    "\n",
    "# Members must have a unique handle. The following ``leo2`` will not be created,\n",
    "# because its ``handle`` would be 'Leo', which was taken by ``leo``::\n",
    "# leo2 = HackerClubMember('Leo DaVinci')\n",
    "# Traceback (most recent call last):\n",
    "# ...\n",
    "# ValueError: handle 'Leo' already exists.\n",
    "\n",
    "# To fix, ``leo2`` must be created with an explicit ``handle``::\n",
    "leo2 = HackerClubMember('Leo DaVinci', handle='Neo')\n",
    "print(leo2)"
   ]
  },
  {
   "cell_type": "code",
   "execution_count": 43,
   "id": "eca9d311",
   "metadata": {},
   "outputs": [],
   "source": [
    "# Example 5-17. dataclass/hackerclub.py: code for HackerClubMember\n",
    "\n",
    "from dataclasses import dataclass\n",
    "\n",
    "@dataclass\n",
    "class HackerClubMember(ClubMember):\n",
    "    all_handles = set()  # all_handlers: ClassVar[set[str]] = set()\n",
    "    handle: str = ''\n",
    "    \n",
    "    def __post_init__(self):\n",
    "        cls = self.__class__\n",
    "        if self.handle == '':\n",
    "            self.handle = self.name.split()[0]\n",
    "        if self.handle in cls.all_handles:\n",
    "            msg = f'handle {self.handle!r} already exists.'\n",
    "            raise ValueError(msg)\n",
    "        cls.all_handles.add(self.handle)"
   ]
  },
  {
   "cell_type": "code",
   "execution_count": 1,
   "id": "ce0c02cd",
   "metadata": {},
   "outputs": [],
   "source": [
    "# Example 5-18. Example from the dataclasses module documentation\n",
    "\n",
    "from dataclasses import dataclass\n",
    "from dataclasses import InitVar\n",
    "\n",
    "@dataclass\n",
    "class C:\n",
    "    i: int\n",
    "    j: int = None\n",
    "    \n",
    "    # database: InitVar[DatabaseType] = None\n",
    "\n",
    "    def __post_init__(self, database):  # init-only variable, pass to __init__, but not in fields.\n",
    "        if self.j is None and database is not None:\n",
    "            self.j = database.lookup('j')"
   ]
  },
  {
   "cell_type": "markdown",
   "id": "98c6d73e",
   "metadata": {},
   "source": [
    "### @dataclass Example: Dublin Core Resource Record"
   ]
  },
  {
   "cell_type": "code",
   "execution_count": 2,
   "id": "8deadfc6",
   "metadata": {},
   "outputs": [],
   "source": [
    "# Example 5-19. dataclass/resource.py: code for Resource, a class based on Dublin Core terms\n",
    "from dataclasses import dataclass, field\n",
    "from typing import Optional\n",
    "from enum import Enum, auto\n",
    "from datetime import date\n",
    "import datetime\n",
    "\n",
    "class ResourceType(Enum):\n",
    "    BOOK = auto()\n",
    "    EBOOK = auto()\n",
    "    VIDEO = auto()\n",
    "\n",
    "    def __repr__(self):  # To enable __repr__ in the inherited class from this\n",
    "        # return f'ResourceType({self.value})'\n",
    "        return f'ResourceType({self.__class__.__name__}.{self.name})'\n",
    "\n",
    "\n",
    "@dataclass\n",
    "class Resource:\n",
    "    \"\"\"Media resource description.\"\"\"\n",
    "\n",
    "    identifier: str  # only required field\n",
    "    title: str = '<untitled>'\n",
    "    creators: list[str] = field(default_factory=list)\n",
    "    date: Optional[date] = None\n",
    "    type: ResourceType = ResourceType.BOOK\n",
    "    description: str = ''\n",
    "    language: str = ''\n",
    "    subjects: list[str] = field(default_factory=list)"
   ]
  },
  {
   "cell_type": "code",
   "execution_count": 3,
   "id": "ca71535b",
   "metadata": {},
   "outputs": [
    {
     "name": "stdout",
     "output_type": "stream",
     "text": [
      "Resource(identifier='978-0-13-475759-9', title='Refactoring, 2nd Edition', creators=['Martin Fowler', 'Kent Beck'], date=datetime.date(2018, 11, 19), type=ResourceType(ResourceType.BOOK), description='Improving the design of existing code', language='EN', subjects=['computer programming', 'OOP'])\n",
      "ResourceType.BOOK\n"
     ]
    }
   ],
   "source": [
    "description = 'Improving the design of existing code'\n",
    "book = Resource('978-0-13-475759-9', 'Refactoring, 2nd Edition',\n",
    "    ['Martin Fowler', 'Kent Beck'], date(2018, 11, 19),\n",
    "    ResourceType.BOOK, description, 'EN',\n",
    "    ['computer programming', 'OOP'])\n",
    "\n",
    "book # doctest: +NORMALIZE_WHITESPACE\n",
    "book2 = eval(repr(book))\n",
    "print(book2)\n",
    "print(book2.type)"
   ]
  },
  {
   "cell_type": "code",
   "execution_count": 6,
   "id": "c010c46c",
   "metadata": {},
   "outputs": [],
   "source": [
    "from typing import Optional\n",
    "\n",
    "@dataclass\n",
    "class Resource:\n",
    "    \"\"\"Media resource description.\"\"\"\n",
    "\n",
    "    identifier: str  # only required field\n",
    "    title: str = '<untitled>'\n",
    "    creators: list[str] = field(default_factory=list)\n",
    "    date: Optional[date] = None\n",
    "    type: ResourceType = ResourceType.BOOK\n",
    "    description: str = ''\n",
    "    language: str = ''\n",
    "    subjects: list[str] = field(default_factory=list)\n",
    "\n",
    "    def __repr__(self):\n",
    "        cls = self.__class__\n",
    "        cls_name = cls.__name__\n",
    "        indent = ' ' * 4\n",
    "        res = [f'{cls_name}(']\n",
    "        for f in fields(cls):  # each field f in the class\n",
    "            value = getattr(self, f.name)  # get the named attribute from the \"instance\"\n",
    "            res.append(f'{indent}{f.name} = {value!r},')\n",
    "        res.append(')')\n",
    "        return '\\n'.join(res)\n"
   ]
  },
  {
   "cell_type": "code",
   "execution_count": 7,
   "id": "8cb96c90",
   "metadata": {},
   "outputs": [
    {
     "ename": "TypeError",
     "evalue": "field() takes 0 positional arguments but 1 was given",
     "output_type": "error",
     "traceback": [
      "\u001b[1;31m---------------------------------------------------------------------------\u001b[0m",
      "\u001b[1;31mTypeError\u001b[0m                                 Traceback (most recent call last)",
      "File \u001b[1;32mc:\\Users\\hjk\\AppData\\Local\\Programs\\Python\\Python310\\lib\\site-packages\\IPython\\core\\formatters.py:707\u001b[0m, in \u001b[0;36mPlainTextFormatter.__call__\u001b[1;34m(self, obj)\u001b[0m\n\u001b[0;32m    700\u001b[0m stream \u001b[39m=\u001b[39m StringIO()\n\u001b[0;32m    701\u001b[0m printer \u001b[39m=\u001b[39m pretty\u001b[39m.\u001b[39mRepresentationPrinter(stream, \u001b[39mself\u001b[39m\u001b[39m.\u001b[39mverbose,\n\u001b[0;32m    702\u001b[0m     \u001b[39mself\u001b[39m\u001b[39m.\u001b[39mmax_width, \u001b[39mself\u001b[39m\u001b[39m.\u001b[39mnewline,\n\u001b[0;32m    703\u001b[0m     max_seq_length\u001b[39m=\u001b[39m\u001b[39mself\u001b[39m\u001b[39m.\u001b[39mmax_seq_length,\n\u001b[0;32m    704\u001b[0m     singleton_pprinters\u001b[39m=\u001b[39m\u001b[39mself\u001b[39m\u001b[39m.\u001b[39msingleton_printers,\n\u001b[0;32m    705\u001b[0m     type_pprinters\u001b[39m=\u001b[39m\u001b[39mself\u001b[39m\u001b[39m.\u001b[39mtype_printers,\n\u001b[0;32m    706\u001b[0m     deferred_pprinters\u001b[39m=\u001b[39m\u001b[39mself\u001b[39m\u001b[39m.\u001b[39mdeferred_printers)\n\u001b[1;32m--> 707\u001b[0m printer\u001b[39m.\u001b[39;49mpretty(obj)\n\u001b[0;32m    708\u001b[0m printer\u001b[39m.\u001b[39mflush()\n\u001b[0;32m    709\u001b[0m \u001b[39mreturn\u001b[39;00m stream\u001b[39m.\u001b[39mgetvalue()\n",
      "File \u001b[1;32mc:\\Users\\hjk\\AppData\\Local\\Programs\\Python\\Python310\\lib\\site-packages\\IPython\\lib\\pretty.py:410\u001b[0m, in \u001b[0;36mRepresentationPrinter.pretty\u001b[1;34m(self, obj)\u001b[0m\n\u001b[0;32m    407\u001b[0m                         \u001b[39mreturn\u001b[39;00m meth(obj, \u001b[39mself\u001b[39m, cycle)\n\u001b[0;32m    408\u001b[0m                 \u001b[39mif\u001b[39;00m \u001b[39mcls\u001b[39m \u001b[39mis\u001b[39;00m \u001b[39mnot\u001b[39;00m \u001b[39mobject\u001b[39m \\\n\u001b[0;32m    409\u001b[0m                         \u001b[39mand\u001b[39;00m callable(\u001b[39mcls\u001b[39m\u001b[39m.\u001b[39m\u001b[39m__dict__\u001b[39m\u001b[39m.\u001b[39mget(\u001b[39m'\u001b[39m\u001b[39m__repr__\u001b[39m\u001b[39m'\u001b[39m)):\n\u001b[1;32m--> 410\u001b[0m                     \u001b[39mreturn\u001b[39;00m _repr_pprint(obj, \u001b[39mself\u001b[39;49m, cycle)\n\u001b[0;32m    412\u001b[0m     \u001b[39mreturn\u001b[39;00m _default_pprint(obj, \u001b[39mself\u001b[39m, cycle)\n\u001b[0;32m    413\u001b[0m \u001b[39mfinally\u001b[39;00m:\n",
      "File \u001b[1;32mc:\\Users\\hjk\\AppData\\Local\\Programs\\Python\\Python310\\lib\\site-packages\\IPython\\lib\\pretty.py:778\u001b[0m, in \u001b[0;36m_repr_pprint\u001b[1;34m(obj, p, cycle)\u001b[0m\n\u001b[0;32m    776\u001b[0m \u001b[39m\"\"\"A pprint that just redirects to the normal repr function.\"\"\"\u001b[39;00m\n\u001b[0;32m    777\u001b[0m \u001b[39m# Find newlines and replace them with p.break_()\u001b[39;00m\n\u001b[1;32m--> 778\u001b[0m output \u001b[39m=\u001b[39m \u001b[39mrepr\u001b[39;49m(obj)\n\u001b[0;32m    779\u001b[0m lines \u001b[39m=\u001b[39m output\u001b[39m.\u001b[39msplitlines()\n\u001b[0;32m    780\u001b[0m \u001b[39mwith\u001b[39;00m p\u001b[39m.\u001b[39mgroup():\n",
      "\u001b[1;32mg:\\내 드라이브\\study\\fluent_python\\I Data Strcture\\5_Data Class Builders.ipynb Cell 38\u001b[0m in \u001b[0;36mResource.__repr__\u001b[1;34m(self)\u001b[0m\n\u001b[0;32m     <a href='vscode-notebook-cell:/g%3A/%EB%82%B4%20%EB%93%9C%EB%9D%BC%EC%9D%B4%EB%B8%8C/study/fluent_python/I%20Data%20Strcture/5_Data%20Class%20Builders.ipynb#X52sZmlsZQ%3D%3D?line=18'>19</a>\u001b[0m indent \u001b[39m=\u001b[39m \u001b[39m'\u001b[39m\u001b[39m \u001b[39m\u001b[39m'\u001b[39m \u001b[39m*\u001b[39m \u001b[39m4\u001b[39m\n\u001b[0;32m     <a href='vscode-notebook-cell:/g%3A/%EB%82%B4%20%EB%93%9C%EB%9D%BC%EC%9D%B4%EB%B8%8C/study/fluent_python/I%20Data%20Strcture/5_Data%20Class%20Builders.ipynb#X52sZmlsZQ%3D%3D?line=19'>20</a>\u001b[0m res \u001b[39m=\u001b[39m [\u001b[39mf\u001b[39m\u001b[39m'\u001b[39m\u001b[39m{\u001b[39;00mcls_name\u001b[39m}\u001b[39;00m\u001b[39m(\u001b[39m\u001b[39m'\u001b[39m]\n\u001b[1;32m---> <a href='vscode-notebook-cell:/g%3A/%EB%82%B4%20%EB%93%9C%EB%9D%BC%EC%9D%B4%EB%B8%8C/study/fluent_python/I%20Data%20Strcture/5_Data%20Class%20Builders.ipynb#X52sZmlsZQ%3D%3D?line=20'>21</a>\u001b[0m \u001b[39mfor\u001b[39;00m f \u001b[39min\u001b[39;00m field(\u001b[39mcls\u001b[39;49m):  \u001b[39m# each field f in the class\u001b[39;00m\n\u001b[0;32m     <a href='vscode-notebook-cell:/g%3A/%EB%82%B4%20%EB%93%9C%EB%9D%BC%EC%9D%B4%EB%B8%8C/study/fluent_python/I%20Data%20Strcture/5_Data%20Class%20Builders.ipynb#X52sZmlsZQ%3D%3D?line=21'>22</a>\u001b[0m     value \u001b[39m=\u001b[39m \u001b[39mgetattr\u001b[39m(\u001b[39mself\u001b[39m, f\u001b[39m.\u001b[39mname)  \u001b[39m# get the named attribute from the \"instance\"\u001b[39;00m\n\u001b[0;32m     <a href='vscode-notebook-cell:/g%3A/%EB%82%B4%20%EB%93%9C%EB%9D%BC%EC%9D%B4%EB%B8%8C/study/fluent_python/I%20Data%20Strcture/5_Data%20Class%20Builders.ipynb#X52sZmlsZQ%3D%3D?line=22'>23</a>\u001b[0m     res\u001b[39m.\u001b[39mappend(\u001b[39mf\u001b[39m\u001b[39m'\u001b[39m\u001b[39m{\u001b[39;00mindent\u001b[39m}\u001b[39;00m\u001b[39m{\u001b[39;00mf\u001b[39m.\u001b[39mname\u001b[39m}\u001b[39;00m\u001b[39m = \u001b[39m\u001b[39m{\u001b[39;00mvalue\u001b[39m!r}\u001b[39;00m\u001b[39m,\u001b[39m\u001b[39m'\u001b[39m)\n",
      "\u001b[1;31mTypeError\u001b[0m: field() takes 0 positional arguments but 1 was given"
     ]
    }
   ],
   "source": [
    "description = 'Improving the design of existing code'\n",
    "book = Resource('978-0-13-475759-9', 'Refactoring, 2nd Edition',\n",
    "    ['Martin Fowler', 'Kent Beck'], date(2018, 11, 19),\n",
    "    ResourceType.BOOK, description, 'EN',\n",
    "    ['computer programming', 'OOP'])\n",
    "\n",
    "book # doctest: +NORMALIZE_WHITESPACE"
   ]
  },
  {
   "cell_type": "markdown",
   "id": "af1bfb8c",
   "metadata": {},
   "source": [
    "### Pattern Matching Class Instances"
   ]
  },
  {
   "cell_type": "code",
   "execution_count": 25,
   "id": "70e1c441",
   "metadata": {},
   "outputs": [
    {
     "data": {
      "text/plain": [
       "('continent', 'name', 'country')"
      ]
     },
     "execution_count": 25,
     "metadata": {},
     "output_type": "execute_result"
    }
   ],
   "source": [
    "# Example 5-22. City class and a few instances\n",
    "import typing\n",
    "\n",
    "class City(typing.NamedTuple):\n",
    "    continent: str\n",
    "    name: str\n",
    "    country: str\n",
    "\n",
    "\n",
    "cities = [\n",
    "    City('Asia', 'Tokyo', 'JP'),\n",
    "    City('Asia', 'Delhi', 'IN'),\n",
    "    City('North America', 'Mexico City', 'MX'),\n",
    "    City('North America', 'New York', 'US'),\n",
    "    City('South America', 'São Paulo', 'BR'),\n",
    "]\n",
    "\n",
    "def match_asian_cities():\n",
    "    results = []\n",
    "    for city in cities:\n",
    "        match city:\n",
    "            case City(continent='Asia'):  # Keyword Class Patterns\n",
    "            # case City(continent='Asia', country=cc):  # Add contry attribute\n",
    "                results.append(city)\n",
    "    return results\n",
    "\n",
    "def match_asian_cities_pos():\n",
    "    results = []\n",
    "    for city in cities:\n",
    "        match city:\n",
    "            case City('Asia'):  # Positional Class Patterns\n",
    "            # case City('Asia', _, country):\n",
    "                results.append(city)\n",
    "    return results\n",
    "\n",
    "City.__match_args__"
   ]
  }
 ],
 "metadata": {
  "kernelspec": {
   "display_name": "Python 3",
   "language": "python",
   "name": "python3"
  },
  "language_info": {
   "codemirror_mode": {
    "name": "ipython",
    "version": 3
   },
   "file_extension": ".py",
   "mimetype": "text/x-python",
   "name": "python",
   "nbconvert_exporter": "python",
   "pygments_lexer": "ipython3",
   "version": "3.9.15"
  },
  "vscode": {
   "interpreter": {
    "hash": "a9e2c7703114bb33d9bb95f9f1c7ade36d0cd0b5dec40cd5c5afcfa9f59c771a"
   }
  }
 },
 "nbformat": 4,
 "nbformat_minor": 5
}
