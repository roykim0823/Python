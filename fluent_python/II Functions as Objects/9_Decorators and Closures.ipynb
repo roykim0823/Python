{
 "cells": [
  {
   "attachments": {},
   "cell_type": "markdown",
   "id": "d7f6e536",
   "metadata": {},
   "source": [
    "## Chapter 9. Decorators and Closures\n",
    "\n",
    "### Decorators 101\n",
    "A decorator is a callable that takes another function as an argument (the decorated\n",
    "function).\n",
    "\n",
    "In other words, assuming an existing decorator named decorate, this code:\n",
    "```\n",
    "@decorate\n",
    "def target():\n",
    "    print('running target()')\n",
    "```\n",
    "has the same effect as writing this:\n",
    "```\n",
    "def target():\n",
    "    print('running target()')\n",
    "\n",
    "target = decorate(target)\n",
    "```"
   ]
  },
  {
   "cell_type": "code",
   "execution_count": 1,
   "id": "dd41c807",
   "metadata": {},
   "outputs": [],
   "source": [
    "# Example 9-1. A decorator usually replaces a function with a different one\n",
    "\n",
    "def deco(func):\n",
    "    def inner():\n",
    "        print('running inner()')\n",
    "    return inner\n",
    "\n",
    "@deco\n",
    "def target():\n",
    "    print('running target()')"
   ]
  },
  {
   "cell_type": "code",
   "execution_count": 2,
   "id": "af6af18b",
   "metadata": {},
   "outputs": [
    {
     "name": "stdout",
     "output_type": "stream",
     "text": [
      "running inner()\n"
     ]
    },
    {
     "data": {
      "text/plain": [
       "<function __main__.deco.<locals>.inner()>"
      ]
     },
     "execution_count": 2,
     "metadata": {},
     "output_type": "execute_result"
    }
   ],
   "source": [
    "target()\n",
    "target  # target is a reference to inner"
   ]
  },
  {
   "cell_type": "markdown",
   "id": "78782bec",
   "metadata": {},
   "source": []
  },
  {
   "cell_type": "code",
   "execution_count": 4,
   "id": "6b3a0134",
   "metadata": {},
   "outputs": [
    {
     "name": "stdout",
     "output_type": "stream",
     "text": [
      "running register(<function f1 at 0x00000245A007FA30>)\n",
      "running register(<function f2 at 0x00000245A007FAC0>)\n",
      "\n",
      "running main()\n",
      "registry -> [<function f1 at 0x00000245A007FA30>, <function f2 at 0x00000245A007FAC0>]\n",
      "running f1()\n",
      "running f2()\n",
      "running f3()\n"
     ]
    }
   ],
   "source": [
    "# Example 9-2. The registration.py module\n",
    "\n",
    "registry = []\n",
    "\n",
    "def register(func):\n",
    "    print(f'running register({func})')\n",
    "    registry.append(func)\n",
    "    return func\n",
    "\n",
    "@register  # function decorators are executed as soon as the module is imported.\n",
    "def f1():  # the decorated fuction only runs when it is executed explicitly invoked.\n",
    "    print('running f1()')\n",
    "\n",
    "@register\n",
    "def f2():\n",
    "    print('running f2()')\n",
    "\n",
    "def f3():\n",
    "    print('running f3()')\n",
    "\n",
    "print()\n",
    "print('running main()')\n",
    "print('registry ->', registry)\n",
    "f1()\n",
    "f2()\n",
    "f3()"
   ]
  },
  {
   "cell_type": "markdown",
   "id": "382a7a13",
   "metadata": {},
   "source": [
    "### Variable Scope Rules"
   ]
  },
  {
   "cell_type": "code",
   "execution_count": 5,
   "id": "b7330601",
   "metadata": {},
   "outputs": [
    {
     "name": "stdout",
     "output_type": "stream",
     "text": [
      "3\n"
     ]
    },
    {
     "ename": "NameError",
     "evalue": "name 'b' is not defined",
     "output_type": "error",
     "traceback": [
      "\u001b[1;31m---------------------------------------------------------------------------\u001b[0m",
      "\u001b[1;31mNameError\u001b[0m                                 Traceback (most recent call last)",
      "\u001b[1;32mg:\\내 드라이브\\study\\fluent_python\\II Functions as Objects\\9_Decorators and Closures.ipynb 셀 7\u001b[0m in \u001b[0;36m<cell line: 7>\u001b[1;34m()\u001b[0m\n\u001b[0;32m      <a href='vscode-notebook-cell:/g%3A/%EB%82%B4%20%EB%93%9C%EB%9D%BC%EC%9D%B4%EB%B8%8C/study/fluent_python/II%20Functions%20as%20Objects/9_Decorators%20and%20Closures.ipynb#W6sZmlsZQ%3D%3D?line=3'>4</a>\u001b[0m     \u001b[39mprint\u001b[39m(a)\n\u001b[0;32m      <a href='vscode-notebook-cell:/g%3A/%EB%82%B4%20%EB%93%9C%EB%9D%BC%EC%9D%B4%EB%B8%8C/study/fluent_python/II%20Functions%20as%20Objects/9_Decorators%20and%20Closures.ipynb#W6sZmlsZQ%3D%3D?line=4'>5</a>\u001b[0m     \u001b[39mprint\u001b[39m(b)\n\u001b[1;32m----> <a href='vscode-notebook-cell:/g%3A/%EB%82%B4%20%EB%93%9C%EB%9D%BC%EC%9D%B4%EB%B8%8C/study/fluent_python/II%20Functions%20as%20Objects/9_Decorators%20and%20Closures.ipynb#W6sZmlsZQ%3D%3D?line=6'>7</a>\u001b[0m f1(\u001b[39m3\u001b[39;49m)\n",
      "\u001b[1;32mg:\\내 드라이브\\study\\fluent_python\\II Functions as Objects\\9_Decorators and Closures.ipynb 셀 7\u001b[0m in \u001b[0;36mf1\u001b[1;34m(a)\u001b[0m\n\u001b[0;32m      <a href='vscode-notebook-cell:/g%3A/%EB%82%B4%20%EB%93%9C%EB%9D%BC%EC%9D%B4%EB%B8%8C/study/fluent_python/II%20Functions%20as%20Objects/9_Decorators%20and%20Closures.ipynb#W6sZmlsZQ%3D%3D?line=2'>3</a>\u001b[0m \u001b[39mdef\u001b[39;00m \u001b[39mf1\u001b[39m(a):\n\u001b[0;32m      <a href='vscode-notebook-cell:/g%3A/%EB%82%B4%20%EB%93%9C%EB%9D%BC%EC%9D%B4%EB%B8%8C/study/fluent_python/II%20Functions%20as%20Objects/9_Decorators%20and%20Closures.ipynb#W6sZmlsZQ%3D%3D?line=3'>4</a>\u001b[0m     \u001b[39mprint\u001b[39m(a)\n\u001b[1;32m----> <a href='vscode-notebook-cell:/g%3A/%EB%82%B4%20%EB%93%9C%EB%9D%BC%EC%9D%B4%EB%B8%8C/study/fluent_python/II%20Functions%20as%20Objects/9_Decorators%20and%20Closures.ipynb#W6sZmlsZQ%3D%3D?line=4'>5</a>\u001b[0m     \u001b[39mprint\u001b[39m(b)\n",
      "\u001b[1;31mNameError\u001b[0m: name 'b' is not defined"
     ]
    }
   ],
   "source": [
    "# Example 9-3. Function reading a local and a global variable\n",
    "\n",
    "def f1(a):\n",
    "    print(a)\n",
    "    print(b)\n",
    "\n",
    "f1(3)"
   ]
  },
  {
   "cell_type": "code",
   "execution_count": 6,
   "id": "ab3564c7",
   "metadata": {},
   "outputs": [
    {
     "name": "stdout",
     "output_type": "stream",
     "text": [
      "3\n",
      "6\n"
     ]
    }
   ],
   "source": [
    "b = 6\n",
    "f1(3)"
   ]
  },
  {
   "cell_type": "code",
   "execution_count": 12,
   "id": "084aed66",
   "metadata": {},
   "outputs": [
    {
     "name": "stdout",
     "output_type": "stream",
     "text": [
      "3\n"
     ]
    },
    {
     "ename": "UnboundLocalError",
     "evalue": "local variable 'b' referenced before assignment",
     "output_type": "error",
     "traceback": [
      "\u001b[1;31m---------------------------------------------------------------------------\u001b[0m",
      "\u001b[1;31mUnboundLocalError\u001b[0m                         Traceback (most recent call last)",
      "\u001b[1;32mg:\\내 드라이브\\study\\fluent_python\\II Functions as Objects\\9_Decorators and Closures.ipynb 셀 9\u001b[0m in \u001b[0;36m<cell line: 9>\u001b[1;34m()\u001b[0m\n\u001b[0;32m      <a href='vscode-notebook-cell:/g%3A/%EB%82%B4%20%EB%93%9C%EB%9D%BC%EC%9D%B4%EB%B8%8C/study/fluent_python/II%20Functions%20as%20Objects/9_Decorators%20and%20Closures.ipynb#X11sZmlsZQ%3D%3D?line=5'>6</a>\u001b[0m     \u001b[39mprint\u001b[39m(b)  \u001b[39m# error since Python compiles the body of the function, it decides that b is a local variable\u001b[39;00m\n\u001b[0;32m      <a href='vscode-notebook-cell:/g%3A/%EB%82%B4%20%EB%93%9C%EB%9D%BC%EC%9D%B4%EB%B8%8C/study/fluent_python/II%20Functions%20as%20Objects/9_Decorators%20and%20Closures.ipynb#X11sZmlsZQ%3D%3D?line=6'>7</a>\u001b[0m     b \u001b[39m=\u001b[39m \u001b[39m9\u001b[39m\n\u001b[1;32m----> <a href='vscode-notebook-cell:/g%3A/%EB%82%B4%20%EB%93%9C%EB%9D%BC%EC%9D%B4%EB%B8%8C/study/fluent_python/II%20Functions%20as%20Objects/9_Decorators%20and%20Closures.ipynb#X11sZmlsZQ%3D%3D?line=8'>9</a>\u001b[0m f2(\u001b[39m3\u001b[39;49m)\n",
      "\u001b[1;32mg:\\내 드라이브\\study\\fluent_python\\II Functions as Objects\\9_Decorators and Closures.ipynb 셀 9\u001b[0m in \u001b[0;36mf2\u001b[1;34m(a)\u001b[0m\n\u001b[0;32m      <a href='vscode-notebook-cell:/g%3A/%EB%82%B4%20%EB%93%9C%EB%9D%BC%EC%9D%B4%EB%B8%8C/study/fluent_python/II%20Functions%20as%20Objects/9_Decorators%20and%20Closures.ipynb#X11sZmlsZQ%3D%3D?line=3'>4</a>\u001b[0m \u001b[39mdef\u001b[39;00m \u001b[39mf2\u001b[39m(a):\n\u001b[0;32m      <a href='vscode-notebook-cell:/g%3A/%EB%82%B4%20%EB%93%9C%EB%9D%BC%EC%9D%B4%EB%B8%8C/study/fluent_python/II%20Functions%20as%20Objects/9_Decorators%20and%20Closures.ipynb#X11sZmlsZQ%3D%3D?line=4'>5</a>\u001b[0m     \u001b[39mprint\u001b[39m(a)\n\u001b[1;32m----> <a href='vscode-notebook-cell:/g%3A/%EB%82%B4%20%EB%93%9C%EB%9D%BC%EC%9D%B4%EB%B8%8C/study/fluent_python/II%20Functions%20as%20Objects/9_Decorators%20and%20Closures.ipynb#X11sZmlsZQ%3D%3D?line=5'>6</a>\u001b[0m     \u001b[39mprint\u001b[39m(b)  \u001b[39m# error since Python compiles the body of the function, it decides that b is a local variable\u001b[39;00m\n\u001b[0;32m      <a href='vscode-notebook-cell:/g%3A/%EB%82%B4%20%EB%93%9C%EB%9D%BC%EC%9D%B4%EB%B8%8C/study/fluent_python/II%20Functions%20as%20Objects/9_Decorators%20and%20Closures.ipynb#X11sZmlsZQ%3D%3D?line=6'>7</a>\u001b[0m     b \u001b[39m=\u001b[39m \u001b[39m9\u001b[39m\n",
      "\u001b[1;31mUnboundLocalError\u001b[0m: local variable 'b' referenced before assignment"
     ]
    }
   ],
   "source": [
    "# Example 9-4. Variable b is local, because it is assigned a value in the body of the function\n",
    "b = 6\n",
    "\n",
    "def f2(a):\n",
    "    print(a)\n",
    "    print(b)  # error since Python compiles the body of the function, it decides that b is a local variable\n",
    "    b = 9\n",
    "\n",
    "f2(3)"
   ]
  },
  {
   "cell_type": "code",
   "execution_count": 9,
   "id": "fb09b710",
   "metadata": {},
   "outputs": [
    {
     "name": "stdout",
     "output_type": "stream",
     "text": [
      "3\n",
      "6\n",
      "9\n"
     ]
    }
   ],
   "source": [
    "b = 6\n",
    "\n",
    "def f2_g(a):\n",
    "    global b\n",
    "    print(a)\n",
    "    print(b)\n",
    "    b = 9\n",
    "\n",
    "f2_g(3)\n",
    "print(b)"
   ]
  },
  {
   "cell_type": "code",
   "execution_count": 10,
   "id": "76fc62e4",
   "metadata": {},
   "outputs": [
    {
     "name": "stdout",
     "output_type": "stream",
     "text": [
      "  4           0 LOAD_GLOBAL              0 (print)\n",
      "              2 LOAD_FAST                0 (a)\n",
      "              4 CALL_FUNCTION            1\n",
      "              6 POP_TOP\n",
      "\n",
      "  5           8 LOAD_GLOBAL              0 (print)\n",
      "             10 LOAD_GLOBAL              1 (b)\n",
      "             12 CALL_FUNCTION            1\n",
      "             14 POP_TOP\n",
      "             16 LOAD_CONST               0 (None)\n",
      "             18 RETURN_VALUE\n"
     ]
    }
   ],
   "source": [
    "# Example 9-5. Disassembly of the f1 function from Example 9-3\n",
    "\n",
    "from dis import dis\n",
    "dis(f1)"
   ]
  },
  {
   "cell_type": "code",
   "execution_count": 13,
   "id": "070cee30",
   "metadata": {},
   "outputs": [
    {
     "name": "stdout",
     "output_type": "stream",
     "text": [
      "  5           0 LOAD_GLOBAL              0 (print)\n",
      "              2 LOAD_FAST                0 (a)\n",
      "              4 CALL_FUNCTION            1\n",
      "              6 POP_TOP\n",
      "\n",
      "  6           8 LOAD_GLOBAL              0 (print)\n",
      "             10 LOAD_FAST                1 (b)\n",
      "             12 CALL_FUNCTION            1\n",
      "             14 POP_TOP\n",
      "\n",
      "  7          16 LOAD_CONST               1 (9)\n",
      "             18 STORE_FAST               1 (b)\n",
      "             20 LOAD_CONST               0 (None)\n",
      "             22 RETURN_VALUE\n"
     ]
    }
   ],
   "source": [
    "# Example 9-6. Disassembly of the f2 function from Example 9-4\n",
    "dis(f2)"
   ]
  },
  {
   "attachments": {},
   "cell_type": "markdown",
   "id": "40db2995",
   "metadata": {},
   "source": [
    "### Closures\n",
    "\n",
    "A closure is a function—let’s call it f—with an extended scope that encompasses\n",
    "variables referenced in the body of f that are not global variables or local variables\n",
    "of f. Such variables must come from the local scope of an outer function that\n",
    "encompasses f.\n",
    "\n",
    "It does not matter whether the function is anonymous or not; what matters is that it\n",
    "can access nonglobal variables that are defined outside of its body."
   ]
  },
  {
   "cell_type": "code",
   "execution_count": 14,
   "id": "3a4c49ab",
   "metadata": {},
   "outputs": [],
   "source": [
    "# Example 9-7. average_oo.py: a class to calculate a running average\n",
    "\n",
    "class Averager():\n",
    "    def __init__(self):\n",
    "        self.series = []\n",
    "\n",
    "    def __call__(self, new_value):\n",
    "        self.series.append(new_value)\n",
    "        total = sum(self.series)\n",
    "        return total / len(self.series)"
   ]
  },
  {
   "cell_type": "code",
   "execution_count": 15,
   "id": "d9cb4962",
   "metadata": {},
   "outputs": [
    {
     "name": "stdout",
     "output_type": "stream",
     "text": [
      "10.0\n",
      "10.5\n",
      "11.0\n"
     ]
    }
   ],
   "source": [
    "avg = Averager()\n",
    "print(avg(10))\n",
    "print(avg(11))\n",
    "print(avg(12))"
   ]
  },
  {
   "cell_type": "code",
   "execution_count": 16,
   "id": "4e558bd7",
   "metadata": {},
   "outputs": [],
   "source": [
    "# Example 9-8. average.py: a higher-order function to calculate a running average\n",
    "\n",
    "def make_averager():\n",
    "    series = []\n",
    "    \n",
    "    def averager(new_value):\n",
    "        series.append(new_value)\n",
    "        total = sum(series)\n",
    "        return total / len(series)\n",
    "    return averager"
   ]
  },
  {
   "cell_type": "code",
   "execution_count": 17,
   "id": "a7c40009",
   "metadata": {},
   "outputs": [
    {
     "name": "stdout",
     "output_type": "stream",
     "text": [
      "10.0\n",
      "10.5\n",
      "12.0\n"
     ]
    }
   ],
   "source": [
    "avg = make_averager()\n",
    "print(avg(10))\n",
    "print(avg(11))\n",
    "print(avg(15))"
   ]
  },
  {
   "cell_type": "code",
   "execution_count": 21,
   "id": "a589d67b",
   "metadata": {},
   "outputs": [
    {
     "name": "stdout",
     "output_type": "stream",
     "text": [
      "('new_value', 'total')\n",
      "('series',)\n"
     ]
    }
   ],
   "source": [
    "# Example 9-10. Inspecting the function created by make_averager in Example 9-8\n",
    "\n",
    "print(avg.__code__.co_varnames)\n",
    "print(avg.__code__.co_freevars)"
   ]
  },
  {
   "cell_type": "code",
   "execution_count": 18,
   "id": "7b228f25",
   "metadata": {},
   "outputs": [
    {
     "name": "stdout",
     "output_type": "stream",
     "text": [
      "('series',)\n",
      "(<cell at 0x00000245A0102E30: list object at 0x00000245A1C770C0>,)\n",
      "[10, 11, 15]\n"
     ]
    }
   ],
   "source": [
    "# Example 9-11. Continuing from Example 9-9\n",
    "\n",
    "print(avg.__code__.co_freevars)\n",
    "print(avg.__closure__)\n",
    "print(avg.__closure__[0].cell_contents)"
   ]
  },
  {
   "cell_type": "markdown",
   "id": "fe0c3077",
   "metadata": {},
   "source": [
    "### The nonlocal Declaration"
   ]
  },
  {
   "cell_type": "code",
   "execution_count": 19,
   "id": "444786fa",
   "metadata": {},
   "outputs": [],
   "source": [
    "# Example 9-12. A broken higher-order function to calculate a running average without keeping all history\n",
    "\n",
    "def make_averager():\n",
    "    count = 0\n",
    "    total = 0\n",
    "    \n",
    "    def averager(new_value):\n",
    "        count += 1\n",
    "        total += new_value\n",
    "        return total / count\n",
    "    return averager"
   ]
  },
  {
   "cell_type": "code",
   "execution_count": 20,
   "id": "bb202821",
   "metadata": {},
   "outputs": [
    {
     "ename": "UnboundLocalError",
     "evalue": "local variable 'count' referenced before assignment",
     "output_type": "error",
     "traceback": [
      "\u001b[1;31m---------------------------------------------------------------------------\u001b[0m",
      "\u001b[1;31mUnboundLocalError\u001b[0m                         Traceback (most recent call last)",
      "\u001b[1;32mg:\\내 드라이브\\study\\fluent_python\\II Functions as Objects\\9_Decorators and Closures.ipynb 셀 22\u001b[0m in \u001b[0;36m<cell line: 2>\u001b[1;34m()\u001b[0m\n\u001b[0;32m      <a href='vscode-notebook-cell:/g%3A/%EB%82%B4%20%EB%93%9C%EB%9D%BC%EC%9D%B4%EB%B8%8C/study/fluent_python/II%20Functions%20as%20Objects/9_Decorators%20and%20Closures.ipynb#X25sZmlsZQ%3D%3D?line=0'>1</a>\u001b[0m avg \u001b[39m=\u001b[39m make_averager()\n\u001b[1;32m----> <a href='vscode-notebook-cell:/g%3A/%EB%82%B4%20%EB%93%9C%EB%9D%BC%EC%9D%B4%EB%B8%8C/study/fluent_python/II%20Functions%20as%20Objects/9_Decorators%20and%20Closures.ipynb#X25sZmlsZQ%3D%3D?line=1'>2</a>\u001b[0m avg(\u001b[39m10\u001b[39;49m)\n",
      "\u001b[1;32mg:\\내 드라이브\\study\\fluent_python\\II Functions as Objects\\9_Decorators and Closures.ipynb 셀 22\u001b[0m in \u001b[0;36mmake_averager.<locals>.averager\u001b[1;34m(new_value)\u001b[0m\n\u001b[0;32m      <a href='vscode-notebook-cell:/g%3A/%EB%82%B4%20%EB%93%9C%EB%9D%BC%EC%9D%B4%EB%B8%8C/study/fluent_python/II%20Functions%20as%20Objects/9_Decorators%20and%20Closures.ipynb#X25sZmlsZQ%3D%3D?line=6'>7</a>\u001b[0m \u001b[39mdef\u001b[39;00m \u001b[39maverager\u001b[39m(new_value):\n\u001b[1;32m----> <a href='vscode-notebook-cell:/g%3A/%EB%82%B4%20%EB%93%9C%EB%9D%BC%EC%9D%B4%EB%B8%8C/study/fluent_python/II%20Functions%20as%20Objects/9_Decorators%20and%20Closures.ipynb#X25sZmlsZQ%3D%3D?line=7'>8</a>\u001b[0m     count \u001b[39m+\u001b[39m\u001b[39m=\u001b[39m \u001b[39m1\u001b[39m\n\u001b[0;32m      <a href='vscode-notebook-cell:/g%3A/%EB%82%B4%20%EB%93%9C%EB%9D%BC%EC%9D%B4%EB%B8%8C/study/fluent_python/II%20Functions%20as%20Objects/9_Decorators%20and%20Closures.ipynb#X25sZmlsZQ%3D%3D?line=8'>9</a>\u001b[0m     total \u001b[39m+\u001b[39m\u001b[39m=\u001b[39m new_value\n\u001b[0;32m     <a href='vscode-notebook-cell:/g%3A/%EB%82%B4%20%EB%93%9C%EB%9D%BC%EC%9D%B4%EB%B8%8C/study/fluent_python/II%20Functions%20as%20Objects/9_Decorators%20and%20Closures.ipynb#X25sZmlsZQ%3D%3D?line=9'>10</a>\u001b[0m     \u001b[39mreturn\u001b[39;00m total \u001b[39m/\u001b[39m count\n",
      "\u001b[1;31mUnboundLocalError\u001b[0m: local variable 'count' referenced before assignment"
     ]
    }
   ],
   "source": [
    "avg = make_averager()\n",
    "avg(10)"
   ]
  },
  {
   "cell_type": "code",
   "execution_count": 21,
   "id": "f0a852d8",
   "metadata": {},
   "outputs": [],
   "source": [
    "# Example 9-13. Calculate a running average without keeping all history (fixed with the use of nonlocal)\n",
    "\n",
    "def make_averager():\n",
    "    count = 0\n",
    "    total = 0\n",
    "    \n",
    "    def averager(new_value):\n",
    "        nonlocal count, total\n",
    "        count += 1\n",
    "        total += new_value\n",
    "        return total / count\n",
    "    return averager"
   ]
  },
  {
   "cell_type": "code",
   "execution_count": 22,
   "id": "eaf5e9db",
   "metadata": {},
   "outputs": [
    {
     "data": {
      "text/plain": [
       "10.0"
      ]
     },
     "execution_count": 22,
     "metadata": {},
     "output_type": "execute_result"
    }
   ],
   "source": [
    "avg = make_averager()\n",
    "avg(10)"
   ]
  },
  {
   "cell_type": "code",
   "execution_count": 1,
   "id": "af793d4b",
   "metadata": {},
   "outputs": [],
   "source": [
    "# Example 9-14. clockdeco0.py: simple decorator to show the running time of functions\n",
    "\n",
    "import time\n",
    "#TODO \n",
    "def clock(func):\n",
    "    def clocked(*args):\n",
    "        t0 = time.perf_counter()\n",
    "        result = func(*args)\n",
    "        elapsed = time.perf_counter() - t0\n",
    "        name = func.__name__\n",
    "        arg_str = ', '.join(repr(arg) for arg in args)\n",
    "        print(f'[{elapsed:0.8f}s] {name}({arg_str}) -> {result!r}')\n",
    "        return result\n",
    "    return clocked"
   ]
  },
  {
   "cell_type": "code",
   "execution_count": 2,
   "id": "b0ba6f06",
   "metadata": {},
   "outputs": [
    {
     "name": "stdout",
     "output_type": "stream",
     "text": [
      "**************************************** Calling snooze(.123)\n",
      "[0.13812970s] snooze(0.123) -> None\n",
      "**************************************** Calling factorial(6)\n",
      "[0.00000720s] factorial(1) -> 1\n",
      "[0.00002200s] factorial(2) -> 2\n",
      "[0.00002840s] factorial(3) -> 6\n",
      "[0.00003360s] factorial(4) -> 24\n",
      "[0.00003950s] factorial(5) -> 120\n",
      "[0.00004610s] factorial(6) -> 720\n",
      "6! = 720\n",
      "\n",
      "clocked\n"
     ]
    }
   ],
   "source": [
    "# Example 9-15. Using the clock decorator\n",
    "\n",
    "import time\n",
    "\n",
    "@clock\n",
    "def snooze(seconds):\n",
    "    time.sleep(seconds)\n",
    "\n",
    "@clock\n",
    "def factorial(n):\n",
    "    return 1 if n < 2 else n*factorial(n-1)\n",
    "\n",
    "print('*' * 40, 'Calling snooze(.123)')\n",
    "snooze(.123)\n",
    "print('*' * 40, 'Calling factorial(6)')\n",
    "print('6! =', factorial(6))\n",
    "print()\n",
    "print(factorial.__name__)"
   ]
  },
  {
   "cell_type": "code",
   "execution_count": 3,
   "id": "88573c50",
   "metadata": {},
   "outputs": [],
   "source": [
    "# Example 9-16. clockdeco.py: an improved clock decorator\n",
    "\n",
    "import time\n",
    "import functools\n",
    "\n",
    "def clock(func):\n",
    "    @functools.wraps(func)\n",
    "    def clocked(*args, **kwargs):  # support keyword arguments\n",
    "        t0 = time.perf_counter()\n",
    "        result = func(*args, **kwargs)\n",
    "        elapsed = time.perf_counter() - t0\n",
    "        name = func.__name__\n",
    "        arg_lst = [repr(arg) for arg in args]\n",
    "        arg_lst.extend(f'{k}={v!r}' for k, v in kwargs.items())\n",
    "        arg_str = ', '.join(arg_lst)\n",
    "        print(f'[{elapsed:0.8f}s] {name}({arg_str}) -> {result!r}')\n",
    "        return result\n",
    "    return clocked"
   ]
  },
  {
   "cell_type": "code",
   "execution_count": 4,
   "id": "79de61dd",
   "metadata": {},
   "outputs": [
    {
     "name": "stdout",
     "output_type": "stream",
     "text": [
      "**************************************** Calling factorial(6)\n",
      "[0.00000060s] factorial(1) -> 1\n",
      "[0.00002170s] factorial(2) -> 2\n",
      "[0.00003190s] factorial(3) -> 6\n",
      "[0.00004080s] factorial(4) -> 24\n",
      "[0.00004970s] factorial(5) -> 120\n",
      "[0.00005880s] factorial(6) -> 720\n",
      "6! = 720\n",
      "\n",
      "factorial\n",
      "[0.00000070s] add(2, 3) -> 5\n"
     ]
    },
    {
     "data": {
      "text/plain": [
       "5"
      ]
     },
     "execution_count": 4,
     "metadata": {},
     "output_type": "execute_result"
    }
   ],
   "source": [
    "@clock\n",
    "def factorial(n):\n",
    "    return 1 if n < 2 else n*factorial(n-1)\n",
    "\n",
    "print('*' * 40, 'Calling factorial(6)')\n",
    "print('6! =', factorial(6))\n",
    "print()\n",
    "print(factorial.__name__)\n",
    "\n",
    "@clock\n",
    "def add(a, b):\n",
    "    return a+b\n",
    "\n",
    "add(2,3)"
   ]
  },
  {
   "cell_type": "markdown",
   "id": "1a54b686",
   "metadata": {},
   "source": [
    "### Decorators in the Standard Library"
   ]
  },
  {
   "cell_type": "code",
   "execution_count": 19,
   "id": "74b837f1",
   "metadata": {},
   "outputs": [
    {
     "name": "stdout",
     "output_type": "stream",
     "text": [
      "[0.00000070s] fibonacci(0) -> 0\n",
      "[0.00000070s] fibonacci(1) -> 1\n",
      "[0.00009590s] fibonacci(2) -> 1\n",
      "[0.00000050s] fibonacci(1) -> 1\n",
      "[0.00000070s] fibonacci(0) -> 0\n",
      "[0.00000030s] fibonacci(1) -> 1\n",
      "[0.00001570s] fibonacci(2) -> 1\n",
      "[0.00003080s] fibonacci(3) -> 2\n",
      "[0.00014390s] fibonacci(4) -> 3\n",
      "[0.00000040s] fibonacci(1) -> 1\n",
      "[0.00000030s] fibonacci(0) -> 0\n",
      "[0.00000030s] fibonacci(1) -> 1\n",
      "[0.00001530s] fibonacci(2) -> 1\n",
      "[0.00003120s] fibonacci(3) -> 2\n",
      "[0.00000040s] fibonacci(0) -> 0\n",
      "[0.00000040s] fibonacci(1) -> 1\n",
      "[0.00001480s] fibonacci(2) -> 1\n",
      "[0.00000050s] fibonacci(1) -> 1\n",
      "[0.00000050s] fibonacci(0) -> 0\n",
      "[0.00000050s] fibonacci(1) -> 1\n",
      "[0.00001450s] fibonacci(2) -> 1\n",
      "[0.00002940s] fibonacci(3) -> 2\n",
      "[0.00005820s] fibonacci(4) -> 3\n",
      "[0.00010350s] fibonacci(5) -> 5\n",
      "[0.00026260s] fibonacci(6) -> 8\n",
      "8\n"
     ]
    }
   ],
   "source": [
    "# Momoization with functools.cache\n",
    "\n",
    "# Example 9-17. The very costly recursive way to compute the nth number in the Fibonacci series\n",
    "\n",
    "@clock\n",
    "def fibonacci(n):\n",
    "    if n < 2:\n",
    "        return n\n",
    "    return fibonacci(n-2) + fibonacci(n-1)\n",
    "\n",
    "print(fibonacci(6))"
   ]
  },
  {
   "cell_type": "code",
   "execution_count": 22,
   "id": "5e2c7144",
   "metadata": {},
   "outputs": [
    {
     "name": "stdout",
     "output_type": "stream",
     "text": [
      "[0.00000080s] fibonacci(0) -> 0\n",
      "[0.00000150s] fibonacci(1) -> 1\n",
      "[0.00050650s] fibonacci(2) -> 1\n",
      "[0.00000130s] fibonacci(3) -> 2\n",
      "[0.00053060s] fibonacci(4) -> 3\n",
      "[0.00000080s] fibonacci(5) -> 5\n",
      "[0.00055150s] fibonacci(6) -> 8\n"
     ]
    },
    {
     "data": {
      "text/plain": [
       "8"
      ]
     },
     "execution_count": 22,
     "metadata": {},
     "output_type": "execute_result"
    }
   ],
   "source": [
    "# Example 9-18. Faster implementation using caching\n",
    "import functools\n",
    "\n",
    "@functools.cache\n",
    "# @functools.lru_cache(maxsize=2**20, typed=True)\n",
    "@clock\n",
    "def fibonacci(n):\n",
    "    if n < 2:\n",
    "        return n\n",
    "    return fibonacci(n - 2) + fibonacci(n - 1)\n",
    "\n",
    "fibonacci(6)"
   ]
  },
  {
   "cell_type": "code",
   "execution_count": 24,
   "id": "d1bd9fe7",
   "metadata": {},
   "outputs": [],
   "source": [
    "# Example 9-20. @singledispatch creates a custom @htmlize.register to bundle\n",
    "# several functions into a generic function\n",
    "\n",
    "from functools import singledispatch\n",
    "from collections import abc\n",
    "import fractions\n",
    "import decimal\n",
    "import html\n",
    "import numbers\n",
    "\n",
    "@singledispatch\n",
    "def htmlize(obj: object) -> str:\n",
    "    content = html.escape(repr(obj))\n",
    "    return f'<pre>{content}</pre>'\n",
    "\n",
    "@htmlize.register\n",
    "def _(text: str) -> str:\n",
    "    content = html.escape(text).replace('\\n', '<br/>\\n')\n",
    "    return f'<p>{content}</p>'\n",
    "\n",
    "@htmlize.register\n",
    "def _(seq: abc.Sequence) -> str:\n",
    "    inner = '</li>\\n<li>'.join(htmlize(item) for item in seq)\n",
    "    return '<ul>\\n<li>' + inner + '</li>\\n</ul>'\n",
    "\n",
    "@htmlize.register\n",
    "def _(n: numbers.Integral) -> str:\n",
    "    return f'<pre>{n} (0x{n:x})</pre>'\n",
    "\n",
    "@htmlize.register\n",
    "def _(n: bool) -> str:\n",
    "    return f'<pre>{n}</pre>'\n",
    "\n",
    "@htmlize.register(fractions.Fraction)\n",
    "def _(x) -> str:\n",
    "    frac = fractions.Fraction(x)\n",
    "    return f'<pre>{frac.numerator}/{frac.denominator}</pre>'\n",
    "\n",
    "\n",
    "@htmlize.register(decimal.Decimal)\n",
    "@htmlize.register(float)\n",
    "def _(x) -> str:\n",
    "    frac = fractions.Fraction(x).limit_denominator()\n",
    "    return f'<pre>{x} ({frac.numerator}/{frac.denominator})</pre>'"
   ]
  },
  {
   "cell_type": "code",
   "execution_count": 28,
   "id": "633ca112",
   "metadata": {},
   "outputs": [
    {
     "name": "stdout",
     "output_type": "stream",
     "text": [
      "<pre>{1, 2, 3}</pre>\n",
      "\n",
      "<pre>&lt;built-in function abs&gt;</pre>\n",
      "\n",
      "<p>Heimlich &amp; Co.<br/>\n",
      "- a game</p>\n",
      "\n",
      "<pre>42 (0x2a)</pre>\n",
      "\n",
      "<ul>\n",
      "<li><p>alpha</p></li>\n",
      "<li><pre>66 (0x42)</pre></li>\n",
      "<li><pre>{1, 2, 3}</pre></li>\n",
      "</ul>\n",
      "\n",
      "<pre>True</pre>\n",
      "\n",
      "<pre>2/3</pre>\n",
      "\n",
      "<pre>0.6666666666666666 (2/3)</pre>\n",
      "\n",
      "<pre>0.02380952 (1/42)</pre>\n"
     ]
    }
   ],
   "source": [
    "#Example 9-19. htmlize() generates HTML tailored to different object types\n",
    "print(htmlize({1, 2, 3}))\n",
    "print()\n",
    "print(htmlize(abs))\n",
    "print()\n",
    "print(htmlize('Heimlich & Co.\\n- a game'))\n",
    "print()\n",
    "print(htmlize(42))\n",
    "print()\n",
    "print(htmlize(['alpha', 66, {3, 2, 1}]))\n",
    "print()\n",
    "print(htmlize(True))\n",
    "print()\n",
    "print(htmlize(fractions.Fraction(2, 3)))\n",
    "print()\n",
    "print(htmlize(2/3))\n",
    "print()\n",
    "print(htmlize(decimal.Decimal('0.02380952')))"
   ]
  },
  {
   "attachments": {},
   "cell_type": "markdown",
   "id": "2a98d206",
   "metadata": {},
   "source": [
    "### Parameterized Decorators"
   ]
  },
  {
   "cell_type": "code",
   "execution_count": 32,
   "id": "6a5f2d23",
   "metadata": {},
   "outputs": [
    {
     "name": "stdout",
     "output_type": "stream",
     "text": [
      "running register(<function f1 at 0x000002299633F7F0>)\n",
      "running main()\n",
      "registry -> [<function f1 at 0x000002299633F7F0>]\n",
      "running f1()\n"
     ]
    }
   ],
   "source": [
    "# Example 9-21. Abridged registration.py module from Example 9-2, repeated here for convenience\n",
    "\n",
    "registry = []\n",
    "\n",
    "def register(func):\n",
    "    print(f'running register({func})')\n",
    "    registry.append(func)\n",
    "    return func\n",
    "\n",
    "@register\n",
    "def f1():\n",
    "    print('running f1()')\n",
    "\n",
    "print('running main()')\n",
    "print('registry ->', registry)\n",
    "f1()\n"
   ]
  },
  {
   "cell_type": "code",
   "execution_count": 33,
   "id": "2d77b7cc",
   "metadata": {},
   "outputs": [
    {
     "name": "stdout",
     "output_type": "stream",
     "text": [
      "running register(active=False)->decorate(<function f1 at 0x00000229963F9120>)\n",
      "running register(active=True)->decorate(<function f2 at 0x00000229963F8EE0>)\n"
     ]
    }
   ],
   "source": [
    "# Example 9-22. To accept parameters, the new register decorator must be called as a function\n",
    "\n",
    "registry = set()\n",
    "\n",
    "def register(active=True):\n",
    "    def decorate(func):\n",
    "        print('running register'\n",
    "            f'(active={active})->decorate({func})')\n",
    "        if active:\n",
    "            registry.add(func)\n",
    "        else:\n",
    "            registry.discard(func)\n",
    "        return func\n",
    "    return decorate\n",
    "\n",
    "@register(active=False)\n",
    "def f1():\n",
    "    print('running f1()')\n",
    "\n",
    "@register()\n",
    "def f2():\n",
    "    print('running f2()')\n",
    "\n",
    "def f3():\n",
    "    print('running f3()')"
   ]
  },
  {
   "cell_type": "code",
   "execution_count": 35,
   "id": "d03c1530",
   "metadata": {},
   "outputs": [
    {
     "name": "stdout",
     "output_type": "stream",
     "text": [
      "{<function f2 at 0x00000229963F8EE0>, <function f3 at 0x000002299633F7F0>}\n",
      "running register(active=True)->decorate(<function f3 at 0x000002299633F7F0>)\n",
      "{<function f2 at 0x00000229963F8EE0>, <function f3 at 0x000002299633F7F0>}\n",
      "running register(active=False)->decorate(<function f2 at 0x00000229963F8EE0>)\n",
      "{<function f3 at 0x000002299633F7F0>}\n"
     ]
    }
   ],
   "source": [
    "# Example 9-23. Using the registration_param module listed in Example 9-22\n",
    "\n",
    "print(registry)\n",
    "\n",
    "register()(f3)\n",
    "print(registry)\n",
    "\n",
    "register(active=False)(f2)\n",
    "print(registry)"
   ]
  },
  {
   "cell_type": "code",
   "execution_count": 38,
   "id": "1b8196c5",
   "metadata": {},
   "outputs": [
    {
     "name": "stdout",
     "output_type": "stream",
     "text": [
      "[0.13453820s] snooze(0.123) -> None\n",
      "[0.12487040s] snooze(0.123) -> None\n",
      "[0.12577670s] snooze(0.123) -> None\n"
     ]
    }
   ],
   "source": [
    "# Example 9-24. Module clockdeco_param.py: the parameterized clock decorator\n",
    "\n",
    "import time\n",
    "\n",
    "DEFAULT_FMT = '[{elapsed:0.8f}s] {name}({args}) -> {result}'\n",
    "\n",
    "def clock(fmt=DEFAULT_FMT):\n",
    "    def decorate(func):\n",
    "        def clocked(*_args):\n",
    "            t0 = time.perf_counter()\n",
    "            _result = func(*_args)\n",
    "            elapsed = time.perf_counter() - t0\n",
    "            name = func.__name__\n",
    "            args = ', '.join(repr(arg) for arg in _args)\n",
    "            result = repr(_result)\n",
    "            print(fmt.format(**locals()))\n",
    "            return _result\n",
    "        return clocked\n",
    "    return decorate\n",
    "\n",
    "@clock()\n",
    "def snooze(seconds):\n",
    "    time.sleep(seconds)\n",
    "\n",
    "for i in range(3):\n",
    "    snooze(.123)"
   ]
  },
  {
   "cell_type": "code",
   "execution_count": 40,
   "id": "58a13675",
   "metadata": {},
   "outputs": [
    {
     "name": "stdout",
     "output_type": "stream",
     "text": [
      "snooze: 0.12677700001222547s\n",
      "snooze: 0.12342639999405947s\n",
      "snooze: 0.12494510000396986s\n"
     ]
    }
   ],
   "source": [
    "# Example 9-25. clockdeco_param_demo1.py\n",
    "\n",
    "import time\n",
    "\n",
    "@clock('{name}: {elapsed}s')\n",
    "def snooze(seconds):\n",
    "    time.sleep(seconds)\n",
    "\n",
    "for i in range(3):\n",
    "    snooze(.123)"
   ]
  },
  {
   "cell_type": "code",
   "execution_count": 41,
   "id": "2af40f34",
   "metadata": {},
   "outputs": [
    {
     "name": "stdout",
     "output_type": "stream",
     "text": [
      "snooze(0.123) dt=0.137s\n",
      "snooze(0.123) dt=0.124s\n",
      "snooze(0.123) dt=0.126s\n"
     ]
    }
   ],
   "source": [
    "# Example 9-26. clockdeco_param_demo2.py\n",
    "\n",
    "import time\n",
    "\n",
    "@clock('{name}({args}) dt={elapsed:0.3f}s')\n",
    "def snooze(seconds):\n",
    "    time.sleep(seconds)\n",
    "\n",
    "for i in range(3):\n",
    "    snooze(.123)"
   ]
  },
  {
   "cell_type": "code",
   "execution_count": null,
   "id": "0357e3ea",
   "metadata": {},
   "outputs": [],
   "source": [
    "# Example 9-27. Module clockdeco_cls.py: parameterized clock decorator implemented as class\n",
    "import time\n",
    "\n",
    "DEFAULT_FMT = '[{elapsed:0.8f}s] {name}({args}) -> {result}'\n",
    "\n",
    "class clock:\n",
    "    def __init__(self, fmt=DEFAULT_FMT):\n",
    "        self.fmt = fmt\n",
    "\n",
    "    def __call__(self, func):\n",
    "        def clocked(*_args):\n",
    "            t0 = time.perf_counter()\n",
    "            _result = func(*_args)\n",
    "            elapsed = time.perf_counter() - t0\n",
    "            name = func.__name__\n",
    "            args = ', '.join(repr(arg) for arg in _args)\n",
    "            result = repr(_result)\n",
    "            print(self.fmt.format(**locals()))\n",
    "            return _result\n",
    "        return clocked"
   ]
  },
  {
   "cell_type": "code",
   "execution_count": 16,
   "id": "89771006",
   "metadata": {},
   "outputs": [
    {
     "name": "stdout",
     "output_type": "stream",
     "text": [
      "0 2\n",
      "1 3\n",
      "Result: 5\n",
      "a 3\n",
      "b 4\n",
      "Result: 7\n"
     ]
    },
    {
     "data": {
      "text/plain": [
       "7"
      ]
     },
     "execution_count": 16,
     "metadata": {},
     "output_type": "execute_result"
    }
   ],
   "source": [
    "from collections.abc import Iterable\n",
    "import functools\n",
    "# test\n",
    "def unit_test_data_gen(func):\n",
    "    @functools.wraps(func)\n",
    "    def unit_test_data_gen(*args, **kwargs):\n",
    "        for i, argument in enumerate(args):\n",
    "            print(i, argument)\n",
    "        for k, v in kwargs.items():\n",
    "            print(k, v)\n",
    "        result = func(*args, **kwargs)        \n",
    "        if isinstance(result, Iterable):\n",
    "            for i, ret in enumerate(result):\n",
    "                print(\"Result: \", i, ret)\n",
    "        else:\n",
    "            print('Result:', result)\n",
    "        return result\n",
    "    return unit_test_data_gen\n",
    "\n",
    "@unit_test_data_gen\n",
    "def add(a, b):\n",
    "    return a+b\n",
    "\n",
    "add(2, 3)\n",
    "add(a=3, b=4)"
   ]
  }
 ],
 "metadata": {
  "kernelspec": {
   "display_name": "Python 3",
   "language": "python",
   "name": "python3"
  },
  "language_info": {
   "codemirror_mode": {
    "name": "ipython",
    "version": 3
   },
   "file_extension": ".py",
   "mimetype": "text/x-python",
   "name": "python",
   "nbconvert_exporter": "python",
   "pygments_lexer": "ipython3",
   "version": "3.10.7"
  },
  "vscode": {
   "interpreter": {
    "hash": "a9e2c7703114bb33d9bb95f9f1c7ade36d0cd0b5dec40cd5c5afcfa9f59c771a"
   }
  }
 },
 "nbformat": 4,
 "nbformat_minor": 5
}
