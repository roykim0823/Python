{
 "cells": [
  {
   "attachments": {},
   "cell_type": "markdown",
   "id": "abb4a53e",
   "metadata": {},
   "source": [
    "## Chapter 7. First-Class Functions\n",
    "\n",
    "Functions in Python are first-class objects. Programming language researchers define a “first-class object” as a program entity that can be:\n",
    "- Created at runtime\n",
    "- Assigned to a variable or element in a data structure\n",
    "- Passed as an argument to a function\n",
    "- Returned as the result of a function\n",
    "\n",
    "Integers, strings, and dictionaries are other examples of first-class objects in Python—nothing fancy here."
   ]
  },
  {
   "cell_type": "markdown",
   "id": "c33267d7",
   "metadata": {},
   "source": [
    "### Treating a Function Like an Object"
   ]
  },
  {
   "cell_type": "code",
   "execution_count": 1,
   "id": "00572314",
   "metadata": {},
   "outputs": [
    {
     "name": "stdout",
     "output_type": "stream",
     "text": [
      "1405006117752879898543142606244511569936384000000000\n",
      "returns n!\n",
      "<class 'function'>\n"
     ]
    }
   ],
   "source": [
    "# Example 7-1. Create and test a function, then read its __doc__ and check its type\n",
    "\n",
    "def factorial(n):\n",
    "    '''returns n!'''\n",
    "    return 1 if n < 2 else n * factorial(n-1)\n",
    "\n",
    "print(factorial(42))\n",
    "print(factorial.__doc__)\n",
    "print(type(factorial))"
   ]
  },
  {
   "cell_type": "code",
   "execution_count": 3,
   "id": "00ba8554",
   "metadata": {},
   "outputs": [
    {
     "name": "stdout",
     "output_type": "stream",
     "text": [
      "<function factorial at 0x000001DDD8EBFD00>\n",
      "120\n",
      "<map object at 0x000001DDDA1A4E50>\n",
      "[1, 1, 2, 6, 24, 120, 720, 5040, 40320, 362880, 3628800]\n"
     ]
    }
   ],
   "source": [
    "# Example 7-2. Use function through a different name, and pass function as argument\n",
    "\n",
    "fact = factorial\n",
    "print(fact)\n",
    "print(fact(5))\n",
    "\n",
    "print(map(factorial, range(11)))\n",
    "print(list(map(factorial, range(11))))"
   ]
  },
  {
   "attachments": {},
   "cell_type": "markdown",
   "id": "0345c819",
   "metadata": {},
   "source": [
    "### Higher-Order Function\n",
    "\n",
    "A function that takes a function as an argument or returns a function as the result is a\n",
    "higher-order function."
   ]
  },
  {
   "cell_type": "code",
   "execution_count": 8,
   "id": "ff54a298",
   "metadata": {},
   "outputs": [
    {
     "data": {
      "text/plain": [
       "['fig', 'apple', 'cherry', 'banana', 'raspberry', 'strawberry']"
      ]
     },
     "execution_count": 8,
     "metadata": {},
     "output_type": "execute_result"
    }
   ],
   "source": [
    "# Example 7-3. Sorting a list of words by length\n",
    "\n",
    "fruits = ['strawberry', 'fig', 'apple', 'cherry', 'raspberry', 'banana']\n",
    "sorted(fruits, key=len)  # Higher-Order Function: it takes len() as an argument"
   ]
  },
  {
   "cell_type": "code",
   "execution_count": 9,
   "id": "9faf15b0",
   "metadata": {},
   "outputs": [
    {
     "name": "stdout",
     "output_type": "stream",
     "text": [
      "gnitset\n",
      "['banana', 'apple', 'fig', 'raspberry', 'strawberry', 'cherry']\n"
     ]
    }
   ],
   "source": [
    "# Example 7-4. Sorting a list of words by their reversed spelling\n",
    "\n",
    "def reverse(word):\n",
    "    return word[::-1]\n",
    "\n",
    "print(reverse('testing'))\n",
    "print(sorted(fruits, key=reverse))"
   ]
  },
  {
   "cell_type": "markdown",
   "id": "5287b0ad",
   "metadata": {},
   "source": [
    "#### Modern Replacements for map, filter, and reduce"
   ]
  },
  {
   "cell_type": "code",
   "execution_count": 4,
   "id": "cc96618f",
   "metadata": {},
   "outputs": [
    {
     "name": "stdout",
     "output_type": "stream",
     "text": [
      "[1, 1, 2, 6, 24, 120]\n",
      "[1, 1, 2, 6, 24, 120]\n",
      "[1, 6, 120]\n",
      "[1, 6, 120]\n"
     ]
    }
   ],
   "source": [
    "# Example 7-5. Lists of factorials produced with map and filter compared to alternatives coded as list comprehensions\n",
    "\n",
    "print(list(map(fact, range(6))))\n",
    "print([fact(n) for n in range(6)])  # a list comprehension\n",
    "\n",
    "print(list(map(factorial, filter(lambda n: n % 2, range(6)))))\n",
    "print([factorial(n) for n in range(6) if n % 2])  # List comprehension without map, filter and lambda"
   ]
  },
  {
   "cell_type": "code",
   "execution_count": 5,
   "id": "1492d7b1",
   "metadata": {},
   "outputs": [
    {
     "name": "stdout",
     "output_type": "stream",
     "text": [
      "4950\n",
      "4950\n"
     ]
    }
   ],
   "source": [
    "# Example 7-6. Sum of integers up to 99 performed with reduce and sum\n",
    "\n",
    "from functools import reduce\n",
    "from operator import add\n",
    "\n",
    "print(reduce(add, range(100)))\n",
    "print(sum(range(100)))  # Same task using sum; without importing "
   ]
  },
  {
   "cell_type": "code",
   "execution_count": 2,
   "id": "08ecaf42",
   "metadata": {},
   "outputs": [],
   "source": [
    "# Extra: Python all() and any() builtins\n",
    "# ref: https://docs.python.org/3/library/functions.html#all\n",
    "\n",
    "# Return True if all elements of the iterable are true (or if the iterable is empty).\n",
    "# Equivalent to:\n",
    "def all(iterable):\n",
    "    for element in iterable:\n",
    "        if not element:\n",
    "            return False\n",
    "    return True\n",
    "\n",
    "# Return True if any element of the iterable is true. If the iterable is empty, return False.\n",
    "# Equivalent to:\n",
    "def any(iterable):\n",
    "    for element in iterable:\n",
    "        if element:\n",
    "            return True\n",
    "    return False"
   ]
  },
  {
   "cell_type": "code",
   "execution_count": 22,
   "id": "ec9f48c1",
   "metadata": {},
   "outputs": [
    {
     "data": {
      "text/plain": [
       "['banana', 'apple', 'fig', 'raspberry', 'strawberry', 'cherry']"
      ]
     },
     "execution_count": 22,
     "metadata": {},
     "output_type": "execute_result"
    }
   ],
   "source": [
    "# Example 7-7. Sorting a list of words by their reversed spelling using lambda\n",
    "\n",
    "fruits = ['strawberry', 'fig', 'apple', 'cherry', 'raspberry', 'banana']\n",
    "sorted(fruits, key=lambda word: word[::-1])"
   ]
  },
  {
   "attachments": {},
   "cell_type": "markdown",
   "id": "86a24fa1",
   "metadata": {},
   "source": [
    "## The Nine Flavors of Callable Objects"
   ]
  },
  {
   "cell_type": "code",
   "execution_count": 23,
   "id": "460d364b",
   "metadata": {},
   "outputs": [
    {
     "data": {
      "text/plain": [
       "[True, True, False]"
      ]
     },
     "execution_count": 23,
     "metadata": {},
     "output_type": "execute_result"
    }
   ],
   "source": [
    "[callable(obj) for obj in (abs, str, 13)]"
   ]
  },
  {
   "attachments": {},
   "cell_type": "markdown",
   "id": "20d18f6d",
   "metadata": {},
   "source": [
    "### User-Defined Callable Types\n",
    "\n",
    "- User-defined functions\n",
    "    - Created with def statements or lambda expressions.\n",
    "- Built-in functions\n",
    "    - A function implemented in C (for CPython), like len or time.strftime.\n",
    "- Built-in methods\n",
    "    - Methods implemented in C, like dict.get.\n",
    "- Methods\n",
    "    - Functions defined in the body of a class.\n",
    "- Classes\n",
    "    - When invoked, a class runs its __new__ method to create an instance, then __init__ to initialize it, and finally the instance is returned to the caller. Because there is no new operator in Python, calling a class is like calling a function.2\n",
    "- Class instances\n",
    "    - If a class defines a __call__ method, then its instances may be invoked as functions— that’s the subject of the next section.\n",
    "- Generator functions\n",
    "    - Functions or methods that use the yield keyword in their body. When called, they return a generator object.\n",
    "- Native coroutine functions\n",
    "    - Functions or methods defined with async def. When called, they return a coroutine object. Added in Python 3.5.\n",
    "- Asynchronous generator functions\n",
    "    - Functions or methods defined with async def that have yield in their body. When called, they return an asynchronous generator for use with async for. Added in Python 3.6."
   ]
  },
  {
   "cell_type": "code",
   "execution_count": 3,
   "id": "23158e6c",
   "metadata": {},
   "outputs": [],
   "source": [
    "# Example 7-8. bingocall.py: A BingoCage does one thing: picks items from a shuffled list\n",
    "\n",
    "import random\n",
    "\n",
    "class BingoCage:\n",
    "    def __init__(self, items):\n",
    "        self._items = list(items)\n",
    "        random.shuffle(self._items)\n",
    "\n",
    "    def pick(self):\n",
    "        try:\n",
    "            return self._items.pop()\n",
    "        except IndexError:\n",
    "            raise LookupError('pick from empty BingoCage')\n",
    "\n",
    "    def __call__(self):\n",
    "        return self.pick()"
   ]
  },
  {
   "cell_type": "code",
   "execution_count": 4,
   "id": "852f0398",
   "metadata": {},
   "outputs": [
    {
     "name": "stdout",
     "output_type": "stream",
     "text": [
      "2\n",
      "1\n",
      "True\n"
     ]
    }
   ],
   "source": [
    "bingo = BingoCage(range(3))\n",
    "print(bingo.pick())\n",
    "print(bingo())  # call __call__\n",
    "print(callable(bingo))"
   ]
  },
  {
   "cell_type": "markdown",
   "id": "e01ce93e",
   "metadata": {},
   "source": [
    "### Function Introspection"
   ]
  },
  {
   "cell_type": "code",
   "execution_count": 26,
   "id": "fcda11d0",
   "metadata": {},
   "outputs": [
    {
     "data": {
      "text/plain": [
       "['__annotations__',\n",
       " '__builtins__',\n",
       " '__call__',\n",
       " '__class__',\n",
       " '__closure__',\n",
       " '__code__',\n",
       " '__defaults__',\n",
       " '__delattr__',\n",
       " '__dict__',\n",
       " '__dir__',\n",
       " '__doc__',\n",
       " '__eq__',\n",
       " '__format__',\n",
       " '__ge__',\n",
       " '__get__',\n",
       " '__getattribute__',\n",
       " '__globals__',\n",
       " '__gt__',\n",
       " '__hash__',\n",
       " '__init__',\n",
       " '__init_subclass__',\n",
       " '__kwdefaults__',\n",
       " '__le__',\n",
       " '__lt__',\n",
       " '__module__',\n",
       " '__name__',\n",
       " '__ne__',\n",
       " '__new__',\n",
       " '__qualname__',\n",
       " '__reduce__',\n",
       " '__reduce_ex__',\n",
       " '__repr__',\n",
       " '__setattr__',\n",
       " '__sizeof__',\n",
       " '__str__',\n",
       " '__subclasshook__']"
      ]
     },
     "execution_count": 26,
     "metadata": {},
     "output_type": "execute_result"
    }
   ],
   "source": [
    "dir(factorial)  # return the list of attributes"
   ]
  },
  {
   "cell_type": "code",
   "execution_count": 15,
   "id": "9abdfb05",
   "metadata": {},
   "outputs": [
    {
     "data": {
      "text/plain": [
       "['__annotations__',\n",
       " '__call__',\n",
       " '__closure__',\n",
       " '__code__',\n",
       " '__defaults__',\n",
       " '__get__',\n",
       " '__globals__',\n",
       " '__kwdefaults__',\n",
       " '__name__',\n",
       " '__qualname__']"
      ]
     },
     "execution_count": 15,
     "metadata": {},
     "output_type": "execute_result"
    }
   ],
   "source": [
    "# Listing attributes of functions that don’t exist in plain instances\n",
    "\n",
    "class C: pass\n",
    "obj = C()\n",
    "def func(): pass\n",
    "# list attributes of functions that don't exist in plain instances\n",
    "sorted(set(dir(func)) - set(dir(obj)))"
   ]
  },
  {
   "cell_type": "markdown",
   "id": "8eff70a2",
   "metadata": {},
   "source": [
    "### From Positional to Kerywork-Only Parameters"
   ]
  },
  {
   "cell_type": "code",
   "execution_count": 16,
   "id": "057b8aa7",
   "metadata": {},
   "outputs": [],
   "source": [
    "# Example 7-9. tag generates HTML; a keyword-only argument cls is used to pass\n",
    "# “class” attributes as a workaround because class is a keyword in Python\n",
    "\n",
    "def tag(name, *content, cls=None, **attrs):\n",
    "    \"\"\"Generate one or more HTML tags\"\"\"\n",
    "    if cls is not None:\n",
    "        attrs['class'] = cls\n",
    "    if attrs:\n",
    "        attr_str = ''.join(' %s=\"%s\"' % (attr, value)\n",
    "                           for attr, value\n",
    "                           in sorted(attrs.items()))\n",
    "    else:\n",
    "        attr_str = ''\n",
    "    if content:\n",
    "        return '\\n'.join('<%s%s>%s</%s>' %\n",
    "                         (name, attr_str, c, name) for c in content)\n",
    "    else:\n",
    "        return '<%s%s />' % (name, attr_str)"
   ]
  },
  {
   "cell_type": "code",
   "execution_count": 17,
   "id": "7072fd8b",
   "metadata": {},
   "outputs": [
    {
     "name": "stdout",
     "output_type": "stream",
     "text": [
      "<br />\n",
      "<p>hello</p>\n",
      "<p>hello</p>\n",
      "<p>world</p>\n",
      "<p id=\"33\">hello</p>\n",
      "<p class=\"sidebar\">hello</p>\n",
      "<p class=\"sidebar\">world</p>\n",
      "<img content=\"testing\" />\n"
     ]
    },
    {
     "data": {
      "text/plain": [
       "'<img class=\"framed\" src=\"sunset.jpg\" title=\"Sunset Boulevard\" />'"
      ]
     },
     "execution_count": 17,
     "metadata": {},
     "output_type": "execute_result"
    }
   ],
   "source": [
    "# Example 7-10. Some of the many ways of calling the tag function from Example 7-9\n",
    "\n",
    "print(tag('br'))\n",
    "print(tag('p', 'hello'))\n",
    "print(tag('p', 'hello', 'world'))\n",
    "print(tag('p', 'hello', id=33))\n",
    "\n",
    "print(tag('p', 'hello', 'world', cls='sidebar'))\n",
    "print(tag(content='testing', name=\"img\"))\n",
    "\n",
    "my_tag = {'name': 'img', 'title': 'Sunset Boulevard', 'src': 'sunset.jpg', 'cls': 'framed'}\n",
    "tag(**my_tag)  # ** passes all its items as separate arguments"
   ]
  },
  {
   "cell_type": "code",
   "execution_count": 3,
   "id": "ddce330d",
   "metadata": {},
   "outputs": [
    {
     "name": "stdout",
     "output_type": "stream",
     "text": [
      "(1, 2)\n"
     ]
    }
   ],
   "source": [
    "def f(a, *, b):  # *, b is keyword-only argument\n",
    "    return a, b\n",
    "\n",
    "print(f(1, b=2))\n",
    "# print(f(1, 2, 3))  # Type error "
   ]
  },
  {
   "cell_type": "code",
   "execution_count": 20,
   "id": "d7f40d75",
   "metadata": {},
   "outputs": [
    {
     "name": "stdout",
     "output_type": "stream",
     "text": [
      "(4, 0)\n"
     ]
    }
   ],
   "source": [
    "def divmod(a, b, /):  # positional-only argument\n",
    "    return (a // b, a % b)\n",
    "\n",
    "print(divmod(20, 5))\n",
    "# print(divmod(a=10, b=5))  # error"
   ]
  },
  {
   "cell_type": "markdown",
   "id": "813ae13e",
   "metadata": {},
   "source": [
    "### Packages for Functional Programming\n",
    "#### The Operator Module"
   ]
  },
  {
   "cell_type": "code",
   "execution_count": 21,
   "id": "cfdf2c1b",
   "metadata": {},
   "outputs": [
    {
     "name": "stdout",
     "output_type": "stream",
     "text": [
      "24\n",
      "120\n",
      "24\n",
      "120\n"
     ]
    }
   ],
   "source": [
    "# Example 7-11. Factorial implemented with reduce and an anonymous function\n",
    "\n",
    "from functools import reduce\n",
    "from operator import mul\n",
    "\n",
    "def factorial_reduce_lambda(n):\n",
    "    return reduce(lambda a, b: a * b, range(1, n+1))\n",
    "\n",
    "def factorial_reduce_mul(n):\n",
    "    return reduce(mul, range(1, n+1))\n",
    "\n",
    "print(factorial_reduce_lambda(4))\n",
    "print(factorial_reduce_lambda(5))\n",
    "print(factorial_reduce_mul(4))\n",
    "print(factorial_reduce_mul(5))"
   ]
  },
  {
   "cell_type": "code",
   "execution_count": 22,
   "id": "5fdce516",
   "metadata": {},
   "outputs": [
    {
     "name": "stdout",
     "output_type": "stream",
     "text": [
      "('Sao Paulo', 'BR', 19.649, (-23.547778, -46.635833))\n",
      "('Delhi NCR', 'IN', 21.935, (28.613889, 77.208889))\n",
      "('Tokyo', 'JP', 36.933, (35.689722, 139.691667))\n",
      "('Mexico City', 'MX', 20.142, (19.433333, -99.133333))\n",
      "('New York-Newark', 'US', 20.104, (40.808611, -74.020386))\n",
      "\n",
      "('JP', 'Tokyo')\n",
      "('IN', 'Delhi NCR')\n",
      "('MX', 'Mexico City')\n",
      "('US', 'New York-Newark')\n",
      "('BR', 'Sao Paulo')\n"
     ]
    }
   ],
   "source": [
    "# Example 7-13. Demo of itemgetter to sort a list of tuples (data from Example 2-8)\n",
    "\n",
    "metro_data = [\n",
    "    ('Tokyo', 'JP', 36.933, (35.689722, 139.691667)),\n",
    "    ('Delhi NCR', 'IN', 21.935, (28.613889, 77.208889)),\n",
    "    ('Mexico City', 'MX', 20.142, (19.433333, -99.133333)),\n",
    "    ('New York-Newark', 'US', 20.104, (40.808611, -74.020386)),\n",
    "    ('Sao Paulo', 'BR', 19.649, (-23.547778, -46.635833)),\n",
    "    ]\n",
    "\n",
    "from operator import itemgetter\n",
    "\n",
    "for city in sorted(metro_data, key = itemgetter(1)):  # itemgetter replaces the below lambda\n",
    "#for city in sorted(metro_data, key = lambda fields: fields[1]):\n",
    "    print(city)\n",
    "print()\n",
    "\n",
    "cc_name = itemgetter(1, 0)\n",
    "for city in metro_data:\n",
    "    print(cc_name(city))"
   ]
  },
  {
   "cell_type": "code",
   "execution_count": 54,
   "id": "832bc0a1",
   "metadata": {},
   "outputs": [
    {
     "name": "stdout",
     "output_type": "stream",
     "text": [
      "Metropolis(name='Tokyo', cc='JP', pop=36.933, coord=LatLong(lat=35.689722, long=139.691667))\n",
      "35.689722\n",
      "\n",
      "('Sao Paulo', -23.547778)\n",
      "('Mexico City', 19.433333)\n",
      "('Delhi NCR', 28.613889)\n",
      "('Tokyo', 35.689722)\n",
      "('New York-Newark', 40.808611)\n"
     ]
    }
   ],
   "source": [
    "# Example 7-14. Demo of attrgetter to process a previously defined list of namedtuplecalled metro_data\n",
    "\n",
    "from collections import namedtuple\n",
    "LatLong = namedtuple('LatLong', 'lat long')\n",
    "Metropolis = namedtuple('Metropolis', 'name cc pop coord')\n",
    "metro_areas = [Metropolis(name, cc, pop, LatLong(lat, long))\n",
    "    for name, cc, pop, (lat, long) in metro_data]\n",
    "\n",
    "print(metro_areas[0])\n",
    "print(metro_areas[0].coord.lat)\n",
    "print()\n",
    "\n",
    "from operator import attrgetter\n",
    "name_lat = attrgetter('name', 'coord.lat')\n",
    "for city in sorted(metro_areas, key=attrgetter('coord.lat')):\n",
    "    print(name_lat(city))"
   ]
  },
  {
   "cell_type": "code",
   "execution_count": 56,
   "id": "fc2b5024",
   "metadata": {},
   "outputs": [
    {
     "data": {
      "text/plain": [
       "['abs',\n",
       " 'add',\n",
       " 'and_',\n",
       " 'attrgetter',\n",
       " 'concat',\n",
       " 'contains',\n",
       " 'countOf',\n",
       " 'delitem',\n",
       " 'eq',\n",
       " 'floordiv',\n",
       " 'ge',\n",
       " 'getitem',\n",
       " 'gt',\n",
       " 'iadd',\n",
       " 'iand',\n",
       " 'iconcat',\n",
       " 'ifloordiv',\n",
       " 'ilshift',\n",
       " 'imatmul',\n",
       " 'imod',\n",
       " 'imul',\n",
       " 'index',\n",
       " 'indexOf',\n",
       " 'inv',\n",
       " 'invert',\n",
       " 'ior',\n",
       " 'ipow',\n",
       " 'irshift',\n",
       " 'is_',\n",
       " 'is_not',\n",
       " 'isub',\n",
       " 'itemgetter',\n",
       " 'itruediv',\n",
       " 'ixor',\n",
       " 'le',\n",
       " 'length_hint',\n",
       " 'lshift',\n",
       " 'lt',\n",
       " 'matmul',\n",
       " 'methodcaller',\n",
       " 'mod',\n",
       " 'mul',\n",
       " 'ne',\n",
       " 'neg',\n",
       " 'not_',\n",
       " 'or_',\n",
       " 'pos',\n",
       " 'pow',\n",
       " 'rshift',\n",
       " 'setitem',\n",
       " 'sub',\n",
       " 'truediv',\n",
       " 'truth',\n",
       " 'xor']"
      ]
     },
     "execution_count": 56,
     "metadata": {},
     "output_type": "execute_result"
    }
   ],
   "source": [
    "import operator\n",
    "[name for name in dir(operator) if not name.startswith('_')]"
   ]
  },
  {
   "cell_type": "code",
   "execution_count": 57,
   "id": "e9e20796",
   "metadata": {},
   "outputs": [
    {
     "name": "stdout",
     "output_type": "stream",
     "text": [
      "THE TIME HAS COME\n",
      "The-time-has-come\n"
     ]
    }
   ],
   "source": [
    "# Example 7-15. Demo of methodcaller: second test shows the binding of extra arguments\n",
    "\n",
    "from operator import methodcaller\n",
    "\n",
    "s = 'The time has come'\n",
    "upcase = methodcaller('upper')\n",
    "print(upcase(s))\n",
    "hiphenate = methodcaller('replace', ' ', '-')\n",
    "print(hiphenate(s))"
   ]
  },
  {
   "cell_type": "markdown",
   "id": "77126a2d",
   "metadata": {},
   "source": [
    "#### Freezing Arguments with functools.partial"
   ]
  },
  {
   "cell_type": "code",
   "execution_count": 23,
   "id": "31521114",
   "metadata": {},
   "outputs": [
    {
     "name": "stdout",
     "output_type": "stream",
     "text": [
      "21\n"
     ]
    },
    {
     "data": {
      "text/plain": [
       "[3, 6, 9, 12, 15, 18, 21, 24, 27]"
      ]
     },
     "execution_count": 23,
     "metadata": {},
     "output_type": "execute_result"
    }
   ],
   "source": [
    "# Example 7-16. Using partial to use a two-argument function where a one-argument callable is required\n",
    "\n",
    "from operator import mul\n",
    "from functools import partial\n",
    "\n",
    "triple = partial(mul, 3)  # binding first positional argument to 3\n",
    "print(triple(7))\n",
    "\n",
    "list(map(triple, range(1,10)))"
   ]
  },
  {
   "cell_type": "code",
   "execution_count": 59,
   "id": "8afcdd91",
   "metadata": {},
   "outputs": [
    {
     "name": "stdout",
     "output_type": "stream",
     "text": [
      "café café\n",
      "False\n",
      "True\n"
     ]
    }
   ],
   "source": [
    "# Example 7-17. Building a convenient Unicode normalizing function with partial\n",
    "\n",
    "import unicodedata, functools\n",
    "nfc = functools.partial(unicodedata.normalize, 'NFC')\n",
    "s1 = 'café'\n",
    "s2 = 'cafe\\u0301'\n",
    "print(s1, s2)\n",
    "print(s1 == s2)\n",
    "print(nfc(s1) == nfc(s2))"
   ]
  },
  {
   "cell_type": "code",
   "execution_count": 64,
   "id": "e266ba7f",
   "metadata": {},
   "outputs": [
    {
     "name": "stdout",
     "output_type": "stream",
     "text": [
      "<function tag at 0x00000224596452D0>\n",
      "\n",
      "<img class=\"pic-frame\" src=\"wumpus.jpeg\" />\n",
      "functools.partial(<function tag at 0x00000224596452D0>, 'img', cls='pic-frame')\n",
      "<function tag at 0x00000224596452D0>\n",
      "('img',)\n",
      "{'cls': 'pic-frame'}\n"
     ]
    }
   ],
   "source": [
    "# Example 7-18. Demo of partial applied to the function tag from Example 7-9\n",
    "print(tag)\n",
    "print()\n",
    "\n",
    "from functools import partial\n",
    "picture = partial(tag, 'img', cls='pic-frame')\n",
    "print(picture(src='wumpus.jpeg'))\n",
    "print(picture)\n",
    "print(picture.func)\n",
    "print(picture.args)\n",
    "print(picture.keywords)"
   ]
  }
 ],
 "metadata": {
  "kernelspec": {
   "display_name": "Python 3.10.7 64-bit",
   "language": "python",
   "name": "python3"
  },
  "language_info": {
   "codemirror_mode": {
    "name": "ipython",
    "version": 3
   },
   "file_extension": ".py",
   "mimetype": "text/x-python",
   "name": "python",
   "nbconvert_exporter": "python",
   "pygments_lexer": "ipython3",
   "version": "3.10.7"
  },
  "vscode": {
   "interpreter": {
    "hash": "a9e2c7703114bb33d9bb95f9f1c7ade36d0cd0b5dec40cd5c5afcfa9f59c771a"
   }
  }
 },
 "nbformat": 4,
 "nbformat_minor": 5
}
