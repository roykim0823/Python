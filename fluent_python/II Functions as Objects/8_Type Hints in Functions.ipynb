{
 "cells": [
  {
   "cell_type": "markdown",
   "id": "d7f6e536",
   "metadata": {},
   "source": [
    "## Chapter 8. Type Hints in Functions"
   ]
  },
  {
   "cell_type": "code",
   "execution_count": 1,
   "id": "dd41c807",
   "metadata": {},
   "outputs": [],
   "source": [
    "# Example 8-1. show_count from messages.py without type hints\n",
    "\n",
    "def show_count(count, word):\n",
    "    if count == 1:\n",
    "        return f'1 {word}'\n",
    "    count_str = str(count) if count else 'no'\n",
    "    return f'{count_str} {word}s'"
   ]
  },
  {
   "cell_type": "code",
   "execution_count": 4,
   "id": "d42f170a",
   "metadata": {},
   "outputs": [
    {
     "name": "stdout",
     "output_type": "stream",
     "text": [
      "99 birds\n",
      "1 bird\n",
      "no birds\n"
     ]
    }
   ],
   "source": [
    "print(show_count(99, 'bird'))\n",
    "print(show_count(1, 'bird'))\n",
    "print(show_count(0, 'bird'))"
   ]
  },
  {
   "cell_type": "code",
   "execution_count": 3,
   "id": "def30678",
   "metadata": {},
   "outputs": [],
   "source": [
    "# Example 8-3. showcount from hints_2/messages.py with an optional parameter\n",
    "\n",
    "def show_count(count: int, singular: str, plural: str = '') -> str:\n",
    "    if count == 1:\n",
    "        return f'1 {singular}'\n",
    "    count_str = str(count) if count else 'no'\n",
    "    if not plural:\n",
    "        plural = singular + 's'\n",
    "    return f'{count_str} {plural}'"
   ]
  },
  {
   "cell_type": "code",
   "execution_count": null,
   "id": "ec60e902",
   "metadata": {},
   "outputs": [],
   "source": [
    "from typing import Optional\n",
    "\n",
    "# Use None instead of '' for str default\n",
    "def show_count(count: int, singular: str, plural: Optional[str] = None) -> str:\n",
    "    if count == 1:\n",
    "        return f'1 {singular}'\n",
    "    count_str = str(count) if count else 'no'\n",
    "    if not plural:\n",
    "        plural = singular + 's'\n",
    "    return f'{count_str} {plural}'"
   ]
  },
  {
   "cell_type": "code",
   "execution_count": 5,
   "id": "a9159c4b",
   "metadata": {},
   "outputs": [],
   "source": [
    "# Example 8-4 is a silly example that contrasts duck typing and nominal typing, as well\n",
    "# as static type checking and runtime behavior.6\n",
    "\n",
    "class Bird:\n",
    "    pass\n",
    "\n",
    "class Duck(Bird):\n",
    "    def quack(self):\n",
    "        print('Quack!')\n",
    "\n",
    "def alert(birdie):\n",
    "    birdie.quack()\n",
    "\n",
    "def alert_duck(birdie: Duck) -> None:\n",
    "    birdie.quack()\n",
    "\n",
    "def alert_bird(birdie: Bird) -> None:  # Wrong type annotation\n",
    "    birdie.quack()"
   ]
  },
  {
   "cell_type": "code",
   "execution_count": 6,
   "id": "b4a275a4",
   "metadata": {},
   "outputs": [
    {
     "name": "stdout",
     "output_type": "stream",
     "text": [
      "Quack!\n",
      "Quack!\n",
      "Quack!\n"
     ]
    }
   ],
   "source": [
    "# Example 8-5. daffy.py\n",
    "\n",
    "daffy = Duck()\n",
    "alert(daffy)\n",
    "alert_duck(daffy)\n",
    "alert_bird(daffy)"
   ]
  },
  {
   "cell_type": "code",
   "execution_count": 7,
   "id": "8f0dc068",
   "metadata": {},
   "outputs": [
    {
     "ename": "AttributeError",
     "evalue": "'Bird' object has no attribute 'quack'",
     "output_type": "error",
     "traceback": [
      "\u001b[1;31m---------------------------------------------------------------------------\u001b[0m",
      "\u001b[1;31mAttributeError\u001b[0m                            Traceback (most recent call last)",
      "\u001b[1;32mg:\\내 드라이브\\study\\fluent_python\\II Functions as Objects\\8_Type Hints in Functions.ipynb Cell 8\u001b[0m in \u001b[0;36m<cell line: 4>\u001b[1;34m()\u001b[0m\n\u001b[0;32m      <a href='vscode-notebook-cell:/g%3A/%EB%82%B4%20%EB%93%9C%EB%9D%BC%EC%9D%B4%EB%B8%8C/study/fluent_python/II%20Functions%20as%20Objects/8_Type%20Hints%20in%20Functions.ipynb#X13sZmlsZQ%3D%3D?line=0'>1</a>\u001b[0m \u001b[39m# Example 8-6. woody.py\u001b[39;00m\n\u001b[0;32m      <a href='vscode-notebook-cell:/g%3A/%EB%82%B4%20%EB%93%9C%EB%9D%BC%EC%9D%B4%EB%B8%8C/study/fluent_python/II%20Functions%20as%20Objects/8_Type%20Hints%20in%20Functions.ipynb#X13sZmlsZQ%3D%3D?line=2'>3</a>\u001b[0m woody \u001b[39m=\u001b[39m Bird()\n\u001b[1;32m----> <a href='vscode-notebook-cell:/g%3A/%EB%82%B4%20%EB%93%9C%EB%9D%BC%EC%9D%B4%EB%B8%8C/study/fluent_python/II%20Functions%20as%20Objects/8_Type%20Hints%20in%20Functions.ipynb#X13sZmlsZQ%3D%3D?line=3'>4</a>\u001b[0m alert(woody)\n\u001b[0;32m      <a href='vscode-notebook-cell:/g%3A/%EB%82%B4%20%EB%93%9C%EB%9D%BC%EC%9D%B4%EB%B8%8C/study/fluent_python/II%20Functions%20as%20Objects/8_Type%20Hints%20in%20Functions.ipynb#X13sZmlsZQ%3D%3D?line=4'>5</a>\u001b[0m alert_duck(woody)\n\u001b[0;32m      <a href='vscode-notebook-cell:/g%3A/%EB%82%B4%20%EB%93%9C%EB%9D%BC%EC%9D%B4%EB%B8%8C/study/fluent_python/II%20Functions%20as%20Objects/8_Type%20Hints%20in%20Functions.ipynb#X13sZmlsZQ%3D%3D?line=5'>6</a>\u001b[0m alert_bird(woody)\n",
      "\u001b[1;32mg:\\내 드라이브\\study\\fluent_python\\II Functions as Objects\\8_Type Hints in Functions.ipynb Cell 8\u001b[0m in \u001b[0;36malert\u001b[1;34m(birdie)\u001b[0m\n\u001b[0;32m     <a href='vscode-notebook-cell:/g%3A/%EB%82%B4%20%EB%93%9C%EB%9D%BC%EC%9D%B4%EB%B8%8C/study/fluent_python/II%20Functions%20as%20Objects/8_Type%20Hints%20in%20Functions.ipynb#X13sZmlsZQ%3D%3D?line=10'>11</a>\u001b[0m \u001b[39mdef\u001b[39;00m \u001b[39malert\u001b[39m(birdie):\n\u001b[1;32m---> <a href='vscode-notebook-cell:/g%3A/%EB%82%B4%20%EB%93%9C%EB%9D%BC%EC%9D%B4%EB%B8%8C/study/fluent_python/II%20Functions%20as%20Objects/8_Type%20Hints%20in%20Functions.ipynb#X13sZmlsZQ%3D%3D?line=11'>12</a>\u001b[0m     birdie\u001b[39m.\u001b[39;49mquack()\n",
      "\u001b[1;31mAttributeError\u001b[0m: 'Bird' object has no attribute 'quack'"
     ]
    }
   ],
   "source": [
    "# Example 8-6. woody.py\n",
    "\n",
    "woody = Bird()\n",
    "alert(woody)\n",
    "alert_duck(woody)\n",
    "alert_bird(woody)"
   ]
  },
  {
   "cell_type": "code",
   "execution_count": 1,
   "id": "bcb3ec02",
   "metadata": {},
   "outputs": [],
   "source": [
    "# Example 8-8. tokenize with type hints for Python ≥ 3.9\n",
    "\n",
    "def tokenize(text: str) -> list[str]:\n",
    "    return text.upper().split()"
   ]
  },
  {
   "cell_type": "code",
   "execution_count": 3,
   "id": "1971173e",
   "metadata": {},
   "outputs": [],
   "source": [
    "# Example 8-11. coordinates.py with the geohash function\n",
    "\n",
    "from geolib import geohash as gh # type: ignore\n",
    "\n",
    "PRECISION = 9\n",
    "\n",
    "def geohash(lat_lon: tuple[float, float]) -> str:\n",
    "    return gh.encode(*lat_lon, PRECISION)"
   ]
  },
  {
   "cell_type": "code",
   "execution_count": 4,
   "id": "7f7a2855",
   "metadata": {},
   "outputs": [],
   "source": [
    "# Example 8-12. coordinates_named.py with the NamedTuple Coordinates and the geo hash function\n",
    "from typing import NamedTuple\n",
    "from geolib import geohash as gh # type: ignore\n",
    "\n",
    "PRECISION = 9\n",
    "\n",
    "class Coordinate(NamedTuple):\n",
    "    lat: float\n",
    "    lon: float\n",
    "\n",
    "def geohash(lat_lon: Coordinate) -> str:\n",
    "    return gh.encode(*lat_lon, PRECISION)"
   ]
  },
  {
   "cell_type": "code",
   "execution_count": 5,
   "id": "94c0b66c",
   "metadata": {},
   "outputs": [],
   "source": [
    "# Example 8-13. columnize.py returns a list of tuples of strings\n",
    "\n",
    "from collections.abc import Sequence\n",
    "\n",
    "def columnize(\n",
    "sequence: Sequence[str], num_columns: int = 0\n",
    ") -> list[tuple[str, ...]]:\n",
    "    if num_columns == 0:\n",
    "        num_columns = round(len(sequence) ** 0.5)\n",
    "    num_rows, reminder = divmod(len(sequence), num_columns)\n",
    "    num_rows += bool(reminder)\n",
    "    return [tuple(sequence[i::num_rows]) for i in range(num_rows)]"
   ]
  },
  {
   "attachments": {},
   "cell_type": "markdown",
   "id": "f8fe2403",
   "metadata": {},
   "source": [
    "### Iterable\n",
    "\n",
    "The typing.List documentation I just quoted recommends Sequence and Iterable\n",
    "for function parameter type hints."
   ]
  },
  {
   "cell_type": "code",
   "execution_count": 7,
   "id": "594b4dd6",
   "metadata": {},
   "outputs": [],
   "source": [
    "# Example 8-15. replacer.py\n",
    "\n",
    "from collections.abc import Iterable\n",
    "\n",
    "FromTo = tuple[str, str]\n",
    "\n",
    "def zip_replace(text: str, changes: Iterable[FromTo]) -> str:\n",
    "    for from_, to in changes:\n",
    "        text = text.replace(from_, to)\n",
    "    return text"
   ]
  },
  {
   "cell_type": "code",
   "execution_count": 8,
   "id": "67fea2ac",
   "metadata": {},
   "outputs": [
    {
     "data": {
      "text/plain": [
       "'m4d sk1ll3d n00b p0wn3d l33t'"
      ]
     },
     "execution_count": 8,
     "metadata": {},
     "output_type": "execute_result"
    }
   ],
   "source": [
    "l33t = [('a', '4'), ('e', '3'), ('i', '1'), ('o', '0')]\n",
    "text = 'mad skilled noob powned leet'\n",
    "zip_replace(text, l33t)"
   ]
  },
  {
   "cell_type": "code",
   "execution_count": 9,
   "id": "3f1bcd3a",
   "metadata": {},
   "outputs": [],
   "source": [
    "# Parameterized Generics and TypeVar\n",
    "# Example 8-16. sample.py\n",
    "\n",
    "from collections.abc import Sequence\n",
    "from random import shuffle\n",
    "from typing import TypeVar\n",
    "\n",
    "T = TypeVar('T')\n",
    "\n",
    "def sample(population: Sequence[T], size: int) -> list[T]:\n",
    "    if size < 1:\n",
    "        raise ValueError('size must be >= 1')\n",
    "    result = list(population)\n",
    "    shuffle(result)\n",
    "    return result[:size]"
   ]
  },
  {
   "cell_type": "code",
   "execution_count": 10,
   "id": "beaf684f",
   "metadata": {},
   "outputs": [],
   "source": [
    "# Example 8-17. mode_float.py: mode that operates on float and subtypes13\n",
    "from collections import Counter\n",
    "from collections.abc import Iterable\n",
    "\n",
    "def mode(data: Iterable[float]) -> float:\n",
    "    pairs = Counter(data).most_common(1)\n",
    "    if len(pairs) == 0:\n",
    "        raise ValueError('no mode for empty data')\n",
    "    return pairs[0][0]"
   ]
  },
  {
   "cell_type": "code",
   "execution_count": null,
   "id": "4a8e04d7",
   "metadata": {},
   "outputs": [],
   "source": [
    "# Example 8-18. mode_hashable.py: same as Example 8-17, with a more flexible signature\n",
    "from collections import Counter\n",
    "from collections.abc import Iterable, Hashable\n",
    "from typing import TypeVar\n",
    "\n",
    "HashableT = TypeVar('HashableT', bound=Hashable)\n",
    "\n",
    "def mode(data: Iterable[HashableT]) -> HashableT:\n",
    "    pairs = Counter(data).most_common(1)\n",
    "    if len(pairs) == 0:\n",
    "        raise ValueError('no mode for empty data')\n",
    "    return pairs[0][0]"
   ]
  },
  {
   "attachments": {},
   "cell_type": "markdown",
   "id": "8cf10d69",
   "metadata": {},
   "source": [
    "### Static Protocol\n",
    "\n",
    "The Protocol type, as presented in PEP 544—Protocols: Structural subtyping (static\n",
    "duck typing), is similar to interfaces in Go: a protocol type is defined by specifying\n",
    "one or more methods, and the type checker verifies that those methods are implemented\n",
    "where that protocol type is required.\n"
   ]
  },
  {
   "cell_type": "code",
   "execution_count": 11,
   "id": "fe42eb8d",
   "metadata": {},
   "outputs": [],
   "source": [
    "# Example 8-19. top function with an undefined T type parameter\n",
    "def top(series: Iterable[T], length: int) -> list[T]:\n",
    "    ordered = sorted(series, reverse=True)\n",
    "    return ordered[:length]"
   ]
  },
  {
   "cell_type": "code",
   "execution_count": 25,
   "id": "eabe5609",
   "metadata": {},
   "outputs": [
    {
     "name": "stdout",
     "output_type": "stream",
     "text": [
      "[7, 6, 5]\n",
      "['pear', 'mango', 'kiwi']\n",
      "[(5, 'mango'), (4, 'pear'), (5, 'apple'), (4, 'kiwi'), (6, 'banana')]\n",
      "[(6, 'banana'), (5, 'mango'), (5, 'apple')]\n",
      "[<object object at 0x0000027853188C30>, <object object at 0x0000027853188C70>, <object object at 0x0000027853188C80>, <object object at 0x0000027853188C90>]\n"
     ]
    },
    {
     "ename": "TypeError",
     "evalue": "'<' not supported between instances of 'object' and 'object'",
     "output_type": "error",
     "traceback": [
      "\u001b[1;31m---------------------------------------------------------------------------\u001b[0m",
      "\u001b[1;31mTypeError\u001b[0m                                 Traceback (most recent call last)",
      "\u001b[1;32mg:\\내 드라이브\\study\\fluent_python\\II Functions as Objects\\8_Type Hints in Functions.ipynb 셀 21\u001b[0m in \u001b[0;36m<cell line: 13>\u001b[1;34m()\u001b[0m\n\u001b[0;32m     <a href='vscode-notebook-cell:/g%3A/%EB%82%B4%20%EB%93%9C%EB%9D%BC%EC%9D%B4%EB%B8%8C/study/fluent_python/II%20Functions%20as%20Objects/8_Type%20Hints%20in%20Functions.ipynb#X33sZmlsZQ%3D%3D?line=10'>11</a>\u001b[0m obj_no_sort_key \u001b[39m=\u001b[39m [\u001b[39mobject\u001b[39m() \u001b[39mfor\u001b[39;00m _ \u001b[39min\u001b[39;00m \u001b[39mrange\u001b[39m(\u001b[39m4\u001b[39m)]\n\u001b[0;32m     <a href='vscode-notebook-cell:/g%3A/%EB%82%B4%20%EB%93%9C%EB%9D%BC%EC%9D%B4%EB%B8%8C/study/fluent_python/II%20Functions%20as%20Objects/8_Type%20Hints%20in%20Functions.ipynb#X33sZmlsZQ%3D%3D?line=11'>12</a>\u001b[0m \u001b[39mprint\u001b[39m(obj_no_sort_key)\n\u001b[1;32m---> <a href='vscode-notebook-cell:/g%3A/%EB%82%B4%20%EB%93%9C%EB%9D%BC%EC%9D%B4%EB%B8%8C/study/fluent_python/II%20Functions%20as%20Objects/8_Type%20Hints%20in%20Functions.ipynb#X33sZmlsZQ%3D%3D?line=12'>13</a>\u001b[0m \u001b[39mprint\u001b[39m(top(obj_no_sort_key, \u001b[39m2\u001b[39;49m))\n",
      "\u001b[1;32mg:\\내 드라이브\\study\\fluent_python\\II Functions as Objects\\8_Type Hints in Functions.ipynb 셀 21\u001b[0m in \u001b[0;36mtop\u001b[1;34m(series, length)\u001b[0m\n\u001b[0;32m      <a href='vscode-notebook-cell:/g%3A/%EB%82%B4%20%EB%93%9C%EB%9D%BC%EC%9D%B4%EB%B8%8C/study/fluent_python/II%20Functions%20as%20Objects/8_Type%20Hints%20in%20Functions.ipynb#X33sZmlsZQ%3D%3D?line=6'>7</a>\u001b[0m \u001b[39mdef\u001b[39;00m \u001b[39mtop\u001b[39m(series: Iterable[LT], length: \u001b[39mint\u001b[39m) \u001b[39m-\u001b[39m\u001b[39m>\u001b[39m \u001b[39mlist\u001b[39m[LT]:\n\u001b[1;32m----> <a href='vscode-notebook-cell:/g%3A/%EB%82%B4%20%EB%93%9C%EB%9D%BC%EC%9D%B4%EB%B8%8C/study/fluent_python/II%20Functions%20as%20Objects/8_Type%20Hints%20in%20Functions.ipynb#X33sZmlsZQ%3D%3D?line=7'>8</a>\u001b[0m     ordered \u001b[39m=\u001b[39m \u001b[39msorted\u001b[39;49m(series, reverse\u001b[39m=\u001b[39;49m\u001b[39mTrue\u001b[39;49;00m)\n\u001b[0;32m      <a href='vscode-notebook-cell:/g%3A/%EB%82%B4%20%EB%93%9C%EB%9D%BC%EC%9D%B4%EB%B8%8C/study/fluent_python/II%20Functions%20as%20Objects/8_Type%20Hints%20in%20Functions.ipynb#X33sZmlsZQ%3D%3D?line=8'>9</a>\u001b[0m     \u001b[39mreturn\u001b[39;00m ordered[:length]\n",
      "\u001b[1;31mTypeError\u001b[0m: '<' not supported between instances of 'object' and 'object'"
     ]
    }
   ],
   "source": [
    "print(top([4, 1, 5, 2, 6, 7, 3], 3))\n",
    "\n",
    "l = 'mango pear apple kiwi banana'.split()\n",
    "print(top(l, 3))\n",
    "\n",
    "l2 = [(len(s), s) for s in l]\n",
    "print(l2)\n",
    "print(top(l2, 3))\n",
    "\n",
    "# Error since object() does not have the key for sorted()\n",
    "obj_no_sort_key = [object() for _ in range(4)]\n",
    "print(obj_no_sort_key)\n",
    "print(top(obj_no_sort_key, 2))"
   ]
  },
  {
   "cell_type": "code",
   "execution_count": 23,
   "id": "9463c010",
   "metadata": {},
   "outputs": [],
   "source": [
    "# Example 8-20. comparable.py: definition of a SupportsLessThan Protocol type\n",
    "from typing import Protocol, Any\n",
    "\n",
    "class SupportsLessThan(Protocol):\n",
    "    def __lt__(self, other: Any) -> bool: ..."
   ]
  },
  {
   "cell_type": "code",
   "execution_count": 24,
   "id": "d5f19cc5",
   "metadata": {},
   "outputs": [],
   "source": [
    "# Example 8-21. top.py: definition of the top function using a TypeVar with bound=SupportsLessThan\n",
    "from collections.abc import Iterable\n",
    "from typing import TypeVar\n",
    "# from comparable import SupportsLessThan\n",
    "\n",
    "LT = TypeVar('LT', bound=SupportsLessThan)\n",
    "def top(series: Iterable[LT], length: int) -> list[LT]:\n",
    "    ordered = sorted(series, reverse=True)\n",
    "    return ordered[:length]"
   ]
  },
  {
   "cell_type": "code",
   "execution_count": 28,
   "id": "e60a8669",
   "metadata": {},
   "outputs": [],
   "source": [
    "# Example 8-22. top_test.py: partial listing of the test suite for top\n",
    "from collections.abc import Iterator\n",
    "from typing import TYPE_CHECKING\n",
    "import pytest\n",
    "# from top import top\n",
    "\n",
    "# several lines omitted\n",
    "def test_top_tuples() -> None:\n",
    "    fruit = 'mango pear apple kiwi banana'.split()\n",
    "    series: Iterator[tuple[int, str]] = (\n",
    "    (len(s), s) for s in fruit)\n",
    "    length = 3\n",
    "    expected = [(6, 'banana'), (5, 'mango'), (5, 'apple')]\n",
    "    result = top(series, length)\n",
    "    if TYPE_CHECKING:\n",
    "        reveal_type(series)\n",
    "        reveal_type(expected)\n",
    "        reveal_type(result)\n",
    "    assert result == expected\n",
    "\n",
    "# intentional type error\n",
    "def test_top_objects_error() -> None:\n",
    "    series = [object() for _ in range(4)]\n",
    "    if TYPE_CHECKING:\n",
    "        reveal_type(series)\n",
    "    with pytest.raises(TypeError) as excinfo:\n",
    "        top(series, 3)\n",
    "    assert \"'<' not supported\" in str(excinfo.value)"
   ]
  },
  {
   "cell_type": "code",
   "execution_count": 29,
   "id": "c4b1f25b",
   "metadata": {},
   "outputs": [],
   "source": [
    "test_top_tuples()\n",
    "test_top_objects_error()"
   ]
  },
  {
   "cell_type": "code",
   "execution_count": 32,
   "id": "219d047f",
   "metadata": {},
   "outputs": [],
   "source": [
    "# Callable\n",
    "# Example 8-24. Illustrating variance.\n",
    "from collections.abc import Callable\n",
    "\n",
    "def update(\n",
    "    probe: Callable[[], float],         # Callable type: no arguments and returns a float\n",
    "    display: Callable[[float], None]    # Callable type: float argument and returns None\n",
    ") -> None:\n",
    "    temperature = probe()\n",
    "    # imagine lots of control code here\n",
    "    display(temperature)\n",
    "\n",
    "def probe_ok() -> int:\n",
    "    return 42\n",
    "\n",
    "def display_wrong(temperature: int) -> None:\n",
    "    print(hex(temperature))\n",
    "\n",
    "\n",
    "def display_ok(temperature: complex) -> None:\n",
    "    print(temperature)\n"
   ]
  },
  {
   "cell_type": "code",
   "execution_count": 31,
   "id": "3dca49ee",
   "metadata": {},
   "outputs": [
    {
     "name": "stdout",
     "output_type": "stream",
     "text": [
      "42\n",
      "0x2a\n"
     ]
    }
   ],
   "source": [
    "update(probe_ok, display_ok) # OK\n",
    "update(probe_ok, display_wrong) # type error in type check tool (Mypy)"
   ]
  },
  {
   "cell_type": "code",
   "execution_count": 2,
   "id": "6b3a0134",
   "metadata": {},
   "outputs": [],
   "source": [
    "# Example 7-9. tag generates HTML; a keyword-only argument cls is used to pass\n",
    "# “class” attributes as a workaround because class is a keyword in Python\n",
    "\n",
    "def tag(name, *content, cls=None, **attrs):\n",
    "    \"\"\"Generate one or more HTML tags\"\"\"\n",
    "    if cls is not None:\n",
    "        attrs['class'] = cls\n",
    "    if attrs:\n",
    "        attr_str = ''.join(' %s=\"%s\"' % (attr, value)\n",
    "                           for attr, value\n",
    "                           in sorted(attrs.items()))\n",
    "    else:\n",
    "        attr_str = ''\n",
    "    if content:\n",
    "        return '\\n'.join('<%s%s>%s</%s>' %\n",
    "                         (name, attr_str, c, name) for c in content)\n",
    "    else:\n",
    "        return '<%s%s />' % (name, attr_str)"
   ]
  },
  {
   "cell_type": "code",
   "execution_count": null,
   "id": "2c8906a2",
   "metadata": {},
   "outputs": [],
   "source": [
    "# Type annotated version of tag\n",
    "\n",
    "from typing import Optional\n",
    "\n",
    "def tag(__name: str, *content: str, class_: Optional[str] = None, **attrs: str) -> str:\n",
    "    pass"
   ]
  }
 ],
 "metadata": {
  "kernelspec": {
   "display_name": "Python 3.10.7 64-bit",
   "language": "python",
   "name": "python3"
  },
  "language_info": {
   "codemirror_mode": {
    "name": "ipython",
    "version": 3
   },
   "file_extension": ".py",
   "mimetype": "text/x-python",
   "name": "python",
   "nbconvert_exporter": "python",
   "pygments_lexer": "ipython3",
   "version": "3.10.7"
  },
  "vscode": {
   "interpreter": {
    "hash": "a9e2c7703114bb33d9bb95f9f1c7ade36d0cd0b5dec40cd5c5afcfa9f59c771a"
   }
  }
 },
 "nbformat": 4,
 "nbformat_minor": 5
}
