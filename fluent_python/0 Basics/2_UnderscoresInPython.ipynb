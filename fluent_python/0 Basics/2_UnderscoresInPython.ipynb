{
 "cells": [
  {
   "attachments": {},
   "cell_type": "markdown",
   "metadata": {},
   "source": [
    "# Underscores in Python\n",
    "Python uses underscores in five different ways.\n",
    "1. single leading underscores: _foo\n",
    "2. single trailing underscores: foo_\n",
    "3. single underscores: _\n",
    "4. double leading and trailing underscores (used in defining dunder methods): __bar__\n",
    "5. double leading underscores: __bar\n",
    "\n",
    "Knowing what each syntax means and when it should be used will help you improve your code quality in terms of readability and efficiency.\n",
    "\n",
    "This’ll also help you conform to standard naming conventions.\n",
    "- ref: https://towardsdatascience.com/whats-the-meaning-of-single-and-double-underscores-in-python-3d27d57d6bd1"
   ]
  }
 ],
 "metadata": {
  "kernelspec": {
   "display_name": "Python 3",
   "language": "python",
   "name": "python3"
  },
  "language_info": {
   "name": "python",
   "version": "3.10.7"
  },
  "orig_nbformat": 4,
  "vscode": {
   "interpreter": {
    "hash": "a9e2c7703114bb33d9bb95f9f1c7ade36d0cd0b5dec40cd5c5afcfa9f59c771a"
   }
  }
 },
 "nbformat": 4,
 "nbformat_minor": 2
}
