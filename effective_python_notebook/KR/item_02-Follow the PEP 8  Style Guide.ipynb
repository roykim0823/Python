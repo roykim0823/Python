{
 "cells": [
  {
   "cell_type": "markdown",
   "metadata": {},
   "source": [
    "## Following the PEP-8 Standard\n",
    "* Indents: Four spaces for each indentation def foo():\n",
    "    print \"Hello, World!\"\n",
    "* Maximum line length: 80 characters.\n",
    "* Blank lines: Two between import, class, and function de nitions. One between method defnitions inside a class.\n",
    "* Import statements: Should be one per line. \n",
    "import os\n",
    "import sys\n",
    "* Class names: Should have capitals for the  rst letter of each word. class MyClass(object):\n",
    "* Method names: Should use all lowercase and underscores to separate words. def my_method_example():"
   ]
  }
 ],
 "metadata": {
  "kernelspec": {
   "display_name": "Python 3",
   "language": "python",
   "name": "python3"
  },
  "language_info": {
   "codemirror_mode": {
    "name": "ipython",
    "version": 3
   },
   "file_extension": ".py",
   "mimetype": "text/x-python",
   "name": "python",
   "nbconvert_exporter": "python",
   "pygments_lexer": "ipython3",
   "version": "3.5.1"
  }
 },
 "nbformat": 4,
 "nbformat_minor": 0
}
