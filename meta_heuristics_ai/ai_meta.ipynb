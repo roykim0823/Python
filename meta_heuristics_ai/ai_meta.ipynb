{
 "cells": [
  {
   "attachments": {},
   "cell_type": "markdown",
   "metadata": {},
   "source": [
    "## A* Search Algorithm"
   ]
  },
  {
   "cell_type": "code",
   "execution_count": 1,
   "metadata": {},
   "outputs": [],
   "source": [
    "from heapq import heappush, heappop\n",
    "import numpy as np\n",
    "\n",
    "\n",
    "# Euclidean distance\n",
    "def heuristic(node1, node2):\n",
    "    return np.sqrt(((node1.position[0] - node2.position[0]) ** 2) +\n",
    "                   ((node1.position[1] - node2.position[1]) ** 2))\n",
    "\n",
    "\n",
    "class Node:\n",
    "\n",
    "    def __init__(self, name, position, parent=None):\n",
    "        self.name = name\n",
    "        self.position = position  # (x, y)\n",
    "        self.parent = parent\n",
    "        self.neighbors = []\n",
    "        self.g = 0  # cost function: moving from the starting to a given x\n",
    "        self.h = 0  # cost function: the approximated movement cost from x to the destination (heuristic)\n",
    "        self.f = 0  # g + h\n",
    "\n",
    "    def add_neighbor(self, v):\n",
    "        self.neighbors.append(v)\n",
    "\n",
    "    # we compare the nodes based on the f(x) values\n",
    "    # f = g + h\n",
    "    def __lt__(self, other_node):\n",
    "        return self.f < other_node.f\n",
    "\n",
    "    def __repr__(self):\n",
    "        return self.name\n",
    "\n",
    "\n",
    "class Edge:\n",
    "    def __init__(self, target, weight):\n",
    "        self.target = target\n",
    "        self.weight = weight"
   ]
  },
  {
   "cell_type": "code",
   "execution_count": 2,
   "metadata": {},
   "outputs": [],
   "source": [
    "class SearchAlgorithm:\n",
    "\n",
    "    def __init__(self, source, destination):\n",
    "        self.source = source\n",
    "        self.destination = destination\n",
    "        self.explored = set()\n",
    "        self.heap = [source]\n",
    "\n",
    "    def run(self):\n",
    "        # we keep iterating while the heap is not empty\n",
    "        while self.heap:\n",
    "            # we always get the node with the lowest f value possible\n",
    "            current = heappop(self.heap)\n",
    "            # we add the node to the visited set\n",
    "            self.explored.add(current)\n",
    "            # if we reach the destination - this is the end of the algorithm\n",
    "            if current == self.destination:\n",
    "                break\n",
    "\n",
    "            # consider all the neighbors (adjacent nodes)\n",
    "            for edge in current.neighbors:\n",
    "                child = edge.target\n",
    "                temp_g = current.g + edge.weight\n",
    "                temp_f = temp_g + heuristic(current, self.destination)\n",
    "\n",
    "                # if we have considered the child and the f(x) is higher\n",
    "                if child in self.explored and temp_f >= child.f:\n",
    "                    continue\n",
    "\n",
    "                # else if we have not visited OR the f(x) score is lower\n",
    "                if child not in self.heap or temp_f < child.f:\n",
    "                    child.parent = current\n",
    "                    child.g = temp_g\n",
    "                    child.f = temp_f\n",
    "\n",
    "                    # we should update the heap: remove the old one, and push the updated one\n",
    "                    if child in self.heap:\n",
    "                        self.heap.remove(child)\n",
    "                    heappush(self.heap, child)\n",
    "\n",
    "    def show_solution(self):\n",
    "        solution = []\n",
    "        node = self.destination\n",
    "\n",
    "        while node:\n",
    "            solution.append(node)\n",
    "            node = node.parent\n",
    "\n",
    "        print(solution[::-1])"
   ]
  },
  {
   "cell_type": "code",
   "execution_count": 4,
   "metadata": {},
   "outputs": [
    {
     "name": "stdout",
     "output_type": "stream",
     "text": [
      "[A, B, C, E, G]\n"
     ]
    }
   ],
   "source": [
    "\n",
    "n1 = Node(\"A\", (0, 0))\n",
    "n2 = Node(\"B\", (10, 20))\n",
    "n3 = Node(\"C\", (20, 40))\n",
    "n4 = Node(\"D\", (30, 10))\n",
    "n5 = Node(\"E\", (40, 30))\n",
    "n6 = Node(\"F\", (50, 10))\n",
    "n7 = Node(\"G\", (50, 40))\n",
    "n1.add_neighbor(Edge(n2, 10))\n",
    "n1.add_neighbor(Edge(n4, 50))\n",
    "n2.add_neighbor(Edge(n3, 10))\n",
    "n2.add_neighbor(Edge(n4, 20))\n",
    "n3.add_neighbor(Edge(n5, 10))\n",
    "n3.add_neighbor(Edge(n7, 30))\n",
    "n4.add_neighbor(Edge(n6, 80))\n",
    "n5.add_neighbor(Edge(n6, 50))\n",
    "n5.add_neighbor(Edge(n7, 10))\n",
    "n7.add_neighbor(Edge(n6, 10))\n",
    "# algorithm = SearchAlgorithm(n1, n5)  # A -> E\n",
    "algorithm = SearchAlgorithm(n1, n7)\n",
    "algorithm.run()\n",
    "algorithm.show_solution()"
   ]
  }
 ],
 "metadata": {
  "kernelspec": {
   "display_name": "Python 3",
   "language": "python",
   "name": "python3"
  },
  "language_info": {
   "codemirror_mode": {
    "name": "ipython",
    "version": 3
   },
   "file_extension": ".py",
   "mimetype": "text/x-python",
   "name": "python",
   "nbconvert_exporter": "python",
   "pygments_lexer": "ipython3",
   "version": "3.10.7"
  },
  "orig_nbformat": 4
 },
 "nbformat": 4,
 "nbformat_minor": 2
}
