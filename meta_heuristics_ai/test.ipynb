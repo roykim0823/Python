{
 "cells": [
  {
   "cell_type": "code",
   "execution_count": 2,
   "metadata": {},
   "outputs": [],
   "source": [
    "import math\n",
    "from dataclasses import dataclass, field, fields\n",
    "from typing import List\n",
    "\n",
    "\n",
    "@dataclass\n",
    "class COMMON:\n",
    "    _W_FEATURE_BIT_WIDTH: int = field(default=None, metadata={\"bits\": 8})\n",
    "\n",
    "    @property\n",
    "    def W_FEATURE_BIT_WIDTH(self) -> int:\n",
    "        return self._W_FEATURE_BIT_WIDTH\n",
    "\n",
    "    @W_FEATURE_BIT_WIDTH.setter\n",
    "    def W_FEATURE_BIT_WIDTH(self, w_feature_bit_width: int):\n",
    "        self.range_check('_W_FEATURE_BIT_WIDTH', w_feature_bit_width)\n",
    "        print('getattr', getattr(self, 'W_FEATURE_BIT_WIDTH'))\n",
    "        self._W_FEATURE_BIT_WIDTH = w_feature_bit_width\n",
    "        print('getattr', getattr(self, 'W_FEATURE_BIT_WIDTH'))\n",
    "        print(fields(self))\n",
    "\n",
    "    @classmethod\n",
    "    def range_check(cls, name, value):\n",
    "        field_index_list = [x.name for x in fields(cls)]\n",
    "        print(fields(cls))\n",
    "        idx = field_index_list.index(name)\n",
    "        #print(fields(cls)[])\n",
    "        print(idx)\n",
    "        #print(fields(cls)[idx].metadata[\"bits\"])\n",
    "        \n",
    "        if type(value) is int:\n",
    "            if value < 0 or value >= math.pow(2, fields(cls)[idx].metadata[\"bits\"]):\n",
    "                raise ValueError(\"{} value range error: {}\".format(name, value))"
   ]
  },
  {
   "cell_type": "code",
   "execution_count": 3,
   "metadata": {},
   "outputs": [
    {
     "name": "stdout",
     "output_type": "stream",
     "text": [
      "(Field(name='_W_FEATURE_BIT_WIDTH',type=<class 'int'>,default=None,default_factory=<dataclasses._MISSING_TYPE object at 0x00000202F7449390>,init=True,repr=True,hash=None,compare=True,metadata=mappingproxy({'bits': 8}),kw_only=False,_field_type=_FIELD),)\n",
      "0\n",
      "getattr None\n",
      "getattr 25\n",
      "(Field(name='_W_FEATURE_BIT_WIDTH',type=<class 'int'>,default=None,default_factory=<dataclasses._MISSING_TYPE object at 0x00000202F7449390>,init=True,repr=True,hash=None,compare=True,metadata=mappingproxy({'bits': 8}),kw_only=False,_field_type=_FIELD),)\n"
     ]
    },
    {
     "data": {
      "text/plain": [
       "(Field(name='_W_FEATURE_BIT_WIDTH',type=<class 'int'>,default=None,default_factory=<dataclasses._MISSING_TYPE object at 0x00000202F7449390>,init=True,repr=True,hash=None,compare=True,metadata=mappingproxy({'bits': 8}),kw_only=False,_field_type=_FIELD),)"
      ]
     },
     "execution_count": 3,
     "metadata": {},
     "output_type": "execute_result"
    }
   ],
   "source": [
    "t = COMMON()\n",
    "\n",
    "t.W_FEATURE_BIT_WIDTH = 25\n",
    "\n",
    "fields(t)\n"
   ]
  }
 ],
 "metadata": {
  "kernelspec": {
   "display_name": "Python 3",
   "language": "python",
   "name": "python3"
  },
  "language_info": {
   "codemirror_mode": {
    "name": "ipython",
    "version": 3
   },
   "file_extension": ".py",
   "mimetype": "text/x-python",
   "name": "python",
   "nbconvert_exporter": "python",
   "pygments_lexer": "ipython3",
   "version": "3.10.7"
  }
 },
 "nbformat": 4,
 "nbformat_minor": 2
}
