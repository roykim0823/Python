{
 "cells": [
  {
   "cell_type": "markdown",
   "metadata": {},
   "source": [
    "#     COURSE: Linear algebra: theory and implementation\n",
    "##    SECTION: Matrix inverse\n",
    "\n",
    "#### Instructor: sincxpress.com\n",
    "##### Course url: https://www.udemy.com/course/linear-algebra-theory-and-implementation/?couponCode=202110"
   ]
  },
  {
   "cell_type": "code",
   "execution_count": 20,
   "metadata": {},
   "outputs": [],
   "source": [
    "import numpy as np\n",
    "from sympy import *\n",
    "import matplotlib.pyplot as plt"
   ]
  },
  {
   "cell_type": "markdown",
   "metadata": {},
   "source": [
    "\n",
    "---\n",
    "# VIDEO: Concept and uses of the inverse\n",
    "---\n"
   ]
  },
  {
   "cell_type": "code",
   "execution_count": 21,
   "metadata": {},
   "outputs": [
    {
     "name": "stdout",
     "output_type": "stream",
     "text": [
      "[[ 1.00000000e+00  1.72869960e-16 -1.86600088e-17]\n",
      " [ 1.37365668e-16  1.00000000e+00  2.05320970e-17]\n",
      " [-2.47724929e-16 -3.29585644e-17  1.00000000e+00]]\n"
     ]
    }
   ],
   "source": [
    "# Matrix Inverse: Avoid whenever possible!!\n",
    "\n",
    "# size of square matrix\n",
    "m = 3\n",
    "\n",
    "# generate random matrix\n",
    "A = np.random.randn(m,m)\n",
    "\n",
    "# compute its inverse\n",
    "Ainv = np.linalg.inv(A)\n",
    "\n",
    "# and check the multiplication\n",
    "idm = A@Ainv\n",
    "\n",
    "# print the matrix. Note the computer rounding errors on the off-diagonals\n",
    "print(idm)"
   ]
  },
  {
   "cell_type": "code",
   "execution_count": 22,
   "metadata": {},
   "outputs": [
    {
     "data": {
      "image/png": "[encoded data removed]",
      "text/plain": [
       "<Figure size 640x480 with 3 Axes>"
      ]
     },
     "metadata": {},
     "output_type": "display_data"
    }
   ],
   "source": [
    "# show in an image\n",
    "plt.subplot(131)\n",
    "plt.imshow(A)\n",
    "plt.title('Matrix A')\n",
    "\n",
    "plt.subplot(132)\n",
    "plt.imshow(Ainv)\n",
    "plt.title('Matrix $A^{-1}$')\n",
    "\n",
    "plt.subplot(133)\n",
    "plt.imshow(idm)\n",
    "plt.title('AA$^{-1}$')\n",
    "\n",
    "plt.show()"
   ]
  },
  {
   "cell_type": "code",
   "execution_count": 23,
   "metadata": {},
   "outputs": [
    {
     "name": "stdout",
     "output_type": "stream",
     "text": [
      "[[-0.21395856 -0.14045852  0.248312    0.27112192]\n",
      " [ 3.43003707  0.3038088  -0.16227917  0.01080025]\n",
      " [ 1.52497438  0.93988573  0.14976666  0.64703829]\n",
      " [-0.22001786  0.46334236  0.63878281  0.15459909]] \n",
      "\n",
      " [[-0.21395856 -0.14045852  0.248312    0.27112192]\n",
      " [ 3.43003707  0.3038088  -0.16227917  0.01080025]\n",
      " [ 1.52497438  0.93988573  0.14976666  0.64703829]\n",
      " [-0.22001786  0.46334236  0.63878281  0.15459909]] \n",
      "\n",
      " [[ 1.11022302e-16  8.32667268e-17 -8.32667268e-17 -1.11022302e-16]\n",
      " [ 0.00000000e+00  2.22044605e-16  8.32667268e-17  2.25514052e-16]\n",
      " [ 0.00000000e+00 -1.11022302e-16  0.00000000e+00  0.00000000e+00]\n",
      " [-2.77555756e-17  5.55111512e-17  0.00000000e+00  0.00000000e+00]]\n"
     ]
    }
   ],
   "source": [
    "# Code Challenge: Implement the MCA algorithm\n",
    "\n",
    "m = 4\n",
    "A = np.random.randn(m, m)\n",
    "\n",
    "## Minor matrix\n",
    "minors = np.zeros((m, m))\n",
    "H = np.zeros((m, m))\n",
    "\n",
    "for i in range(m):\n",
    "    for j in range(m):\n",
    "        # select rows and columns\n",
    "        rows = [True] * m\n",
    "        rows[i] = False  # exclude the current row\n",
    "\n",
    "        cols = [True] * m\n",
    "        cols[j] = False  # exclude the current col\n",
    "\n",
    "        # compute minors matrix\n",
    "        minors[i, j] = np.linalg.det(A[rows, :][:, cols])\n",
    "\n",
    "        # compute H matrix\n",
    "        H[i, j] = (-1)**(i+j)\n",
    "\n",
    "# cofactors matrix\n",
    "C = H * minors\n",
    "\n",
    "# Adjugate matrix\n",
    "Ainv_MCA = C.T / np.linalg.det(A)\n",
    "Ainv = np.linalg.inv(A)\n",
    "print(Ainv_MCA, '\\n\\n', Ainv, '\\n\\n', Ainv_MCA-Ainv)"
   ]
  },
  {
   "cell_type": "markdown",
   "metadata": {},
   "source": [
    "\n",
    "---\n",
    "# VIDEO: Computing the inverse via row reduction\n",
    "---\n"
   ]
  },
  {
   "cell_type": "code",
   "execution_count": 28,
   "metadata": {},
   "outputs": [
    {
     "name": "stdout",
     "output_type": "stream",
     "text": [
      "Size of Aaug: (4, 8)\n"
     ]
    }
   ],
   "source": [
    "# matrix size\n",
    "m = 4\n",
    "\n",
    "# random integers matrix\n",
    "A = Matrix( np.round(10*np.random.randn(m,m)),dtype='float' )\n",
    "\n",
    "# augment A and identity\n",
    "Aaug = Matrix( np.concatenate((A,np.eye(m,m)),axis=1) )\n",
    "print('Size of Aaug:',Aaug.shape)\n",
    "\n",
    "# rref\n",
    "Asol = Aaug.rref()\n",
    "Asol = Asol[0]  # remove unnecessay 2nd data\n",
    "Ainvrref = Asol[:,m:m*2]  # the 2nd part of the concatenated matrix\n",
    "Ainv = A.inv()"
   ]
  },
  {
   "cell_type": "code",
   "execution_count": 29,
   "metadata": {},
   "outputs": [
    {
     "data": {
      "image/png": "[encoded data removed]",
      "text/plain": [
       "<Figure size 640x480 with 2 Axes>"
      ]
     },
     "metadata": {},
     "output_type": "display_data"
    }
   ],
   "source": [
    "# show the augemented matrices\n",
    "plt.subplot(211)\n",
    "plt.imshow(matrix2numpy(Aaug,dtype='float'),vmin=-5,vmax=5)\n",
    "plt.title('A|I'), plt.axis('off')\n",
    "\n",
    "plt.subplot(212)\n",
    "plt.imshow(matrix2numpy(Asol,dtype='float'))\n",
    "plt.title('I|A$^{-1}$'), plt.axis('off')\n",
    "\n",
    "plt.show()"
   ]
  },
  {
   "cell_type": "code",
   "execution_count": 30,
   "metadata": {},
   "outputs": [
    {
     "data": {
      "image/png": "[encoded data removed]",
      "text/plain": [
       "<Figure size 640x480 with 3 Axes>"
      ]
     },
     "metadata": {},
     "output_type": "display_data"
    }
   ],
   "source": [
    "# show the square matrices\n",
    "plt.subplot(131)\n",
    "plt.imshow(matrix2numpy(A,dtype='float'))\n",
    "plt.title('Matrix A'), plt.axis('off')\n",
    "\n",
    "plt.subplot(132)\n",
    "plt.imshow(matrix2numpy(Ainvrref,dtype='float'))\n",
    "plt.title('A$^{-1}$ from rref'), plt.axis('off')\n",
    "\n",
    "plt.subplot(133)\n",
    "plt.imshow(matrix2numpy(Ainv,dtype='float'))\n",
    "plt.title('A$^{-1}$ from inv()'), plt.axis('off')\n",
    "\n",
    "plt.show()"
   ]
  },
  {
   "cell_type": "code",
   "execution_count": 33,
   "metadata": {},
   "outputs": [
    {
     "name": "stdout",
     "output_type": "stream",
     "text": [
      "[[2 0]\n",
      " [0 3]] \n",
      "\n",
      "[[0.5        0.        ]\n",
      " [0.         0.33333333]]\n"
     ]
    }
   ],
   "source": [
    "# Code Challenge: inverse of a diagonal matrix\n",
    "\n",
    "A = np.array([[2,0], [0,3]])\n",
    "# A = np.diag(np.arange(1, 6))\n",
    "print(A, '\\n')\n",
    "print(np.linalg.inv(A))"
   ]
  },
  {
   "cell_type": "markdown",
   "metadata": {},
   "source": [
    "\n",
    "---\n",
    "# VIDEO: Left inverse and right inverse\n",
    "---\n"
   ]
  },
  {
   "cell_type": "code",
   "execution_count": 36,
   "metadata": {},
   "outputs": [
    {
     "name": "stdout",
     "output_type": "stream",
     "text": [
      "Shape of A^TA: (3, 3)\n",
      "Rank of A^TA: 3\n",
      "Shape of AA^T: (6, 6)\n",
      "Rank of AA^T: 3\n",
      "[[ 1.00000000e+00  1.45486375e-16  3.41509614e-17]\n",
      " [-3.28425340e-17  1.00000000e+00 -3.75434380e-17]\n",
      " [ 1.91341375e-16 -2.07101026e-16  1.00000000e+00]]\n",
      " \n",
      "[[  0.87228465  -3.79853896  -1.6128403   -0.33196871  -1.53013468\n",
      "  -11.7268978 ]\n",
      " [  0.17661867  -0.16866493  -1.25841606  -0.06768918  -2.05669301\n",
      "   -1.20570022]\n",
      " [ -0.16940438   0.96029847   0.09498519  -0.07566646  -0.21727482\n",
      "    3.12554149]\n",
      " [ -0.20966839   0.22342601   0.47371268   1.16324275   1.34394804\n",
      "   -1.73310719]\n",
      " [ -0.21872448   0.69235321   0.65750323   0.24915947   0.98281635\n",
      "    1.94303912]\n",
      " [ -0.44979521   1.81618925   0.7713868    0.48100516   0.90907128\n",
      "    4.85161975]]\n",
      " \n",
      "[[ 1.00000000e+00  6.07699434e-17  5.96931705e-17]\n",
      " [-1.07972477e-17  1.00000000e+00 -9.30706993e-18]\n",
      " [-5.69689367e-17 -1.41777391e-16  1.00000000e+00]]\n",
      " \n",
      "[[ 1.71464638e+01  2.72173155e+00 -4.18045763e+00 -1.55398308e-01\n",
      "  -3.51845303e+00 -7.95994506e+00]\n",
      " [-1.16620377e+01 -2.23751303e+00  2.46363243e+00 -1.88900796e-02\n",
      "   2.43608376e+00  5.38470826e+00]\n",
      " [ 5.18126640e+01  1.54106719e+01 -1.00005163e+01 -1.95232799e-04\n",
      "  -1.35309468e+01 -2.54826045e+01]\n",
      " [ 2.02656326e+00  1.63833450e+00 -1.55320920e+00  1.45272365e+00\n",
      "  -1.26971296e+00 -1.95247508e+00]\n",
      " [ 1.04129340e+00  1.27356890e+00  3.38415196e-01  1.35616693e-01\n",
      "   2.05865686e-01 -2.94293925e-01]\n",
      " [ 5.92677679e+00 -8.53409863e-01 -3.31799256e-01 -1.03872265e+00\n",
      "   1.17710628e+00  4.85961746e+00]]\n"
     ]
    }
   ],
   "source": [
    "# m>n for left inverse,\n",
    "# m<n for right inverse\n",
    "m, n = 6, 3  # for the left inverse\n",
    "# m, n = 3, 6  # for the right inverse\n",
    "\n",
    "# create matrices\n",
    "A = np.random.randn(m,n)  # wide matrix\n",
    "AtA = A.T@A\n",
    "AAt = A@A.T\n",
    "\n",
    "# inspect ranks\n",
    "print('Shape of A^TA:', np.shape(AtA) )\n",
    "print('Rank of A^TA:', np.linalg.matrix_rank(AtA) )\n",
    "print('Shape of AA^T:', np.shape(AAt) )\n",
    "print('Rank of AA^T:', np.linalg.matrix_rank(AAt) ) \n",
    "\n",
    "# left inverse\n",
    "Aleft = np.linalg.inv(AtA)@A.T\n",
    "\n",
    "# right inverse\n",
    "Aright = A.T@np.linalg.inv(AAt)\n",
    "\n",
    "# now test!\n",
    "I_left  = Aleft  @ A\n",
    "I_right = A @ Aright\n",
    "\n",
    "print(I_left), print(' ')\n",
    "print(I_right), print(' ')\n",
    "\n",
    "\n",
    "# and then test using the inverse function\n",
    "AtA_inv = np.linalg.inv(AtA)\n",
    "I_AtA   = AtA_inv @ AtA\n",
    "\n",
    "AAt_inv = np.linalg.inv(AAt)\n",
    "I_AAt   = AAt_inv @ AAt\n",
    "\n",
    "print(I_AtA), print(' ')\n",
    "print(I_AAt)"
   ]
  },
  {
   "cell_type": "code",
   "execution_count": 37,
   "metadata": {},
   "outputs": [
    {
     "data": {
      "image/png": "[encoded data removed]",
      "text/plain": [
       "<Figure size 640x480 with 7 Axes>"
      ]
     },
     "metadata": {},
     "output_type": "display_data"
    }
   ],
   "source": [
    "## show images\n",
    "plt.subplot(331)\n",
    "plt.imshow(A), plt.axis('off')\n",
    "plt.title('A')\n",
    "\n",
    "plt.subplot(332)\n",
    "plt.imshow(AtA), plt.axis('off')\n",
    "plt.title('A$^T$A')\n",
    "\n",
    "plt.subplot(333)\n",
    "plt.imshow(AAt), plt.axis('off')\n",
    "plt.title('AA$^T$')\n",
    "\n",
    "plt.subplot(335)\n",
    "plt.imshow(Aleft), plt.axis('off')\n",
    "plt.title('$(A^TA)^{-1}A^T$')\n",
    "\n",
    "plt.subplot(336)\n",
    "plt.imshow(Aright), plt.axis('off')\n",
    "plt.title('$A^T(AA^T)^{-1}$')\n",
    "\n",
    "plt.subplot(338)\n",
    "plt.imshow(I_left), plt.axis('off')\n",
    "plt.title('[ $(A^TA)^{-1}A^T ]$  A')\n",
    "\n",
    "plt.subplot(339)\n",
    "plt.imshow(I_right), plt.axis('off')\n",
    "plt.title('A  [ $A^T(AA^T)^{-1}$ ]')\n",
    "\n",
    "plt.show()"
   ]
  },
  {
   "cell_type": "code",
   "execution_count": null,
   "metadata": {},
   "outputs": [],
   "source": []
  },
  {
   "cell_type": "markdown",
   "metadata": {},
   "source": [
    "\n",
    "---\n",
    "# VIDEO: The pseudoinverse, part 1\n",
    "---\n"
   ]
  },
  {
   "cell_type": "code",
   "execution_count": 38,
   "metadata": {},
   "outputs": [
    {
     "data": {
      "image/png": "[encoded data removed]",
      "text/plain": [
       "<Figure size 640x480 with 3 Axes>"
      ]
     },
     "metadata": {},
     "output_type": "display_data"
    }
   ],
   "source": [
    "# pseudoinverse of rectangular matrix A\n",
    "\n",
    "pseudoInvA = np.linalg.pinv(A)\n",
    "\n",
    "plt.subplot(131)\n",
    "plt.imshow(A), plt.axis('off')\n",
    "plt.title('A')\n",
    "\n",
    "plt.subplot(132)\n",
    "plt.imshow(pseudoInvA), plt.axis('off')\n",
    "plt.title('Pseudoinverse of A')\n",
    "\n",
    "plt.subplot(133)\n",
    "plt.imshow(pseudoInvA@A), plt.axis('off')\n",
    "plt.title('A$^*$A')\n",
    "\n",
    "plt.show()"
   ]
  },
  {
   "cell_type": "code",
   "execution_count": 39,
   "metadata": {},
   "outputs": [
    {
     "name": "stdout",
     "output_type": "stream",
     "text": [
      "rank = 49\n"
     ]
    }
   ],
   "source": [
    "# create random matrix\n",
    "n = 50\n",
    "A = np.random.randn(n,n)\n",
    "\n",
    "# make rank deficient by repeating a column\n",
    "A[:,n-1] = A[:,n-2]\n",
    "\n",
    "# rank of A!\n",
    "print('rank =',np.linalg.matrix_rank(A))"
   ]
  },
  {
   "cell_type": "code",
   "execution_count": 40,
   "metadata": {},
   "outputs": [
    {
     "data": {
      "image/png": "[encoded data removed]",
      "text/plain": [
       "<Figure size 640x480 with 4 Axes>"
      ]
     },
     "metadata": {},
     "output_type": "display_data"
    }
   ],
   "source": [
    "# compute the pseudoinverse\n",
    "Ai = np.linalg.pinv(A)\n",
    "\n",
    "\n",
    "# and show the matrices\n",
    "plt.subplot(221)\n",
    "plt.imshow(A), plt.axis('off')\n",
    "plt.title('A')\n",
    "\n",
    "plt.subplot(222)\n",
    "plt.imshow(Ai), plt.axis('off')\n",
    "plt.title('A$^*$')\n",
    "\n",
    "plt.subplot(223)\n",
    "plt.imshow(Ai@A), plt.axis('off')\n",
    "plt.title('A$^*$A')\n",
    "\n",
    "plt.subplot(224)\n",
    "plt.imshow(A@Ai), plt.axis('off')\n",
    "plt.title('AA$^*$')\n",
    "\n",
    "plt.show()"
   ]
  },
  {
   "cell_type": "code",
   "execution_count": 42,
   "metadata": {},
   "outputs": [
    {
     "name": "stdout",
     "output_type": "stream",
     "text": [
      "[[ 0.431  0.16   0.493  0.619 -0.207]\n",
      " [-0.669  0.211 -0.789 -0.813  0.95 ]\n",
      " [ 1.408 -0.99   0.609  1.006 -1.107]\n",
      " [ 0.262  0.159  0.237 -0.18  -0.162]\n",
      " [-1.132  0.431 -0.197 -0.474  1.603]] \n",
      "\n",
      "[[ 0.431  0.16   0.493  0.619 -0.207]\n",
      " [-0.669  0.211 -0.789 -0.813  0.95 ]\n",
      " [ 1.408 -0.99   0.609  1.006 -1.107]\n",
      " [ 0.262  0.159  0.237 -0.18  -0.162]\n",
      " [-1.132  0.431 -0.197 -0.474  1.603]] \n",
      "\n",
      "[[ 0. -0. -0. -0. -0.]\n",
      " [-0.  0.  0.  0.  0.]\n",
      " [ 0.  0.  0.  0.  0.]\n",
      " [ 0. -0. -0. -0. -0.]\n",
      " [-0.  0.  0.  0.  0.]]\n",
      "[[ 8.88178420e-16 -6.93889390e-16 -8.88178420e-16 -4.44089210e-16\n",
      "  -1.49880108e-15]\n",
      " [-1.44328993e-15  1.55431223e-15  1.22124533e-15  6.66133815e-16\n",
      "   1.88737914e-15]\n",
      " [ 8.88178420e-16  9.99200722e-16  4.66293670e-15  4.88498131e-15\n",
      "   6.66133815e-16]\n",
      " [ 3.33066907e-16 -4.16333634e-16 -1.77635684e-15 -1.58206781e-15\n",
      "  -2.16493490e-15]\n",
      " [-1.33226763e-15  1.88737914e-15  1.80411242e-15  8.88178420e-16\n",
      "   2.44249065e-15]]\n"
     ]
    }
   ],
   "source": [
    "# Code Challenge: Pseudoinverse of invertible matrices\n",
    "\n",
    "m = 5\n",
    "A = np.random.randn(m, m)\n",
    "\n",
    "AinvF = np.linalg.inv(A)\n",
    "AinvP = np.linalg.pinv(A)\n",
    "\n",
    "print(np.round(AinvF, 3), '\\n')\n",
    "print(np.round(AinvP, 3), '\\n')\n",
    "\n",
    "print(np.round(AinvP-AinvF, 5))\n",
    "# print(AinvP-AinvF)"
   ]
  }
 ],
 "metadata": {
  "kernelspec": {
   "display_name": "Python 3",
   "language": "python",
   "name": "python3"
  },
  "language_info": {
   "codemirror_mode": {
    "name": "ipython",
    "version": 3
   },
   "file_extension": ".py",
   "mimetype": "text/x-python",
   "name": "python",
   "nbconvert_exporter": "python",
   "pygments_lexer": "ipython3",
   "version": "3.10.9"
  }
 },
 "nbformat": 4,
 "nbformat_minor": 2
}
