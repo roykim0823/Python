{
 "cells": [
  {
   "attachments": {},
   "cell_type": "markdown",
   "metadata": {},
   "source": [
    "#     COURSE: Linear algebra: theory and implementation\n",
    "##    SECTION: Matrix rank\n",
    "\n",
    "#### Instructor: sincxpress.com\n",
    "##### Course url: https://www.udemy.com/course/linear-algebra-theory-and-implementation/?couponCode=202110"
   ]
  },
  {
   "cell_type": "code",
   "execution_count": 1,
   "metadata": {},
   "outputs": [],
   "source": [
    "import numpy as np\n",
    "import matplotlib.pyplot as plt\n",
    "import math"
   ]
  },
  {
   "attachments": {},
   "cell_type": "markdown",
   "metadata": {},
   "source": [
    "\n",
    "---\n",
    "# VIDEO: Computing rank: theory and practice\n",
    "---\n"
   ]
  },
  {
   "cell_type": "code",
   "execution_count": 5,
   "metadata": {},
   "outputs": [
    {
     "name": "stdout",
     "output_type": "stream",
     "text": [
      "[[-1.74725858 -2.52083677  1.07458242  1.23982343  0.44724371  0.86996332]\n",
      " [-0.04464538  0.76412724 -0.93559785  1.64392921 -0.3096506  -0.57648908]\n",
      " [ 0.75478467  0.02678163 -0.23610617  1.00405024 -0.65837617  1.11444385]\n",
      " [-0.37989363  0.66848769 -0.77779267 -0.44051826 -0.76004496  0.10363559]]\n",
      "rank = 4 \n",
      "\n",
      "[[-1.74725858 -2.52083677  1.07458242  1.23982343  0.44724371  0.44724371]\n",
      " [-0.04464538  0.76412724 -0.93559785  1.64392921 -0.3096506  -0.3096506 ]\n",
      " [ 0.75478467  0.02678163 -0.23610617  1.00405024 -0.65837617 -0.65837617]\n",
      " [-0.37989363  0.66848769 -0.77779267 -0.44051826 -0.76004496 -0.76004496]]\n",
      "rank = 4 \n",
      "\n",
      "[[-1.74725858 -2.52083677  1.07458242  1.23982343  0.44724371  0.44724371]\n",
      " [-0.04464538  0.76412724 -0.93559785  1.64392921 -0.3096506  -0.3096506 ]\n",
      " [ 0.75478467  0.02678163 -0.23610617  1.00405024 -0.65837617 -0.65837617]\n",
      " [ 0.75478467  0.02678163 -0.23610617  1.00405024 -0.65837617 -0.65837617]]\n",
      "rank = 3\n"
     ]
    }
   ],
   "source": [
    "# make a matrix\n",
    "m = 4\n",
    "n = 6\n",
    "\n",
    "# create a random matrix: random matrix generates usually full rank matrices!\n",
    "A = np.random.randn(m,n)  # High probabilty rank 4 with 4 random rows\n",
    "print(A)\n",
    "\n",
    "# what is the largest possible rank?\n",
    "ra = np.linalg.matrix_rank(A)\n",
    "print('rank = ' + str(ra), '\\n')\n",
    "\n",
    "# set last column to be repeat of penultimate column\n",
    "B = A\n",
    "B[:,-1] = B[:,-2]  # make the last two columns same\n",
    "print(B)\n",
    "\n",
    "rb = np.linalg.matrix_rank(B)\n",
    "print('rank = ' + str(rb), '\\n')  # Still, the rank is 4!\n",
    "\n",
    "C = A\n",
    "C[-1, :] = C[-2, :]  # make the last two rows same -> Rank 3\n",
    "print(C)\n",
    "\n",
    "rb = np.linalg.matrix_rank(C)\n",
    "print('rank = ' + str(rb))"
   ]
  },
  {
   "cell_type": "code",
   "execution_count": 6,
   "metadata": {},
   "outputs": [
    {
     "name": "stdout",
     "output_type": "stream",
     "text": [
      "rank (w/o noise) = 3\n",
      "rank (with noise) = 4\n"
     ]
    }
   ],
   "source": [
    "## adding noise to a rank-deficient matrix\n",
    "\n",
    "# square for convenience\n",
    "A = np.round( 10*np.random.randn(m,m) )\n",
    "\n",
    "# reduce the rank\n",
    "A[:,-1] = A[:,-2]\n",
    "\n",
    "# noise level\n",
    "noiseamp = .00000001  # tiny noise make the matrix FULL rank -> ML in Regularization!!\n",
    "# noiseamp = .000000000000001 # not increase the rank\n",
    "\n",
    "# add the noise\n",
    "B = A + noiseamp*np.random.randn(m,m)\n",
    "\n",
    "print('rank (w/o noise) = ' + str(np.linalg.matrix_rank(A)))\n",
    "print('rank (with noise) = ' + str(np.linalg.matrix_rank(B)))\n"
   ]
  },
  {
   "cell_type": "code",
   "execution_count": 33,
   "metadata": {},
   "outputs": [],
   "source": [
    "# know the limits of rank(A+B) and rank(AB)\n",
    "# rank(A+B) <= ranK(A) + rank(B) => rank(A-B) is same since it is A + -1*B\n",
    "# rank(AB) <= min(rank(A), rank(B))\n",
    "# - AB = C => Abj = cj => rank(C) <= rank(A)\n",
    "#          => aiB = ci => rank(B) <= rank(B)"
   ]
  },
  {
   "cell_type": "code",
   "execution_count": 38,
   "metadata": {},
   "outputs": [
    {
     "name": "stdout",
     "output_type": "stream",
     "text": [
      "(10, 10)\n",
      "4\n"
     ]
    }
   ],
   "source": [
    "# Code challenge: reduced-rank matrix via multiplication\n",
    "\n",
    "# create a 10x10 matrix with rank=4 (use matrix multiplication)\n",
    "import numpy as np\n",
    "\n",
    "A = np.random.rand(10,4) @ np.random.rand(4, 10)\n",
    "print(np.shape(A))\n",
    "print(np.linalg.matrix_rank(A))\n",
    "\n",
    "# generalize the procedure to create any MxN matrix with rank r\n",
    "\n",
    "def reduced_rank(M, N, r):\n",
    "    A = np.random.rand(M, r) @ np.random.rand(r, N)\n",
    "    return np.shape(A), np.linalg.matrix_rank(A)"
   ]
  },
  {
   "cell_type": "code",
   "execution_count": 40,
   "metadata": {},
   "outputs": [
    {
     "name": "stdout",
     "output_type": "stream",
     "text": [
      "((8, 47), 3)\n",
      "((8, 47), 8)\n"
     ]
    }
   ],
   "source": [
    "print(reduced_rank(8, 47, 3))\n",
    "print(reduced_rank(8, 47, 13))  # r > M, then rank will be M"
   ]
  },
  {
   "cell_type": "code",
   "execution_count": 42,
   "metadata": {},
   "outputs": [
    {
     "name": "stdout",
     "output_type": "stream",
     "text": [
      "4 3\n",
      "4 3\n",
      "False\n"
     ]
    }
   ],
   "source": [
    "# Code challenge: scalar multiplication and rank\n",
    "# rank(A) = rank(l*A)\n",
    "\n",
    "# create two matrices: full-rank and a reduced-rank\n",
    "m = 6\n",
    "n = 4\n",
    "F = np.random.rand(m, n) @ np.random.rand(n, n)\n",
    "R = np.random.rand(m, n-1) @ np.random.rand(n-1, n)\n",
    "\n",
    "# create some scalar\n",
    "l = 293428073  # only l = 0 can change the rank to 0\n",
    "\n",
    "# rank of F, R, rank of l*F, l*R\n",
    "print(np.linalg.matrix_rank(F), np.linalg.matrix_rank(R))\n",
    "print(np.linalg.matrix_rank(l*F), np.linalg.matrix_rank(l*R))\n",
    "\n",
    "# Check wheter rank(l*F) != l*rank(F)\n",
    "print(np.linalg.matrix_rank(l*F) == l*np.linalg.matrix_rank(F))"
   ]
  },
  {
   "attachments": {},
   "cell_type": "markdown",
   "metadata": {},
   "source": [
    "\n",
    "---\n",
    "# VIDEO: Rank of A^TA and AA^T\n",
    "---\n"
   ]
  },
  {
   "attachments": {},
   "cell_type": "markdown",
   "metadata": {},
   "source": [
    "rank(A) == rank(A<sup>T</sup>A) == rank(A<sup>T</sup>) == rank(AA<sup>T</sup>)"
   ]
  },
  {
   "cell_type": "code",
   "execution_count": null,
   "metadata": {},
   "outputs": [],
   "source": [
    "# matrix sizes\n",
    "m = 14\n",
    "n =  3\n",
    "\n",
    "# create matrices\n",
    "A = np.round( 10*np.random.randn(m,n) )\n",
    "\n",
    "AtA = A.T@A\n",
    "AAt = A@A.T\n",
    "\n",
    "# get matrix sizes\n",
    "sizeAtA = AtA.shape\n",
    "sizeAAt = AAt.shape\n",
    "\n",
    "# print info!\n",
    "print('AtA: %dx%d, rank=%d' %(sizeAtA[0],sizeAtA[1],np.linalg.matrix_rank(AtA)))\n",
    "print('AAt: %dx%d, rank=%d' %(sizeAAt[0],sizeAAt[1],np.linalg.matrix_rank(AAt)))\n"
   ]
  },
  {
   "cell_type": "code",
   "execution_count": 3,
   "metadata": {},
   "outputs": [
    {
     "name": "stdout",
     "output_type": "stream",
     "text": [
      "2 2\n",
      "2\n",
      "4\n"
     ]
    }
   ],
   "source": [
    "# Code challenges: rank of multiplied and summed matrices\n",
    "\n",
    "# rules: rank of AB <= min( rank(A), rank(B) )\n",
    "#        rank of A+B <= rank(A) + rank(B)\n",
    "\n",
    "# generate two matrices : 2 x 5\n",
    "\n",
    "import numpy as np\n",
    "\n",
    "m, n = 2, 5\n",
    "A = np.random.randn(m, n)\n",
    "B = np.random.randn(m, n)\n",
    "\n",
    "# compute AtA and BtB\n",
    "AtA = A.T@A\n",
    "BtB = B.T@B\n",
    "\n",
    "# find ranks of AtA and BtB\n",
    "print(np.linalg.matrix_rank(AtA), np.linalg.matrix_rank(BtB))  # rank 2, 2\n",
    "print(np.linalg.matrix_rank(AtA@BtB))  # rank 2\n",
    "print(np.linalg.matrix_rank(AtA+BtB))  # rank 4"
   ]
  },
  {
   "attachments": {},
   "cell_type": "markdown",
   "metadata": {},
   "source": [
    "\n",
    "---\n",
    "# VIDEO: Making a matrix full-rank by \"shifting\"\n",
    "---\n"
   ]
  },
  {
   "cell_type": "code",
   "execution_count": 7,
   "metadata": {},
   "outputs": [
    {
     "name": "stdout",
     "output_type": "stream",
     "text": [
      "rank(original) = 30\n",
      "rank(w/o shift) = 29\n",
      "rank(with shift) = 30\n"
     ]
    }
   ],
   "source": [
    "# size of matrix\n",
    "m = 30\n",
    "\n",
    "# create the square symmetric matrix\n",
    "A = np.random.randn(m,m)\n",
    "A = np.round( 10 * A.T@A )\n",
    "print('rank(original) = %d' %np.linalg.matrix_rank(A))\n",
    "\n",
    "# reduce the rank\n",
    "A[:,0] = A[:,1]  # copy col[1] to col[0]\n",
    "\n",
    "# shift amount (l=lambda)\n",
    "l = .01\n",
    "\n",
    "# new matrix by shifting\n",
    "B = A + l*np.eye(m,m)  # l * I (Identity matrix)\n",
    "\n",
    "# print information\n",
    "print('rank(w/o shift) = %d' %np.linalg.matrix_rank(A))\n",
    "print('rank(with shift) = %d' %np.linalg.matrix_rank(B))\n"
   ]
  },
  {
   "cell_type": "code",
   "execution_count": 12,
   "metadata": {},
   "outputs": [
    {
     "name": "stdout",
     "output_type": "stream",
     "text": [
      "[[1]\n",
      " [2]\n",
      " [3]\n",
      " [4]]\n",
      "[[4 0]\n",
      " [3 4]\n",
      " [6 0]\n",
      " [2 1]]\n",
      "[[4 0 1]\n",
      " [3 4 2]\n",
      " [6 0 3]\n",
      " [2 1 4]]\n",
      "[[1 0 1]\n",
      " [2 0 2]\n",
      " [2 1 3]\n",
      " [2 2 4]]\n",
      "\n",
      "3\n",
      "2\n"
     ]
    }
   ],
   "source": [
    "# Code challenge: is this vector in the span of this set?\n",
    "\n",
    "# determine whether this vector\n",
    "v = np.array([[1, 2, 3, 4]]).T  # row vector - transpose -> column vector\n",
    "print(v)\n",
    "\n",
    "# in the span of these sets?\n",
    "S = np.vstack(([4,3,6,2], [0,4,0,1])).T\n",
    "T = np.vstack(([1,2,2,2], [0,0,1,2])).T\n",
    "print(S)\n",
    "# print(T)\n",
    "\n",
    "Sv = np.concatenate((S, v), axis=1)\n",
    "Tv = np.concatenate((T, v), axis=1)\n",
    "print(Sv)\n",
    "print(Tv)\n",
    "\n",
    "print()\n",
    "print(np.linalg.matrix_rank(Sv))  # rank 3 -> s does not span in S\n",
    "print(np.linalg.matrix_rank(Tv))  # rank 2 -> v spans in T"
   ]
  }
 ],
 "metadata": {
  "kernelspec": {
   "display_name": "Python 3",
   "language": "python",
   "name": "python3"
  },
  "language_info": {
   "codemirror_mode": {
    "name": "ipython",
    "version": 3
   },
   "file_extension": ".py",
   "mimetype": "text/x-python",
   "name": "python",
   "nbconvert_exporter": "python",
   "pygments_lexer": "ipython3",
   "version": "3.10.9"
  }
 },
 "nbformat": 4,
 "nbformat_minor": 2
}
