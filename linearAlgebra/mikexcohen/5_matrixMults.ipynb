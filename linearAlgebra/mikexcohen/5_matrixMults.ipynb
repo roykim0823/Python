{
 "cells": [
  {
   "attachments": {},
   "cell_type": "markdown",
   "metadata": {},
   "source": [
    "#     COURSE: Linear algebra: theory and implementation\n",
    "##    SECTION: Matrix multiplications\n",
    "\n",
    "#### Instructor: sincxpress.com\n",
    "##### Course url: https://www.udemy.com/course/linear-algebra-theory-and-implementation/?couponCode=202110"
   ]
  },
  {
   "cell_type": "code",
   "execution_count": 30,
   "metadata": {},
   "outputs": [],
   "source": [
    "import numpy as np\n",
    "import matplotlib.pyplot as plt\n",
    "import math"
   ]
  },
  {
   "attachments": {},
   "cell_type": "markdown",
   "metadata": {},
   "source": [
    "\n",
    "---\n",
    "# VIDEO: Standard matrix multiplication, parts 1 & 2\n",
    "---\n"
   ]
  },
  {
   "cell_type": "code",
   "execution_count": 31,
   "metadata": {},
   "outputs": [
    {
     "data": {
      "text/plain": [
       "array([[ 1.63896555, -6.25014303,  1.61082229],\n",
       "       [ 3.73000297,  3.44302855, -3.35788213],\n",
       "       [ 2.64567672, -2.83062206,  1.15747628],\n",
       "       [-1.62349929,  1.73918676,  2.89553179]])"
      ]
     },
     "execution_count": 31,
     "metadata": {},
     "output_type": "execute_result"
    }
   ],
   "source": [
    "## rules for multiplication validity\n",
    "\n",
    "m = 4\n",
    "n = 3\n",
    "k = 6\n",
    "\n",
    "# make some matrices\n",
    "A = np.random.randn(m,n)  # 4 x 3\n",
    "B = np.random.randn(n,k)  # 3 x 6\n",
    "C = np.random.randn(m,k)  # 4 x 6\n",
    "\n",
    "# test which multiplications are valid.\n",
    "# Think of your answer first, then test.\n",
    "np.matmul(A,B)\n",
    "# np.matmul(A,A)\n",
    "np.matmul(A.T,C)\n",
    "np.matmul(B,B.T)\n",
    "np.matmul(np.matrix.transpose(B),B)\n",
    "# np.matmul(B,C)\n",
    "# np.matmul(C,B)\n",
    "# np.matmul(C.T,B)\n",
    "np.matmul(C,B.T)"
   ]
  },
  {
   "cell_type": "code",
   "execution_count": 32,
   "metadata": {},
   "outputs": [
    {
     "data": {
      "text/plain": [
       "array([[ 0.00000000e+00,  5.55111512e-17,  0.00000000e+00,\n",
       "         0.00000000e+00],\n",
       "       [ 0.00000000e+00,  4.16333634e-17, -2.22044605e-16,\n",
       "         0.00000000e+00],\n",
       "       [ 0.00000000e+00,  2.77555756e-17, -4.44089210e-16,\n",
       "         0.00000000e+00],\n",
       "       [ 0.00000000e+00,  0.00000000e+00,  2.22044605e-16,\n",
       "        -4.44089210e-16]])"
      ]
     },
     "execution_count": 32,
     "metadata": {},
     "output_type": "execute_result"
    }
   ],
   "source": [
    "# Code challenge: matrix mul by larying\n",
    "m, n = 4, 6\n",
    "A = np.random.randn(m, n)\n",
    "B = np.random.randn(n, m)\n",
    "\n",
    "# build the product matrix layer-wise\n",
    "C1 = np.zeros((m, m))\n",
    "for i in range(n):\n",
    "    C1 += np.outer(A[:, i], B[i, :])\n",
    "\n",
    "# Implement matrix mul\n",
    "C2 = A@B\n",
    "\n",
    "C1 -C2"
   ]
  },
  {
   "attachments": {},
   "cell_type": "markdown",
   "metadata": {},
   "source": [
    "### Matrix Multiplication with a diagonal matrix\n",
    "\n",
    "- AD -> Columns\n",
    "- DA -> Rows"
   ]
  },
  {
   "attachments": {},
   "cell_type": "markdown",
   "metadata": {},
   "source": [
    "\n",
    "---\n",
    "# VIDEO: Order-of-operations on matrices\n",
    "---\n",
    "\n",
    "- Know the strange rule about reversing matrix order when applying an operation to multiplied matrices.\n",
    "- LIVE EVIL! => (LIVE)<sup>T</sup> = E<sup>T</sup>V<sup>T</sup>I<sup>T</sup>L<sup>T</sup>\n",
    "- However, each individual tranposed matrix can be invalid for the matrix mulplication.\n"
   ]
  },
  {
   "cell_type": "code",
   "execution_count": 33,
   "metadata": {},
   "outputs": [
    {
     "data": {
      "text/plain": [
       "array([[-0.,  0., -0., -0.,  0., -0.,  0.],\n",
       "       [ 0.,  0.,  0.,  0., -0., -0., -0.],\n",
       "       [ 0.,  0.,  0.,  0.,  0.,  0.,  0.],\n",
       "       [ 0.,  0.,  0.,  0., -0., -0., -0.],\n",
       "       [ 0.,  0.,  0.,  0.,  0.,  0., -0.],\n",
       "       [ 0., -0., -0., -0., -0.,  0.,  0.],\n",
       "       [-0.,  0., -0., -0.,  0., -0., -0.]])"
      ]
     },
     "execution_count": 33,
     "metadata": {},
     "output_type": "execute_result"
    }
   ],
   "source": [
    "\n",
    "n = 7\n",
    "L = np.random.randn(n,n)\n",
    "I = np.random.randn(n,n)\n",
    "V = np.random.randn(n,n)\n",
    "E = np.random.randn(n,n)\n",
    "\n",
    "# result of \"forward\" multiplication and then transpose\n",
    "res1 = np.matrix.transpose( L @ I @ V @ E )\n",
    "\n",
    "# result of \"flipped\" multiplication of transposed matrices\n",
    "res2 = E.T @ V.T @ I.T @ L.T\n",
    "\n",
    "# test equality by subtracting (ignore possible computer rounding errors)\n",
    "np.round(res1-res2)"
   ]
  },
  {
   "attachments": {},
   "cell_type": "markdown",
   "metadata": {},
   "source": [
    "\n",
    "---\n",
    "# VIDEO: Matrix-vector multiplication\n",
    "---\n"
   ]
  },
  {
   "attachments": {},
   "cell_type": "markdown",
   "metadata": {},
   "source": [
    "- A w = v : m x n @ n x 1 = m x 1\n",
    "  - weighted combinations of the columns of A\n",
    "- w<sup>T</sup> A = v : 1 x m @ m x n = 1 x n\n",
    "  - weighted combinations of the rows of A\n"
   ]
  },
  {
   "cell_type": "code",
   "execution_count": 34,
   "metadata": {},
   "outputs": [
    {
     "name": "stdout",
     "output_type": "stream",
     "text": [
      "[[ 9 10  8 -5]\n",
      " [ 5 -5 -6  3]\n",
      " [-3  1 10  7]\n",
      " [-1 -2  4  3]]\n",
      "[[ 5.  3. -2.  0.]\n",
      " [ 3.  2. -0. -0.]\n",
      " [-2. -0.  6.  2.]\n",
      " [ 0. -0.  2.  1.]]\n",
      "[-1  0  1  2]\n",
      "\n",
      "[-7. -3. 12.  4.]\n",
      "[-7. -3. 12.  4.]\n",
      "[-7. -3. 12.  4.]\n",
      "[-7. -3. 12.  4.]\n",
      "[-7. -3. 12.  4.]\n",
      "\n",
      "[-11  -5  27  11]\n",
      "[-14 -13  10  18]\n",
      "[-14 -13  10  18]\n",
      "[-11  -5  27  11]\n",
      "[-14 -13  10  18]\n"
     ]
    }
   ],
   "source": [
    "\n",
    "# number of elements\n",
    "m = 4\n",
    "\n",
    "# create matrices\n",
    "N = np.random.randint(-10,11,(m,m))\n",
    "S = np.round( N.T*N / m**2 ) # scaled symmetric: S.T = S\n",
    "\n",
    "# and vector\n",
    "w = np.array([-1, 0, 1, 2])\n",
    "\n",
    "print(N)\n",
    "print(S)\n",
    "print(w)\n",
    "print()\n",
    "\n",
    "# with symmetric matrix: v = v.T\n",
    "print( S@w )     # 1 = v\n",
    "print( S.T@w )   # 2 = v.T\n",
    "print( w@S )     # 3 = v.T, same as #5\n",
    "print( w.T@S.T ) # 4 = v\n",
    "print( w.T@S )   # 5 = v.T\n",
    "print()\n",
    "\n",
    "# with nonsymmetric matrix: v != v.T\n",
    "print( N@w )     # 1 = v\n",
    "print( N.T@w )   # 2 = v.T\n",
    "print( w@N )     # 3 = v.T\n",
    "print( w.T@N.T ) # 4 = v\n",
    "print( w.T@N )   # 5 = v.T\n"
   ]
  },
  {
   "attachments": {},
   "cell_type": "markdown",
   "metadata": {},
   "source": [
    "\n",
    "---\n",
    "# VIDEO: 2D transformation matrices\n",
    "---\n"
   ]
  },
  {
   "attachments": {},
   "cell_type": "markdown",
   "metadata": {},
   "source": [
    "- Av = lv, l is the eigen value, v is the eigen vector.\n",
    "- A -> l: A matrix is converted to a single value."
   ]
  },
  {
   "cell_type": "code",
   "execution_count": 35,
   "metadata": {},
   "outputs": [
    {
     "data": {
      "image/png": "[encoded data removed]",
      "text/plain": [
       "<Figure size 432x288 with 1 Axes>"
      ]
     },
     "metadata": {
      "needs_background": "light"
     },
     "output_type": "display_data"
    }
   ],
   "source": [
    "# 2D input vector\n",
    "v = np.array([ 3, -2 ])\n",
    "\n",
    "# 2x2 transformation matrix\n",
    "A = np.array([ [1,-1], [2,1] ])\n",
    "\n",
    "# output vector is Av (convert v to column)\n",
    "w = A@np.matrix.transpose(v)\n",
    "\n",
    "\n",
    "# plot them\n",
    "plt.plot([0,v[0]],[0,v[1]],label='v')\n",
    "plt.plot([0,w[0]],[0,w[1]],label='Av')\n",
    "\n",
    "plt.grid()\n",
    "plt.axis((-6, 6, -6, 6))\n",
    "plt.legend()\n",
    "plt.title('Rotation + stretching')\n",
    "plt.show()"
   ]
  },
  {
   "cell_type": "code",
   "execution_count": 36,
   "metadata": {},
   "outputs": [
    {
     "data": {
      "image/png": "[encoded data removed]",
      "text/plain": [
       "<Figure size 432x288 with 1 Axes>"
      ]
     },
     "metadata": {
      "needs_background": "light"
     },
     "output_type": "display_data"
    }
   ],
   "source": [
    "## pure rotation\n",
    "\n",
    "# 2D input vector\n",
    "v = np.array([ 3, -2 ])\n",
    "\n",
    "# 2x2 rotation matrix\n",
    "# th = 5*np.pi/24\n",
    "th = np.pi/2\n",
    "A = np.array([ [math.cos(th),-math.sin(th)], [math.sin(th),math.cos(th)] ])\n",
    "\n",
    "# output vector is Av (convert v to column)\n",
    "w = A@np.matrix.transpose(v)\n",
    "\n",
    "\n",
    "# plot them\n",
    "plt.plot([0,v[0]],[0,v[1]],label='v')\n",
    "plt.plot([0,w[0]],[0,w[1]],label='Av')\n",
    "\n",
    "plt.grid()\n",
    "plt.axis((-4, 4, -4, 4))\n",
    "plt.legend()\n",
    "plt.title('Pure rotation')\n",
    "plt.show()"
   ]
  },
  {
   "cell_type": "code",
   "execution_count": 37,
   "metadata": {},
   "outputs": [
    {
     "data": {
      "image/png": "[encoded data removed]",
      "text/plain": [
       "<Figure size 432x288 with 1 Axes>"
      ]
     },
     "metadata": {
      "needs_background": "light"
     },
     "output_type": "display_data"
    }
   ],
   "source": [
    "# Code challenge: Pure and Impure rotation matrices\n",
    "\n",
    "thetas = np.linspace(0, 2 * np.pi, 100)\n",
    "\n",
    "vecmags = np.zeros((len(thetas), 2))\n",
    "\n",
    "for i, th in enumerate(thetas):\n",
    "    A1 = np.array([ [2*math.cos(th), -math.sin(th)], [math.sin(th), math.cos(th)] ])  # impure\n",
    "    A2 = np.array([ [math.cos(th), -math.sin(th)], [math.sin(th), math.cos(th)] ])  # pure\n",
    "\n",
    "    # compute vector magnitudes\n",
    "    vecmags[i, 0] = np.linalg.norm(A1@v.T)\n",
    "    vecmags[i, 1] = np.linalg.norm(A2@v.T)\n",
    "\n",
    "plt.plot(thetas, vecmags, 'o-')\n",
    "plt.xlabel('Rotation angle (rad.)')\n",
    "plt.ylabel('Av magnitude')\n",
    "plt.legend(['impure rotation', 'pure rotation'])\n",
    "plt.show()\n"
   ]
  },
  {
   "cell_type": "code",
   "execution_count": 38,
   "metadata": {},
   "outputs": [],
   "source": [
    "# Code challenge: Geometric transformations via matmul\n",
    "\n",
    "def transform(T):\n",
    "    # generate XY coordinates for a circle\n",
    "    x = np.linspace(-np.pi, np.pi, 100)\n",
    "    xy = np.vstack((np.cos(x), np.sin(x))).T\n",
    "    print(np.shape(xy))\n",
    "\n",
    "    # plot the circle\n",
    "    plt.plot(xy[:, 0], xy[:, 1], 'o')\n",
    "    \n",
    "    # multiply matrix by coordinates\n",
    "    newxy = xy@T\n",
    "\n",
    "    # plot the new coords.\n",
    "    plt.plot(newxy[:, 0], newxy[:, 1], 'o')\n",
    "\n",
    "    plt.axis('square')\n",
    "    plt.show()\n",
    "# try with various matrices... starting with I\n",
    "# try with a singular matrix (columns from a linearly depedent set)\n"
   ]
  },
  {
   "cell_type": "code",
   "execution_count": 39,
   "metadata": {},
   "outputs": [
    {
     "name": "stdout",
     "output_type": "stream",
     "text": [
      "(100, 2)\n"
     ]
    },
    {
     "data": {
      "image/png": "[encoded data removed]",
      "text/plain": [
       "<Figure size 432x288 with 1 Axes>"
      ]
     },
     "metadata": {
      "needs_background": "light"
     },
     "output_type": "display_data"
    }
   ],
   "source": [
    "# Identity matrix\n",
    "I = np.array([ [1, 0], \n",
    "               [0, 1] ])\n",
    "transform(I)"
   ]
  },
  {
   "cell_type": "code",
   "execution_count": 40,
   "metadata": {},
   "outputs": [
    {
     "name": "stdout",
     "output_type": "stream",
     "text": [
      "(100, 2)\n"
     ]
    },
    {
     "data": {
      "image/png": "[encoded data removed]",
      "text/plain": [
       "<Figure size 432x288 with 1 Axes>"
      ]
     },
     "metadata": {
      "needs_background": "light"
     },
     "output_type": "display_data"
    },
    {
     "name": "stdout",
     "output_type": "stream",
     "text": [
      "(100, 2)\n"
     ]
    },
    {
     "data": {
      "image/png": "[encoded data removed]",
      "text/plain": [
       "<Figure size 432x288 with 1 Axes>"
      ]
     },
     "metadata": {
      "needs_background": "light"
     },
     "output_type": "display_data"
    }
   ],
   "source": [
    "T = np.array([ [1, 0], \n",
    "               [0, 2] ])\n",
    "transform(T)\n",
    "T = np.array([ [1, 0], \n",
    "               [0, -2] ])\n",
    "transform(T)"
   ]
  },
  {
   "cell_type": "code",
   "execution_count": 41,
   "metadata": {},
   "outputs": [
    {
     "name": "stdout",
     "output_type": "stream",
     "text": [
      "(100, 2)\n"
     ]
    },
    {
     "data": {
      "image/png": "[encoded data removed]",
      "text/plain": [
       "<Figure size 432x288 with 1 Axes>"
      ]
     },
     "metadata": {
      "needs_background": "light"
     },
     "output_type": "display_data"
    }
   ],
   "source": [
    "T = np.array([ [1, 1], \n",
    "               [0, 2] ])\n",
    "transform(T)"
   ]
  },
  {
   "cell_type": "code",
   "execution_count": 42,
   "metadata": {},
   "outputs": [
    {
     "name": "stdout",
     "output_type": "stream",
     "text": [
      "(100, 2)\n"
     ]
    },
    {
     "data": {
      "image/png": "[encoded data removed]",
      "text/plain": [
       "<Figure size 432x288 with 1 Axes>"
      ]
     },
     "metadata": {
      "needs_background": "light"
     },
     "output_type": "display_data"
    }
   ],
   "source": [
    "T = np.array([ [1, 3], \n",
    "               [1, 2] ])\n",
    "transform(T)"
   ]
  },
  {
   "cell_type": "code",
   "execution_count": 43,
   "metadata": {},
   "outputs": [
    {
     "name": "stdout",
     "output_type": "stream",
     "text": [
      "(100, 2)\n"
     ]
    },
    {
     "data": {
      "image/png": "[encoded data removed]",
      "text/plain": [
       "<Figure size 432x288 with 1 Axes>"
      ]
     },
     "metadata": {
      "needs_background": "light"
     },
     "output_type": "display_data"
    },
    {
     "name": "stdout",
     "output_type": "stream",
     "text": [
      "(100, 2)\n"
     ]
    },
    {
     "data": {
      "image/png": "[encoded data removed]",
      "text/plain": [
       "<Figure size 432x288 with 1 Axes>"
      ]
     },
     "metadata": {
      "needs_background": "light"
     },
     "output_type": "display_data"
    }
   ],
   "source": [
    "Singular= np.array([ [1,2],   \n",
    "               [2, 4] ])\n",
    "transform(Singular)  # dimension 2D -> 1D\n",
    "\n",
    "T = np.array([ [0,0],   \n",
    "               [0, 0] ])\n",
    "transform(T)  # dimension 2D -> 1D"
   ]
  },
  {
   "attachments": {},
   "cell_type": "markdown",
   "metadata": {},
   "source": [
    "\n",
    "---\n",
    "# VIDEO: Additive and multiplicative matrix identities\n",
    "---\n"
   ]
  },
  {
   "cell_type": "code",
   "execution_count": 44,
   "metadata": {},
   "outputs": [
    {
     "name": "stdout",
     "output_type": "stream",
     "text": [
      "True\n",
      "True\n",
      "False\n",
      "True\n",
      "True\n"
     ]
    }
   ],
   "source": [
    "# size of matrices\n",
    "n = 4\n",
    "\n",
    "# create the matrices\n",
    "A = np.round( 10*np.random.randn(n,n) )\n",
    "I = np.eye(n)\n",
    "Z = np.zeros((n,n))\n",
    "\n",
    "# test both identities\n",
    "print(np.array_equal( A@I , A   ))\n",
    "print(np.array_equal( A   , A@I ))\n",
    "print(np.array_equal( A   , A+I ))\n",
    "\n",
    "print(np.array_equal( A   , A+Z ))\n",
    "print(np.array_equal( A+Z , A@I ))\n"
   ]
  },
  {
   "attachments": {},
   "cell_type": "markdown",
   "metadata": {},
   "source": [
    "\n",
    "---\n",
    "# VIDEO: Additive and multiplicative symmetric matrices\n",
    "---\n"
   ]
  },
  {
   "cell_type": "code",
   "execution_count": 45,
   "metadata": {},
   "outputs": [
    {
     "name": "stdout",
     "output_type": "stream",
     "text": [
      "[[0. 0. 0. 0. 0.]\n",
      " [0. 0. 0. 0. 0.]\n",
      " [0. 0. 0. 0. 0.]\n",
      " [0. 0. 0. 0. 0.]\n",
      " [0. 0. 0. 0. 0.]]\n"
     ]
    }
   ],
   "source": [
    "## the additive method\n",
    "\n",
    "# specify sizes (squre only)\n",
    "m = 5\n",
    "n = 5\n",
    "\n",
    "# create matrices\n",
    "A = np.random.randn(m,n)\n",
    "S = ( A + A.T )/2  # make it symmetric\n",
    "# print(S)\n",
    "# print()\n",
    "# print(S.T)\n",
    "# print()\n",
    "\n",
    "# A symmetric matrix minus its transpose should be all zeros\n",
    "print( S-S.T )\n"
   ]
  },
  {
   "cell_type": "code",
   "execution_count": 46,
   "metadata": {},
   "outputs": [
    {
     "name": "stdout",
     "output_type": "stream",
     "text": [
      "(3, 3)\n",
      "(5, 5)\n",
      "[[0. 0. 0.]\n",
      " [0. 0. 0.]\n",
      " [0. 0. 0.]]\n",
      "[[0. 0. 0. 0. 0.]\n",
      " [0. 0. 0. 0. 0.]\n",
      " [0. 0. 0. 0. 0.]\n",
      " [0. 0. 0. 0. 0.]\n",
      " [0. 0. 0. 0. 0.]]\n"
     ]
    }
   ],
   "source": [
    "## the multiplicative method\n",
    "\n",
    "# specify sizes\n",
    "m = 5\n",
    "n = 3\n",
    "\n",
    "# create matrices\n",
    "A   = np.random.randn(m,n)\n",
    "AtA = A.T@A  # 3 x 5, 5 x 3 -> 3 x 3\n",
    "AAt = A@A.T  # 5 x 3, 3 x 5 -> 5 x 5\n",
    "\n",
    "# first, show that they are square\n",
    "print( AtA.shape )\n",
    "print( AAt.shape )\n",
    "\n",
    "\n",
    "# next, show that they are symmetric\n",
    "print( AtA - AtA.T )\n",
    "print( AAt - AAt.T )"
   ]
  },
  {
   "attachments": {},
   "cell_type": "markdown",
   "metadata": {},
   "source": [
    "\n",
    "---\n",
    "# VIDEO: Element-wise (Hadamard) multiplication\n",
    "---\n"
   ]
  },
  {
   "cell_type": "code",
   "execution_count": 47,
   "metadata": {},
   "outputs": [
    {
     "name": "stdout",
     "output_type": "stream",
     "text": [
      "[[-0.22174979  0.00318049]\n",
      " [-0.08497817 -0.41554535]\n",
      " [ 0.05554359 -1.27491891]\n",
      " [ 0.20508099 -0.08101168]\n",
      " [ 0.26728843  0.40228352]\n",
      " [ 0.0389906   0.21090838]\n",
      " [-0.2279389   2.14536712]\n",
      " [ 0.80387027 -1.50032129]\n",
      " [-0.04560777  0.15293976]\n",
      " [-0.0220454   0.74595416]\n",
      " [-0.23468551 -0.6136019 ]\n",
      " [ 0.05420605 -0.48885064]\n",
      " [-0.05399426 -0.28073943]]\n",
      " \n",
      "[[-0.22174979  0.00318049]\n",
      " [-0.08497817 -0.41554535]\n",
      " [ 0.05554359 -1.27491891]\n",
      " [ 0.20508099 -0.08101168]\n",
      " [ 0.26728843  0.40228352]\n",
      " [ 0.0389906   0.21090838]\n",
      " [-0.2279389   2.14536712]\n",
      " [ 0.80387027 -1.50032129]\n",
      " [-0.04560777  0.15293976]\n",
      " [-0.0220454   0.74595416]\n",
      " [-0.23468551 -0.6136019 ]\n",
      " [ 0.05420605 -0.48885064]\n",
      " [-0.05399426 -0.28073943]]\n",
      " \n",
      "[[0. 0.]\n",
      " [0. 0.]\n",
      " [0. 0.]\n",
      " [0. 0.]\n",
      " [0. 0.]\n",
      " [0. 0.]\n",
      " [0. 0.]\n",
      " [0. 0.]\n",
      " [0. 0.]\n",
      " [0. 0.]\n",
      " [0. 0.]\n",
      " [0. 0.]\n",
      " [0. 0.]]\n"
     ]
    }
   ],
   "source": [
    "# any matrix sizes\n",
    "m = 13\n",
    "n =  2\n",
    "\n",
    "# ...but the two matrices must be the same size\n",
    "A = np.random.randn(m,n)\n",
    "B = np.random.randn(m,n)\n",
    "\n",
    "# note the different syntax compared to @ for matrix multiplication\n",
    "C1 = np.multiply( A,B )\n",
    "C2 = A*B\n",
    "\n",
    "print(C1), print(' ')\n",
    "print(C2), print(' ')\n",
    "\n",
    "print(C1-C2)\n"
   ]
  },
  {
   "cell_type": "code",
   "execution_count": 48,
   "metadata": {},
   "outputs": [
    {
     "name": "stdout",
     "output_type": "stream",
     "text": [
      "[[0. 0. 0.]\n",
      " [0. 0. 0.]\n",
      " [0. 0. 0.]]\n",
      " \n",
      "[[ 0.          4.8371493   0.54527653]\n",
      " [-4.8371493   0.         -2.4154792 ]\n",
      " [-0.54527653  2.4154792   0.        ]]\n",
      " \n",
      "[[0. 0. 0.]\n",
      " [0. 0. 0.]\n",
      " [0. 0. 0.]]\n"
     ]
    }
   ],
   "source": [
    "# Code challenge: symmetry of combined symmetric matrices\n",
    "\n",
    "# create two symmetric matrices\n",
    "m = 3\n",
    "A = np.random.randn(m , m)\n",
    "AtA = A.T@A  \n",
    "\n",
    "B = np.random.randn(m , m)\n",
    "BtB = B.T@B \n",
    "\n",
    "# compute sum, multiplication and Hadamard multiplication\n",
    "Cs = AtA + BtB\n",
    "Cm = AtA @ BtB\n",
    "Ch = AtA * BtB\n",
    "\n",
    "# determine whether result is symmetric\n",
    "print(Cs - Cs.T), print(' ')\n",
    "print(Cm - Cm.T), print(' ')  # not symmetric!\n",
    "print(Ch - Ch.T)\n"
   ]
  },
  {
   "attachments": {},
   "cell_type": "markdown",
   "metadata": {},
   "source": [
    "\n",
    "---\n",
    "# VIDEO: Multiplication of two symmetric matrices\n",
    "---\n"
   ]
  },
  {
   "cell_type": "code",
   "execution_count": 49,
   "metadata": {},
   "outputs": [
    {
     "name": "stdout",
     "output_type": "stream",
     "text": [
      "Matrix([[0, 0, 0, 0], [0, 0, 0, 0], [0, 0, 0, 0], [0, 0, 0, 0]])\n",
      "Matrix([[0, 0, 0, 0], [0, 0, 0, 0], [0, 0, 0, 0], [0, 0, 0, 0]])\n",
      "a\n",
      "a\n",
      "a\n",
      "a\n",
      "l\n",
      "l\n",
      "l\n",
      "l\n",
      "Matrix([[0, c*q + d*r - e*n - f*o, b*q + d*t - e*m - h*o, b*r + c*t - f*m - h*n], [-c*q - d*r + e*n + f*o, 0, b*n - c*m + f*t - h*r, b*o - d*m + e*t - h*q], [-b*q - d*t + e*m + h*o, -b*n + c*m - f*t + h*r, 0, c*o - d*n + e*r - f*q], [-b*r - c*t + f*m + h*n, -b*o + d*m - e*t + h*q, -c*o + d*n - e*r + f*q, 0]])\n"
     ]
    }
   ],
   "source": [
    "# using the sympy library\n",
    "from sympy import *\n",
    "\n",
    "a,b,c,d,e,f,g,h,k,l,m,n,o,p,q,r,s,t,u = symbols('a b c d e f g h k l m n o p q r s t u', real=True)\n",
    "\n",
    "# symmetric and constant-diagonal matrices\n",
    "A = Matrix([ [a,b,c,d],\n",
    "             [b,a,e,f],\n",
    "             [c,e,a,h],\n",
    "             [d,f,h,a]   ])\n",
    "\n",
    "B = Matrix([ [l,m,n,o],\n",
    "             [m,l,q,r],\n",
    "             [n,q,l,t],\n",
    "             [o,r,t,l]   ])\n",
    "\n",
    "\n",
    "# confirmation that A and B are symmetric\n",
    "print( A - A.transpose() )\n",
    "print( B - B.transpose() )\n",
    "\n",
    "# ... and constant diagonal\n",
    "for i in range(0,np.size(A,0)):\n",
    "    print( A[i,i] )\n",
    "for i in range(0,np.size(B,0)):\n",
    "    print( B[i,i] )\n",
    "\n",
    "print(A@B - (A@B).T)"
   ]
  },
  {
   "cell_type": "code",
   "execution_count": 50,
   "metadata": {},
   "outputs": [
    {
     "data": {
      "text/latex": [
       "$\\displaystyle \\left[\\begin{matrix}0 & c q + d r - e n - f o & b q + d t - e m - h o & b r + c t - f m - h n\\\\- c q - d r + e n + f o & 0 & b n - c m + f t - h r & b o - d m + e t - h q\\\\- b q - d t + e m + h o & - b n + c m - f t + h r & 0 & c o - d n + e r - f q\\\\- b r - c t + f m + h n & - b o + d m - e t + h q & - c o + d n - e r + f q & 0\\end{matrix}\\right]$"
      ],
      "text/plain": [
       "⎡          0             c⋅q + d⋅r - e⋅n - f⋅o   b⋅q + d⋅t - e⋅m - h⋅o   b⋅r +\n",
       "⎢                                                                             \n",
       "⎢-c⋅q - d⋅r + e⋅n + f⋅o            0             b⋅n - c⋅m + f⋅t - h⋅r   b⋅o -\n",
       "⎢                                                                             \n",
       "⎢-b⋅q - d⋅t + e⋅m + h⋅o  -b⋅n + c⋅m - f⋅t + h⋅r            0             c⋅o -\n",
       "⎢                                                                             \n",
       "⎣-b⋅r - c⋅t + f⋅m + h⋅n  -b⋅o + d⋅m - e⋅t + h⋅q  -c⋅o + d⋅n - e⋅r + f⋅q       \n",
       "\n",
       " c⋅t - f⋅m - h⋅n⎤\n",
       "                ⎥\n",
       " d⋅m + e⋅t - h⋅q⎥\n",
       "                ⎥\n",
       " d⋅n + e⋅r - f⋅q⎥\n",
       "                ⎥\n",
       "     0          ⎦"
      ]
     },
     "execution_count": 50,
     "metadata": {},
     "output_type": "execute_result"
    }
   ],
   "source": [
    "# nice printing in sympy\n",
    "init_printing()\n",
    "\n",
    "# but AB neq (AB)'\n",
    "A@B - (A@B).T"
   ]
  },
  {
   "cell_type": "code",
   "execution_count": 51,
   "metadata": {},
   "outputs": [
    {
     "data": {
      "text/latex": [
       "$\\displaystyle \\left[\\begin{matrix}0 & 0\\\\0 & 0\\end{matrix}\\right]$"
      ],
      "text/plain": [
       "⎡0  0⎤\n",
       "⎢    ⎥\n",
       "⎣0  0⎦"
      ]
     },
     "execution_count": 51,
     "metadata": {},
     "output_type": "execute_result"
    }
   ],
   "source": [
    "# maybe for a submatrix?\n",
    "n = 2  # only work if n == 2\n",
    "A1 = A[ 0:n,0:n ]\n",
    "B1 = B[ 0:n,0:n ]\n",
    "\n",
    "A1@B1 - (A1@B1).T"
   ]
  },
  {
   "cell_type": "code",
   "execution_count": 52,
   "metadata": {},
   "outputs": [
    {
     "data": {
      "text/latex": [
       "$\\displaystyle \\left[\\begin{matrix}0 & c q - e n & b q - e m\\\\- c q + e n & 0 & b n - c m\\\\- b q + e m & - b n + c m & 0\\end{matrix}\\right]$"
      ],
      "text/plain": [
       "⎡    0       c⋅q - e⋅n   b⋅q - e⋅m⎤\n",
       "⎢                                 ⎥\n",
       "⎢-c⋅q + e⋅n      0       b⋅n - c⋅m⎥\n",
       "⎢                                 ⎥\n",
       "⎣-b⋅q + e⋅m  -b⋅n + c⋅m      0    ⎦"
      ]
     },
     "execution_count": 52,
     "metadata": {},
     "output_type": "execute_result"
    }
   ],
   "source": [
    "# maybe for a submatrix?\n",
    "n = 3  # only work if n == 2\n",
    "A1 = A[ 0:n,0:n ]\n",
    "B1 = B[ 0:n,0:n ]\n",
    "\n",
    "A1@B1 - (A1@B1).T"
   ]
  },
  {
   "cell_type": "code",
   "execution_count": 53,
   "metadata": {},
   "outputs": [
    {
     "name": "stdout",
     "output_type": "stream",
     "text": [
      "[[ 0.34876144 -0.96753472  0.69402692 -0.82794935]\n",
      " [-0.09335543  3.13325066  0.29091349  4.04091492]\n",
      " [ 0.85289467  2.977738    1.81413112  4.39719873]\n",
      " [ 0.96607311  3.39529112  2.26480265  5.02155738]]\n",
      " \n",
      "[[3.42806215e-04 7.78545799e-01 2.23225516e-01 9.17024207e-03]\n",
      " [3.28508623e-04 2.52850790e+00 1.51341076e-01 1.83026461e+00]\n",
      " [5.43062786e-01 1.23038602e+00 8.36791639e-01 1.26877434e+00]\n",
      " [2.70450141e-02 5.68741678e-01 8.86720972e-01 2.95635403e+00]]\n",
      " \n",
      "[[-0.32303056  0.          0.          0.        ]\n",
      " [ 0.          0.66351178  0.          0.        ]\n",
      " [ 0.          0.          1.29105304  0.        ]\n",
      " [ 0.          0.          0.         -1.19848458]]\n",
      " \n",
      "[[0.10434874 0.         0.         0.        ]\n",
      " [0.         0.44024789 0.         0.        ]\n",
      " [0.         0.         1.66681794 0.        ]\n",
      " [0.         0.         0.         1.43636528]]\n",
      " \n",
      "[[0.10434874 0.         0.         0.        ]\n",
      " [0.         0.44024789 0.         0.        ]\n",
      " [0.         0.         1.66681794 0.        ]\n",
      " [0.         0.         0.         1.43636528]]\n"
     ]
    }
   ],
   "source": [
    "# Code challenge: standard and Hadamard multiplication for diagonal matrices\n",
    "\n",
    "# create two sqaure matrices: \"full\" and diagonal\n",
    "A = np.random.randn(4, 4)\n",
    "D = np.diag(np.random.randn(4))\n",
    "\n",
    "# multiply each matrix by itself: Standard and Hadamard\n",
    "print(A@A), print(' ')\n",
    "print(A*A), print(' ')\n",
    "\n",
    "# the both results are same\n",
    "print(D), print(' ')\n",
    "print(D@D), print(' ')\n",
    "print(D*D)"
   ]
  },
  {
   "attachments": {},
   "cell_type": "markdown",
   "metadata": {},
   "source": [
    "\n",
    "---\n",
    "# VIDEO: Frobenius dot-product\n",
    "---\n"
   ]
  },
  {
   "cell_type": "code",
   "execution_count": 54,
   "metadata": {},
   "outputs": [
    {
     "name": "stdout",
     "output_type": "stream",
     "text": [
      "5.16204679735311\n",
      "5.162046797353109\n",
      " \n",
      "6.472428094471421\n",
      "6.472428094471421\n"
     ]
    }
   ],
   "source": [
    "# any matrix sizes\n",
    "m = 9\n",
    "n = 4\n",
    "\n",
    "# but the two matrices must be the same size\n",
    "A = np.random.randn(m,n)\n",
    "B = np.random.randn(m,n)\n",
    "\n",
    "# first vectorize, then vector-dot-product\n",
    "Av = np.reshape( A,m*n, order='F' ) # order='F' reshapes by columns instead of by rows\n",
    "Bv = np.reshape( B,m*n, order='F' )\n",
    "frob_dp = np.dot( Av,Bv )\n",
    "\n",
    "# trace method: sum of diagonal of the matrix\n",
    "frob_dp2 = np.trace( A.T@B )\n",
    "print(frob_dp2)\n",
    "print(frob_dp), print(' ')\n",
    "\n",
    "# matrix norm\n",
    "Anorm  = np.linalg.norm(A,'fro')\n",
    "Anorm2 = np.sqrt( np.trace( A.T@A ) )\n",
    "print(Anorm)\n",
    "print(Anorm2)"
   ]
  },
  {
   "attachments": {},
   "cell_type": "markdown",
   "metadata": {},
   "source": [
    "# VIDEO: Matrix norms"
   ]
  },
  {
   "cell_type": "code",
   "execution_count": 55,
   "metadata": {},
   "outputs": [
    {
     "name": "stdout",
     "output_type": "stream",
     "text": [
      "16.431676725154983 16.431676725154986 16.392007827749776 16.392007827749776\n"
     ]
    }
   ],
   "source": [
    "# Create a matrix\n",
    "A = np.array([ [1,2,3], [4,5,6], [7,7,9] ])\n",
    "\n",
    "# optional orthogonal matrix to show that 2-norm is 1\n",
    "Q,R = np.linalg.qr(np.random.randn(5,5))\n",
    "# A = Q\n",
    "\n",
    "# Frobenius norm\n",
    "normFrob = np.linalg.norm(A,'fro')\n",
    "\n",
    "# induced 2-norm\n",
    "normInd2 = np.linalg.norm(A,2)\n",
    "# note: computed as below\n",
    "lamb = np.sqrt( np.max(np.linalg.eig(A.T@A)[0]) )\n",
    "\n",
    "# schatten p-norm\n",
    "p = 2\n",
    "s = np.linalg.svd(A)[1] # get singular values\n",
    "normSchat = np.sum(s**p)**(1/p)\n",
    "\n",
    "\n",
    "# % show all norms for comparison\n",
    "print(normFrob,normSchat,normInd2, lamb)"
   ]
  },
  {
   "cell_type": "code",
   "execution_count": 56,
   "metadata": {},
   "outputs": [
    {
     "data": {
      "image/png": "[encoded data removed]",
      "text/latex": [
       "$\\displaystyle 0.0$"
      ],
      "text/plain": [
       "0.0"
      ]
     },
     "execution_count": 56,
     "metadata": {},
     "output_type": "execute_result"
    }
   ],
   "source": [
    "# Code challenge: conditions for self-adjoint\n",
    "# <Av, w> = <v, Aw>, v != w\n",
    "\n",
    "# 1. List 2-3 conditions for this equality to hold\n",
    "# 2. Prove the equality when those conditions are met.\n",
    "# 3. Illustrate in code.\n",
    "\n",
    "# (Av).T w = v.T A.T w = v.T Aw\n",
    "\n",
    "import numpy as np\n",
    "\n",
    "m = 5\n",
    "\n",
    "A = np.random.randn(m, m)\n",
    "A = A@A.T  # comment this genreate the big diff at the end\n",
    "\n",
    "v = np.random.randn(m)\n",
    "w = np.random.rand(m)  # w differs significantly from v \n",
    "\n",
    "np.dot(A@v, w) - np.dot(v, A@w)  # 0 or almost 0"
   ]
  },
  {
   "cell_type": "code",
   "execution_count": 57,
   "metadata": {},
   "outputs": [
    {
     "name": "stdout",
     "output_type": "stream",
     "text": [
      "MAI for Symmetric Matrix:\n",
      "[[-0.00261257  0.13376043  0.66711222  0.52447811  0.47966618]\n",
      " [ 0.13376043 -0.37546141 -0.53648955  0.13306144 -0.05603331]\n",
      " [ 0.66711222 -0.53648955  1.55183738 -0.1670279  -1.24855936]\n",
      " [ 0.52447811  0.13306144 -0.1670279  -1.38160301  0.10950148]\n",
      " [ 0.47966618 -0.05603331 -1.24855936  0.10950148 -1.31130914]]\n",
      "0.0\n",
      " \n",
      "MAI for skew-symmetric Matrix\n",
      "[[ 0.          0.28781346  0.98257404  0.39661751 -0.22488963]\n",
      " [-0.28781346  0.          1.23972988 -0.32004408 -0.17364196]\n",
      " [-0.98257404 -1.23972988  0.         -0.05886402  0.39955078]\n",
      " [-0.39661751  0.32004408  0.05886402  0.          1.01246368]\n",
      " [ 0.22488963  0.17364196 -0.39955078 -1.01246368  0.        ]]\n",
      "1.0\n",
      " \n",
      "MAI for random Matrix\n",
      "[[-1.46852903e+00  7.69217200e-02 -1.86830240e+00 -4.67899296e-01\n",
      "  -1.37292229e-01]\n",
      " [-1.36473321e+00 -1.54305362e+00  1.87071634e-03 -5.14172514e-01\n",
      "  -6.73639711e-02]\n",
      " [ 3.55987360e-01  8.04923239e-01 -8.67044135e-01 -3.82893197e-01\n",
      "  -3.72646941e-01]\n",
      " [ 5.62330947e-01  2.08657989e+00 -9.79727366e-01 -7.96409854e-01\n",
      "   6.69341709e-01]\n",
      " [ 1.35760549e+00  4.52908526e-01  3.02887428e-02  2.00715668e-01\n",
      "   8.51420111e-01]]\n",
      "0.6564761083580108\n",
      " \n"
     ]
    },
    {
     "data": {
      "text/plain": [
       "(None, None)"
      ]
     },
     "execution_count": 57,
     "metadata": {},
     "output_type": "execute_result"
    }
   ],
   "source": [
    "# Code challenge: The matrix asymmetry index\n",
    "# develop a formula that will proportionally mix a symmetric and skew-symmetric matrix.\n",
    "# Test on a symmetric matrix, skew-symmetric matrix, and random matrix.\n",
    "# Use the additive method to create random symmetric matrices.\n",
    "\n",
    "import numpy as np\n",
    "import matplotlib.pyplot as plot\n",
    "\n",
    "# 1. implement Matrix Asymmetry Index (MAI)\n",
    "\n",
    "def MAI(A):\n",
    "    Aanti = (A-A.T) / 2  # Asymmetric part of A\n",
    "    mai = np.linalg.norm(Aanti) / np.linalg.norm(A)\n",
    "    return mai\n",
    "\n",
    "# 2. compuate MAI for symmetric, skew-symmetric, and random matrix\n",
    "\n",
    "print('MAI for Symmetric Matrix:')\n",
    "A = np.random.randn(5, 5)\n",
    "A = (A+A.T)/2  # make A symmetric\n",
    "print(A)\n",
    "print(MAI(A)), print(' ')\n",
    "\n",
    "print('MAI for skew-symmetric Matrix')\n",
    "A = np.random.randn(5, 5)\n",
    "A = (A-A.T)/2  # make A skew-symmetric\n",
    "print(A)\n",
    "print(MAI(A)), print(' ')\n",
    "\n",
    "print('MAI for random Matrix')\n",
    "A = np.random.randn(5, 5)\n",
    "print(A)\n",
    "print(MAI(A)), print(' ')"
   ]
  },
  {
   "cell_type": "code",
   "execution_count": 58,
   "metadata": {},
   "outputs": [],
   "source": [
    "# 3. Formula for mixing skew/symmetric matrices\n",
    "\n",
    "def mixed_skew_symmetric_mat(p = 1.0):\n",
    "    A = np.random.randn(5, 5)\n",
    "    B = (1-p) * (A+A.T)/2 + p * (A-A.T)/2\n",
    "    return B\n"
   ]
  },
  {
   "cell_type": "code",
   "execution_count": 59,
   "metadata": {},
   "outputs": [
    {
     "name": "stdout",
     "output_type": "stream",
     "text": [
      "[[ 0.29475968 -0.82776995  1.18711008 -0.32679762 -0.19615115]\n",
      " [-0.82776995 -1.5904504  -0.56981779  1.39234579 -0.70354268]\n",
      " [ 1.18711008 -0.56981779  0.30704652  0.43006161 -0.34407272]\n",
      " [-0.32679762  1.39234579  0.43006161 -1.31324171  0.64037406]\n",
      " [-0.19615115 -0.70354268 -0.34407272  0.64037406  0.83747553]]\n",
      "0.0\n",
      "[[ 1.14913713  0.10651851  0.07917592  0.32255162 -1.13573904]\n",
      " [ 0.46316937 -0.30146904 -0.5816271   0.45367158 -0.42861152]\n",
      " [ 0.15601712 -0.8046741   0.96457043 -0.46542389 -0.19833354]\n",
      " [-0.46049586  0.87862491 -0.75625463 -0.40585109 -0.06545626]\n",
      " [-1.37710581 -0.14869338 -0.23684447 -0.43565104 -0.06940068]]\n",
      "0.26495698262796574\n",
      "[[ 0.62923021 -0.50020188  0.46886971  0.12449844 -0.87968215]\n",
      " [-0.00138668 -0.18197359  0.52292427  0.24547364  0.19526671]\n",
      " [ 1.10442721 -0.2348224   0.58617624  0.24913443 -0.39993426]\n",
      " [-0.03571837  0.11038214 -0.05563191 -0.88787098 -0.40129761]\n",
      " [ 0.44423262  0.19235457  0.36027578 -0.42651198 -0.34488348]]\n",
      "0.5779175955970356\n",
      "[[-0.28030674  0.38873131 -1.09982939  0.09933399 -0.1060796 ]\n",
      " [ 0.10622019  0.02956523  0.45787228 -0.20087837  1.48453363]\n",
      " [ 1.00714737 -0.4357131   0.18188109  0.21979915  0.82236516]\n",
      " [-0.03297026  0.91699729  0.24868392  0.42700714  0.53799887]\n",
      " [-0.08107353 -0.96568805 -0.9251813  -0.52957915  0.36169994]]\n",
      "0.9413376151380471\n",
      "[[ 0.         -0.27036643 -1.9869082  -0.4773158   2.1929243 ]\n",
      " [ 0.27036643  0.          1.93301721 -0.43706556 -0.4445147 ]\n",
      " [ 1.9869082  -1.93301721  0.          1.89412514  0.31830339]\n",
      " [ 0.4773158   0.43706556 -1.89412514  0.          1.35408099]\n",
      " [-2.1929243   0.4445147  -0.31830339 -1.35408099  0.        ]]\n",
      "1.0\n"
     ]
    }
   ],
   "source": [
    "for p in [0.0, 0.25, 0.5, 0.75, 1.0]:\n",
    "    B = mixed_skew_symmetric_mat(p)\n",
    "    print(B)\n",
    "    print(MAI(B))"
   ]
  },
  {
   "cell_type": "code",
   "execution_count": 62,
   "metadata": {},
   "outputs": [
    {
     "data": {
      "image/png": "[encoded data removed]",
      "text/plain": [
       "<Figure size 432x288 with 1 Axes>"
      ]
     },
     "metadata": {
      "needs_background": "light"
     },
     "output_type": "display_data"
    }
   ],
   "source": [
    "import numpy as np\n",
    "import matplotlib.pyplot as plot\n",
    "\n",
    "# 4. Test on random matrices\n",
    "\n",
    "ps = np.linspace(0, 1, 100)\n",
    "mai = np.zeros(len(ps))\n",
    "for i, p in enumerate(ps):\n",
    "    B = mixed_skew_symmetric_mat(p)\n",
    "\n",
    "    # compute and store the MAI\n",
    "    mai[i] = MAI(B)\n",
    "\n",
    "plt.plot(ps, mai, 's-')\n",
    "plt.show()"
   ]
  }
 ],
 "metadata": {
  "kernelspec": {
   "display_name": "Python 3",
   "language": "python",
   "name": "python3"
  },
  "language_info": {
   "codemirror_mode": {
    "name": "ipython",
    "version": 3
   },
   "file_extension": ".py",
   "mimetype": "text/x-python",
   "name": "python",
   "nbconvert_exporter": "python",
   "pygments_lexer": "ipython3",
   "version": "3.10.7"
  }
 },
 "nbformat": 4,
 "nbformat_minor": 2
}
