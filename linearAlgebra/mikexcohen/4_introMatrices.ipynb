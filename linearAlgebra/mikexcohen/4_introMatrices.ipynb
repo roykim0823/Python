{
 "cells": [
  {
   "cell_type": "markdown",
   "metadata": {},
   "source": [
    "#     COURSE: Linear algebra: theory and implementation\n",
    "##    SECTION: Introduction to matrices\n",
    "\n",
    "#### Instructor: sincxpress.com\n",
    "##### Course url: https://www.udemy.com/course/linear-algebra-theory-and-implementation/?couponCode=202110"
   ]
  },
  {
   "cell_type": "code",
   "execution_count": 8,
   "metadata": {},
   "outputs": [],
   "source": [
    "import numpy as np"
   ]
  },
  {
   "cell_type": "markdown",
   "metadata": {},
   "source": [
    "\n",
    "---\n",
    "# VIDEO: A zoo of matrices\n",
    "---\n"
   ]
  },
  {
   "cell_type": "code",
   "execution_count": 12,
   "metadata": {},
   "outputs": [
    {
     "name": "stdout",
     "output_type": "stream",
     "text": [
      "[[-0.35314565  0.61189495 -1.07281747  0.37702751  0.04125853]\n",
      " [ 1.1287465   0.18091986  0.1794864  -0.51947862  1.22750935]\n",
      " [-0.2904204   0.1963104  -0.00345993 -1.26902573 -0.40922926]\n",
      " [ 0.59513696 -0.96859355  0.37253315 -0.35161141 -1.72833004]\n",
      " [-0.76011515  0.16823249 -0.60620105 -0.15251605 -1.46466921]]\n",
      " \n",
      "[[-1.95228939 -1.39441498]\n",
      " [ 0.4417219   1.1055026 ]\n",
      " [ 0.92677678  0.41096837]\n",
      " [ 0.67427973  0.38647345]\n",
      " [-0.04356852 -0.81820917]]\n",
      "[[1. 0. 0.]\n",
      " [0. 1. 0.]\n",
      " [0. 0. 1.]]\n",
      " \n",
      "[[0. 0. 0. 0.]\n",
      " [0. 0. 0. 0.]\n",
      " [0. 0. 0. 0.]\n",
      " [0. 0. 0. 0.]]\n",
      " \n",
      "[[1 0 0 0 0]\n",
      " [0 2 0 0 0]\n",
      " [0 0 3 0 0]\n",
      " [0 0 0 5 0]\n",
      " [0 0 0 0 2]]\n"
     ]
    }
   ],
   "source": [
    "\n",
    "# square vs. rectangular\n",
    "S = np.random.randn(5,5)\n",
    "R = np.random.randn(5,2) # 5 rows, 2 columns\n",
    "print(S), print(' ')\n",
    "print(R)\n",
    "\n",
    "# identity\n",
    "I = np.eye(3)\n",
    "print(I), print(' ')\n",
    "\n",
    "# zeros\n",
    "Z = np.zeros((4,4))  # input is tuple!\n",
    "# Z = np.zeros(4, 4)  # error\n",
    "print(Z), print(' ')\n",
    "\n",
    "# diagonal\n",
    "D = np.diag([ 1, 2, 3, 5, 2 ])\n",
    "print(D)"
   ]
  },
  {
   "cell_type": "code",
   "execution_count": 17,
   "metadata": {},
   "outputs": [
    {
     "name": "stdout",
     "output_type": "stream",
     "text": [
      "[[ 4.89980928e-02 -1.51473615e+00 -1.04664197e+00 -1.42103515e+00\n",
      "  -1.54089372e+00]\n",
      " [-1.36761526e+00 -1.15323508e+00 -1.23803460e-01 -1.59844560e+00\n",
      "   1.19096374e+00]\n",
      " [ 7.30872832e-01 -9.66804224e-04  1.39561353e+00  1.90070060e+00\n",
      "  -7.39380094e-01]\n",
      " [-1.11606603e-01 -6.37069598e-01 -1.95883764e+00  5.44616896e-01\n",
      "   2.28351805e-01]\n",
      " [-1.04225843e+00 -4.79995706e-01  1.11450001e+00 -6.85022908e-01\n",
      "  -7.88024494e-02]]\n",
      " \n",
      "[[ 0.04899809 -1.51473615 -1.04664197 -1.42103515 -1.54089372]\n",
      " [ 0.         -1.15323508 -0.12380346 -1.5984456   1.19096374]\n",
      " [ 0.          0.          1.39561353  1.9007006  -0.73938009]\n",
      " [ 0.          0.          0.          0.5446169   0.22835181]\n",
      " [ 0.          0.          0.          0.         -0.07880245]]\n",
      " \n",
      "[[ 4.89980928e-02  0.00000000e+00  0.00000000e+00  0.00000000e+00\n",
      "   0.00000000e+00]\n",
      " [-1.36761526e+00 -1.15323508e+00  0.00000000e+00  0.00000000e+00\n",
      "   0.00000000e+00]\n",
      " [ 7.30872832e-01 -9.66804224e-04  1.39561353e+00  0.00000000e+00\n",
      "   0.00000000e+00]\n",
      " [-1.11606603e-01 -6.37069598e-01 -1.95883764e+00  5.44616896e-01\n",
      "   0.00000000e+00]\n",
      " [-1.04225843e+00 -4.79995706e-01  1.11450001e+00 -6.85022908e-01\n",
      "  -7.88024494e-02]]\n",
      " \n",
      "[[ 0.28244962 -0.46715285  0.08561657 -0.56563076 -0.61352308 -0.75261309]\n",
      " [-1.45551429 -0.26301238 -0.87296909  0.34521924 -0.22236849  0.62224423]\n",
      " [ 1.12753515  0.17321212  0.82237671  0.58897091  0.05578974 -1.168481  ]]\n"
     ]
    },
    {
     "ename": "ValueError",
     "evalue": "all the input array dimensions for the concatenation axis must match exactly, but along dimension 0, the array at index 0 has size 3 and the array at index 1 has size 4",
     "output_type": "error",
     "traceback": [
      "\u001b[1;31m---------------------------------------------------------------------------\u001b[0m",
      "\u001b[1;31mValueError\u001b[0m                                Traceback (most recent call last)",
      "\u001b[1;32mg:\\내 드라이브\\study\\linearAlgebra\\mikexcohen\\4_introMatrices_allCode.ipynb Cell 5\u001b[0m in \u001b[0;36m<cell line: 17>\u001b[1;34m()\u001b[0m\n\u001b[0;32m     <a href='vscode-notebook-cell:/g%3A/%EB%82%B4%20%EB%93%9C%EB%9D%BC%EC%9D%B4%EB%B8%8C/study/linearAlgebra/mikexcohen/4_introMatrices_allCode.ipynb#X22sZmlsZQ%3D%3D?line=14'>15</a>\u001b[0m A \u001b[39m=\u001b[39m np\u001b[39m.\u001b[39mrandom\u001b[39m.\u001b[39mrandn(\u001b[39m3\u001b[39m,\u001b[39m2\u001b[39m)\n\u001b[0;32m     <a href='vscode-notebook-cell:/g%3A/%EB%82%B4%20%EB%93%9C%EB%9D%BC%EC%9D%B4%EB%B8%8C/study/linearAlgebra/mikexcohen/4_introMatrices_allCode.ipynb#X22sZmlsZQ%3D%3D?line=15'>16</a>\u001b[0m B \u001b[39m=\u001b[39m np\u001b[39m.\u001b[39mrandom\u001b[39m.\u001b[39mrandn(\u001b[39m4\u001b[39m,\u001b[39m4\u001b[39m)\n\u001b[1;32m---> <a href='vscode-notebook-cell:/g%3A/%EB%82%B4%20%EB%93%9C%EB%9D%BC%EC%9D%B4%EB%B8%8C/study/linearAlgebra/mikexcohen/4_introMatrices_allCode.ipynb#X22sZmlsZQ%3D%3D?line=16'>17</a>\u001b[0m C \u001b[39m=\u001b[39m np\u001b[39m.\u001b[39;49mconcatenate((A,B),axis\u001b[39m=\u001b[39;49m\u001b[39m1\u001b[39;49m)  \u001b[39m# error\u001b[39;00m\n\u001b[0;32m     <a href='vscode-notebook-cell:/g%3A/%EB%82%B4%20%EB%93%9C%EB%9D%BC%EC%9D%B4%EB%B8%8C/study/linearAlgebra/mikexcohen/4_introMatrices_allCode.ipynb#X22sZmlsZQ%3D%3D?line=17'>18</a>\u001b[0m \u001b[39mprint\u001b[39m(C)\n",
      "File \u001b[1;32m<__array_function__ internals>:180\u001b[0m, in \u001b[0;36mconcatenate\u001b[1;34m(*args, **kwargs)\u001b[0m\n",
      "\u001b[1;31mValueError\u001b[0m: all the input array dimensions for the concatenation axis must match exactly, but along dimension 0, the array at index 0 has size 3 and the array at index 1 has size 4"
     ]
    }
   ],
   "source": [
    "# create triangular matrix from full matrices\n",
    "S = np.random.randn(5,5)\n",
    "U = np.triu(S)\n",
    "L = np.tril(S)\n",
    "print(S), print(' ')\n",
    "print(U), print(' ')\n",
    "print(L), print(' ')\n",
    "\n",
    "# concatenate matrices (sizes must match!)\n",
    "A = np.random.randn(3,2)\n",
    "B = np.random.randn(3,4)\n",
    "C = np.concatenate((A,B),axis=1)\n",
    "print(C)\n",
    "\n",
    "A = np.random.randn(3,2)\n",
    "B = np.random.randn(4,4)\n",
    "C = np.concatenate((A,B),axis=1)  # error\n",
    "print(C)"
   ]
  },
  {
   "cell_type": "markdown",
   "metadata": {},
   "source": [
    "\n",
    "---\n",
    "# VIDEO: Matrix addition and subtraction\n",
    "---\n"
   ]
  },
  {
   "cell_type": "code",
   "execution_count": 21,
   "metadata": {},
   "outputs": [
    {
     "name": "stdout",
     "output_type": "stream",
     "text": [
      "[[ 1.07527579 -0.13709746  0.57886179 -0.29964717  0.44980047]\n",
      " [-0.44812319  1.57775471 -0.94575461  0.69502771  0.98727799]\n",
      " [ 2.51055354 -1.41812108  1.5430232   0.08283622 -0.23681078]\n",
      " [ 1.21594865  0.61575404  1.81508353  2.38310786  1.19345432]\n",
      " [-0.39796434 -1.09138511  2.60110913 -0.08528062 -0.77262507]]\n",
      " \n",
      "[[ 1.10527579 -0.13709746  0.57886179 -0.29964717  0.44980047]\n",
      " [-0.44812319  1.60775471 -0.94575461  0.69502771  0.98727799]\n",
      " [ 2.51055354 -1.41812108  1.5730232   0.08283622 -0.23681078]\n",
      " [ 1.21594865  0.61575404  1.81508353  2.41310786  1.19345432]\n",
      " [-0.39796434 -1.09138511  2.60110913 -0.08528062 -0.74262507]]\n"
     ]
    },
    {
     "data": {
      "text/plain": [
       "(None, None, None)"
      ]
     },
     "execution_count": 21,
     "metadata": {},
     "output_type": "execute_result"
    }
   ],
   "source": [
    "# create random matrices\n",
    "A = np.random.randn(5,4)\n",
    "B = np.random.randn(5,3)\n",
    "C = np.random.randn(5,4)\n",
    "\n",
    "# try to add them\n",
    "# A+B  # Error\n",
    "A+C\n",
    "\n",
    "# \"shifting\" a matrix\n",
    "l = .03 # lambda\n",
    "N = 5  # size of square matrix\n",
    "D = np.random.randn(N,N) # can only shift a square matrix\n",
    "\n",
    "Ds = D + l*np.eye(N)\n",
    "print(D), print(' '), print(Ds)"
   ]
  },
  {
   "cell_type": "markdown",
   "metadata": {},
   "source": [
    "\n",
    "---\n",
    "# VIDEO: Matrix-scalar multiplication\n",
    "---\n"
   ]
  },
  {
   "cell_type": "code",
   "execution_count": 22,
   "metadata": {},
   "outputs": [
    {
     "name": "stdout",
     "output_type": "stream",
     "text": [
      "[[ 2  4]\n",
      " [ 4 10]]\n",
      "[[ 2  4]\n",
      " [ 4 10]]\n"
     ]
    }
   ],
   "source": [
    "# define matrix and scalar\n",
    "M = np.array([ [1, 2], [2, 5] ])\n",
    "s = 2\n",
    "\n",
    "# pre- and post-multiplication is the same:\n",
    "print( M*s )\n",
    "print( s*M )\n"
   ]
  },
  {
   "cell_type": "code",
   "execution_count": 23,
   "metadata": {},
   "outputs": [
    {
     "name": "stdout",
     "output_type": "stream",
     "text": [
      "[[ 1.40162434 -1.0869481   0.89957858  0.75292076 -0.69496405]\n",
      " [ 0.50658147 -0.07697785  0.8350357  -1.4081933   0.79379951]\n",
      " [-0.11264065  0.19743146  0.11397288 -0.6143676   0.4242942 ]\n",
      " [-0.03038289  1.59618081 -1.6805689  -0.18173045  0.25268349]\n",
      " [ 0.237116    1.56903081 -0.44472157  0.46042026  0.29873381]\n",
      " [-0.17535949 -0.42905281 -0.79689049 -0.71607562 -0.32496967]\n",
      " [-1.1394604   0.66406364  0.01482485  0.00902377  0.63418731]]\n",
      " \n",
      "[[ 1.40162434 -1.0869481   0.89957858  0.75292076 -0.69496405]\n",
      " [ 0.50658147 -0.07697785  0.8350357  -1.4081933   0.79379951]\n",
      " [-0.11264065  0.19743146  0.11397288 -0.6143676   0.4242942 ]\n",
      " [-0.03038289  1.59618081 -1.6805689  -0.18173045  0.25268349]\n",
      " [ 0.237116    1.56903081 -0.44472157  0.46042026  0.29873381]\n",
      " [-0.17535949 -0.42905281 -0.79689049 -0.71607562 -0.32496967]\n",
      " [-1.1394604   0.66406364  0.01482485  0.00902377  0.63418731]]\n",
      " \n",
      "[[ 0.00000000e+00  2.22044605e-16  0.00000000e+00  1.11022302e-16\n",
      "   0.00000000e+00]\n",
      " [-1.11022302e-16  0.00000000e+00  0.00000000e+00  2.22044605e-16\n",
      "   0.00000000e+00]\n",
      " [ 0.00000000e+00  0.00000000e+00  1.38777878e-17  0.00000000e+00\n",
      "   5.55111512e-17]\n",
      " [ 0.00000000e+00  0.00000000e+00 -2.22044605e-16 -2.77555756e-17\n",
      "  -5.55111512e-17]\n",
      " [ 0.00000000e+00  0.00000000e+00  0.00000000e+00  5.55111512e-17\n",
      "   0.00000000e+00]\n",
      " [ 5.55111512e-17  0.00000000e+00  1.11022302e-16  0.00000000e+00\n",
      "   5.55111512e-17]\n",
      " [ 0.00000000e+00  0.00000000e+00 -1.99493200e-16  5.20417043e-18\n",
      "   0.00000000e+00]]\n"
     ]
    }
   ],
   "source": [
    "# Code Challenge: is matrix-scalr multiplication a linear operation?\n",
    "# s(A+B) = sA + sB\n",
    "m, n = 7, 5\n",
    "\n",
    "A = np.random.randn(m, n)\n",
    "B = np.random.randn(m, n)\n",
    "\n",
    "s = np.random.randn()\n",
    "\n",
    "resL = s * (A+B)\n",
    "resR = s*A + s*B\n",
    "\n",
    "print(resL), print(' ')\n",
    "print(resR), print(' ')\n",
    "print(resL - resR)"
   ]
  },
  {
   "cell_type": "markdown",
   "metadata": {},
   "source": [
    "# VIDEO: Transpose"
   ]
  },
  {
   "cell_type": "code",
   "execution_count": 24,
   "metadata": {},
   "outputs": [
    {
     "name": "stdout",
     "output_type": "stream",
     "text": [
      "[[1 2 3]\n",
      " [2 3 4]]\n",
      "\n",
      "[[1 2]\n",
      " [2 3]\n",
      " [3 4]]\n",
      "\n",
      "[[1 2 3]\n",
      " [2 3 4]]\n",
      "\n",
      "[[1 2]\n",
      " [2 3]\n",
      " [3 4]]\n"
     ]
    }
   ],
   "source": [
    "M = np.array([ [1,2,3],\n",
    "               [2,3,4] ])\n",
    "\n",
    "print(M), print('')\n",
    "print(M.T), print('') # one transpose\n",
    "print(M.T.T), print('') # double-transpose returns the original matrix\n",
    "\n",
    "# can also use the function transpose\n",
    "print(np.transpose(M))"
   ]
  },
  {
   "cell_type": "code",
   "execution_count": 27,
   "metadata": {},
   "outputs": [
    {
     "name": "stdout",
     "output_type": "stream",
     "text": [
      "[[4.+1.j 3.+0.j 2.-4.j]]\n",
      "\n",
      "[[4.+1.j]\n",
      " [3.+0.j]\n",
      " [2.-4.j]]\n",
      "\n",
      "[[4.+1.j]\n",
      " [3.+0.j]\n",
      " [2.-4.j]]\n",
      "\n",
      "[[4.-1.j]\n",
      " [3.-0.j]\n",
      " [2.+4.j]]\n",
      "[[4.-1.j]\n",
      " [3.-0.j]\n",
      " [2.+4.j]]\n"
     ]
    }
   ],
   "source": [
    "# warning! be careful when using complex matrices\n",
    "C = np.array([ [4+1j , 3 , 2-4j] ])\n",
    "\n",
    "print(C), print('')\n",
    "print(C.T), print('')\n",
    "print(np.transpose(C)), print('')\n",
    "\n",
    "# Note: In MATLAB, the transpose is the Hermitian transpose; \n",
    "#       in Python, you need to call the Hermitian explicitly by first converting from an array into a matrix\n",
    "print(C.conjugate().T) # note the sign flips!\n",
    "# Another note: the code I used in the video will soon be depreciated; use the above line instead.\n",
    "print(np.matrix(C).H)\n"
   ]
  },
  {
   "cell_type": "markdown",
   "metadata": {},
   "source": [
    "\n",
    "---\n",
    "# VIDEO: Diagonal and trace\n",
    "---\n"
   ]
  },
  {
   "cell_type": "code",
   "execution_count": 28,
   "metadata": {},
   "outputs": [
    {
     "name": "stdout",
     "output_type": "stream",
     "text": [
      "[[  4.  -7.  -0.   0.]\n",
      " [ -9.   2.   5.   8.]\n",
      " [ -4.   6.   5.  -1.]\n",
      " [ -2.   4. -11. -11.]]\n",
      " \n",
      "[  4.   2.   5. -11.]\n",
      "[[  4.   0.   0.   0.]\n",
      " [  0.   2.   0.   0.]\n",
      " [  0.   0.   5.   0.]\n",
      " [  0.   0.   0. -11.]]\n",
      "0.0 0.0\n"
     ]
    }
   ],
   "source": [
    "M = np.round( 6*np.random.randn(4,4) )\n",
    "print(M), print(' ')\n",
    "# extract the diagonals\n",
    "d = np.diag(M)\n",
    "\n",
    "# notice the two ways of using the diag function\n",
    "d = np.diag(M) # input is matrix, output is vector\n",
    "D = np.diag(d) # input is vector, output is matrix\n",
    "print(d)\n",
    "print(D)\n",
    "\n",
    "# trace as sum of diagonal elements, it must be a squre matrix.\n",
    "tr = np.trace(M)\n",
    "tr2 = sum( np.diag(M) )\n",
    "print(tr,tr2)"
   ]
  },
  {
   "cell_type": "code",
   "execution_count": 29,
   "metadata": {},
   "outputs": [
    {
     "name": "stdout",
     "output_type": "stream",
     "text": [
      "tr(A+B) = -2.2618975646220685\n",
      "tr(A) + tr(B) = -2.2618975646220685\n",
      "\n",
      "tr(l*A) = -1.8417819587908808\n",
      "l*tr(A) = -1.8417819587908808\n"
     ]
    }
   ],
   "source": [
    "# Code challenge: linearity of trace\n",
    "# tr(A) + tr(B) == tr(A+B) ?\n",
    "# tr(l*A) == l*tr(A) ?\n",
    "\n",
    "m, n = 4, 4\n",
    "A = np.random.randn(m, n)\n",
    "B = np.random.randn(m, n)\n",
    "\n",
    "l = np.random.rand()\n",
    "\n",
    "print('tr(A+B) = ' + str(np.trace(A+B)))\n",
    "print('tr(A) + tr(B) = ' + str(np.trace(A) + np.trace(B)))\n",
    "print()\n",
    "print('tr(l*A) = ' + str(np.trace(l*A)))\n",
    "print('l*tr(A) = ' + str(l * np.trace(A)))\n",
    "\n"
   ]
  },
  {
   "cell_type": "markdown",
   "metadata": {},
   "source": [
    "\n",
    "---\n",
    "# VIDEO: Broadcasting matrix arithmetic\n",
    "---\n"
   ]
  },
  {
   "cell_type": "code",
   "execution_count": 30,
   "metadata": {},
   "outputs": [
    {
     "name": "stdout",
     "output_type": "stream",
     "text": [
      "[[ 1  4  7 10]\n",
      " [ 2  5  8 11]\n",
      " [ 3  6  9 12]]\n",
      " \n",
      "[10, 20, 30, 40]\n",
      " \n",
      "[100, 200, 300]\n",
      " \n"
     ]
    }
   ],
   "source": [
    "# create a matrix\n",
    "A = np.reshape(np.arange(1,13),(3,4),'F') # F=column, C=row\n",
    "\n",
    "# and two vectors\n",
    "r = [ 10, 20, 30, 40 ]\n",
    "c = [ 100, 200, 300 ]\n",
    "\n",
    "print(A), print(' ')\n",
    "print(r), print(' ')\n",
    "print(c), print(' ');"
   ]
  },
  {
   "cell_type": "code",
   "execution_count": 36,
   "metadata": {},
   "outputs": [
    {
     "name": "stdout",
     "output_type": "stream",
     "text": [
      "[[11 24 37 50]\n",
      " [12 25 38 51]\n",
      " [13 26 39 52]]\n",
      " \n",
      "[[100]\n",
      " [200]\n",
      " [300]]\n",
      "[[101 104 107 110]\n",
      " [202 205 208 211]\n",
      " [303 306 309 312]]\n"
     ]
    }
   ],
   "source": [
    "# broadcast on the rows \n",
    "print(A+r), print(' ')\n",
    "\n",
    "# broadcast on the columns\n",
    "# print(A+c)  # ValueError: operands could not be broadcast together with shape(3, 4) (3,)\n",
    "c_reshaped = np.reshape(c,(len(c),1))\n",
    "print(c_reshaped)\n",
    "print(A+c_reshaped) # only works for explicit column vectors\n"
   ]
  }
 ],
 "metadata": {
  "kernelspec": {
   "display_name": "Python 3",
   "language": "python",
   "name": "python3"
  },
  "language_info": {
   "codemirror_mode": {
    "name": "ipython",
    "version": 3
   },
   "file_extension": ".py",
   "mimetype": "text/x-python",
   "name": "python",
   "nbconvert_exporter": "python",
   "pygments_lexer": "ipython3",
   "version": "3.10.7"
  }
 },
 "nbformat": 4,
 "nbformat_minor": 2
}
