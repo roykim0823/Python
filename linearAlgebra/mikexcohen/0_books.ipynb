{
 "cells": [
  {
   "cell_type": "markdown",
   "metadata": {},
   "source": [
    "# 2. Vectors"
   ]
  },
  {
   "cell_type": "code",
   "execution_count": 1,
   "metadata": {},
   "outputs": [
    {
     "data": {
      "text/plain": [
       "(-3.0, 3.0, -3.0, 3.0)"
      ]
     },
     "execution_count": 1,
     "metadata": {},
     "output_type": "execute_result"
    },
    {
     "data": {
      "image/png": "[encoded data removed]",
      "text/plain": [
       "<Figure size 640x480 with 1 Axes>"
      ]
     },
     "metadata": {},
     "output_type": "display_data"
    }
   ],
   "source": [
    "# 2.3\n",
    "import numpy as np\n",
    "import matplotlib.pyplot as plt\n",
    "\n",
    "v = np.array([2, -1])\n",
    "plt.plot([0, v[0]], [0, v[1]])\n",
    "plt.axis([-3, 3, -3, 3])"
   ]
  },
  {
   "cell_type": "code",
   "execution_count": 3,
   "metadata": {},
   "outputs": [
    {
     "name": "stdout",
     "output_type": "stream",
     "text": [
      "[2, 5, 4, 7]\n",
      "[2 5 4 7]\n",
      "[[2]\n",
      " [5]\n",
      " [4]\n",
      " [7]]\n",
      "[[2 5 4 7]]\n"
     ]
    }
   ],
   "source": [
    "# 2.5\n",
    "v1 = [2, 5, 4, 7]\n",
    "v2 = np.array([2, 5, 4, 7])\n",
    "v3 = np.array([ [2], [5], [4], [7]])\n",
    "v4 = np.array([ [2, 5, 4, 7] ])\n",
    "print(v1)\n",
    "print(v2)\n",
    "print(v3)\n",
    "print(v4)"
   ]
  },
  {
   "cell_type": "code",
   "execution_count": 5,
   "metadata": {},
   "outputs": [
    {
     "name": "stdout",
     "output_type": "stream",
     "text": [
      "[[2 5 4 7]]\n",
      "[[2]\n",
      " [5]\n",
      " [4]\n",
      " [7]]\n"
     ]
    }
   ],
   "source": [
    "# 2.7\n",
    "v1 = np.array([ [2, 5, 4, 7] ])\n",
    "v2 = v1.T\n",
    "print(v1)\n",
    "print(v2)"
   ]
  },
  {
   "cell_type": "code",
   "execution_count": 7,
   "metadata": {},
   "outputs": [
    {
     "data": {
      "text/plain": [
       "array([ 0, 18, 16, 24])"
      ]
     },
     "execution_count": 7,
     "metadata": {},
     "output_type": "execute_result"
    }
   ],
   "source": [
    "# 2.9\n",
    "import numpy as np\n",
    "v1 = np.array([2, 5, 4, 7])\n",
    "v2 = np.array([4, 1, 0, 2])\n",
    "v3 = 4*v1 - 2*v2\n",
    "v3"
   ]
  },
  {
   "cell_type": "code",
   "execution_count": 20,
   "metadata": {},
   "outputs": [
    {
     "data": {
      "text/plain": [
       "(-4.0, 4.0, -4.0, 4.0)"
      ]
     },
     "execution_count": 20,
     "metadata": {},
     "output_type": "execute_result"
    },
    {
     "data": {
      "image/png": "[encoded data removed]",
      "text/plain": [
       "<Figure size 640x480 with 1 Axes>"
      ]
     },
     "metadata": {},
     "output_type": "display_data"
    }
   ],
   "source": [
    "# 2.11: code challenge\n",
    "import numpy as np\n",
    "import matplotlib.pyplot as plt\n",
    "\n",
    "v = np.array([1, 2])\n",
    "plt.plot([0, v[0]], [0, v[1]])\n",
    "for i in range(10):\n",
    "    s = np.random.randn()\n",
    "    sv = s*v\n",
    "    plt.plot([0, sv[0]], [0, sv[1]])\n",
    "plt.grid('on')\n",
    "plt.axis([-4, 4, -4, 4])"
   ]
  },
  {
   "cell_type": "markdown",
   "metadata": {},
   "source": [
    "# 3. Vector Multiplications"
   ]
  },
  {
   "cell_type": "code",
   "execution_count": 21,
   "metadata": {},
   "outputs": [
    {
     "data": {
      "text/plain": [
       "27"
      ]
     },
     "execution_count": 21,
     "metadata": {},
     "output_type": "execute_result"
    }
   ],
   "source": [
    "# 3.1\n",
    "v1 = np.array([2, 5, 4, 7])\n",
    "v2 = np.array([4, 1, 0, 2])\n",
    "dp = np.dot(v1, v2)\n",
    "dp"
   ]
  },
  {
   "cell_type": "code",
   "execution_count": 22,
   "metadata": {},
   "outputs": [
    {
     "data": {
      "text/plain": [
       "array([ -7,  -4, -13])"
      ]
     },
     "execution_count": 22,
     "metadata": {},
     "output_type": "execute_result"
    }
   ],
   "source": [
    "# 3.3\n",
    "import numpy as np\n",
    "l1 = 1\n",
    "l2 = 2\n",
    "l3 = -3\n",
    "v1 = np.array([4, 5, 1])\n",
    "v2 = np.array([-4, 0, -4])\n",
    "v3 = np.array([1, 3, 2])\n",
    "l1*v1 + l2*v2 + l3*v3"
   ]
  },
  {
   "cell_type": "code",
   "execution_count": 23,
   "metadata": {},
   "outputs": [
    {
     "data": {
      "text/plain": [
       "array([[ 8,  2,  0,  4],\n",
       "       [20,  5,  0, 10],\n",
       "       [16,  4,  0,  8],\n",
       "       [28,  7,  0, 14]])"
      ]
     },
     "execution_count": 23,
     "metadata": {},
     "output_type": "execute_result"
    }
   ],
   "source": [
    "# 3.5\n",
    "v1 = np.array([2, 5, 4, 7])\n",
    "v2 = np.array([4, 1, 0, 2])\n",
    "op = np.outer(v1, v2)\n",
    "op"
   ]
  },
  {
   "cell_type": "code",
   "execution_count": 26,
   "metadata": {},
   "outputs": [
    {
     "data": {
      "text/plain": [
       "array([ 8,  5,  0, 14])"
      ]
     },
     "execution_count": 26,
     "metadata": {},
     "output_type": "execute_result"
    }
   ],
   "source": [
    "# 3.7\n",
    "v1 = np.array([2, 5, 4, 7])\n",
    "v2 = np.array([4, 1, 0, 2])\n",
    "v3 = v1 * v2  # Element-wise (Hadamard) vector product\n",
    "v3"
   ]
  },
  {
   "cell_type": "code",
   "execution_count": 27,
   "metadata": {},
   "outputs": [
    {
     "name": "stdout",
     "output_type": "stream",
     "text": [
      "[0.20628425 0.51571062 0.4125685  0.72199487] 9.695359714832659\n"
     ]
    }
   ],
   "source": [
    "# 3.9\n",
    "v = np.array([2, 5, 4, 7])\n",
    "vMag = np.linalg.norm(v)\n",
    "v_unit = v / vMag\n",
    "print(v_unit, vMag)"
   ]
  },
  {
   "cell_type": "code",
   "execution_count": 28,
   "metadata": {},
   "outputs": [
    {
     "data": {
      "text/plain": [
       "array([-1, -1, -1, -1, -1])"
      ]
     },
     "execution_count": 28,
     "metadata": {},
     "output_type": "execute_result"
    }
   ],
   "source": [
    "# 3.11: Code challenges\n",
    "v1 = np.array([1, 2, 3, 4, 5])\n",
    "v2 = np.array([2, 3, 4, 5, 6])\n",
    "v3 = np.array([3, 4, 5, 6, 7])\n",
    "w = [-1, 3, -2]\n",
    "result = v1*w[0] + v2*w[1] + v3*w[2]\n",
    "result"
   ]
  },
  {
   "cell_type": "code",
   "execution_count": 29,
   "metadata": {},
   "outputs": [
    {
     "data": {
      "text/plain": [
       "3.4"
      ]
     },
     "execution_count": 29,
     "metadata": {},
     "output_type": "execute_result"
    }
   ],
   "source": [
    "# 3.13: Code challenges\n",
    "v = [ 7, 4, -5, 8, 3 ] \n",
    "o = np.ones(len(v))\n",
    "ave = np.dot(v, o) / len(v)\n",
    "ave"
   ]
  },
  {
   "cell_type": "code",
   "execution_count": 30,
   "metadata": {},
   "outputs": [
    {
     "data": {
      "text/plain": [
       "3.04928103610233"
      ]
     },
     "execution_count": 30,
     "metadata": {},
     "output_type": "execute_result"
    }
   ],
   "source": [
    "# 3.15: Code challenges\n",
    "v = [7, 4, -5, 8, 3]\n",
    "w = np.random.rand(len(v))\n",
    "wAve = np.dot(v, w/sum(w))\n",
    "wAve"
   ]
  },
  {
   "cell_type": "markdown",
   "metadata": {},
   "source": [
    "# 5. Matrices"
   ]
  },
  {
   "cell_type": "code",
   "execution_count": 2,
   "metadata": {},
   "outputs": [
    {
     "name": "stdout",
     "output_type": "stream",
     "text": [
      "[[ 0.70783592 -0.87323332  1.62397366  1.45248726 -1.13014344]\n",
      " [-0.70167245 -2.25170598  0.01571368 -0.30283609 -0.2005354 ]] \n",
      "\n",
      "[[ 0.70783592 -0.70167245]\n",
      " [-0.87323332 -2.25170598]\n",
      " [ 1.62397366  0.01571368]\n",
      " [ 1.45248726 -0.30283609]\n",
      " [-1.13014344 -0.2005354 ]] \n",
      "\n",
      "[[ 0.70783592 -0.70167245]\n",
      " [-0.87323332 -2.25170598]\n",
      " [ 1.62397366  0.01571368]\n",
      " [ 1.45248726 -0.30283609]\n",
      " [-1.13014344 -0.2005354 ]]\n"
     ]
    }
   ],
   "source": [
    "# 5.1\n",
    "import numpy as np\n",
    "\n",
    "A = np.random.randn(2, 5)\n",
    "At1 = A.T\n",
    "At2 = np.transpose(A)\n",
    "\n",
    "print(A, '\\n')\n",
    "print(At1, '\\n')\n",
    "print(At2)"
   ]
  },
  {
   "cell_type": "code",
   "execution_count": 3,
   "metadata": {},
   "outputs": [
    {
     "name": "stdout",
     "output_type": "stream",
     "text": [
      "[[1. 0. 0. 0.]\n",
      " [0. 1. 0. 0.]\n",
      " [0. 0. 1. 0.]\n",
      " [0. 0. 0. 1.]] \n",
      "\n",
      "[1. 1. 1. 1.] \n",
      "\n",
      "[[0. 0. 0. 0.]\n",
      " [0. 0. 0. 0.]\n",
      " [0. 0. 0. 0.]\n",
      " [0. 0. 0. 0.]]\n"
     ]
    }
   ],
   "source": [
    "# 5.3\n",
    "I = np.eye(4)\n",
    "O = np.ones(4)\n",
    "Z = np.zeros((4, 4))\n",
    "print(I, '\\n')\n",
    "print(O, '\\n')\n",
    "print(Z)"
   ]
  },
  {
   "cell_type": "code",
   "execution_count": 4,
   "metadata": {},
   "outputs": [
    {
     "name": "stdout",
     "output_type": "stream",
     "text": [
      "[[1 0 0 0]\n",
      " [0 2 0 0]\n",
      " [0 0 3 0]\n",
      " [0 0 0 5]] \n",
      "\n",
      "[[0.08892434 0.4298426  0.37061048 0.02206316]\n",
      " [0.45564717 0.59374987 0.89716497 0.65647688]\n",
      " [0.98321843 0.90170505 0.25155649 0.91113763]] \n",
      "\n",
      "[0.08892434 0.59374987 0.25155649]\n"
     ]
    }
   ],
   "source": [
    "# 5.5 diagonal\n",
    "D = np.diag([1, 2, 3, 5])\n",
    "R = np.random.rand(3, 4)\n",
    "d = np.diag(R)\n",
    "\n",
    "print(D, '\\n')\n",
    "print(R, '\\n')\n",
    "print(d)"
   ]
  },
  {
   "cell_type": "code",
   "execution_count": 6,
   "metadata": {},
   "outputs": [
    {
     "data": {
      "text/plain": [
       "array([[ 0.29683364, -0.63316286,  0.05345929, -1.47369372,  2.41355139,\n",
       "         0.18893428, -0.54291474,  0.470612  , -0.12962516],\n",
       "       [ 1.20076042, -2.19570679, -0.70601931,  0.89493462, -1.18091346,\n",
       "         0.28559844, -0.5129428 , -1.56650266, -0.0563935 ],\n",
       "       [ 0.40481504,  0.09297175,  1.12821781, -1.28695377, -0.10460718,\n",
       "        -0.43337163,  0.33544404, -1.01915262, -0.19891012]])"
      ]
     },
     "execution_count": 6,
     "metadata": {},
     "output_type": "execute_result"
    }
   ],
   "source": [
    "# 5.7 Augmenting\n",
    "A = np.random.randn(3, 5)\n",
    "B = np.random.randn(3, 4)\n",
    "AB = np.concatenate((A, B), axis=1)\n",
    "AB"
   ]
  },
  {
   "cell_type": "code",
   "execution_count": 7,
   "metadata": {},
   "outputs": [
    {
     "name": "stdout",
     "output_type": "stream",
     "text": [
      "[[ 0.85856502  1.56518536  0.81004317 -1.27172253  1.13546348]\n",
      " [-2.16785371 -0.92614299  0.00722054  0.27488428  1.4301869 ]\n",
      " [-0.02521832  0.1497178   0.18737362 -0.42025509 -1.71890893]\n",
      " [-0.89329564 -1.16471154  2.21602796  0.36783321 -1.79027575]\n",
      " [-0.09115655  0.9447237   0.43802215 -0.93645538  1.29141249]] \n",
      "\n",
      "[[ 0.85856502  0.          0.          0.          0.        ]\n",
      " [-2.16785371 -0.92614299  0.          0.          0.        ]\n",
      " [-0.02521832  0.1497178   0.18737362  0.          0.        ]\n",
      " [-0.89329564 -1.16471154  2.21602796  0.36783321  0.        ]\n",
      " [-0.09115655  0.9447237   0.43802215 -0.93645538  1.29141249]] \n",
      "\n",
      "[[ 0.85856502  1.56518536  0.81004317 -1.27172253  1.13546348]\n",
      " [ 0.         -0.92614299  0.00722054  0.27488428  1.4301869 ]\n",
      " [ 0.          0.          0.18737362 -0.42025509 -1.71890893]\n",
      " [ 0.          0.          0.          0.36783321 -1.79027575]\n",
      " [ 0.          0.          0.          0.          1.29141249]]\n"
     ]
    }
   ],
   "source": [
    "# 5.9 Triangular\n",
    "A = np.random.randn(5, 5)\n",
    "L = np.tril(A)\n",
    "U = np.triu(A)\n",
    "\n",
    "print(A, '\\n')\n",
    "print(L, '\\n')\n",
    "print(U)"
   ]
  },
  {
   "cell_type": "code",
   "execution_count": 12,
   "metadata": {},
   "outputs": [
    {
     "name": "stdout",
     "output_type": "stream",
     "text": [
      "[[1 2 3 4]\n",
      " [2 1 2 3]\n",
      " [3 2 1 2]\n",
      " [4 3 2 1]] \n",
      "\n",
      "[[1 2 3 4]\n",
      " [2 3 4 3]\n",
      " [3 4 3 4]\n",
      " [4 3 4 1]]\n"
     ]
    }
   ],
   "source": [
    "# 5.11 Toeplitz & Handel\n",
    "\n",
    "from scipy.linalg import hankel, toeplitz\n",
    "t = [1, 2, 3, 4]\n",
    "T = toeplitz(t)\n",
    "H = hankel(t, r=[2, 3, 4, 1])\n",
    "# H = hankel(t)\n",
    "\n",
    "print(T, '\\n')\n",
    "print(H)"
   ]
  },
  {
   "cell_type": "code",
   "execution_count": 14,
   "metadata": {},
   "outputs": [
    {
     "name": "stdout",
     "output_type": "stream",
     "text": [
      "[[ 8.94692606  0.45793575  0.88285574 -1.06774139]\n",
      " [-0.39655944  8.78429389  0.51377536 -0.19764778]\n",
      " [-0.18896379  0.99205526 10.34369163  0.36789143]\n",
      " [-1.01620145  1.7818951  -1.10821269  9.70240367]]\n"
     ]
    }
   ],
   "source": [
    "# 5.13 A shifting matrix\n",
    "#l = 0.01\n",
    "l = 10\n",
    "I = np.eye(4)\n",
    "A = np.random.randn(4, 4)\n",
    "As = A + l*I\n",
    "print(As)"
   ]
  },
  {
   "cell_type": "code",
   "execution_count": 15,
   "metadata": {},
   "outputs": [
    {
     "data": {
      "text/plain": [
       "-1.7345064038045739"
      ]
     },
     "execution_count": 15,
     "metadata": {},
     "output_type": "execute_result"
    }
   ],
   "source": [
    "# 5.15 Trace\n",
    "A = np.random.randn(4, 4)\n",
    "tr = np.trace(A)\n",
    "tr"
   ]
  },
  {
   "cell_type": "code",
   "execution_count": 2,
   "metadata": {},
   "outputs": [
    {
     "data": {
      "text/plain": [
       "array([[ 0.29373814, -2.52425428],\n",
       "       [-0.08520605,  1.19038247]])"
      ]
     },
     "execution_count": 2,
     "metadata": {},
     "output_type": "execute_result"
    }
   ],
   "source": [
    "# 5.17: Code Challenges 1\n",
    "\n",
    "import numpy as np\n",
    "\n",
    "A = np.random.randn(4, 2)\n",
    "B = np.random.randn(4, 2)\n",
    "C = np.zeros((2, 2))\n",
    "\n",
    "for coli in range(2):\n",
    "    for colj in range(2):\n",
    "        C[coli, colj] = np.dot(A[:, coli], B[:, colj])\n",
    "C"
   ]
  },
  {
   "cell_type": "code",
   "execution_count": 5,
   "metadata": {},
   "outputs": [
    {
     "data": {
      "text/plain": [
       "array([[-0.51600337,  1.19545902, -0.43889049, -1.09588343],\n",
       "       [ 1.19545902,  1.64953235, -0.38166481, -0.0958733 ],\n",
       "       [-0.43889049, -0.38166481,  3.96404577,  0.83319938],\n",
       "       [-1.09588343, -0.0958733 ,  0.83319938, -3.26049124]])"
      ]
     },
     "execution_count": 5,
     "metadata": {},
     "output_type": "execute_result"
    }
   ],
   "source": [
    "# 5.19: Code Challenges 2\n",
    "A = np.random.randn(4, 4)\n",
    "Al = np.tril(A)\n",
    "S = Al + Al.T\n",
    "S"
   ]
  },
  {
   "cell_type": "code",
   "execution_count": 14,
   "metadata": {},
   "outputs": [
    {
     "name": "stdout",
     "output_type": "stream",
     "text": [
      "[[1. 0. 0. 0. 0. 0. 0. 0.]\n",
      " [0. 2. 0. 0. 0. 0. 0. 0.]\n",
      " [0. 0. 3. 0. 0. 0. 0. 0.]\n",
      " [0. 0. 0. 4. 0. 0. 0. 0.]]\n"
     ]
    },
    {
     "data": {
      "text/plain": [
       "array([[1., 0., 0., 0.],\n",
       "       [0., 2., 0., 0.],\n",
       "       [0., 0., 3., 0.],\n",
       "       [0., 0., 0., 4.],\n",
       "       [0., 0., 0., 0.],\n",
       "       [0., 0., 0., 0.],\n",
       "       [0., 0., 0., 0.],\n",
       "       [0., 0., 0., 0.]])"
      ]
     },
     "execution_count": 14,
     "metadata": {},
     "output_type": "execute_result"
    }
   ],
   "source": [
    "# 5.21: Code Challenges 3\n",
    "\n",
    "m = 4\n",
    "n = 8\n",
    "D = np.zeros((m, n))\n",
    "elements = [1, 2, 3, 4]\n",
    "\n",
    "diag = min(m, n)\n",
    "for i in range(diag):\n",
    "    D[i][i] = elements[i % len(elements)]\n",
    "print(D)\n",
    "\n",
    "#---------------------------\n",
    "D = np.zeros((8, 4))\n",
    "for d in range(min(D.shape)):\n",
    "    D[d, d] = d+1\n",
    "D    "
   ]
  },
  {
   "cell_type": "markdown",
   "metadata": {},
   "source": [
    "# 6. Matrix Multiplication"
   ]
  },
  {
   "cell_type": "code",
   "execution_count": 15,
   "metadata": {},
   "outputs": [
    {
     "data": {
      "text/plain": [
       "array([[-1.26259566,  0.27057062, -0.73064571,  2.07127626, -0.65718275],\n",
       "       [-0.11199722,  0.7029885 , -1.45352773,  3.39136409, -1.19360827],\n",
       "       [-1.97247441, -0.78288409,  0.46887662, -0.97181705,  0.4521705 ],\n",
       "       [-4.58259584, -1.94365363,  0.53059628, -1.43175447,  0.74823786]])"
      ]
     },
     "execution_count": 15,
     "metadata": {},
     "output_type": "execute_result"
    }
   ],
   "source": [
    "# 6.1\n",
    "M1 = np.random.randn(4, 3)\n",
    "M2 = np.random.randn(3, 5)\n",
    "C = M1 @ M2\n",
    "C"
   ]
  },
  {
   "cell_type": "code",
   "execution_count": 18,
   "metadata": {},
   "outputs": [
    {
     "name": "stdout",
     "output_type": "stream",
     "text": [
      "[[ 0.00534311  0.29451778]\n",
      " [-0.05330311  0.13751118]] \n",
      "\n",
      " [[ 0.38456596  0.77516234]\n",
      " [-0.14111565 -0.24171168]]\n"
     ]
    }
   ],
   "source": [
    "# 6.3\n",
    "A = np.random.randn(2, 2)\n",
    "B = np.random.randn(2, 2)\n",
    "C1 = A @ B\n",
    "C2 = B @ A\n",
    "print(C1, '\\n\\n', C2)"
   ]
  },
  {
   "cell_type": "code",
   "execution_count": 20,
   "metadata": {},
   "outputs": [
    {
     "data": {
      "text/plain": [
       "(array([[ 0.01280133,  0.4565465 , -1.11475337],\n",
       "        [-1.16109004,  3.27111452,  0.00848758],\n",
       "        [ 1.78565884, -0.00463097, -1.85073961],\n",
       "        [-0.01147439, -0.01982552,  0.36319069]]),\n",
       " array([[-0.30212147,  1.18943212, -0.95316239],\n",
       "        [-0.43812818, -0.35094976,  0.92981366],\n",
       "        [ 2.54686327,  0.65422398,  2.58367862],\n",
       "        [ 0.32942591, -0.07466422,  0.37893694]]),\n",
       " array([[-3.86755646e-03,  5.43031066e-01,  1.06254099e+00],\n",
       "        [ 5.08706260e-01, -1.14799686e+00,  7.89186345e-03],\n",
       "        [ 4.54782890e+00, -3.02969103e-03, -4.78171635e+00],\n",
       "        [-3.77996222e-03,  1.48025727e-03,  1.37626370e-01]]))"
      ]
     },
     "execution_count": 20,
     "metadata": {},
     "output_type": "execute_result"
    }
   ],
   "source": [
    "# 6.5\n",
    "M1 = np.random.randn(4, 3)\n",
    "M2 = np.random.randn(4, 3)\n",
    "C = M1 * M2\n",
    "M1, M2, C"
   ]
  },
  {
   "cell_type": "code",
   "execution_count": 24,
   "metadata": {},
   "outputs": [
    {
     "data": {
      "text/plain": [
       "array([2, 4, 3, 5, 4, 6])"
      ]
     },
     "execution_count": 24,
     "metadata": {},
     "output_type": "execute_result"
    }
   ],
   "source": [
    "# 6.7\n",
    "A = np.array([[2, 3, 4], [4, 5, 6]])\n",
    "A.flatten(order='F')"
   ]
  },
  {
   "cell_type": "code",
   "execution_count": 26,
   "metadata": {},
   "outputs": [
    {
     "data": {
      "text/plain": [
       "-3.2853715980476634"
      ]
     },
     "execution_count": 26,
     "metadata": {},
     "output_type": "execute_result"
    }
   ],
   "source": [
    "# 6.9\n",
    "A = np.random.randn(4, 3)\n",
    "B = np.random.randn(4, 3)\n",
    "f = np.trace(A.T@B)\n",
    "f"
   ]
  },
  {
   "cell_type": "code",
   "execution_count": 27,
   "metadata": {},
   "outputs": [
    {
     "data": {
      "text/plain": [
       "3.3114120374700375"
      ]
     },
     "execution_count": 27,
     "metadata": {},
     "output_type": "execute_result"
    }
   ],
   "source": [
    "# 6.11\n",
    "A = np.random.randn(4, 3)\n",
    "np.linalg.norm(A, 'fro')"
   ]
  },
  {
   "cell_type": "code",
   "execution_count": 31,
   "metadata": {},
   "outputs": [
    {
     "data": {
      "text/plain": [
       "array([[ 0.00000000e+00,  0.00000000e+00,  0.00000000e+00],\n",
       "       [ 0.00000000e+00,  2.22044605e-16, -2.22044605e-16]])"
      ]
     },
     "execution_count": 31,
     "metadata": {},
     "output_type": "execute_result"
    }
   ],
   "source": [
    "# 6.13: Code challenges 1\n",
    "A = np.random.randn(2, 4)\n",
    "B = np.random.randn(4, 3)\n",
    "C = np.zeros((2, 3))\n",
    "\n",
    "for r in range(2):\n",
    "    for c in range(3):\n",
    "        for i in range(4):\n",
    "            C[r][c] += A[r][i] * B[i][c]\n",
    "C, A@B\n",
    "#---------------------------------------\n",
    "C = np.zeros((2, 3))\n",
    "for i in range(4):\n",
    "    C += np.outer(A[:, i], B[i, :])\n",
    "C-A@B\n",
    "         "
   ]
  },
  {
   "cell_type": "code",
   "execution_count": 38,
   "metadata": {},
   "outputs": [
    {
     "name": "stdout",
     "output_type": "stream",
     "text": [
      "[-1.76940008 -3.62588187  2.53513177  4.06996758]\n",
      "[-1.76940008 -3.62588187  2.53513177  4.06996758]\n",
      "\n",
      "[[-1.76940008  1.18154394  0.40781992  0.10044253]\n",
      " [-1.67730016 -3.62588187  1.36124982  3.49308081]\n",
      " [-0.51257495 -0.46943283  2.53513177  2.72966024]\n",
      " [-6.78796043  0.74260541  0.83049994  4.06996758]] \n",
      "\n",
      " [[-1.76940008  0.          0.          0.        ]\n",
      " [-0.         -3.62588187  0.          0.        ]\n",
      " [-0.         -0.          2.53513177  0.        ]\n",
      " [-0.          0.          0.          4.06996758]]\n"
     ]
    }
   ],
   "source": [
    "# 6.15: Code challenges 2\n",
    "A = np.diag(np.arange(1,5))\n",
    "B = np.random.randn(4, 4)\n",
    "C1= A@B\n",
    "C2= A*B\n",
    "print(np.diag(C1))\n",
    "print(np.diag(C2))\n",
    "print()\n",
    "print(C1,'\\n\\n', C2)"
   ]
  },
  {
   "cell_type": "code",
   "execution_count": 39,
   "metadata": {},
   "outputs": [
    {
     "data": {
      "text/plain": [
       "array([[0., 0., 0.],\n",
       "       [0., 0., 0.],\n",
       "       [0., 0., 0.]])"
      ]
     },
     "execution_count": 39,
     "metadata": {},
     "output_type": "execute_result"
    }
   ],
   "source": [
    "# 6.17: Code challenges 3\n",
    "A = np.diag(np.random.rand(3))\n",
    "C1 = (A.T+A)/2\n",
    "C2 = A.T@A\n",
    "C1 - np.sqrt(C2)"
   ]
  },
  {
   "cell_type": "code",
   "execution_count": 71,
   "metadata": {},
   "outputs": [
    {
     "data": {
      "text/plain": [
       "0.4497148632903345"
      ]
     },
     "execution_count": 71,
     "metadata": {},
     "output_type": "execute_result"
    }
   ],
   "source": [
    "# 6.19: Code challenges 4\n",
    "m = 5\n",
    "A = np.random.rand(m, m)\n",
    "v = np.random.rand(m)\n",
    "LHS = np.linalg.norm(A@v)\n",
    "RHS = np.linalg.norm(A, ord='fro') * np.linalg.norm(v)\n",
    "RHS-LHS"
   ]
  },
  {
   "cell_type": "markdown",
   "metadata": {},
   "source": [
    "# 7. Matrix Rank"
   ]
  },
  {
   "cell_type": "code",
   "execution_count": 1,
   "metadata": {},
   "outputs": [],
   "source": [
    "# 7.1\n",
    "import numpy as np\n",
    "A = np.random.randn(3, 6)\n",
    "r = np.linalg.matrix_rank(A)\n",
    "r"
   ]
  },
  {
   "cell_type": "code",
   "execution_count": 2,
   "metadata": {},
   "outputs": [
    {
     "name": "stdout",
     "output_type": "stream",
     "text": [
      "3 3\n"
     ]
    }
   ],
   "source": [
    "# 7.3\n",
    "s = np.random.rand()\n",
    "M = np.random.randn(3, 5)\n",
    "r1 = np.linalg.matrix_rank(M)\n",
    "r2 = np.linalg.matrix_rank(s*M)\n",
    "print(r1, r2)"
   ]
  },
  {
   "cell_type": "code",
   "execution_count": 2,
   "metadata": {},
   "outputs": [
    {
     "data": {
      "text/plain": [
       "<function numpy.linalg.matrix_rank(A, tol=None, hermitian=False)>"
      ]
     },
     "execution_count": 2,
     "metadata": {},
     "output_type": "execute_result"
    }
   ],
   "source": [
    "# 7.5\n",
    "#?? np.linalg.matrix_rank\n",
    "np.linalg.matrix_rank"
   ]
  },
  {
   "cell_type": "code",
   "execution_count": 7,
   "metadata": {},
   "outputs": [
    {
     "data": {
      "text/plain": [
       "2"
      ]
     },
     "execution_count": 7,
     "metadata": {},
     "output_type": "execute_result"
    }
   ],
   "source": [
    "# 7.7: Code Challenge 1\n",
    "\n",
    "# Create reduced-rank matrices comprising random numbers\n",
    "A = np.random.randn(9, 2)\n",
    "B = np.random.randn(2, 16)\n",
    "C = A@B\n",
    "np.linalg.matrix_rank(C)"
   ]
  },
  {
   "cell_type": "code",
   "execution_count": 8,
   "metadata": {},
   "outputs": [
    {
     "name": "stdout",
     "output_type": "stream",
     "text": [
      "0\n",
      "5\n",
      "0.0\n"
     ]
    }
   ],
   "source": [
    "# 7.9: Code Challenge 2\n",
    "\n",
    "Z = np.zeros((5, 5))\n",
    "N = np.random.randn(5, 5)\n",
    "ZN = Z + N*np.finfo(float).eps*1e-307\n",
    "print(np.linalg.matrix_rank(Z))\n",
    "print(np.linalg.matrix_rank(ZN))\n",
    "print(np.linalg.norm(ZN, 'fro'))"
   ]
  },
  {
   "cell_type": "markdown",
   "metadata": {},
   "source": [
    "# 8. Matrix Spaces"
   ]
  },
  {
   "cell_type": "code",
   "execution_count": 8,
   "metadata": {},
   "outputs": [
    {
     "data": {
      "text/plain": [
       "(array([[-1.77741484, -0.14285092,  0.06931924, -1.0262652 ],\n",
       "        [-0.96313822, -0.43408212, -0.81095439, -0.10796942],\n",
       "        [ 2.5144846 , -1.2917409 ,  0.60029182,  0.097343  ]]),\n",
       " array([[-0.34453666],\n",
       "        [-0.37740346],\n",
       "        [ 0.52008974],\n",
       "        [ 0.68437401]]),\n",
       " array([[ 3.77843676e-17],\n",
       "        [ 3.19309023e-16],\n",
       "        [-2.81307135e-16]]))"
      ]
     },
     "execution_count": 8,
     "metadata": {},
     "output_type": "execute_result"
    }
   ],
   "source": [
    "# 8.1 null space\n",
    "\n",
    "import numpy as np\n",
    "from scipy.linalg import null_space\n",
    "A = np.random.randn(3, 4)\n",
    "A, null_space(A), A @ null_space(A)"
   ]
  },
  {
   "cell_type": "code",
   "execution_count": 9,
   "metadata": {},
   "outputs": [
    {
     "name": "stdout",
     "output_type": "stream",
     "text": [
      "[[ 6.91504397e-16]\n",
      " [-8.30254437e-16]\n",
      " [-3.81177010e-16]\n",
      " [ 3.85804619e-16]]\n",
      "[[ 0.25369104]\n",
      " [-1.63377374]\n",
      " [-1.39858433]\n",
      " [-0.78685124]]\n"
     ]
    }
   ],
   "source": [
    "# 8.3: Code Challenge 1\n",
    "\n",
    "import numpy as np\n",
    "from scipy.linalg import null_space\n",
    "\n",
    "A = np.random.randn(4, 3) @ np.random.randn(3, 4)  # 4x4 Full Rank matrix\n",
    "B = np.random.randn(4, 3) @ np.random.randn(3, 4)\n",
    "\n",
    "n = null_space(A)\n",
    "print(B @ A @ n)  # result in zero vector\n",
    "print(A @ B @ n)  # result in not zero vector"
   ]
  },
  {
   "cell_type": "code",
   "execution_count": 14,
   "metadata": {},
   "outputs": [
    {
     "name": "stdout",
     "output_type": "stream",
     "text": [
      "9\n",
      "(11, 2) 11\n",
      "(16, 7) 16\n"
     ]
    }
   ],
   "source": [
    "# 8.5: Code Challenge 2\n",
    "\n",
    "A = np.random.randn(16, 9) @ np.random.randn(9, 11)  # 16x11 with rank 9\n",
    "rn = null_space(A)\n",
    "ln = null_space(A.T)\n",
    "r = np.linalg.matrix_rank(A)\n",
    "print(r)\n",
    "print(rn.shape, rn.shape[1]+r)\n",
    "print(ln.shape, ln.shape[1]+r)"
   ]
  },
  {
   "cell_type": "markdown",
   "metadata": {},
   "source": [
    "# 9. Complex Numbers in Linear Algebra"
   ]
  },
  {
   "cell_type": "code",
   "execution_count": 16,
   "metadata": {},
   "outputs": [
    {
     "name": "stdout",
     "output_type": "stream",
     "text": [
      "(3+4j) [0.+0.j 0.+0.j]\n"
     ]
    },
    {
     "data": {
      "text/plain": [
       "array([3.+4.j, 0.+0.j])"
      ]
     },
     "execution_count": 16,
     "metadata": {},
     "output_type": "execute_result"
    }
   ],
   "source": [
    "# 9.1 \n",
    "z = complex(3, 4)\n",
    "Z = np.zeros(2, dtype=complex)\n",
    "print(z, Z)\n",
    "Z[0] = 3+4j\n",
    "Z"
   ]
  },
  {
   "cell_type": "code",
   "execution_count": 18,
   "metadata": {},
   "outputs": [
    {
     "name": "stdout",
     "output_type": "stream",
     "text": [
      "[-2  1  1] [-3 -1  3]\n",
      "[ 0.+6.j -0.-1.j  0.+3.j]\n",
      "[ 0.-6.j -0.+1.j  0.-3.j]\n"
     ]
    }
   ],
   "source": [
    "# 9.3\n",
    "r = np.random.randint(-3, 4, size=3)\n",
    "i = np.random.randint(-3, 4, size=3)\n",
    "print(r, i)\n",
    "Z = r*i*1j\n",
    "print(Z)\n",
    "print(Z.conj())"
   ]
  },
  {
   "cell_type": "code",
   "execution_count": 19,
   "metadata": {},
   "outputs": [
    {
     "name": "stdout",
     "output_type": "stream",
     "text": [
      "(80+0j)\n",
      "(82+0j)\n"
     ]
    }
   ],
   "source": [
    "# 9.5\n",
    "import numpy as np\n",
    "v = [9, 1j]\n",
    "print(np.dot(v, v))\n",
    "print(np.vdot(v, v))  # Hermitian dot product"
   ]
  },
  {
   "cell_type": "code",
   "execution_count": 23,
   "metadata": {},
   "outputs": [
    {
     "name": "stdout",
     "output_type": "stream",
     "text": [
      "[[1.+0.j 0.+0.j]\n",
      " [0.+0.j 1.+0.j]]\n",
      "[[0.+0.j 1.+0.j]\n",
      " [1.+0.j 0.+0.j]]\n"
     ]
    }
   ],
   "source": [
    "# 9.7: Code Challnege 1\n",
    "\n",
    "U = 0.5*np.array([[1+1j, 1-1j], [1-1j, 1+1j]])\n",
    "print(U@np.matrix(U).H)  # U^H @ U = I\n",
    "print(U@U.T)             # U.T @ U != I"
   ]
  },
  {
   "cell_type": "code",
   "execution_count": 25,
   "metadata": {},
   "outputs": [
    {
     "name": "stdout",
     "output_type": "stream",
     "text": [
      "[[ 1.00880771+0.j         -1.80265717-0.48646418j  0.61243647+0.35658201j]\n",
      " [-1.80265717+0.48646418j  1.94364918+0.j          0.26459473+0.22816456j]\n",
      " [ 0.61243647-0.35658201j  0.26459473-0.22816456j  2.24893499+0.j        ]] \n",
      " [[0.+0.j 0.+0.j 0.+0.j]\n",
      " [0.+0.j 0.+0.j 0.+0.j]\n",
      " [0.+0.j 0.+0.j 0.+0.j]] \n",
      "\n",
      "\n",
      "[[ 1.95725406+2.60192714e-17j -1.76937388-1.28032061e+00j\n",
      "   2.0640834 -1.09182659e+00j]\n",
      " [-1.76937388+1.28032061e+00j  7.07658308-1.95319886e-17j\n",
      "  -0.17085009+3.40489363e+00j]\n",
      " [ 2.0640834 +1.09182659e+00j -0.17085009-3.40489363e+00j\n",
      "   6.38492251-1.34984545e-16j]] \n",
      " [[0.+5.20385428e-17j 0.+0.00000000e+00j 0.+0.00000000e+00j]\n",
      " [0.+0.00000000e+00j 0.-3.90639772e-17j 0.+0.00000000e+00j]\n",
      " [0.+0.00000000e+00j 0.+0.00000000e+00j 0.-2.69969089e-16j]]\n"
     ]
    }
   ],
   "source": [
    "# 9.9 \n",
    "r = np.random.randn(3, 3)\n",
    "i = np.random.randn(3, 3)\n",
    "A = np.matrix(r+i*1j)\n",
    "A1 = A+A.H\n",
    "A2 = A@A.H\n",
    "print(A1, '\\n', A1-A1.H, '\\n\\n')\n",
    "print(A2, '\\n', A2-A2.H)"
   ]
  },
  {
   "cell_type": "markdown",
   "metadata": {},
   "source": [
    "# 10. Systems of Equations"
   ]
  },
  {
   "cell_type": "code",
   "execution_count": 30,
   "metadata": {},
   "outputs": [
    {
     "data": {
      "text/plain": [
       "(array([[0., 1., 0.],\n",
       "        [1., 0., 0.],\n",
       "        [0., 0., 1.]]),\n",
       " array([[ 1.        ,  0.        ,  0.        ],\n",
       "        [ 0.67022139,  1.        ,  0.        ],\n",
       "        [-0.72109087,  0.4085835 ,  1.        ]]),\n",
       " array([[-1.3468754 ,  0.57950268,  0.6478987 ],\n",
       "        [ 0.        ,  0.40240076,  0.68658476],\n",
       "        [ 0.        ,  0.        ,  1.36224204]]))"
      ]
     },
     "execution_count": 30,
     "metadata": {},
     "output_type": "execute_result"
    }
   ],
   "source": [
    "# 10.1\n",
    "\n",
    "from scipy.linalg import lu\n",
    "A = np.random.randn(3, 3)\n",
    "P, L, U = lu(A)\n",
    "P, L, U"
   ]
  },
  {
   "cell_type": "code",
   "execution_count": 32,
   "metadata": {},
   "outputs": [
    {
     "data": {
      "text/plain": [
       "(Matrix([\n",
       " [1, 0, -0.0462536657843325,  0.56652397281065],\n",
       " [0, 1,   0.107783265019194, -1.05328822701964]]),\n",
       " (0, 1))"
      ]
     },
     "execution_count": 32,
     "metadata": {},
     "output_type": "execute_result"
    }
   ],
   "source": [
    "# 10.3\n",
    "import sympy\n",
    "\n",
    "A = np.random.randn(2, 4)\n",
    "sympy.Matrix(A).rref()"
   ]
  },
  {
   "cell_type": "code",
   "execution_count": 33,
   "metadata": {},
   "outputs": [
    {
     "data": {
      "text/plain": [
       "array([-8, 25, -2])"
      ]
     },
     "execution_count": 33,
     "metadata": {},
     "output_type": "execute_result"
    }
   ],
   "source": [
    "# 10.5: Code Challenge 1\n",
    "\n",
    "import numpy as np\n",
    "A = np.array([[2, 0, -3], [3, 1, 4], [1, 0, -1]])\n",
    "x = [2, 3, 4]\n",
    "b = A@x\n",
    "b"
   ]
  },
  {
   "cell_type": "code",
   "execution_count": 34,
   "metadata": {},
   "outputs": [
    {
     "data": {
      "text/latex": [
       "$\\displaystyle \\left[\\begin{matrix}1 & 0 & 0 & 0.421363558214187 & 0.570184654526221 & 0.25761211299865\\\\0 & 1 & 0 & 0.555519693848517 & -1.11105286228577 & 0.647551826934067\\\\0 & 0 & 1 & -0.702969308412445 & 1.09618807762326 & -1.63577355158819\\end{matrix}\\right]$"
      ],
      "text/plain": [
       "Matrix([\n",
       "[1, 0, 0,  0.421363558214187, 0.570184654526221,  0.25761211299865],\n",
       "[0, 1, 0,  0.555519693848517, -1.11105286228577, 0.647551826934067],\n",
       "[0, 0, 1, -0.702969308412445,  1.09618807762326, -1.63577355158819]])"
      ]
     },
     "execution_count": 34,
     "metadata": {},
     "output_type": "execute_result"
    }
   ],
   "source": [
    "# 10.7: Code Challenge 2\n",
    "\n",
    "A = np.random.randn(3, 6)\n",
    "sympy.Matrix(A).rref()[0]"
   ]
  },
  {
   "cell_type": "markdown",
   "metadata": {},
   "source": [
    "# 11. Matrix Determinant"
   ]
  },
  {
   "cell_type": "code",
   "execution_count": 1,
   "metadata": {},
   "outputs": [
    {
     "data": {
      "text/plain": [
       "3.0573662610346357"
      ]
     },
     "execution_count": 1,
     "metadata": {},
     "output_type": "execute_result"
    }
   ],
   "source": [
    "# 11.1\n",
    "\n",
    "import numpy as np\n",
    "A = np.random.randn(3, 3)\n",
    "np.linalg.det(A)"
   ]
  },
  {
   "cell_type": "code",
   "execution_count": 5,
   "metadata": {},
   "outputs": [
    {
     "name": "stdout",
     "output_type": "stream",
     "text": [
      "[[ 0  9  1 10]\n",
      " [ 5  4  0  8]\n",
      " [ 4  7  4 10]\n",
      " [ 1  7  4  9]] -6 \n",
      "\n",
      "-226800.00000000006 -226800.00000000012\n"
     ]
    }
   ],
   "source": [
    "# 11.3 Code challenges 1\n",
    "import numpy as np\n",
    "\n",
    "A = np.random.randint(0, 11, (4, 4))\n",
    "b = np.random.randint(-10, 1)\n",
    "print(A, b, '\\n')\n",
    "print(np.linalg.det(b*A), b**4*np.linalg.det(A))"
   ]
  },
  {
   "cell_type": "code",
   "execution_count": 9,
   "metadata": {},
   "outputs": [
    {
     "data": {
      "image/png": "[encoded data removed]",
      "text/plain": [
       "<Figure size 640x480 with 1 Axes>"
      ]
     },
     "metadata": {},
     "output_type": "display_data"
    }
   ],
   "source": [
    "# 11.5: Code challenges 2\n",
    "import numpy as np\n",
    "import matplotlib.pyplot as plt\n",
    "\n",
    "ns = np.arange(3, 31)\n",
    "iters = 1000\n",
    "dets = np.zeros((len(ns), iters))\n",
    "\n",
    "for ni in range(len(ns)):\n",
    "    for i in range(iters):\n",
    "        # generate a matrix\n",
    "        A = np.random.randn(ns[ni], ns[ni])\n",
    "        A[:,0] = A[:,1]  # impose a linear dependence -> det = 0\n",
    "\n",
    "        # compute the determinant\n",
    "        dets[ni, i] = abs(np.linalg.det(A))\n",
    "\n",
    "plt.plot(ns, np.log(np.mean(dets, axis=1)), 's-')\n",
    "plt.xlabel('Matrix size')\n",
    "plt.ylabel('Log determinant')\n",
    "plt.show()"
   ]
  },
  {
   "cell_type": "markdown",
   "metadata": {},
   "source": [
    "# 12. Matrix Inverse"
   ]
  },
  {
   "cell_type": "code",
   "execution_count": 10,
   "metadata": {},
   "outputs": [
    {
     "data": {
      "text/plain": [
       "array([[ 1.00000000e+00,  5.49454303e-18,  1.43688396e-16],\n",
       "       [ 1.96933497e-16,  1.00000000e+00, -1.93266743e-16],\n",
       "       [-2.95830926e-17, -7.06987004e-17,  1.00000000e+00]])"
      ]
     },
     "execution_count": 10,
     "metadata": {},
     "output_type": "execute_result"
    }
   ],
   "source": [
    "# 12.1\n",
    "import numpy as np\n",
    "\n",
    "A = np.random.randn(3, 3)\n",
    "Ai = np.linalg.inv(A)\n",
    "A@Ai"
   ]
  },
  {
   "cell_type": "code",
   "execution_count": 12,
   "metadata": {},
   "outputs": [
    {
     "data": {
      "text/latex": [
       "$\\displaystyle \\left[\\begin{matrix}1.11022302462516 \\cdot 10^{-16} & 1.38777878078145 \\cdot 10^{-17} & -1.11022302462516 \\cdot 10^{-16}\\\\0 & 0 & 0\\\\0 & -5.55111512312578 \\cdot 10^{-17} & 2.22044604925031 \\cdot 10^{-16}\\end{matrix}\\right]$"
      ],
      "text/plain": [
       "Matrix([\n",
       "[1.11022302462516e-16,  1.38777878078145e-17, -1.11022302462516e-16],\n",
       "[                   0,                     0,                     0],\n",
       "[                   0, -5.55111512312578e-17,  2.22044604925031e-16]])"
      ]
     },
     "execution_count": 12,
     "metadata": {},
     "output_type": "execute_result"
    }
   ],
   "source": [
    "# 12.3\n",
    "import numpy as np\n",
    "import sympy as sym\n",
    "\n",
    "A = np.random.randn(3, 3)\n",
    "Acat = np.concatenate((A, np.eye(3, 3)), axis=1)\n",
    "Ar = sym.Matrix(Acat).rref()[0]\n",
    "Ar = Ar[:, 3:]\n",
    "Ai = np.linalg.inv(A)\n",
    "Ar-Ai"
   ]
  },
  {
   "cell_type": "code",
   "execution_count": 13,
   "metadata": {},
   "outputs": [
    {
     "data": {
      "text/plain": [
       "array([[ 1.00000000e+00,  2.73710011e-16, -1.12953110e-15],\n",
       "       [-6.73582065e-17,  1.00000000e+00,  1.21471158e-16],\n",
       "       [ 2.94801476e-18,  8.97461809e-17,  1.00000000e+00]])"
      ]
     },
     "execution_count": 13,
     "metadata": {},
     "output_type": "execute_result"
    }
   ],
   "source": [
    "# 12.5\n",
    "import numpy as np\n",
    "A = np.random.randn(5, 3)\n",
    "Al = np.linalg.inv(A.T@A)@A.T\n",
    "Al@A"
   ]
  },
  {
   "cell_type": "code",
   "execution_count": 14,
   "metadata": {},
   "outputs": [
    {
     "data": {
      "text/plain": [
       "array([[ 9.83981883e-01, -1.25544626e-01,  2.90068757e-04],\n",
       "       [-1.25544626e-01,  1.60233701e-02,  2.27346154e-03],\n",
       "       [ 2.90068757e-04,  2.27346154e-03,  9.99994747e-01]])"
      ]
     },
     "execution_count": 14,
     "metadata": {},
     "output_type": "execute_result"
    }
   ],
   "source": [
    "# 12.7\n",
    "import numpy as np\n",
    "A = np.random.randn(3, 3)\n",
    "A[1, :] = A[0, :]  # add row dependency\n",
    "Api = np.linalg.pinv(A)\n",
    "Api@A"
   ]
  },
  {
   "cell_type": "code",
   "execution_count": 16,
   "metadata": {},
   "outputs": [
    {
     "name": "stdout",
     "output_type": "stream",
     "text": [
      "[[-4.44089210e-16 -5.55111512e-16 -2.22044605e-16  5.55111512e-16\n",
      "  -9.99200722e-16]\n",
      " [ 8.88178420e-16  1.11022302e-16 -4.44089210e-16 -2.74086309e-16\n",
      "   5.55111512e-16]\n",
      " [ 4.44089210e-16  1.94289029e-16  2.22044605e-16 -1.11022302e-16\n",
      "   4.44089210e-16]\n",
      " [ 8.88178420e-16  8.32667268e-17  2.22044605e-16 -5.55111512e-16\n",
      "   1.77635684e-15]\n",
      " [-4.44089210e-16 -6.93889390e-17 -1.55431223e-15 -2.77555756e-16\n",
      "  -6.66133815e-16]] \n",
      "\n"
     ]
    },
    {
     "data": {
      "text/plain": [
       "array([[-6.93889390e-16, -2.91433544e-16, -2.49800181e-16,\n",
       "        -4.99600361e-16, -1.24900090e-16],\n",
       "       [-1.66533454e-15, -4.99600361e-16, -3.60822483e-16,\n",
       "        -8.32667268e-16, -1.94289029e-16],\n",
       "       [ 7.77156117e-16,  4.02455846e-16,  3.33066907e-16,\n",
       "         4.44089210e-16,  1.24900090e-16]])"
      ]
     },
     "execution_count": 16,
     "metadata": {},
     "output_type": "execute_result"
    }
   ],
   "source": [
    "# 12.9: skipped since it is in 10_inverse.ipynb\n",
    "# 12.11\n",
    "import numpy as np\n",
    "\n",
    "A = np.random.randn(5, 5)\n",
    "Ai = np.linalg.inv(A)\n",
    "Api = np.linalg.pinv(A)\n",
    "print(Ai-Api, '\\n')\n",
    "\n",
    "T = np.random.randn(5, 3)\n",
    "Tl = np.linalg.inv(T.T@T)@T.T\n",
    "Tpi = np.linalg.pinv(T)\n",
    "Tl-Tpi"
   ]
  },
  {
   "cell_type": "markdown",
   "metadata": {},
   "source": [
    "# 13. Projections and Orthogonalization"
   ]
  },
  {
   "cell_type": "code",
   "execution_count": 18,
   "metadata": {},
   "outputs": [
    {
     "name": "stderr",
     "output_type": "stream",
     "text": [
      "/var/folders/km/13wrqb_j6v3dc86n898dncd00000gn/T/ipykernel_3240/457097805.py:5: FutureWarning: `rcond` parameter will change to the default of machine precision times ``max(M, N)`` where M and N are the input matrix dimensions.\n",
      "To use the future default and silence this warning we advise to pass `rcond=None`, to keep using the old, explicitly pass `rcond=-1`.\n",
      "  np.linalg.lstsq(A, b)[0]\n"
     ]
    },
    {
     "data": {
      "text/plain": [
       "array([-2.5,  4. ])"
      ]
     },
     "execution_count": 18,
     "metadata": {},
     "output_type": "execute_result"
    }
   ],
   "source": [
    "# 13.1\n",
    "import numpy as np\n",
    "A = [[1, 2], [3, 1], [1, 1]]\n",
    "b = [5.5, -3.5, 1.5]\n",
    "np.linalg.lstsq(A, b)[0]"
   ]
  },
  {
   "cell_type": "code",
   "execution_count": 12,
   "metadata": {},
   "outputs": [
    {
     "data": {
      "text/plain": [
       "(array([[-0.41648144,  0.13181846,  0.41811616],\n",
       "        [-0.4836788 , -0.07270946,  0.64968838],\n",
       "        [-0.7587318 , -0.19227612, -0.62116631],\n",
       "        [ 0.1300926 , -0.96972528,  0.13128706]]),\n",
       " array([[ 2.5504602 , -0.56175869, -0.40225277],\n",
       "        [ 0.        , -1.07336393, -0.02824433],\n",
       "        [ 0.        ,  0.        ,  1.98511417]]))"
      ]
     },
     "execution_count": 12,
     "metadata": {},
     "output_type": "execute_result"
    }
   ],
   "source": [
    "# 13.3\n",
    "import numpy as np\n",
    "A = np.random.randn(4, 3)\n",
    "Q, R = np.linalg.qr(A)\n",
    "Q, R"
   ]
  },
  {
   "cell_type": "markdown",
   "metadata": {},
   "source": [
    "## 14. Least-squares\n",
    "\n",
    "### Code Challenges\n",
    "* Base Mode\n",
    "$$y = \\beta_1 + \\beta_2t + \\beta_3a$$\n",
    "* Matrix Equation\n",
    "$$X\\beta = y$$"
   ]
  },
  {
   "cell_type": "code",
   "execution_count": 15,
   "metadata": {},
   "outputs": [
    {
     "name": "stderr",
     "output_type": "stream",
     "text": [
      "/var/folders/km/13wrqb_j6v3dc86n898dncd00000gn/T/ipykernel_2230/2044403853.py:12: FutureWarning: `rcond` parameter will change to the default of machine precision times ``max(M, N)`` where M and N are the input matrix dimensions.\n",
      "To use the future default and silence this warning we advise to pass `rcond=None`, to keep using the old, explicitly pass `rcond=-1`.\n",
      "  beta = np.linalg.lstsq(X,y)[0]\n",
      "/var/folders/km/13wrqb_j6v3dc86n898dncd00000gn/T/ipykernel_2230/2044403853.py:15: RuntimeWarning: divide by zero encountered in divide\n",
      "  betaScaled = beta/np.std(X,axis=0,ddof=1)\n"
     ]
    }
   ],
   "source": [
    "# 14.1\n",
    "# load the data\n",
    "data = np.loadtxt(fname='data/widget_data.txt',delimiter=',')\n",
    "\n",
    "# design matrix\n",
    "X = np.concatenate((np.ones((1000,1)),data[:,:2]),axis=1)\n",
    "\n",
    "# outcome variable\n",
    "y = data[:,2]\n",
    "\n",
    "# beta coefficients\n",
    "beta = np.linalg.lstsq(X,y)[0]\n",
    "\n",
    "# scaled coefficients (intercept not scaled)\n",
    "betaScaled = beta/np.std(X,axis=0,ddof=1)"
   ]
  },
  {
   "cell_type": "code",
   "execution_count": 17,
   "metadata": {},
   "outputs": [
    {
     "data": {
      "image/png": "[encoded data removed]",
      "text/plain": [
       "<Figure size 800x400 with 2 Axes>"
      ]
     },
     "metadata": {},
     "output_type": "display_data"
    }
   ],
   "source": [
    "# 14.3\n",
    "import numpy as np\n",
    "import matplotlib.pyplot as plt\n",
    "# setup the figure\n",
    "fig,ax = plt.subplots(1,2,figsize=(8,4))\n",
    "\n",
    "# plot widgets by time\n",
    "ax[0].plot(X[:,1],y,'o',markerfacecolor='k')\n",
    "ax[0].set_title('Time variable')\n",
    "ax[0].set_xlabel('Time of day')\n",
    "ax[0].set_ylabel('Widgets purchased')\n",
    "\n",
    "# plot widgets by age\n",
    "ax[1].plot(X[:,2],y,'o',markerfacecolor='k')\n",
    "ax[1].set_title('Age variable')\n",
    "ax[1].set_xlabel('Age')\n",
    "ax[1].set_ylabel('Widgets purchased')\n",
    "plt.show()"
   ]
  },
  {
   "cell_type": "code",
   "execution_count": 18,
   "metadata": {},
   "outputs": [
    {
     "data": {
      "text/plain": [
       "0.3663899451013618"
      ]
     },
     "execution_count": 18,
     "metadata": {},
     "output_type": "execute_result"
    }
   ],
   "source": [
    "# 14.5\n",
    "# predicted data\n",
    "yHat = X@beta\n",
    "\n",
    "# r-squared\n",
    "r2 = 1 - np.sum((yHat-y)**2) / np.sum((y-np.mean(y))**2)\n",
    "r2"
   ]
  },
  {
   "cell_type": "markdown",
   "metadata": {},
   "source": [
    "## 15. Eigendecomposition"
   ]
  },
  {
   "cell_type": "code",
   "execution_count": 2,
   "metadata": {},
   "outputs": [
    {
     "data": {
      "text/plain": [
       "array([[ 5.,  0.],\n",
       "       [ 0., -1.]])"
      ]
     },
     "execution_count": 2,
     "metadata": {},
     "output_type": "execute_result"
    }
   ],
   "source": [
    "# 15.1\n",
    "import numpy as np\n",
    "\n",
    "A = np.array([[2, 3], [3, 2]])\n",
    "L, V = np.linalg.eig(A)\n",
    "L = np.diag(L)\n",
    "L"
   ]
  },
  {
   "cell_type": "code",
   "execution_count": 1,
   "metadata": {},
   "outputs": [
    {
     "data": {
      "text/plain": [
       "(array([ 1.36441543+0.j, -1.38446639+0.j, -0.27227291+0.j]),\n",
       " array([[-0.26010701, -0.43715467, -0.29541745],\n",
       "        [-0.67163678,  0.69036179,  0.18056049],\n",
       "        [ 0.69372068, -0.57645155, -0.93815054]]))"
      ]
     },
     "execution_count": 1,
     "metadata": {},
     "output_type": "execute_result"
    }
   ],
   "source": [
    "# 15.3\n",
    "import numpy as np\n",
    "from scipy.linalg import eig\n",
    "n = 3\n",
    "A = np.random.randn(n, n)\n",
    "B = np.random.randn(n, n)\n",
    "evals, evecs = eig(A, B)\n",
    "evals, evecs"
   ]
  }
 ],
 "metadata": {
  "kernelspec": {
   "display_name": "Python 3.10.7 64-bit",
   "language": "python",
   "name": "python3"
  },
  "language_info": {
   "codemirror_mode": {
    "name": "ipython",
    "version": 3
   },
   "file_extension": ".py",
   "mimetype": "text/x-python",
   "name": "python",
   "nbconvert_exporter": "python",
   "pygments_lexer": "ipython3",
   "version": "3.11.8"
  },
  "vscode": {
   "interpreter": {
    "hash": "a9e2c7703114bb33d9bb95f9f1c7ade36d0cd0b5dec40cd5c5afcfa9f59c771a"
   }
  }
 },
 "nbformat": 4,
 "nbformat_minor": 2
}
