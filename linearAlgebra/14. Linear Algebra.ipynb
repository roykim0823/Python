{
 "cells": [
  {
   "cell_type": "code",
   "execution_count": 4,
   "metadata": {},
   "outputs": [
    {
     "name": "stdout",
     "output_type": "stream",
     "text": [
      "[[ 1 -5  3  2  4]]\n",
      "(1, 5)\n",
      "[[1]\n",
      " [2]\n",
      " [3]\n",
      " [4]]\n",
      "(4, 1)\n"
     ]
    }
   ],
   "source": [
    "# Create a row vector and a column vector, and show their shape.\n",
    "\n",
    "import numpy as np\n",
    "\n",
    "vector_row = np.array([[1, -5, 3, 2, 4]])\n",
    "vector_col = np.array([[1], [2], [3], [4]])\n",
    "\n",
    "print(vector_row)\n",
    "print(vector_row.shape)\n",
    "\n",
    "print(vector_col)\n",
    "print(vector_col.shape)"
   ]
  },
  {
   "cell_type": "code",
   "execution_count": 6,
   "metadata": {},
   "outputs": [
    {
     "name": "stdout",
     "output_type": "stream",
     "text": [
      "[[ 1]\n",
      " [-5]\n",
      " [ 3]\n",
      " [ 2]\n",
      " [ 4]]\n",
      "L_1 is 15.0\n",
      "L_2 is 7.416198487095664\n",
      "L_inf is 5.0\n"
     ]
    }
   ],
   "source": [
    "# Transpose the row vector defined above into a column vector and calculate its L1, L2,\n",
    "# and L∞ norm. Verify that the L∞ norm of a vector is equivalent to the maximum value of the\n",
    "# elements in the vector.\n",
    "\n",
    "from numpy.linalg import norm\n",
    "\n",
    "new_vector = vector_row.T\n",
    "print(new_vector)\n",
    "\n",
    "norm_1 = norm(new_vector, 1)\n",
    "norm_2 = norm(new_vector, 2)\n",
    "norm_inf = norm(new_vector, np.inf)  # abs(maximum)\n",
    "\n",
    "print(f'L_1 is {norm_1}')\n",
    "print(f'L_2 is {norm_2}')\n",
    "print(f'L_inf is {norm_inf}')"
   ]
  },
  {
   "cell_type": "code",
   "execution_count": 10,
   "metadata": {},
   "outputs": [
    {
     "name": "stdout",
     "output_type": "stream",
     "text": [
      "[[12 16 20 24]]\n",
      "[[12 16 20 24]]\n"
     ]
    }
   ],
   "source": [
    "# Show that a(v + w) = av +aw (i.e., scalar multiplication of a vector distributes across vector addition).\n",
    "\n",
    "v = np.array([[1, 2, 3, 4]])\n",
    "w = np.array([[5, 6, 7, 8]])\n",
    "\n",
    "vec_add = 2 * (v + w)\n",
    "print(vec_add)\n",
    "\n",
    "v2 = 2 * v\n",
    "w2 = 2 * w\n",
    "vec_add2 = v2 + w2\n",
    "print(vec_add2)\n"
   ]
  },
  {
   "cell_type": "code",
   "execution_count": 13,
   "metadata": {},
   "outputs": [
    {
     "name": "stdout",
     "output_type": "stream",
     "text": [
      "[[101]]\n",
      "[[0.97992471]]\n"
     ]
    }
   ],
   "source": [
    "# Compute the angle between the vectors v = [10, 9, 3] and w = [2, 5, 12].\n",
    "\n",
    "from numpy import arccos, dot\n",
    "\n",
    "v = np.array([[10, 9, 3]])\n",
    "w = np.array([[2, 5, 12]])\n",
    "dot_v_w = dot(v, w.T)\n",
    "print(dot_v_w)\n",
    "\n",
    "theta = arccos(dot(v, w.T)/(norm(v)*norm(w)))\n",
    "print(theta)"
   ]
  },
  {
   "cell_type": "code",
   "execution_count": 15,
   "metadata": {},
   "outputs": [
    {
     "name": "stdout",
     "output_type": "stream",
     "text": [
      "[[ 0  0 -6]]\n"
     ]
    }
   ],
   "source": [
    "# Given the vectors v = [0, 2, 0] and w = [3, 0, 0], use the NumPy function cross to compute\n",
    "# the cross-product of v and w.\n",
    "\n",
    "v = np.array([[0, 2, 0]])\n",
    "w = np.array([[3, 0, 0]])\n",
    "\n",
    "print(np.cross(v, w))"
   ]
  },
  {
   "cell_type": "code",
   "execution_count": 16,
   "metadata": {},
   "outputs": [
    {
     "name": "stdout",
     "output_type": "stream",
     "text": [
      "[[-8 -1  4]]\n"
     ]
    }
   ],
   "source": [
    "# Given the row vectors v = [0, 3, 2], w = [4, 1, 1], and u = [0,−2, 0], write the vector\n",
    "# x = [−8,−1, 4] as a linear combination of v, w, and u.\n",
    "\n",
    "v = np.array([[0, 3, 2]])\n",
    "w = np.array([[4, 1, 1]])\n",
    "u = np.array([[0, -2, 0]])\n",
    "x = 3*v-2*w+4*u\n",
    "print(x)"
   ]
  },
  {
   "cell_type": "code",
   "execution_count": 17,
   "metadata": {},
   "outputs": [
    {
     "name": "stdout",
     "output_type": "stream",
     "text": [
      "[[1 7]\n",
      " [2 3]\n",
      " [5 0]]\n",
      "[[2 6 3 1]\n",
      " [1 2 3 4]]\n",
      "[[ 9 20 24 29]\n",
      " [ 7 18 15 14]\n",
      " [10 30 15  5]]\n"
     ]
    },
    {
     "ename": "ValueError",
     "evalue": "shapes (2,4) and (3,2) not aligned: 4 (dim 1) != 3 (dim 0)",
     "output_type": "error",
     "traceback": [
      "\u001b[1;31m---------------------------------------------------------------------------\u001b[0m",
      "\u001b[1;31mValueError\u001b[0m                                Traceback (most recent call last)",
      "\u001b[1;32mg:\\My Drive\\study\\linearAlgebra\\14. Linear Algebra.ipynb Cell 7\u001b[0m in \u001b[0;36m<cell line: 9>\u001b[1;34m()\u001b[0m\n\u001b[0;32m      <a href='vscode-notebook-cell:/g%3A/My%20Drive/study/linearAlgebra/14.%20Linear%20Algebra.ipynb#W6sZmlsZQ%3D%3D?line=6'>7</a>\u001b[0m \u001b[39mprint\u001b[39m(Q)\n\u001b[0;32m      <a href='vscode-notebook-cell:/g%3A/My%20Drive/study/linearAlgebra/14.%20Linear%20Algebra.ipynb#W6sZmlsZQ%3D%3D?line=7'>8</a>\u001b[0m \u001b[39mprint\u001b[39m(np\u001b[39m.\u001b[39mdot(P, Q))\n\u001b[1;32m----> <a href='vscode-notebook-cell:/g%3A/My%20Drive/study/linearAlgebra/14.%20Linear%20Algebra.ipynb#W6sZmlsZQ%3D%3D?line=8'>9</a>\u001b[0m np\u001b[39m.\u001b[39;49mdot(Q, P)\n",
      "File \u001b[1;32m<__array_function__ internals>:180\u001b[0m, in \u001b[0;36mdot\u001b[1;34m(*args, **kwargs)\u001b[0m\n",
      "\u001b[1;31mValueError\u001b[0m: shapes (2,4) and (3,2) not aligned: 4 (dim 1) != 3 (dim 0)"
     ]
    }
   ],
   "source": [
    "# Let matrices P and Q be [[1, 7], [2, 3], [5, 0]] and [[2, 6, 3, 1], [1, 2, 3, 4]], respectively. Compute\n",
    "# the Python matrix product of P and Q. Show that the product of Q and P will produce an error.\n",
    "\n",
    "P = np.array([[1, 7], [2, 3], [5, 0]])\n",
    "Q = np.array([[2, 6, 3, 1], [1, 2, 3, 4]])\n",
    "print(P)  # 3 x 2\n",
    "print(Q)  # 2 x 4\n",
    "print(np.dot(P, Q))  # 3 x 4\n",
    "np.dot(Q, P)  # error"
   ]
  },
  {
   "cell_type": "code",
   "execution_count": 18,
   "metadata": {},
   "outputs": [
    {
     "name": "stdout",
     "output_type": "stream",
     "text": [
      "M:\n",
      " [[0 2 1 3]\n",
      " [3 2 8 1]\n",
      " [1 0 0 3]\n",
      " [0 3 2 1]]\n",
      "Determinant: -38.0\n",
      "I:\n",
      " [[1. 0. 0. 0.]\n",
      " [0. 1. 0. 0.]\n",
      " [0. 0. 1. 0.]\n",
      " [0. 0. 0. 1.]]\n",
      "M*I:\n",
      " [[0. 2. 1. 3.]\n",
      " [3. 2. 8. 1.]\n",
      " [1. 0. 0. 3.]\n",
      " [0. 3. 2. 1.]]\n"
     ]
    }
   ],
   "source": [
    "# Find the determinant of matrix M = [[0, 2, 1, 3], [3, 2, 8, 1], [1, 0, 0, 3], [0, 3, 2, 1]]. Use the\n",
    "# np.eye function to produce a 4×4 identity matrix, I . Multiply M by I to show that the result is M.\n",
    "\n",
    "from numpy.linalg import det\n",
    "M = np.array([[0,2,1,3],\n",
    "              [3,2,8,1],\n",
    "              [1,0,0,3],\n",
    "              [0,3,2,1]])\n",
    "\n",
    "print(\"M:\\n\", M)\n",
    "\n",
    "print(\"Determinant: %.1f\" % det(M))\n",
    "\n",
    "I = np.eye(4)\n",
    "print(\"I:\\n\", I)\n",
    "\n",
    "print(\"M*I:\\n\", np.dot(M, I))"
   ]
  }
 ],
 "metadata": {
  "kernelspec": {
   "display_name": "Python 3.10.6 64-bit (microsoft store)",
   "language": "python",
   "name": "python3"
  },
  "language_info": {
   "codemirror_mode": {
    "name": "ipython",
    "version": 3
   },
   "file_extension": ".py",
   "mimetype": "text/x-python",
   "name": "python",
   "nbconvert_exporter": "python",
   "pygments_lexer": "ipython3",
   "version": "3.10.11"
  },
  "orig_nbformat": 4,
  "vscode": {
   "interpreter": {
    "hash": "a00596619df9592b4801347955da84c0bdaeb9d9a5c64191281729e6287f094c"
   }
  }
 },
 "nbformat": 4,
 "nbformat_minor": 2
}
